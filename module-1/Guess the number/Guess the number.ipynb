{
 "cells": [
  {
   "cell_type": "code",
   "execution_count": 4,
   "metadata": {},
   "outputs": [
    {
     "name": "stdout",
     "output_type": "stream",
     "text": [
      "¡Bienvenido!¿Cómo te llamas?\n",
      "k\n",
      "¡Hola, k! Estoy pensando en un número entre 1 y 10, ¿cuál crees que es?\n",
      "5\n",
      "¡Felicidades, k! Adivinaste el número.\n"
     ]
    }
   ],
   "source": [
    "import random\n",
    "\n",
    "print('¡Bienvenido!¿Cómo te llamas?')\n",
    "jugador = input()\n",
    "print(f'¡Hola, {jugador}! Estoy pensando en un número entre 1 y 10, ¿cuál crees que es?')\n",
    "numero = random.randrange(0, 10)\n",
    "\n",
    "while intento != numero:\n",
    "    intento = int(input())\n",
    "    if intento < numero:\n",
    "        print('Tu número es menor al que estoy pensando')\n",
    "    if intento > numero:\n",
    "        print('Tu número es mayor al que estoy pensando')\n",
    "        \n",
    "if intento == numero:\n",
    "        print(f'¡Felicidades, {jugador}! Adivinaste el número.')\n",
    "    "
   ]
  },
  {
   "cell_type": "code",
   "execution_count": null,
   "metadata": {},
   "outputs": [],
   "source": []
  },
  {
   "cell_type": "code",
   "execution_count": null,
   "metadata": {},
   "outputs": [],
   "source": []
  }
 ],
 "metadata": {
  "kernelspec": {
   "display_name": "Python 3",
   "language": "python",
   "name": "python3"
  },
  "language_info": {
   "codemirror_mode": {
    "name": "ipython",
    "version": 3
   },
   "file_extension": ".py",
   "mimetype": "text/x-python",
   "name": "python",
   "nbconvert_exporter": "python",
   "pygments_lexer": "ipython3",
   "version": "3.8.3"
  }
 },
 "nbformat": 4,
 "nbformat_minor": 4
}
