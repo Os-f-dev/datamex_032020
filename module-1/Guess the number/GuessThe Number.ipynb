{
 "cells": [
  {
   "cell_type": "code",
   "execution_count": 1,
   "metadata": {},
   "outputs": [
    {
     "name": "stdout",
     "output_type": "stream",
     "text": [
      "¡Bienvenido!¿Cómo te llamas?\n",
      "Paco\n",
      "¡Hola, Paco!,stoy pensando en un número entre 1 y 10, tienes 3 oportunidades para adivinarlo.\n",
      "1\n",
      "Tu número es menor al que estoy pensando\n",
      "2\n",
      "Tu número es menor al que estoy pensando\n",
      "3\n",
      "Tu número es menor al que estoy pensando\n",
      "Lo siento, se te agotaron las oportunidades, el número que estaba pensando es 5\n"
     ]
    }
   ],
   "source": [
    "import random\n",
    "\n",
    "oportunidades = 0\n",
    "print('¡Bienvenido!¿Cómo te llamas?')\n",
    "jugador = input()\n",
    "numero = random.randrange(0, 10)\n",
    "print(f'¡Hola, {jugador}!,estoy pensando en un número entre 1 y 10, tienes 3 oportunidades para adivinarlo.')\n",
    "\n",
    "while oportunidades < 3:\n",
    "    intento = int(input())\n",
    "    if intento == numero:\n",
    "          print(f'¡Felicidades, {jugador}! Adivinaste el número.')\n",
    "    if intento > numero:\n",
    "          print('Tu número es mayor al que estoy pensando')\n",
    "    if intento < numero:\n",
    "          print('Tu número es menor al que estoy pensando')\n",
    "    oportunidades += 1\n",
    "    \n",
    "if intento != numero:\n",
    "    print(f'Lo siento, se te agotaron las oportunidades, el número que estaba pensando es {numero}')"
   ]
  },
  {
   "cell_type": "code",
   "execution_count": null,
   "metadata": {},
   "outputs": [],
   "source": []
  }
 ],
 "metadata": {
  "kernelspec": {
   "display_name": "Python 3",
   "language": "python",
   "name": "python3"
  },
  "language_info": {
   "codemirror_mode": {
    "name": "ipython",
    "version": 3
   },
   "file_extension": ".py",
   "mimetype": "text/x-python",
   "name": "python",
   "nbconvert_exporter": "python",
   "pygments_lexer": "ipython3",
   "version": "3.8.3"
  }
 },
 "nbformat": 4,
 "nbformat_minor": 4
}
