{
 "cells": [
  {
   "cell_type": "code",
   "execution_count": 23,
   "metadata": {},
   "outputs": [
    {
     "name": "stdout",
     "output_type": "stream",
     "text": [
      "Introduce una letra: a\n",
      "***aIntroduce una letra: r\n",
      "***aHas fallado, tienes:4vidas\n",
      "Introduce una letra: h\n",
      "***aHas fallado, tienes:3vidas\n",
      "Introduce una letra: p\n",
      "***aHas fallado, tienes:2vidas\n",
      "Introduce una letra: t\n",
      "***aHas fallado, tienes:1vidas\n",
      "Introduce una letra: e\n",
      "*e*aIntroduce una letra: t\n",
      "*e*aHas fallado, tienes:0vidas\n",
      "Perdiste,vuelve a intentarlo otra vez\n"
     ]
    }
   ],
   "source": [
    "def juego(palabra):\n",
    "    vidas = 5\n",
    "    tupalabra = \" \" # almacenaremos en esta variable las letras que vaya escribiendo el  usuario#\n",
    "\n",
    "    while vidas >0:\n",
    "        contador = 0\n",
    "        tuletra = input(\"Introduce una letra: \") # pedimos al usuario una letra#\n",
    "        tupalabra = tupalabra + tuletra # cada vez que el usuario diga una, la vamos almacenando en tupalabra, añadiendola..#\n",
    "\n",
    "        for x in palabra:   # si ACIERTA- encuentra en las palabras dichas por el usuario alguna de la adivinada(mesa), entonces imprime la letra)\n",
    "            if x in tupalabra:\n",
    "                print(x,end =\"\")\n",
    "            else:\n",
    "                print(\"*\", end=\"\") # si NO ACIERTA, visualiza los asteriscos\n",
    "                if contador ==0: # además si el contador de fallos está a 0, es decir, es el primer fallo, iniciamos el contador de fallos + 1#\n",
    "                    contador +=1        \n",
    "\n",
    "        if contador == 0:\n",
    "            print(\": Has ganado el juego\") # SI NO TIENE FALLOS- ES QUE HA GANADO LA PARTIDA- SALIMOS DEL PROGRAMA / BREAK #\n",
    "            break\n",
    "\n",
    "        if tuletra not in palabra: # si la letra escogida no está en palabra a adivinar, se te resta una vida#\n",
    "            vidas = vidas -1\n",
    "            print(\"Has fallado, tienes:\" + str(vidas)+ \"vidas\")\n",
    "\n",
    "        if vidas ==0: # si tus vidas llegan a 0 , has finalzado\n",
    "            print(\"Perdiste,vuelve a intentarlo otra vez\")\n",
    "\n",
    "juego(\"mesa\")\n"
   ]
  },
  {
   "cell_type": "code",
   "execution_count": null,
   "metadata": {},
   "outputs": [],
   "source": []
  },
  {
   "cell_type": "code",
   "execution_count": null,
   "metadata": {},
   "outputs": [],
   "source": []
  }
 ],
 "metadata": {
  "kernelspec": {
   "display_name": "Python 3",
   "language": "python",
   "name": "python3"
  },
  "language_info": {
   "codemirror_mode": {
    "name": "ipython",
    "version": 3
   },
   "file_extension": ".py",
   "mimetype": "text/x-python",
   "name": "python",
   "nbconvert_exporter": "python",
   "pygments_lexer": "ipython3",
   "version": "3.7.6"
  }
 },
 "nbformat": 4,
 "nbformat_minor": 4
}
