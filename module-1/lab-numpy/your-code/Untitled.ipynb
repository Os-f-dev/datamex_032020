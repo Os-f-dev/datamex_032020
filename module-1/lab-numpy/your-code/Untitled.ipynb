{
 "cells": [
  {
   "cell_type": "code",
   "execution_count": 5,
   "metadata": {},
   "outputs": [],
   "source": [
    "#1. Import the NUMPY package under the name np.\n",
    "import numpy as np"
   ]
  },
  {
   "cell_type": "code",
   "execution_count": 6,
   "metadata": {},
   "outputs": [
    {
     "data": {
      "text/plain": [
       "'1.18.1'"
      ]
     },
     "execution_count": 6,
     "metadata": {},
     "output_type": "execute_result"
    }
   ],
   "source": [
    "np.version.version"
   ]
  },
  {
   "cell_type": "code",
   "execution_count": 101,
   "metadata": {},
   "outputs": [],
   "source": [
    "a = np.random.random((2,3,5))"
   ]
  },
  {
   "cell_type": "code",
   "execution_count": 153,
   "metadata": {},
   "outputs": [
    {
     "data": {
      "text/plain": [
       "array([[[0.7614986 , 0.45233804, 0.51851771, 0.38311128, 0.24433541],\n",
       "        [0.54165859, 0.4473517 , 0.84457095, 0.0801512 , 0.85902381],\n",
       "        [0.97122331, 0.76209301, 0.14296221, 0.42864006, 0.63438679]],\n",
       "\n",
       "       [[0.7479465 , 0.12842186, 0.25555672, 0.44644943, 0.37462937],\n",
       "        [0.42035797, 0.31216649, 0.08779383, 0.9226329 , 0.49127311],\n",
       "        [0.33352432, 0.7638433 , 0.45665749, 0.47952696, 0.16835634]]])"
      ]
     },
     "execution_count": 153,
     "metadata": {},
     "output_type": "execute_result"
    }
   ],
   "source": [
    "a"
   ]
  },
  {
   "cell_type": "code",
   "execution_count": 154,
   "metadata": {},
   "outputs": [],
   "source": [
    "b = np.ones((5,2,3))"
   ]
  },
  {
   "cell_type": "code",
   "execution_count": 155,
   "metadata": {},
   "outputs": [
    {
     "name": "stdout",
     "output_type": "stream",
     "text": [
      "[[[1. 1. 1.]\n",
      "  [1. 1. 1.]]\n",
      "\n",
      " [[1. 1. 1.]\n",
      "  [1. 1. 1.]]\n",
      "\n",
      " [[1. 1. 1.]\n",
      "  [1. 1. 1.]]\n",
      "\n",
      " [[1. 1. 1.]\n",
      "  [1. 1. 1.]]\n",
      "\n",
      " [[1. 1. 1.]\n",
      "  [1. 1. 1.]]]\n"
     ]
    }
   ],
   "source": [
    "print(b)"
   ]
  },
  {
   "cell_type": "code",
   "execution_count": 156,
   "metadata": {},
   "outputs": [
    {
     "data": {
      "text/plain": [
       "False"
      ]
     },
     "execution_count": 156,
     "metadata": {},
     "output_type": "execute_result"
    }
   ],
   "source": [
    "np.array_equal(a,b)"
   ]
  },
  {
   "cell_type": "code",
   "execution_count": 157,
   "metadata": {},
   "outputs": [
    {
     "data": {
      "text/plain": [
       "(5, 2, 3)"
      ]
     },
     "execution_count": 157,
     "metadata": {},
     "output_type": "execute_result"
    }
   ],
   "source": [
    "b.shape"
   ]
  },
  {
   "cell_type": "code",
   "execution_count": 158,
   "metadata": {},
   "outputs": [],
   "source": [
    "b.shape = (2,3,5)"
   ]
  },
  {
   "cell_type": "code",
   "execution_count": 159,
   "metadata": {},
   "outputs": [
    {
     "data": {
      "text/plain": [
       "array([[[1., 1., 1., 1., 1.],\n",
       "        [1., 1., 1., 1., 1.],\n",
       "        [1., 1., 1., 1., 1.]],\n",
       "\n",
       "       [[1., 1., 1., 1., 1.],\n",
       "        [1., 1., 1., 1., 1.],\n",
       "        [1., 1., 1., 1., 1.]]])"
      ]
     },
     "execution_count": 159,
     "metadata": {},
     "output_type": "execute_result"
    }
   ],
   "source": [
    "c = b\n",
    "c"
   ]
  },
  {
   "cell_type": "code",
   "execution_count": 160,
   "metadata": {},
   "outputs": [
    {
     "data": {
      "text/plain": [
       "array([[[1.7614986 , 1.45233804, 1.51851771, 1.38311128, 1.24433541],\n",
       "        [1.54165859, 1.4473517 , 1.84457095, 1.0801512 , 1.85902381],\n",
       "        [1.97122331, 1.76209301, 1.14296221, 1.42864006, 1.63438679]],\n",
       "\n",
       "       [[1.7479465 , 1.12842186, 1.25555672, 1.44644943, 1.37462937],\n",
       "        [1.42035797, 1.31216649, 1.08779383, 1.9226329 , 1.49127311],\n",
       "        [1.33352432, 1.7638433 , 1.45665749, 1.47952696, 1.16835634]]])"
      ]
     },
     "execution_count": 160,
     "metadata": {},
     "output_type": "execute_result"
    }
   ],
   "source": [
    "d = a + c\n",
    "d"
   ]
  },
  {
   "cell_type": "code",
   "execution_count": 161,
   "metadata": {},
   "outputs": [
    {
     "name": "stdout",
     "output_type": "stream",
     "text": [
      "[[[0.7614986  0.45233804 0.51851771 0.38311128 0.24433541]\n",
      "  [0.54165859 0.4473517  0.84457095 0.0801512  0.85902381]\n",
      "  [0.97122331 0.76209301 0.14296221 0.42864006 0.63438679]]\n",
      "\n",
      " [[0.7479465  0.12842186 0.25555672 0.44644943 0.37462937]\n",
      "  [0.42035797 0.31216649 0.08779383 0.9226329  0.49127311]\n",
      "  [0.33352432 0.7638433  0.45665749 0.47952696 0.16835634]]]\n",
      "[[[1.7614986  1.45233804 1.51851771 1.38311128 1.24433541]\n",
      "  [1.54165859 1.4473517  1.84457095 1.0801512  1.85902381]\n",
      "  [1.97122331 1.76209301 1.14296221 1.42864006 1.63438679]]\n",
      "\n",
      " [[1.7479465  1.12842186 1.25555672 1.44644943 1.37462937]\n",
      "  [1.42035797 1.31216649 1.08779383 1.9226329  1.49127311]\n",
      "  [1.33352432 1.7638433  1.45665749 1.47952696 1.16835634]]]\n"
     ]
    }
   ],
   "source": [
    "print(a)\n",
    "print(d)"
   ]
  },
  {
   "cell_type": "code",
   "execution_count": 162,
   "metadata": {},
   "outputs": [
    {
     "data": {
      "text/plain": [
       "array([[[0.7614986 , 0.45233804, 0.51851771, 0.38311128, 0.24433541],\n",
       "        [0.54165859, 0.4473517 , 0.84457095, 0.0801512 , 0.85902381],\n",
       "        [0.97122331, 0.76209301, 0.14296221, 0.42864006, 0.63438679]],\n",
       "\n",
       "       [[0.7479465 , 0.12842186, 0.25555672, 0.44644943, 0.37462937],\n",
       "        [0.42035797, 0.31216649, 0.08779383, 0.9226329 , 0.49127311],\n",
       "        [0.33352432, 0.7638433 , 0.45665749, 0.47952696, 0.16835634]]])"
      ]
     },
     "execution_count": 162,
     "metadata": {},
     "output_type": "execute_result"
    }
   ],
   "source": [
    "e = a * c\n",
    "e"
   ]
  },
  {
   "cell_type": "code",
   "execution_count": 163,
   "metadata": {},
   "outputs": [
    {
     "name": "stdout",
     "output_type": "stream",
     "text": [
      "1.9712233103885026\n",
      "1.080151203464991\n",
      "1.4820333087172817\n"
     ]
    }
   ],
   "source": [
    "d_max = np.amax(d)\n",
    "print(d_max)\n",
    "\n",
    "d_min = np.amin(d)\n",
    "print(d_min)\n",
    "\n",
    "d_mean = d.mean()\n",
    "print(d_mean)"
   ]
  },
  {
   "cell_type": "code",
   "execution_count": 171,
   "metadata": {},
   "outputs": [
    {
     "data": {
      "text/plain": [
       "array([[[0.7614986 , 0.45233804, 0.51851771, 0.38311128, 0.24433541],\n",
       "        [0.54165859, 0.4473517 , 0.84457095, 0.0801512 , 0.85902381],\n",
       "        [0.97122331, 0.76209301, 0.14296221, 0.42864006, 0.63438679]],\n",
       "\n",
       "       [[0.7479465 , 0.12842186, 0.25555672, 0.44644943, 0.37462937],\n",
       "        [0.42035797, 0.31216649, 0.08779383, 0.9226329 , 0.49127311],\n",
       "        [0.33352432, 0.7638433 , 0.45665749, 0.47952696, 0.16835634]]])"
      ]
     },
     "execution_count": 171,
     "metadata": {},
     "output_type": "execute_result"
    }
   ],
   "source": [
    "f = np.empty([2,3,5])\n",
    "f"
   ]
  },
  {
   "cell_type": "code",
   "execution_count": 178,
   "metadata": {},
   "outputs": [],
   "source": [
    "for i in np.nditer(d):\n",
    "    if i == d_min:\n",
    "        f = 0\n",
    "    elif [(i>d_min) & (i<d_mean)]:\n",
    "        f = 25\n",
    "    elif i==d_mean:\n",
    "        f = 50\n",
    "    elif [(i < d_max) & (i > d_mean)]:\n",
    "        f = 75\n",
    "    elif i == d_max:\n",
    "        f = 100"
   ]
  },
  {
   "cell_type": "code",
   "execution_count": 179,
   "metadata": {},
   "outputs": [
    {
     "name": "stdout",
     "output_type": "stream",
     "text": [
      "25\n"
     ]
    }
   ],
   "source": [
    "print(f)"
   ]
  },
  {
   "cell_type": "code",
   "execution_count": null,
   "metadata": {},
   "outputs": [],
   "source": []
  }
 ],
 "metadata": {
  "kernelspec": {
   "display_name": "Python 3",
   "language": "python",
   "name": "python3"
  },
  "language_info": {
   "codemirror_mode": {
    "name": "ipython",
    "version": 3
   },
   "file_extension": ".py",
   "mimetype": "text/x-python",
   "name": "python",
   "nbconvert_exporter": "python",
   "pygments_lexer": "ipython3",
   "version": "3.7.6"
  }
 },
 "nbformat": 4,
 "nbformat_minor": 4
}
