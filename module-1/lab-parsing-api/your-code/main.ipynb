{
 "cells": [
  {
   "cell_type": "markdown",
   "metadata": {},
   "source": [
    "# Challenge: Promotions\n",
    "\n",
    "In this challenge, you'll develop codes to parse and analyze data returned from another API on Zalando such as [Promos homme (Men's Promotions)\n",
    "](https://www.zalando.fr/promo-homme/) or [Promos femme (Women's Promotions)](https://www.zalando.fr/promo-femme/). The workflow is almost the same as in the guided lesson but you'll work with different data."
   ]
  },
  {
   "cell_type": "markdown",
   "metadata": {},
   "source": [
    "## Obtaining the link\n",
    "\n",
    "Wrote your codes in the cell below to obtain the data from the API endpoint you choose. A recap of the workflow:\n",
    "\n",
    "1. Examine the webpages and choose one that you want to work with.\n",
    "\n",
    "1. Use Google Chrome's DevTools to inspect the XHR network requests. Find out the API endpoint that serves data to the webpage.\n",
    "\n",
    "1. Test the API endpoint in the browser to verify its data.\n",
    "\n",
    "1. Change the page number offset of the API URL to test if it's working."
   ]
  },
  {
   "cell_type": "code",
   "execution_count": 11,
   "metadata": {},
   "outputs": [],
   "source": [
    "# your code here\n",
    "import json\n",
    "import requests\n",
    "import pandas as pd\n",
    "from pandas.io.json import json_normalize\n",
    "import matplotlib.pyplot as plt"
   ]
  },
  {
   "cell_type": "code",
   "execution_count": 2,
   "metadata": {},
   "outputs": [],
   "source": [
    "url='https://www.zalando.fr/api/catalog/articles?categories=promo-enfant&limit=84&offset=84&sort=sale'\n",
    "# returns error\n",
    "# used http://xkcd.com/{x}/info.0.json instead"
   ]
  },
  {
   "cell_type": "markdown",
   "metadata": {},
   "source": [
    "## Reading the data\n",
    "\n",
    "In the next cell, use Python to obtain data from the API endpoint you chose in the previous step. Workflow:\n",
    "\n",
    "1. Import libraries.\n",
    "\n",
    "1. Define the initial API endpoint URL.\n",
    "\n",
    "1. Make request to obtain data of the 1st page. Flatten the data and store it in an empty object variable.\n",
    "\n",
    "1. Find out the total page count in the 1st page data.\n",
    "\n",
    "1. Use a FOR loop to make requests for the additional pages from 2 to page count. Append the data of each additional page to the flatterned data object.\n",
    "\n",
    "1. Print and review the data you obtained."
   ]
  },
  {
   "cell_type": "code",
   "execution_count": 3,
   "metadata": {},
   "outputs": [],
   "source": [
    "listilla = [f\"http://xkcd.com/{i}/info.0.json\" for i in range(1,3000)]"
   ]
  },
  {
   "cell_type": "code",
   "execution_count": 4,
   "metadata": {
    "scrolled": true
   },
   "outputs": [],
   "source": [
    "# your code here\n",
    "listin = []\n",
    "for url in listilla:\n",
    "    try:\n",
    "        response = requests.get(url).json()\n",
    "        listin.append(response)\n",
    "    except:\n",
    "        pass"
   ]
  },
  {
   "cell_type": "code",
   "execution_count": 5,
   "metadata": {
    "scrolled": true
   },
   "outputs": [
    {
     "data": {
      "text/html": [
       "<div>\n",
       "<style scoped>\n",
       "    .dataframe tbody tr th:only-of-type {\n",
       "        vertical-align: middle;\n",
       "    }\n",
       "\n",
       "    .dataframe tbody tr th {\n",
       "        vertical-align: top;\n",
       "    }\n",
       "\n",
       "    .dataframe thead th {\n",
       "        text-align: right;\n",
       "    }\n",
       "</style>\n",
       "<table border=\"1\" class=\"dataframe\">\n",
       "  <thead>\n",
       "    <tr style=\"text-align: right;\">\n",
       "      <th></th>\n",
       "      <th>month</th>\n",
       "      <th>num</th>\n",
       "      <th>link</th>\n",
       "      <th>year</th>\n",
       "      <th>news</th>\n",
       "      <th>safe_title</th>\n",
       "      <th>transcript</th>\n",
       "      <th>alt</th>\n",
       "      <th>img</th>\n",
       "      <th>title</th>\n",
       "      <th>day</th>\n",
       "    </tr>\n",
       "  </thead>\n",
       "  <tbody>\n",
       "    <tr>\n",
       "      <th>0</th>\n",
       "      <td>1</td>\n",
       "      <td>1</td>\n",
       "      <td></td>\n",
       "      <td>2006</td>\n",
       "      <td></td>\n",
       "      <td>Barrel - Part 1</td>\n",
       "      <td>[[A boy sits in a barrel which is floating in ...</td>\n",
       "      <td>Don't we all.</td>\n",
       "      <td>https://imgs.xkcd.com/comics/barrel_cropped_(1...</td>\n",
       "      <td>Barrel - Part 1</td>\n",
       "      <td>1</td>\n",
       "    </tr>\n",
       "    <tr>\n",
       "      <th>1</th>\n",
       "      <td>1</td>\n",
       "      <td>2</td>\n",
       "      <td></td>\n",
       "      <td>2006</td>\n",
       "      <td></td>\n",
       "      <td>Petit Trees (sketch)</td>\n",
       "      <td>[[Two trees are growing on opposite sides of a...</td>\n",
       "      <td>'Petit' being a reference to Le Petit Prince, ...</td>\n",
       "      <td>https://imgs.xkcd.com/comics/tree_cropped_(1).jpg</td>\n",
       "      <td>Petit Trees (sketch)</td>\n",
       "      <td>1</td>\n",
       "    </tr>\n",
       "    <tr>\n",
       "      <th>2</th>\n",
       "      <td>1</td>\n",
       "      <td>3</td>\n",
       "      <td></td>\n",
       "      <td>2006</td>\n",
       "      <td></td>\n",
       "      <td>Island (sketch)</td>\n",
       "      <td>[[A sketch of an Island]]\\n{{Alt:Hello, island}}</td>\n",
       "      <td>Hello, island</td>\n",
       "      <td>https://imgs.xkcd.com/comics/island_color.jpg</td>\n",
       "      <td>Island (sketch)</td>\n",
       "      <td>1</td>\n",
       "    </tr>\n",
       "    <tr>\n",
       "      <th>3</th>\n",
       "      <td>1</td>\n",
       "      <td>4</td>\n",
       "      <td></td>\n",
       "      <td>2006</td>\n",
       "      <td></td>\n",
       "      <td>Landscape (sketch)</td>\n",
       "      <td>[[A sketch of a landscape with sun on the hori...</td>\n",
       "      <td>There's a river flowing through the ocean</td>\n",
       "      <td>https://imgs.xkcd.com/comics/landscape_cropped...</td>\n",
       "      <td>Landscape (sketch)</td>\n",
       "      <td>1</td>\n",
       "    </tr>\n",
       "    <tr>\n",
       "      <th>4</th>\n",
       "      <td>1</td>\n",
       "      <td>5</td>\n",
       "      <td></td>\n",
       "      <td>2006</td>\n",
       "      <td></td>\n",
       "      <td>Blown apart</td>\n",
       "      <td>[[A black number 70 sees a red package.]]\\n70:...</td>\n",
       "      <td>Blown into prime factors</td>\n",
       "      <td>https://imgs.xkcd.com/comics/blownapart_color.jpg</td>\n",
       "      <td>Blown apart</td>\n",
       "      <td>1</td>\n",
       "    </tr>\n",
       "  </tbody>\n",
       "</table>\n",
       "</div>"
      ],
      "text/plain": [
       "  month  num link  year news            safe_title  \\\n",
       "0     1    1       2006            Barrel - Part 1   \n",
       "1     1    2       2006       Petit Trees (sketch)   \n",
       "2     1    3       2006            Island (sketch)   \n",
       "3     1    4       2006         Landscape (sketch)   \n",
       "4     1    5       2006                Blown apart   \n",
       "\n",
       "                                          transcript  \\\n",
       "0  [[A boy sits in a barrel which is floating in ...   \n",
       "1  [[Two trees are growing on opposite sides of a...   \n",
       "2   [[A sketch of an Island]]\\n{{Alt:Hello, island}}   \n",
       "3  [[A sketch of a landscape with sun on the hori...   \n",
       "4  [[A black number 70 sees a red package.]]\\n70:...   \n",
       "\n",
       "                                                 alt  \\\n",
       "0                                      Don't we all.   \n",
       "1  'Petit' being a reference to Le Petit Prince, ...   \n",
       "2                                      Hello, island   \n",
       "3          There's a river flowing through the ocean   \n",
       "4                           Blown into prime factors   \n",
       "\n",
       "                                                 img                 title day  \n",
       "0  https://imgs.xkcd.com/comics/barrel_cropped_(1...       Barrel - Part 1   1  \n",
       "1  https://imgs.xkcd.com/comics/tree_cropped_(1).jpg  Petit Trees (sketch)   1  \n",
       "2      https://imgs.xkcd.com/comics/island_color.jpg       Island (sketch)   1  \n",
       "3  https://imgs.xkcd.com/comics/landscape_cropped...    Landscape (sketch)   1  \n",
       "4  https://imgs.xkcd.com/comics/blownapart_color.jpg           Blown apart   1  "
      ]
     },
     "execution_count": 5,
     "metadata": {},
     "output_type": "execute_result"
    }
   ],
   "source": [
    "df = pd.DataFrame(listin,columns=listin[0].keys())\n",
    "df.head()"
   ]
  },
  {
   "cell_type": "code",
   "execution_count": 44,
   "metadata": {},
   "outputs": [
    {
     "data": {
      "image/png": "[encoded data removed]",
      "text/plain": [
       "<Figure size 864x576 with 1 Axes>"
      ]
     },
     "metadata": {
      "needs_background": "light"
     },
     "output_type": "display_data"
    }
   ],
   "source": [
    "yrs = df.year.value_counts().sort_index()\n",
    "\n",
    "fig = plt.figure(figsize=(12,8))\n",
    "ax = fig.add_axes([0,0,1,1])\n",
    "cols = yrs.index\n",
    "students = yrs.values\n",
    "ax.bar(cols,students)\n",
    "plt.title(\"posts per year\")\n",
    "plt.show()"
   ]
  },
  {
   "cell_type": "markdown",
   "metadata": {},
   "source": [
    "## Bonus\n",
    "\n",
    "Extract the following information from the data:\n",
    "\n",
    "* The trending brand.\n",
    "\n",
    "* The product(s) with the highest discount.\n",
    "\n",
    "* The sum of discounts of all goods (sum_discounted_prices divided by sum_original_prices)."
   ]
  },
  {
   "cell_type": "code",
   "execution_count": 45,
   "metadata": {},
   "outputs": [],
   "source": [
    "# your code here"
   ]
  }
 ],
 "metadata": {
  "kernelspec": {
   "display_name": "Python 3",
   "language": "python",
   "name": "python3"
  },
  "language_info": {
   "codemirror_mode": {
    "name": "ipython",
    "version": 3
   },
   "file_extension": ".py",
   "mimetype": "text/x-python",
   "name": "python",
   "nbconvert_exporter": "python",
   "pygments_lexer": "ipython3",
   "version": "3.7.8"
  }
 },
 "nbformat": 4,
 "nbformat_minor": 2
}
