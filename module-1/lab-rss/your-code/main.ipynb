{
 "cells": [
  {
   "cell_type": "markdown",
   "metadata": {},
   "source": [
    "# Working with RSS Feeds Lab\n",
    "\n",
    "Complete the following set of exercises to solidify your knowledge of parsing RSS feeds and extracting information from them."
   ]
  },
  {
   "cell_type": "code",
   "execution_count": 1,
   "metadata": {},
   "outputs": [],
   "source": [
    "import feedparser"
   ]
  },
  {
   "cell_type": "markdown",
   "metadata": {},
   "source": [
    "### 1. Use feedparser to parse the following RSS feed URL."
   ]
  },
  {
   "cell_type": "code",
   "execution_count": 2,
   "metadata": {},
   "outputs": [],
   "source": [
    "url = 'http://feeds.feedburner.com/oreilly/radar/atom'"
   ]
  },
  {
   "cell_type": "code",
   "execution_count": 3,
   "metadata": {},
   "outputs": [],
   "source": [
    "data = feedparser.parse(url)"
   ]
  },
  {
   "cell_type": "markdown",
   "metadata": {},
   "source": [
    "### 2. Obtain a list of components (keys) that are available for this feed."
   ]
  },
  {
   "cell_type": "code",
   "execution_count": 4,
   "metadata": {},
   "outputs": [
    {
     "data": {
      "text/plain": [
       "dict_keys(['feed', 'entries', 'bozo', 'headers', 'etag', 'updated', 'updated_parsed', 'href', 'status', 'encoding', 'version', 'namespaces'])"
      ]
     },
     "execution_count": 4,
     "metadata": {},
     "output_type": "execute_result"
    }
   ],
   "source": [
    "data.keys()"
   ]
  },
  {
   "cell_type": "markdown",
   "metadata": {},
   "source": [
    "### 3. Obtain a list of components (keys) that are available for the *feed* component of this RSS feed."
   ]
  },
  {
   "cell_type": "code",
   "execution_count": 5,
   "metadata": {},
   "outputs": [
    {
     "data": {
      "text/plain": [
       "dict_keys(['title', 'title_detail', 'links', 'link', 'subtitle', 'subtitle_detail', 'updated', 'updated_parsed', 'language', 'sy_updateperiod', 'sy_updatefrequency', 'generator_detail', 'generator', 'feedburner_info', 'geo_lat', 'geo_long', 'feedburner_emailserviceid', 'feedburner_feedburnerhostname'])"
      ]
     },
     "execution_count": 5,
     "metadata": {},
     "output_type": "execute_result"
    }
   ],
   "source": [
    "data[\"feed\"].keys()"
   ]
  },
  {
   "cell_type": "markdown",
   "metadata": {},
   "source": [
    "### 4. Extract and print the feed title, subtitle, author, and link."
   ]
  },
  {
   "cell_type": "code",
   "execution_count": 8,
   "metadata": {},
   "outputs": [
    {
     "name": "stdout",
     "output_type": "stream",
     "text": [
      "Titulo: Radar\n",
      "Subtítulo: Now, next, and beyond: Tracking need-to-know trends at the intersection of business and technology\n",
      "Link: https://www.oreilly.com/radar\n"
     ]
    }
   ],
   "source": [
    "feed_title = data[\"feed\"][\"title\"]\n",
    "feed_subtitle = data[\"feed\"][\"subtitle\"]\n",
    "feed_link = data[\"feed\"][\"link\"]\n",
    "#No existe el dato de autor\n",
    "print(\"Titulo:\",feed_title)\n",
    "print(\"Subtítulo:\",feed_subtitle)\n",
    "print(\"Link:\",feed_link)"
   ]
  },
  {
   "cell_type": "markdown",
   "metadata": {},
   "source": [
    "### 5. Count the number of entries that are contained in this RSS feed."
   ]
  },
  {
   "cell_type": "code",
   "execution_count": 9,
   "metadata": {},
   "outputs": [
    {
     "data": {
      "text/plain": [
       "60"
      ]
     },
     "execution_count": 9,
     "metadata": {},
     "output_type": "execute_result"
    }
   ],
   "source": [
    "entries = data[\"entries\"]\n",
    "len(entries)"
   ]
  },
  {
   "cell_type": "markdown",
   "metadata": {},
   "source": [
    "### 6. Obtain a list of components (keys) available for an entry.\n",
    "\n",
    "*Hint: Remember to index first before requesting the keys*"
   ]
  },
  {
   "cell_type": "code",
   "execution_count": 10,
   "metadata": {},
   "outputs": [
    {
     "data": {
      "text/plain": [
       "dict_keys(['title', 'title_detail', 'links', 'link', 'comments', 'published', 'published_parsed', 'authors', 'author', 'author_detail', 'tags', 'id', 'guidislink', 'summary', 'summary_detail', 'content', 'wfw_commentrss', 'slash_comments', 'feedburner_origlink'])"
      ]
     },
     "execution_count": 10,
     "metadata": {},
     "output_type": "execute_result"
    }
   ],
   "source": [
    "data[\"entries\"][0].keys()"
   ]
  },
  {
   "cell_type": "markdown",
   "metadata": {},
   "source": [
    "### 7. Extract a list of entry titles."
   ]
  },
  {
   "cell_type": "code",
   "execution_count": 11,
   "metadata": {},
   "outputs": [
    {
     "data": {
      "text/plain": [
       "['Four short links: 21 August 2020',\n",
       " 'Four Short Links: 19 August 2020',\n",
       " 'Why Best-of-Breed is a Better Choice than All-in-One Platforms for Data Science',\n",
       " 'Four short links: 14 August 2020',\n",
       " 'The Least Liked Programming Languages',\n",
       " 'Four short links: 11 Aug 2020',\n",
       " 'Four short links: 7 Aug 2020',\n",
       " 'Four short links: 5 August 2020',\n",
       " 'Radar trends to watch: August 2020',\n",
       " 'Four short links: 31 July 2020',\n",
       " 'Four short links: 30 July 2020',\n",
       " 'Four short links: 29 July 2020',\n",
       " 'Bringing an AI Product to Market',\n",
       " 'Power, Harms, and Data',\n",
       " 'Four short links: 27 July 2020',\n",
       " 'Four short links: 24 July 2020',\n",
       " 'Four short links: 26 July 2020',\n",
       " 'Four short links: 22 July 2020',\n",
       " 'AI, Protests, and Justice',\n",
       " 'Four short links: 21 July 2020',\n",
       " 'Four short links: 20 July 2020',\n",
       " 'Four short links: 17 July 2020',\n",
       " 'Four short links: 16 July 2020',\n",
       " 'Microservices Adoption in 2020',\n",
       " 'Four short links: 15 July 2020',\n",
       " 'Society-Centered Design',\n",
       " 'Four short links: 14 July 2020',\n",
       " 'Four short links: 13 July 2020',\n",
       " 'Four short links: 10 July 2020',\n",
       " 'Automated Coding and the Future of Programming',\n",
       " 'Four short links: 9 July 2020',\n",
       " 'Four short links: 8 July 2020',\n",
       " 'Four short links: 7 July 2020',\n",
       " 'Four short links: 6 July 2020',\n",
       " 'Four short links: 3 July 2020',\n",
       " 'Four short links: 2 July 2020',\n",
       " 'Radar trends to watch: July 2020',\n",
       " 'Four short links: 1 July 2020',\n",
       " 'Four short links: 30 June 2020',\n",
       " 'Four short links: 29 June 2020',\n",
       " 'Four short links: 28 June 2020',\n",
       " 'Four short links: 25 June 2020',\n",
       " 'COVID-19 and Complex Systems',\n",
       " 'Four short links: 24 June 2020',\n",
       " 'Four short links: 23 June 2020',\n",
       " 'Four short links: 22 June 2020',\n",
       " 'Four short links: June 19, 2020',\n",
       " 'Four short links: 17 June 2020',\n",
       " 'Decision-Making in a Time of Crisis',\n",
       " 'Four short links: 16 June 2020',\n",
       " 'Four short links: 15 June 2020',\n",
       " 'Four short links: 12 June 2020',\n",
       " 'Four short links: 11 June 2020',\n",
       " 'Four short links: 10 June 2020',\n",
       " 'Machine Learning and the Production Gap',\n",
       " 'Four short links: 9 June 2020',\n",
       " 'Radar trends to watch: June 2020',\n",
       " 'Four short links: 8 June 2020',\n",
       " 'Four short links: 5 June 2020',\n",
       " 'Four short links: 4 June 2020']"
      ]
     },
     "execution_count": 11,
     "metadata": {},
     "output_type": "execute_result"
    }
   ],
   "source": [
    "titles = []\n",
    "for i in data[\"entries\"]:\n",
    "    titles.append(i[\"title\"])\n",
    "titles"
   ]
  },
  {
   "cell_type": "markdown",
   "metadata": {},
   "source": [
    "### 8. Calculate the percentage of \"Four short links\" entry titles."
   ]
  },
  {
   "cell_type": "code",
   "execution_count": 13,
   "metadata": {},
   "outputs": [
    {
     "name": "stdout",
     "output_type": "stream",
     "text": [
      "The percentage of -Four short links- entry titles is 75.0%\n"
     ]
    }
   ],
   "source": [
    "num = 0\n",
    "for i in titles:\n",
    "    if i.startswith(\"Four short links\"):\n",
    "        num += 1      \n",
    "percentage = (num/len(titles))*100\n",
    "print(f\"The percentage of -Four short links- entry titles is {percentage}%\")"
   ]
  },
  {
   "cell_type": "markdown",
   "metadata": {},
   "source": [
    "### 9. Create a Pandas data frame from the feed's entries."
   ]
  },
  {
   "cell_type": "code",
   "execution_count": 14,
   "metadata": {},
   "outputs": [],
   "source": [
    "import pandas as pd\n",
    "import re"
   ]
  },
  {
   "cell_type": "code",
   "execution_count": 18,
   "metadata": {},
   "outputs": [
    {
     "data": {
      "text/html": [
       "<div>\n",
       "<style scoped>\n",
       "    .dataframe tbody tr th:only-of-type {\n",
       "        vertical-align: middle;\n",
       "    }\n",
       "\n",
       "    .dataframe tbody tr th {\n",
       "        vertical-align: top;\n",
       "    }\n",
       "\n",
       "    .dataframe thead th {\n",
       "        text-align: right;\n",
       "    }\n",
       "</style>\n",
       "<table border=\"1\" class=\"dataframe\">\n",
       "  <thead>\n",
       "    <tr style=\"text-align: right;\">\n",
       "      <th></th>\n",
       "      <th>Title</th>\n",
       "      <th>Date</th>\n",
       "      <th>Authors</th>\n",
       "      <th>Summary</th>\n",
       "    </tr>\n",
       "  </thead>\n",
       "  <tbody>\n",
       "    <tr>\n",
       "      <th>0</th>\n",
       "      <td>Four short links: 21 August 2020</td>\n",
       "      <td>Fri, 21 Aug 2020 11:56:32 +0000</td>\n",
       "      <td>Nat Torkington</td>\n",
       "      <td>The 212 Story Tower That Isnt in Suburban Melb...</td>\n",
       "    </tr>\n",
       "    <tr>\n",
       "      <th>1</th>\n",
       "      <td>Four Short Links: 19 August 2020</td>\n",
       "      <td>Wed, 19 Aug 2020 11:44:06 +0000</td>\n",
       "      <td>Nat Torkington</td>\n",
       "      <td>The Design Space of Computational Notebooks  L...</td>\n",
       "    </tr>\n",
       "    <tr>\n",
       "      <th>2</th>\n",
       "      <td>Why Best-of-Breed is a Better Choice than All-...</td>\n",
       "      <td>Tue, 18 Aug 2020 11:30:42 +0000</td>\n",
       "      <td>Matthew Rocklin and Hugo Bowne-Anderson</td>\n",
       "      <td>So you need to redesign your company’s data in...</td>\n",
       "    </tr>\n",
       "  </tbody>\n",
       "</table>\n",
       "</div>"
      ],
      "text/plain": [
       "                                               Title  \\\n",
       "0                   Four short links: 21 August 2020   \n",
       "1                   Four Short Links: 19 August 2020   \n",
       "2  Why Best-of-Breed is a Better Choice than All-...   \n",
       "\n",
       "                              Date                                  Authors  \\\n",
       "0  Fri, 21 Aug 2020 11:56:32 +0000                           Nat Torkington   \n",
       "1  Wed, 19 Aug 2020 11:44:06 +0000                           Nat Torkington   \n",
       "2  Tue, 18 Aug 2020 11:30:42 +0000  Matthew Rocklin and Hugo Bowne-Anderson   \n",
       "\n",
       "                                             Summary  \n",
       "0  The 212 Story Tower That Isnt in Suburban Melb...  \n",
       "1  The Design Space of Computational Notebooks  L...  \n",
       "2  So you need to redesign your company’s data in...  "
      ]
     },
     "execution_count": 18,
     "metadata": {},
     "output_type": "execute_result"
    }
   ],
   "source": [
    "entries =[]\n",
    "\n",
    "for i in data[\"entries\"]:\n",
    "    title = i[\"title\"]\n",
    "    date = i[\"published\"]\n",
    "    authors = i[\"author\"]\n",
    "    summary = i['summary']\n",
    "    summary = re.sub(\"\\[?&#\\d+;]?\",\"\",summary)\n",
    "    entry={\"Title\":title,\"Date\":date,\"Authors\":authors,\"Summary\":summary}\n",
    "    entries.append(entry)\n",
    "    entries_pd = pd.DataFrame(entries)\n",
    "entries_pd.head(3)"
   ]
  },
  {
   "cell_type": "markdown",
   "metadata": {},
   "source": [
    "### 10. Count the number of entries per author and sort them in descending order."
   ]
  },
  {
   "cell_type": "code",
   "execution_count": 19,
   "metadata": {},
   "outputs": [
    {
     "data": {
      "text/plain": [
       "Nat Torkington                                      46\n",
       "Mike Loukides                                        9\n",
       "Sarah Gold                                           1\n",
       "Matthew Rocklin and Hugo Bowne-Anderson              1\n",
       "Mike Loukides and Steve Swoyer                       1\n",
       "Justin Norman, Peter Skomoroch and Mike Loukides     1\n",
       "Hugo Bowne-Anderson                                  1\n",
       "Name: Authors, dtype: int64"
      ]
     },
     "execution_count": 19,
     "metadata": {},
     "output_type": "execute_result"
    }
   ],
   "source": [
    "entries_pd[\"Authors\"].value_counts()"
   ]
  },
  {
   "cell_type": "markdown",
   "metadata": {},
   "source": [
    "### 11. Add a new column to the data frame that contains the length (number of characters) of each entry title. Return a data frame that contains the title, author, and title length of each entry in descending order (longest title length at the top)."
   ]
  },
  {
   "cell_type": "code",
   "execution_count": 25,
   "metadata": {},
   "outputs": [
    {
     "data": {
      "text/html": [
       "<div>\n",
       "<style scoped>\n",
       "    .dataframe tbody tr th:only-of-type {\n",
       "        vertical-align: middle;\n",
       "    }\n",
       "\n",
       "    .dataframe tbody tr th {\n",
       "        vertical-align: top;\n",
       "    }\n",
       "\n",
       "    .dataframe thead th {\n",
       "        text-align: right;\n",
       "    }\n",
       "</style>\n",
       "<table border=\"1\" class=\"dataframe\">\n",
       "  <thead>\n",
       "    <tr style=\"text-align: right;\">\n",
       "      <th></th>\n",
       "      <th>Title</th>\n",
       "      <th>Authors</th>\n",
       "      <th>Length</th>\n",
       "    </tr>\n",
       "  </thead>\n",
       "  <tbody>\n",
       "    <tr>\n",
       "      <th>2</th>\n",
       "      <td>Why Best-of-Breed is a Better Choice than All-...</td>\n",
       "      <td>Matthew Rocklin and Hugo Bowne-Anderson</td>\n",
       "      <td>79</td>\n",
       "    </tr>\n",
       "    <tr>\n",
       "      <th>29</th>\n",
       "      <td>Automated Coding and the Future of Programming</td>\n",
       "      <td>Mike Loukides</td>\n",
       "      <td>46</td>\n",
       "    </tr>\n",
       "    <tr>\n",
       "      <th>54</th>\n",
       "      <td>Machine Learning and the Production Gap</td>\n",
       "      <td>Mike Loukides</td>\n",
       "      <td>39</td>\n",
       "    </tr>\n",
       "  </tbody>\n",
       "</table>\n",
       "</div>"
      ],
      "text/plain": [
       "                                                Title  \\\n",
       "2   Why Best-of-Breed is a Better Choice than All-...   \n",
       "29     Automated Coding and the Future of Programming   \n",
       "54            Machine Learning and the Production Gap   \n",
       "\n",
       "                                    Authors  Length  \n",
       "2   Matthew Rocklin and Hugo Bowne-Anderson      79  \n",
       "29                            Mike Loukides      46  \n",
       "54                            Mike Loukides      39  "
      ]
     },
     "execution_count": 25,
     "metadata": {},
     "output_type": "execute_result"
    }
   ],
   "source": [
    "entries_pd[\"Length\"] = entries_pd[\"Title\"].apply(lambda x: len(x))\n",
    "entries_pd_2 = entries_pd[[\"Title\",\"Authors\",\"Length\"]]\n",
    "\n",
    "entries_pd_2.sort_values(by=['Length'], ascending=False).head(3)"
   ]
  },
  {
   "cell_type": "markdown",
   "metadata": {},
   "source": [
    "### 12. Create a list of entry titles whose summary includes the phrase \"machine learning.\""
   ]
  },
  {
   "cell_type": "code",
   "execution_count": 30,
   "metadata": {},
   "outputs": [
    {
     "data": {
      "text/plain": [
       "['Four short links: 8 July 2020', 'Machine Learning and the Production Gap']"
      ]
     },
     "execution_count": 30,
     "metadata": {},
     "output_type": "execute_result"
    }
   ],
   "source": [
    "entry_list = []\n",
    "workaround = entries_pd.apply(lambda x: entry_list.append(x[\"Title\"]) if \"machine learning\" in x[\"Summary\"] else False, axis=1)\n",
    "entry_list #OK"
   ]
  }
 ],
 "metadata": {
  "kernelspec": {
   "display_name": "Python 3",
   "language": "python",
   "name": "python3"
  },
  "language_info": {
   "codemirror_mode": {
    "name": "ipython",
    "version": 3
   },
   "file_extension": ".py",
   "mimetype": "text/x-python",
   "name": "python",
   "nbconvert_exporter": "python",
   "pygments_lexer": "ipython3",
   "version": "3.8.3"
  }
 },
 "nbformat": 4,
 "nbformat_minor": 2
}
