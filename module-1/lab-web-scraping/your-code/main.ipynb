{
 "cells": [
  {
   "cell_type": "markdown",
   "metadata": {},
   "source": [
    "# Web Scraping Lab\n",
    "\n",
    "You will find in this notebook some scrapy exercises to practise your scraping skills.\n",
    "\n",
    "**Tips:**\n",
    "\n",
    "- Check the response status code for each request to ensure you have obtained the intended contennt.\n",
    "- Print the response text in each request to understand the kind of info you are getting and its format.\n",
    "- Check for patterns in the response text to extract the data/info requested in each question.\n",
    "- Visit each url and take a look at its source through Chrome DevTools. You'll need to identify the html tags, special class names etc. used for the html content you are expected to extract."
   ]
  },
  {
   "cell_type": "markdown",
   "metadata": {},
   "source": [
    "- [Requests library](http://docs.python-requests.org/en/master/#the-user-guide) documentation \n",
    "- [Beautiful Soup Doc](https://www.crummy.com/software/BeautifulSoup/bs4/doc/)\n",
    "- [Urllib](https://docs.python.org/3/library/urllib.html#module-urllib)\n",
    "- [re lib](https://docs.python.org/3/library/re.html)\n",
    "- [lxml lib](https://lxml.de/)\n",
    "- [Scrapy](https://scrapy.org/)\n",
    "- [List of HTTP status codes](https://en.wikipedia.org/wiki/List_of_HTTP_status_codes)\n",
    "- [HTML basics](http://www.simplehtmlguide.com/cheatsheet.php)\n",
    "- [CSS basics](https://www.cssbasics.com/#page_start)"
   ]
  },
  {
   "cell_type": "markdown",
   "metadata": {},
   "source": [
    "#### Below are the libraries and modules you may need. `requests`,  `BeautifulSoup` and `pandas` are imported for you. If you prefer to use additional libraries feel free to uncomment them."
   ]
  },
  {
   "cell_type": "code",
   "execution_count": 39,
   "metadata": {},
   "outputs": [],
   "source": [
    "import requests as req\n",
    "from bs4 import BeautifulSoup as bs\n",
    "import pandas as pd\n",
    "# from pprint import pprint\n",
    "from lxml import html\n",
    "from lxml.html import fromstring\n",
    "# import urllib.request\n",
    "# from urllib.request import urlopen\n",
    "# import random\n",
    "import re\n",
    "# import scrapy"
   ]
  },
  {
   "cell_type": "markdown",
   "metadata": {},
   "source": [
    "#### Download, parse (using BeautifulSoup), and print the content from the Trending Developers page from GitHub:"
   ]
  },
  {
   "cell_type": "code",
   "execution_count": 2,
   "metadata": {},
   "outputs": [],
   "source": [
    "# This is the url you will scrape in this exercise\n",
    "url = 'https://github.com/trending/developers'"
   ]
  },
  {
   "cell_type": "code",
   "execution_count": 3,
   "metadata": {
    "scrolled": true
   },
   "outputs": [
    {
     "data": {
      "text/plain": [
       "['Rob Dodson',\n",
       " 'robdodson',\n",
       " 'eleventy-netlify-boilerplate',\n",
       " 'MichaIng',\n",
       " 'DietPi',\n",
       " 'Gleb Bahmutov',\n",
       " 'bahmutov',\n",
       " 'cypress-react-unit-test',\n",
       " 'Lukas Taegert-Atkinson',\n",
       " 'lukastaegert',\n",
       " 'TNG Technology Consulting GmbH',\n",
       " 'Till Krüss',\n",
       " 'tillkruss',\n",
       " 'alfred-laravel-docs',\n",
       " 'Jesse Duffield',\n",
       " 'jesseduffield',\n",
       " 'lazydocker',\n",
       " 'ᴜɴᴋɴᴡᴏɴ',\n",
       " 'unknwon',\n",
       " 'the-way-to-go_ZH_CN',\n",
       " 'Arve Knudsen',\n",
       " 'aknuds1',\n",
       " 'html-to-react',\n",
       " 'Niklas von Hertzen',\n",
       " 'niklasvh',\n",
       " 'html2canvas',\n",
       " 'Stephen Celis',\n",
       " 'stephencelis',\n",
       " 'SQLite.swift',\n",
       " 'Damian Dulisz',\n",
       " 'shentao',\n",
       " 'vue-multiselect',\n",
       " 'Yufan You',\n",
       " 'ouuan',\n",
       " 'Despised',\n",
       " 'Christian Clauss',\n",
       " 'cclauss',\n",
       " 'Ten-lines-or-less',\n",
       " 'Jirka Borovec',\n",
       " 'Borda',\n",
       " 'pyImSegm',\n",
       " 'Timothy Edmund Crosley',\n",
       " 'timothycrosley',\n",
       " 'isort',\n",
       " 'James Newton-King',\n",
       " 'JamesNK',\n",
       " 'Newtonsoft.Json',\n",
       " 'Michael Shilman',\n",
       " 'shilman',\n",
       " 'storybook-vue-example',\n",
       " 'Mike Penz',\n",
       " 'mikepenz',\n",
       " 'MaterialDrawer',\n",
       " 'Alex Hall',\n",
       " 'alexmojaki',\n",
       " 'futurecoder',\n",
       " 'Diego Sampaio',\n",
       " 'sampaiodiego',\n",
       " '@RocketChat',\n",
       " 'Dries Vints',\n",
       " 'driesvints',\n",
       " 'dotfiles',\n",
       " 'JK Jung',\n",
       " 'jkjung-avt',\n",
       " 'tensorrt_demos',\n",
       " 'Steven',\n",
       " 'styfle',\n",
       " 'cancel-workflow-action',\n",
       " 'Daniel Martí',\n",
       " 'mvdan',\n",
       " 'sh',\n",
       " 'Łukasz Magiera',\n",
       " 'magik6k',\n",
       " 'dflow',\n",
       " 'Product',\n",
       " 'Platform',\n",
       " 'Support',\n",
       " 'Company']"
      ]
     },
     "execution_count": 3,
     "metadata": {},
     "output_type": "execute_result"
    }
   ],
   "source": [
    "#your code\n",
    "\n",
    "html = req.get(url).content\n",
    "soup = bs(html, 'html.parser')\n",
    "tags = ['h1', 'h2', 'h3', 'h4', 'h5', 'h6', 'h7', 'p']\n",
    "text = [element.text for element in soup.find_all(tags)]\n",
    "text.pop(0)   \n",
    "text.pop(0)     #     ʕノ•ᴥ•ʔノ ︵ ┻━┻\n",
    "text.pop(0)\n",
    "text.pop(0)\n",
    "for i in range(len(text)):\n",
    "    text[i] = text[i].strip()\n",
    "text"
   ]
  },
  {
   "cell_type": "markdown",
   "metadata": {},
   "source": [
    "#### Display the names of the trending developers retrieved in the previous step.\n",
    "\n",
    "Your output should be a Python list of developer names. Each name should not contain any html tag.\n",
    "\n",
    "**Instructions:**\n",
    "\n",
    "1. Find out the html tag and class names used for the developer names. You can achieve this using Chrome DevTools.\n",
    "\n",
    "1. Use BeautifulSoup to extract all the html elements that contain the developer names.\n",
    "\n",
    "1. Use string manipulation techniques to replace whitespaces and linebreaks (i.e. `\\n`) in the *text* of each html element. Use a list to store the clean names.\n",
    "\n",
    "1. Print the list of names.\n",
    "\n",
    "Your output should look like below:\n",
    "\n",
    "```\n",
    "['trimstray (@trimstray)',\n",
    " 'joewalnes (JoeWalnes)',\n",
    " 'charlax (Charles-AxelDein)',\n",
    " 'ForrestKnight (ForrestKnight)',\n",
    " 'revery-ui (revery-ui)',\n",
    " 'alibaba (Alibaba)',\n",
    " 'Microsoft (Microsoft)',\n",
    " 'github (GitHub)',\n",
    " 'facebook (Facebook)',\n",
    " 'boazsegev (Bo)',\n",
    " 'google (Google)',\n",
    " 'cloudfetch',\n",
    " 'sindresorhus (SindreSorhus)',\n",
    " 'tensorflow',\n",
    " 'apache (TheApacheSoftwareFoundation)',\n",
    " 'DevonCrawford (DevonCrawford)',\n",
    " 'ARMmbed (ArmMbed)',\n",
    " 'vuejs (vuejs)',\n",
    " 'fastai (fast.ai)',\n",
    " 'QiShaoXuan (Qi)',\n",
    " 'joelparkerhenderson (JoelParkerHenderson)',\n",
    " 'torvalds (LinusTorvalds)',\n",
    " 'CyC2018',\n",
    " 'komeiji-satori (神楽坂覚々)',\n",
    " 'script-8']\n",
    " ```"
   ]
  },
  {
   "cell_type": "code",
   "execution_count": 4,
   "metadata": {
    "scrolled": true
   },
   "outputs": [
    {
     "data": {
      "text/plain": [
       "['Rob Dodson robdodson',\n",
       " 'eleventy-netlify-boilerplate MichaIng',\n",
       " 'DietPi Gleb Bahmutov',\n",
       " 'bahmutov cypress-react-unit-test',\n",
       " 'Lukas Taegert-Atkinson lukastaegert',\n",
       " 'TNG Technology Consulting GmbH Till Krüss',\n",
       " 'tillkruss alfred-laravel-docs',\n",
       " 'Jesse Duffield jesseduffield',\n",
       " 'lazydocker ᴜɴᴋɴᴡᴏɴ',\n",
       " 'unknwon the-way-to-go_ZH_CN',\n",
       " 'Arve Knudsen aknuds1',\n",
       " 'html-to-react Niklas von Hertzen',\n",
       " 'niklasvh html2canvas',\n",
       " 'Stephen Celis stephencelis',\n",
       " 'SQLite.swift Damian Dulisz',\n",
       " 'shentao vue-multiselect',\n",
       " 'Yufan You ouuan',\n",
       " 'Despised Christian Clauss',\n",
       " 'cclauss Ten-lines-or-less',\n",
       " 'Jirka Borovec Borda',\n",
       " 'pyImSegm Timothy Edmund Crosley',\n",
       " 'timothycrosley isort',\n",
       " 'James Newton-King JamesNK',\n",
       " 'Newtonsoft.Json Michael Shilman',\n",
       " 'shilman storybook-vue-example',\n",
       " 'Mike Penz mikepenz',\n",
       " 'MaterialDrawer Alex Hall',\n",
       " 'alexmojaki futurecoder',\n",
       " 'Diego Sampaio sampaiodiego',\n",
       " '@RocketChat Dries Vints',\n",
       " 'driesvints dotfiles',\n",
       " 'JK Jung jkjung-avt',\n",
       " 'tensorrt_demos Steven',\n",
       " 'styfle cancel-workflow-action',\n",
       " 'Daniel Martí mvdan',\n",
       " 'sh Łukasz Magiera',\n",
       " 'magik6k dflow',\n",
       " 'Product Platform',\n",
       " 'Support Company']"
      ]
     },
     "execution_count": 4,
     "metadata": {},
     "output_type": "execute_result"
    }
   ],
   "source": [
    "#your code\n",
    "i = 0\n",
    "j = 1\n",
    "new_text = []\n",
    "while i < len(text):\n",
    "    new_text.append(''.join([text[i],' ',text[j]]))\n",
    "    i+=2\n",
    "    j=i+1\n",
    "    \n",
    "new_text    #    ε(´סּ︵סּ`)з"
   ]
  },
  {
   "cell_type": "markdown",
   "metadata": {},
   "source": [
    "#### Display the trending Python repositories in GitHub\n",
    "\n",
    "The steps to solve this problem is similar to the previous one except that you need to find out the repository names instead of developer names."
   ]
  },
  {
   "cell_type": "code",
   "execution_count": 5,
   "metadata": {},
   "outputs": [],
   "source": [
    "# This is the url you will scrape in this exercise\n",
    "url = 'https://github.com/trending/python?since=daily'"
   ]
  },
  {
   "cell_type": "code",
   "execution_count": 43,
   "metadata": {},
   "outputs": [
    {
     "data": {
      "text/plain": [
       "['https://github.com/Palashio/libra',\n",
       " 'https://github.com/h1st-ai/h1st',\n",
       " 'https://github.com/tgorgdotcom/locast2plex',\n",
       " 'https://github.com/horovod/horovod',\n",
       " 'https://github.com/PostHog/posthog',\n",
       " 'https://github.com/tiangolo/fastapi',\n",
       " 'https://github.com/pythonstock/stock',\n",
       " 'https://github.com/matplotlib/matplotlib',\n",
       " 'https://github.com/Felienne/hedy',\n",
       " 'https://github.com/PaddlePaddle/PaddleDetection',\n",
       " 'https://github.com/jina-ai/jina',\n",
       " 'https://github.com/Dod-o/Statistical-Learning-Method_Code',\n",
       " 'https://github.com/openai/image-gpt',\n",
       " 'https://github.com/Ha0Tang/XingGAN',\n",
       " 'https://github.com/PyGithub/PyGithub',\n",
       " 'https://github.com/blackorbird/APT_REPORT',\n",
       " 'https://github.com/kangvcar/InfoSpider',\n",
       " 'https://github.com/aws-samples/aws-cdk-examples',\n",
       " 'https://github.com/connorferster/handcalcs',\n",
       " 'https://github.com/huggingface/transformers',\n",
       " 'https://github.com/demisto/content',\n",
       " 'https://github.com/matrix-org/synapse',\n",
       " 'https://github.com/vishnubob/wait-for-it',\n",
       " 'https://github.com/open-mmlab/mmcv',\n",
       " 'https://github.com/mingrammer/diagrams']"
      ]
     },
     "execution_count": 43,
     "metadata": {},
     "output_type": "execute_result"
    }
   ],
   "source": [
    "#your code\n",
    "\n",
    "git_url = req.get('https://github.com/trending/python?since=daily').content\n",
    "git_sopa = bs(git_url, 'html.parser')\n",
    "git_tabla = git_sopa.find('div',{'class':'explore-pjax-container container-lg p-responsive pt-6'})\n",
    "git_body = git_tabla.findAll('h1')\n",
    "git_links = re.findall('href=\\\"/.+?\\\"', str(git_body))\n",
    "# this is to remove the \" at the end of string\n",
    "# and the href=\" at the beginning of the string\n",
    "for i in range(len(git_links)):    \n",
    "    git_links[i] = git_links[i][6:-1]\n",
    "git_lst = ['https://github.com' + sub for sub in git_links] \n",
    "git_lst"
   ]
  },
  {
   "cell_type": "markdown",
   "metadata": {},
   "source": [
    "#### Display all the image links from Walt Disney wikipedia page"
   ]
  },
  {
   "cell_type": "code",
   "execution_count": 7,
   "metadata": {},
   "outputs": [],
   "source": [
    "# This is the url you will scrape in this exercise\n",
    "url = 'https://en.wikipedia.org/wiki/Walt_Disney'"
   ]
  },
  {
   "cell_type": "code",
   "execution_count": 42,
   "metadata": {},
   "outputs": [
    {
     "data": {
      "text/plain": [
       "['https://www.wikipedia.org/wiki/File:Walt_Disney_1946.JPG',\n",
       " 'https://www.wikipedia.org/wiki/File:Walt_Disney_1942_signature.svg',\n",
       " 'https://www.wikipedia.org/wiki/File:Walt_Disney_envelope_ca._1921.jpg',\n",
       " 'https://www.wikipedia.org/wiki/File:Walt_Disney_envelope_ca._1921.jpg',\n",
       " 'https://www.wikipedia.org/wiki/File:Newman_Laugh-O-Gram_(1921).webm',\n",
       " 'https://www.wikipedia.org/wiki/File:Trolley_Troubles_poster.jpg',\n",
       " 'https://www.wikipedia.org/wiki/File:Trolley_Troubles_poster.jpg',\n",
       " 'https://www.wikipedia.org/wiki/File:Walt_Disney_and_his_cartoon_creation_%22Mickey_Mouse%22_-_National_Board_of_Review_Magazine.jpg',\n",
       " 'https://www.wikipedia.org/wiki/File:Walt_Disney_and_his_cartoon_creation_%22Mickey_Mouse%22_-_National_Board_of_Review_Magazine.jpg',\n",
       " 'https://www.wikipedia.org/wiki/File:Steamboat-willie.jpg',\n",
       " 'https://www.wikipedia.org/wiki/File:Steamboat-willie.jpg',\n",
       " 'https://www.wikipedia.org/wiki/File:Walt_Disney_1935.jpg',\n",
       " 'https://www.wikipedia.org/wiki/File:Walt_Disney_1935.jpg',\n",
       " 'https://www.wikipedia.org/wiki/File:Walt_Disney_Snow_white_1937_trailer_screenshot_(13).jpg',\n",
       " 'https://www.wikipedia.org/wiki/File:Walt_Disney_Snow_white_1937_trailer_screenshot_(13).jpg',\n",
       " 'https://www.wikipedia.org/wiki/File:Disney_drawing_goofy.jpg',\n",
       " 'https://www.wikipedia.org/wiki/File:Disney_drawing_goofy.jpg',\n",
       " 'https://www.wikipedia.org/wiki/File:DisneySchiphol1951.jpg',\n",
       " 'https://www.wikipedia.org/wiki/File:DisneySchiphol1951.jpg',\n",
       " 'https://www.wikipedia.org/wiki/File:WaltDisneyplansDisneylandDec1954.jpg',\n",
       " 'https://www.wikipedia.org/wiki/File:WaltDisneyplansDisneylandDec1954.jpg',\n",
       " 'https://www.wikipedia.org/wiki/File:Walt_disney_portrait_right.jpg',\n",
       " 'https://www.wikipedia.org/wiki/File:Walt_disney_portrait_right.jpg',\n",
       " 'https://www.wikipedia.org/wiki/File:Walt_Disney_Grave.JPG',\n",
       " 'https://www.wikipedia.org/wiki/File:Walt_Disney_Grave.JPG',\n",
       " 'https://www.wikipedia.org/wiki/File:Roy_O._Disney_with_Company_at_Press_Conference.jpg',\n",
       " 'https://www.wikipedia.org/wiki/File:Roy_O._Disney_with_Company_at_Press_Conference.jpg',\n",
       " 'https://www.wikipedia.org/wiki/File:Disney_Display_Case.JPG',\n",
       " 'https://www.wikipedia.org/wiki/File:Disney_Display_Case.JPG',\n",
       " 'https://www.wikipedia.org/wiki/File:Disney1968.jpg',\n",
       " 'https://www.wikipedia.org/wiki/File:Disney1968.jpg',\n",
       " 'https://www.wikipedia.org/wiki/File:The_Walt_Disney_Company_Logo.svg',\n",
       " 'https://www.wikipedia.org/wiki/File:Animation_disc.svg',\n",
       " 'https://www.wikipedia.org/wiki/File:P_vip.svg',\n",
       " 'https://www.wikipedia.org/wiki/File:Magic_Kingdom_castle.jpg',\n",
       " 'https://www.wikipedia.org/wiki/File:Video-x-generic.svg',\n",
       " 'https://www.wikipedia.org/wiki/File:Flag_of_Los_Angeles_County,_California.svg',\n",
       " 'https://www.wikipedia.org/wiki/File:Blank_television_set.svg',\n",
       " 'https://www.wikipedia.org/wiki/File:Flag_of_the_United_States.svg']"
      ]
     },
     "execution_count": 42,
     "metadata": {},
     "output_type": "execute_result"
    }
   ],
   "source": [
    "#your code\n",
    "princesspy_url = req.get('https://en.wikipedia.org/wiki/Walt_Disney').content\n",
    "princesspy_sopa = bs(princesspy_url, 'html.parser')\n",
    "princesspy_tabla = princesspy_sopa.find('div',{'class':'mw-parser-output'})\n",
    "princesspy_body = princesspy_tabla.findAll('a')\n",
    "princesspy_links = re.findall('\\/\\wiki/File:.+?\\\"', str(princesspy_body))\n",
    "for i in range(len(princesspy_links)):    # this is to remove the \" at the end of string\n",
    "    princesspy_links[i] = princesspy_links[i][0:-1]\n",
    "princesspy_links\n",
    "# adding the \" wikipedia.org \" part of the url\n",
    "princesspy_lst = ['https://www.wikipedia.org' + sub for sub in princesspy_links] \n",
    "princesspy_lst"
   ]
  },
  {
   "cell_type": "markdown",
   "metadata": {},
   "source": [
    "#### Retrieve an arbitary Wikipedia page of \"Python\" and create a list of links on that page"
   ]
  },
  {
   "cell_type": "code",
   "execution_count": 9,
   "metadata": {},
   "outputs": [],
   "source": [
    "# This is the url you will scrape in this exercise\n",
    "url ='https://en.wikipedia.org/wiki/Python' "
   ]
  },
  {
   "cell_type": "code",
   "execution_count": 41,
   "metadata": {},
   "outputs": [
    {
     "data": {
      "text/plain": [
       "['https://www.wikipedia.org/wiki/Python',\n",
       " 'https://www.wikipedia.org/wiki/python',\n",
       " 'https://www.wikipedia.org/wiki/Pythonidae',\n",
       " 'https://www.wikipedia.org/wiki/Python_(genus)',\n",
       " 'https://www.wikipedia.org/wiki/Python_(mythology)',\n",
       " 'https://www.wikipedia.org/wiki/Python_of_Aenus',\n",
       " 'https://www.wikipedia.org/wiki/Python_(painter)',\n",
       " 'https://www.wikipedia.org/wiki/Python_of_Byzantium',\n",
       " 'https://www.wikipedia.org/wiki/Python_of_Catana',\n",
       " 'https://www.wikipedia.org/wiki/Python_(film)',\n",
       " 'https://www.wikipedia.org/wiki/Pythons_2',\n",
       " 'https://www.wikipedia.org/wiki/Monty_Python',\n",
       " 'https://www.wikipedia.org/wiki/Python_(Monty)_Pictures',\n",
       " 'https://www.wikipedia.org/wiki/Python_(programming_language)',\n",
       " 'https://www.wikipedia.org/wiki/CPython',\n",
       " 'https://www.wikipedia.org/wiki/CMU_Common_Lisp',\n",
       " 'https://www.wikipedia.org/wiki/PERQ#PERQ_3',\n",
       " 'https://www.wikipedia.org/wiki/Python_(Busch_Gardens_Tampa_Bay)',\n",
       " 'https://www.wikipedia.org/wiki/Python_(Coney_Island,_Cincinnati,_Ohio)',\n",
       " 'https://www.wikipedia.org/wiki/Python_(Efteling)',\n",
       " 'https://www.wikipedia.org/wiki/Python_(automobile_maker)',\n",
       " 'https://www.wikipedia.org/wiki/Python_(Ford_prototype)',\n",
       " 'https://www.wikipedia.org/wiki/Colt_Python',\n",
       " 'https://www.wikipedia.org/wiki/Python_(missile)',\n",
       " 'https://www.wikipedia.org/wiki/Python_(nuclear_primary)',\n",
       " 'https://www.wikipedia.org/wiki/Python_Anghelo',\n",
       " 'https://www.wikipedia.org/wiki/PYTHON',\n",
       " 'https://www.wikipedia.org/wiki/Cython',\n",
       " 'https://www.wikipedia.org/wiki/Pyton',\n",
       " 'https://www.wikipedia.org/wiki/File:Disambig_gray.svg',\n",
       " 'https://www.wikipedia.org/wiki/Help:Disambiguation']"
      ]
     },
     "execution_count": 41,
     "metadata": {},
     "output_type": "execute_result"
    }
   ],
   "source": [
    "#your code\n",
    "pywi_url = req.get('https://en.wikipedia.org/wiki/Python').content\n",
    "pywi_sopa = bs(pywi_url, 'html.parser')\n",
    "pywi_tabla = pywi_sopa.find('div',{'class':'mw-parser-output'})\n",
    "pywi_body = pywi_tabla.findAll('a')\n",
    "pywi_txt = re.findall('\\/\\wiki/.+?\\\"', str(pywi_body))\n",
    "pywi_lst = ['https://www.wikipedia.org' + sub for sub in pywi_txt] \n",
    "for i in range(len(pywi_lst)):    # this is to remove the \" at the end of string\n",
    "    pywi_lst[i] = pywi_lst[i][0:-1]\n",
    "pywi_lst\n",
    "# source for appending suffix | prefix\n",
    "# https://www.geeksforgeeks.org/python-append-suffix-prefix-to-strings-in-list/"
   ]
  },
  {
   "cell_type": "markdown",
   "metadata": {},
   "source": [
    "#### Number of Titles that have changed in the United States Code since its last release point "
   ]
  },
  {
   "cell_type": "code",
   "execution_count": 11,
   "metadata": {},
   "outputs": [],
   "source": [
    "# This is the url you will scrape in this exercise\n",
    "url = 'http://uscode.house.gov/download/download.shtml'"
   ]
  },
  {
   "cell_type": "code",
   "execution_count": 37,
   "metadata": {},
   "outputs": [
    {
     "data": {
      "text/plain": [
       "['Title 34 - Crime Control and Law Enforcement',\n",
       " 'Title 42 - The Public Health and Welfare',\n",
       " 'Title 50 - War and National Defense']"
      ]
     },
     "execution_count": 37,
     "metadata": {},
     "output_type": "execute_result"
    }
   ],
   "source": [
    "#your code\n",
    "titles = req.get('https://uscode.house.gov/download/download.shtml').content\n",
    "sopa_titles = bs(titles, 'html.parser')\n",
    "tabla_titles = sopa_titles.findAll('div',{'class':'usctitlechanged'}) \n",
    "body_titles_txt = [str(i.text.replace('\\n','')).strip() for i in tabla_titles]\n",
    "body_titles_txt\n"
   ]
  },
  {
   "cell_type": "markdown",
   "metadata": {},
   "source": [
    "#### A Python list with the top ten FBI's Most Wanted names "
   ]
  },
  {
   "cell_type": "code",
   "execution_count": 13,
   "metadata": {},
   "outputs": [],
   "source": [
    "# This is the url you will scrape in this exercise\n",
    "url = 'https://www.fbi.gov/wanted/topten'"
   ]
  },
  {
   "cell_type": "code",
   "execution_count": 14,
   "metadata": {},
   "outputs": [
    {
     "name": "stdout",
     "output_type": "stream",
     "text": [
      "\n",
      "\n",
      "\n",
      "\n",
      "\n",
      "\n",
      "\n",
      "\n",
      "\n",
      "\n"
     ]
    },
    {
     "data": {
      "text/plain": [
       "['ALEXIS FLORES',\n",
       " 'EUGENE PALMER',\n",
       " 'RAFAEL CARO-QUINTERO',\n",
       " 'ROBERT WILLIAM FISHER',\n",
       " 'BHADRESHKUMAR CHETANBHAI PATEL',\n",
       " 'ALEJANDRO ROSALES CASTILLO',\n",
       " 'ARNOLDO JIMENEZ',\n",
       " 'JASON DEREK BROWN',\n",
       " 'YASER ABDEL SAID',\n",
       " 'SANTIAGO VILLALBA MEDEROS']"
      ]
     },
     "execution_count": 14,
     "metadata": {},
     "output_type": "execute_result"
    }
   ],
   "source": [
    "#your code \n",
    "dataset_fbi = req.get('https://www.fbi.gov/wanted/topten') #Pagina a scrapear\n",
    "contenido = dataset_fbi.content\n",
    "sopa_fbi = bs(contenido, 'html.parser')\n",
    "table_fbi = sopa_fbi.find('ul',{'class':'full-grid'}) #Se puede obtener informacion atraves del nombre de las clases\n",
    "body_fbi = table_fbi.findAll('a')\n",
    "body_fbi_txt = [str(i.text.replace('\\n','')) for i in body_fbi] # WHY DID IT CLEAN THE STRINGS WITH NO \\n???  ε(´סּ︵סּ`)з\n",
    "for i in range(len(body_fbi_txt)//2):\n",
    "    print(body_fbi_txt.pop(i))\n",
    "body_fbi_txt"
   ]
  },
  {
   "cell_type": "markdown",
   "metadata": {},
   "source": [
    "####  20 latest earthquakes info (date, time, latitude, longitude and region name) by the EMSC as a pandas dataframe"
   ]
  },
  {
   "cell_type": "code",
   "execution_count": 15,
   "metadata": {},
   "outputs": [],
   "source": [
    "# This is the url you will scrape in this exercise\n",
    "url = 'https://www.emsc-csem.org/Earthquake/'"
   ]
  },
  {
   "cell_type": "code",
   "execution_count": 16,
   "metadata": {},
   "outputs": [
    {
     "data": {
      "text/html": [
       "<div>\n",
       "<style scoped>\n",
       "    .dataframe tbody tr th:only-of-type {\n",
       "        vertical-align: middle;\n",
       "    }\n",
       "\n",
       "    .dataframe tbody tr th {\n",
       "        vertical-align: top;\n",
       "    }\n",
       "\n",
       "    .dataframe thead th {\n",
       "        text-align: right;\n",
       "    }\n",
       "</style>\n",
       "<table border=\"1\" class=\"dataframe\">\n",
       "  <thead>\n",
       "    <tr style=\"text-align: right;\">\n",
       "      <th></th>\n",
       "      <th>date</th>\n",
       "      <th>time</th>\n",
       "      <th>latitude</th>\n",
       "      <th>longitude</th>\n",
       "      <th>region name</th>\n",
       "    </tr>\n",
       "  </thead>\n",
       "  <tbody>\n",
       "    <tr>\n",
       "      <th>0</th>\n",
       "      <td>2020-08-19</td>\n",
       "      <td>15:01</td>\n",
       "      <td>35.06  N</td>\n",
       "      <td>95.50  W</td>\n",
       "      <td>OKLAHOMA</td>\n",
       "    </tr>\n",
       "    <tr>\n",
       "      <th>1</th>\n",
       "      <td>2020-08-19</td>\n",
       "      <td>15:05</td>\n",
       "      <td>4.96  N</td>\n",
       "      <td>126.59  E</td>\n",
       "      <td>KEPULAUAN TALAUD, INDONESIA</td>\n",
       "    </tr>\n",
       "    <tr>\n",
       "      <th>2</th>\n",
       "      <td>2020-08-19</td>\n",
       "      <td>14:44</td>\n",
       "      <td>21.87  S</td>\n",
       "      <td>68.53  W</td>\n",
       "      <td>ANTOFAGASTA, CHILE</td>\n",
       "    </tr>\n",
       "    <tr>\n",
       "      <th>3</th>\n",
       "      <td>2020-08-19</td>\n",
       "      <td>14:30</td>\n",
       "      <td>44.32  N</td>\n",
       "      <td>115.06  W</td>\n",
       "      <td>SOUTHERN IDAHO</td>\n",
       "    </tr>\n",
       "    <tr>\n",
       "      <th>4</th>\n",
       "      <td>2020-08-19</td>\n",
       "      <td>14:20</td>\n",
       "      <td>17.81  N</td>\n",
       "      <td>68.99  W</td>\n",
       "      <td>DOMINICAN REPUBLIC REGION</td>\n",
       "    </tr>\n",
       "    <tr>\n",
       "      <th>5</th>\n",
       "      <td>2020-08-19</td>\n",
       "      <td>14:02</td>\n",
       "      <td>8.28  N</td>\n",
       "      <td>82.79  W</td>\n",
       "      <td>PANAMA-COSTA RICA BORDER REGION</td>\n",
       "    </tr>\n",
       "    <tr>\n",
       "      <th>6</th>\n",
       "      <td>2020-08-19</td>\n",
       "      <td>13:10</td>\n",
       "      <td>9.77  S</td>\n",
       "      <td>119.02  E</td>\n",
       "      <td>SUMBA REGION, INDONESIA</td>\n",
       "    </tr>\n",
       "    <tr>\n",
       "      <th>7</th>\n",
       "      <td>2020-08-19</td>\n",
       "      <td>13:08</td>\n",
       "      <td>34.44  N</td>\n",
       "      <td>119.10  W</td>\n",
       "      <td>SOUTHERN CALIFORNIA</td>\n",
       "    </tr>\n",
       "    <tr>\n",
       "      <th>8</th>\n",
       "      <td>2020-08-19</td>\n",
       "      <td>13:21</td>\n",
       "      <td>39.06  N</td>\n",
       "      <td>25.73  E</td>\n",
       "      <td>AEGEAN SEA</td>\n",
       "    </tr>\n",
       "    <tr>\n",
       "      <th>9</th>\n",
       "      <td>2020-08-19</td>\n",
       "      <td>12:58</td>\n",
       "      <td>34.16  N</td>\n",
       "      <td>25.62  E</td>\n",
       "      <td>CRETE, GREECE</td>\n",
       "    </tr>\n",
       "    <tr>\n",
       "      <th>10</th>\n",
       "      <td>2020-08-19</td>\n",
       "      <td>12:31</td>\n",
       "      <td>43.24  S</td>\n",
       "      <td>74.37  W</td>\n",
       "      <td>ISLA CHILOE, LOS LAGOS, CHILE</td>\n",
       "    </tr>\n",
       "    <tr>\n",
       "      <th>11</th>\n",
       "      <td>2020-08-19</td>\n",
       "      <td>12:10</td>\n",
       "      <td>16.24  N</td>\n",
       "      <td>98.04  W</td>\n",
       "      <td>OAXACA, MEXICO</td>\n",
       "    </tr>\n",
       "    <tr>\n",
       "      <th>12</th>\n",
       "      <td>2020-08-19</td>\n",
       "      <td>12:10</td>\n",
       "      <td>25.73  S</td>\n",
       "      <td>69.60  W</td>\n",
       "      <td>ATACAMA, CHILE</td>\n",
       "    </tr>\n",
       "    <tr>\n",
       "      <th>13</th>\n",
       "      <td>2020-08-19</td>\n",
       "      <td>11:50</td>\n",
       "      <td>9.66  S</td>\n",
       "      <td>119.04  E</td>\n",
       "      <td>SUMBA REGION, INDONESIA</td>\n",
       "    </tr>\n",
       "    <tr>\n",
       "      <th>14</th>\n",
       "      <td>2020-08-19</td>\n",
       "      <td>11:57</td>\n",
       "      <td>4.78  N</td>\n",
       "      <td>126.47  E</td>\n",
       "      <td>KEPULAUAN TALAUD, INDONESIA</td>\n",
       "    </tr>\n",
       "    <tr>\n",
       "      <th>15</th>\n",
       "      <td>2020-08-19</td>\n",
       "      <td>13:37</td>\n",
       "      <td>50.65  N</td>\n",
       "      <td>129.96  W</td>\n",
       "      <td>VANCOUVER ISLAND, CANADA REGION</td>\n",
       "    </tr>\n",
       "    <tr>\n",
       "      <th>16</th>\n",
       "      <td>2020-08-19</td>\n",
       "      <td>11:45</td>\n",
       "      <td>1.40  N</td>\n",
       "      <td>126.36  E</td>\n",
       "      <td>MOLUCCA SEA</td>\n",
       "    </tr>\n",
       "    <tr>\n",
       "      <th>17</th>\n",
       "      <td>2020-08-19</td>\n",
       "      <td>11:44</td>\n",
       "      <td>19.39  S</td>\n",
       "      <td>69.77  W</td>\n",
       "      <td>TARAPACA, CHILE</td>\n",
       "    </tr>\n",
       "    <tr>\n",
       "      <th>18</th>\n",
       "      <td>2020-08-19</td>\n",
       "      <td>13:20</td>\n",
       "      <td>32.10  N</td>\n",
       "      <td>16.31  W</td>\n",
       "      <td>MADEIRA ISLANDS, PORTUGAL REGION</td>\n",
       "    </tr>\n",
       "    <tr>\n",
       "      <th>19</th>\n",
       "      <td>2020-08-19</td>\n",
       "      <td>11:20</td>\n",
       "      <td>43.98  S</td>\n",
       "      <td>168.98  E</td>\n",
       "      <td>OFF W. COAST OF S. ISLAND, N.Z.</td>\n",
       "    </tr>\n",
       "  </tbody>\n",
       "</table>\n",
       "</div>"
      ],
      "text/plain": [
       "          date   time    latitude    longitude  \\\n",
       "0   2020-08-19  15:01  35.06  N     95.50  W     \n",
       "1   2020-08-19  15:05   4.96  N    126.59  E     \n",
       "2   2020-08-19  14:44  21.87  S     68.53  W     \n",
       "3   2020-08-19  14:30  44.32  N    115.06  W     \n",
       "4   2020-08-19  14:20  17.81  N     68.99  W     \n",
       "5   2020-08-19  14:02   8.28  N     82.79  W     \n",
       "6   2020-08-19  13:10   9.77  S    119.02  E     \n",
       "7   2020-08-19  13:08  34.44  N    119.10  W     \n",
       "8   2020-08-19  13:21  39.06  N     25.73  E     \n",
       "9   2020-08-19  12:58  34.16  N     25.62  E     \n",
       "10  2020-08-19  12:31  43.24  S     74.37  W     \n",
       "11  2020-08-19  12:10  16.24  N     98.04  W     \n",
       "12  2020-08-19  12:10  25.73  S     69.60  W     \n",
       "13  2020-08-19  11:50   9.66  S    119.04  E     \n",
       "14  2020-08-19  11:57   4.78  N    126.47  E     \n",
       "15  2020-08-19  13:37  50.65  N    129.96  W     \n",
       "16  2020-08-19  11:45   1.40  N    126.36  E     \n",
       "17  2020-08-19  11:44  19.39  S     69.77  W     \n",
       "18  2020-08-19  13:20  32.10  N     16.31  W     \n",
       "19  2020-08-19  11:20  43.98  S    168.98  E     \n",
       "\n",
       "                          region name  \n",
       "0                            OKLAHOMA  \n",
       "1         KEPULAUAN TALAUD, INDONESIA  \n",
       "2                  ANTOFAGASTA, CHILE  \n",
       "3                      SOUTHERN IDAHO  \n",
       "4           DOMINICAN REPUBLIC REGION  \n",
       "5     PANAMA-COSTA RICA BORDER REGION  \n",
       "6             SUMBA REGION, INDONESIA  \n",
       "7                 SOUTHERN CALIFORNIA  \n",
       "8                          AEGEAN SEA  \n",
       "9                       CRETE, GREECE  \n",
       "10      ISLA CHILOE, LOS LAGOS, CHILE  \n",
       "11                     OAXACA, MEXICO  \n",
       "12                     ATACAMA, CHILE  \n",
       "13            SUMBA REGION, INDONESIA  \n",
       "14        KEPULAUAN TALAUD, INDONESIA  \n",
       "15    VANCOUVER ISLAND, CANADA REGION  \n",
       "16                        MOLUCCA SEA  \n",
       "17                    TARAPACA, CHILE  \n",
       "18   MADEIRA ISLANDS, PORTUGAL REGION  \n",
       "19    OFF W. COAST OF S. ISLAND, N.Z.  "
      ]
     },
     "execution_count": 16,
     "metadata": {},
     "output_type": "execute_result"
    }
   ],
   "source": [
    "quack_url = req.get('https://www.emsc-csem.org/Earthquake/')\n",
    "\n",
    "#your code\n",
    "contenido = quack_url.content\n",
    "sopa_quack = bs(contenido, 'html.parser')\n",
    "cabecera_quack = sopa_quack.find('tr',{'id':'haut_tableau'})\n",
    "cabecera_quack_quack = cabecera_quack.findAll('th')\n",
    "cabe_txt = [i.text.replace('\\n','') for i in cabecera_quack_quack] # header for future dataframe which wasn't used\n",
    "# but hey! we got a header   (ㆆ _ ㆆ)\n",
    "\n",
    "\n",
    "# actually useful part of the code... to go get the content from the earthquakes table\n",
    "# content + quack = quacktent\n",
    "quacktent = quack_url.content\n",
    "sopa_quack = bs(quacktent, 'html.parser')\n",
    "tabla_quack = sopa_quack.find('tbody',{'id':'tbody'})\n",
    "body_quack = tabla_quack.findAll('td')\n",
    "body_quack_txt = [str(i.text.replace('\\n','')) for i in body_quack]\n",
    "body_quack_txt.pop(0)     # dropping the first 3 rows because they are empty\n",
    "body_quack_txt.pop(0)     #     ʕノ•ᴥ•ʔノ ︵ ┻━┻\n",
    "body_quack_txt.pop(0)     \n",
    "\n",
    "# giving order to caos: each group of 13 items will create a new list, to be further filtered\n",
    "j = 0\n",
    "lst_quack = []\n",
    "for i in range(0,len(body_quack_txt),13):\n",
    "    if i != \"''\":\n",
    "        lst_quack.append(body_quack_txt[j:i])\n",
    "    j = i\n",
    "lst_quack.pop(0)\n",
    "# each list element has 3 blanks at the end,   ( ͡° ͜ʖ ͡°)_/¯    ->   so pop 3 times on index (-1) it is\n",
    "for i in range(len(lst_quack)):\n",
    "    for e in range(0,3):\n",
    "        lst_quack[i].pop(-1)\n",
    "        \n",
    "        \n",
    "# renaming and dropping cols to facilitate data manipulation        \n",
    "df_quack = pd.DataFrame(lst_quack, columns=['cero','uno','dos','tres','cuatro','cinco','seis','siete','region name','nueve'])\n",
    "df_quack.drop(['cero','cinco','seis','siete'],axis=1,inplace=True)\n",
    "\n",
    "\n",
    "# merging cols to create latitude and longitude\n",
    "df_quack['latitude'] = df_quack[df_quack.columns[0:2]].apply(\n",
    "    lambda x: ' '.join(x.dropna().astype(str)),\n",
    "    axis=1\n",
    ")\n",
    "df_quack['longitude'] = df_quack[df_quack.columns[2:4]].apply(\n",
    "    lambda x: ' '.join(x.dropna().astype(str)),\n",
    "    axis=1\n",
    ")\n",
    "\n",
    "\n",
    "# source for splitting cols...\n",
    "# https://pandas.pydata.org/pandas-docs/stable/reference/api/pandas.Series.str.split.html\n",
    "df_quack[['date','time']]= df_quack['nueve'].str.split(expand=True)\n",
    "\n",
    "\n",
    "# source for merge column:\n",
    "# https://stackoverflow.com/questions/33098383/merge-multiple-column-values-into-one-column-in-python-pandas\n",
    "df_quack.drop(['uno','dos','tres','cuatro','nueve'],axis=1,inplace=True)\n",
    "\n",
    "\n",
    "# rearranging columns\n",
    "# source    https://www.kite.com/python/answers/how-to-reorder-columns-in-a-pandas-dataframe-in-python\n",
    "df_quack = df_quack[['date', 'time', 'latitude', 'longitude', 'region name']]\n",
    "\n",
    "df_quack[:20]"
   ]
  },
  {
   "cell_type": "markdown",
   "metadata": {},
   "source": [
    "#### Count number of tweets by a given Twitter account."
   ]
  },
  {
   "cell_type": "markdown",
   "metadata": {},
   "source": [
    "You will need to include a ***try/except block*** for account names not found. \n",
    "<br>***Hint:*** the program should count the number of tweets for any provided account"
   ]
  },
  {
   "cell_type": "code",
   "execution_count": 17,
   "metadata": {},
   "outputs": [],
   "source": [
    "# This is the url you will scrape in this exercise \n",
    "# You will need to add the account credentials to this url\n",
    "url = 'https://twitter.com/elonmusk'"
   ]
  },
  {
   "cell_type": "code",
   "execution_count": 18,
   "metadata": {},
   "outputs": [],
   "source": [
    "#your code"
   ]
  },
  {
   "cell_type": "markdown",
   "metadata": {},
   "source": [
    "#### Number of followers of a given twitter account"
   ]
  },
  {
   "cell_type": "markdown",
   "metadata": {},
   "source": [
    "You will need to include a ***try/except block*** in case account/s name not found. \n",
    "<br>***Hint:*** the program should count the followers for any provided account"
   ]
  },
  {
   "cell_type": "code",
   "execution_count": 19,
   "metadata": {},
   "outputs": [],
   "source": [
    "# This is the url you will scrape in this exercise \n",
    "# You will need to add the account credentials to this url\n",
    "url = 'https://twitter.com/'"
   ]
  },
  {
   "cell_type": "code",
   "execution_count": 20,
   "metadata": {},
   "outputs": [
    {
     "data": {
      "text/plain": [
       "[\"\\nWe've detected that JavaScript is disabled in your browser. Would you like to proceed to legacy Twitter?\\n\\nYes\\n\\n\",\n",
       " 'Something went wrong, but don’t fret — let’s give it another shot.',\n",
       " 'Something went wrong, but don’t fret — let’s give it another shot.',\n",
       " 'Something went wrong, but don’t fret — let’s give it another shot.',\n",
       " '',\n",
       " 'Something went wrong, but don’t fret — let’s give it another shot.',\n",
       " 'Something went wrong, but don’t fret — let’s give it another shot.',\n",
       " 'Something went wrong, but don’t fret — let’s give it another shot.']"
      ]
     },
     "execution_count": 20,
     "metadata": {},
     "output_type": "execute_result"
    }
   ],
   "source": [
    "#your code\n",
    "html = req.get(url).content\n",
    "soup = bs(html, 'html.parser')\n",
    "tags = ['h1', 'h2', 'h3', 'h4', 'h5', 'h6', 'h7', 'div', 'span']\n",
    "text = [element.text for element in soup.find_all(tags)]\n",
    "text     #     ʕノ•ᴥ•ʔノ ︵ ┻━┻"
   ]
  },
  {
   "cell_type": "markdown",
   "metadata": {},
   "source": [
    "#### List all language names and number of related articles in the order they appear in wikipedia.org"
   ]
  },
  {
   "cell_type": "code",
   "execution_count": 21,
   "metadata": {},
   "outputs": [],
   "source": [
    "# This is the url you will scrape in this exercise\n",
    "url = 'https://www.wikipedia.org/'"
   ]
  },
  {
   "cell_type": "code",
   "execution_count": 22,
   "metadata": {},
   "outputs": [
    {
     "name": "stdout",
     "output_type": "stream",
     "text": [
      "['1,000,000+']\n",
      "\n",
      "['العربية', 'Deutsch', 'English', 'Español', 'Français', 'Italiano', 'مصرى', 'Nederlands', '日本語', 'Polski', 'Português', 'Русский', 'Sinugboanong Binisaya', 'Svenska', 'Українська', 'Tiếng Việt', 'Winaray', '中文', 'Asturianu', 'Azərbaycanca', 'Български', 'Bân-lâm-gú / Hō-ló-oē', 'Беларуская', 'Català', 'Čeština', 'Cymraeg', 'Dansk', 'Eesti', 'Ελληνικά', 'Esperanto', 'Euskara', 'فارسی', 'Galego', 'Հայերեն', 'हिन्दी', 'Hrvatski', 'Bahasa Indonesia', 'עברית', 'ქართული', 'Latina', 'Latviešu', 'Lietuvių', 'Magyar', 'Македонски', 'Bahasa Melayu', 'Bahaso Minangkabau', 'bokmål', 'nynorsk', 'Нохчийн', 'Oʻzbekcha / Ўзбекча', 'Қазақша / Qazaqşa / قازاقشا', 'Română', 'Simple English', 'Slovenčina', 'Slovenščina', 'Српски / Srpski', 'Srpskohrvatski / Српскохрватски', 'Suomi', 'தமிழ்', 'Татарча / Tatarça', 'ภาษาไทย', 'Тоҷикӣ', 'تۆرکجه', 'Türkçe', 'اردو', 'Volapük', '한국어', 'Bahsa Acèh', 'Afrikaans', 'Alemannisch', 'አማርኛ', 'Aragonés', 'বাংলা', 'Basa Banyumasan', 'Башҡортса', 'Беларуская (Тарашкевіца)', 'Bikol Central', 'বিষ্ণুপ্রিয়া মণিপুরী', 'Boarisch', 'Bosanski', 'Brezhoneg', 'Чӑвашла', 'Diné Bizaad', 'Emigliàn–Rumagnòl', 'Føroyskt', 'Frysk', 'Gaeilge', 'Gàidhlig', 'ગુજરાતી', 'Hornjoserbsce', 'Ido', 'Ilokano', 'Interlingua', 'Ирон æвзаг', 'Íslenska', 'Jawa', 'ಕನ್ನಡ', 'Kreyòl Ayisyen', 'Kurdî / كوردی', 'کوردیی ناوەندی', 'Кыргызча', 'Кырык Мары', 'Lëtzebuergesch', 'Limburgs', 'Lumbaart', 'मैथिली', 'Malagasy', 'മലയാളം', '文言', 'मराठी', 'მარგალური', 'مازِرونی', 'Mìng-dĕ̤ng-ngṳ̄ / 閩東語', 'Монгол', 'မြန်မာဘာသာ', 'नेपाल भाषा', 'नेपाली', 'Nnapulitano', 'Nordfriisk', 'Occitan', 'Марий', 'ଓଡି଼ଆ', 'ਪੰਜਾਬੀ (ਗੁਰਮੁਖੀ)', 'پنجابی (شاہ مکھی)', 'پښتو', 'Piemontèis', 'Plattdüütsch', 'Runa Simi', 'संस्कृतम्', 'Саха Тыла', 'Scots', 'Shqip', 'Sicilianu', 'සිංහල', 'سنڌي', 'Ślůnski', 'Basa Sunda', 'Kiswahili', 'Tagalog', 'తెలుగు', 'ᨅᨔ ᨕᨙᨁᨗ / Basa Ugi', 'Vèneto', 'Walon', '吳語', 'ייִדיש', 'Yorùbá', '粵語', 'Zazaki', 'Žemaitėška', 'Адыгэбзэ', 'Ænglisc', 'Аҧсуа', 'Արեւմտահայերէն', 'Armãneashce', 'Arpitan', 'asụsụ bekee maọbụ asụsụ oyibo', 'ܐܬܘܪܝܐ', 'Avañe’ẽ', 'Авар', 'Aymar', 'Bahasa Banjar', 'भोजपुरी', 'Bislama', 'བོད་ཡིག', 'Буряад', 'Chavacano de Zamboanga', 'Corsu', 'Vahcuengh / 話僮', 'Davvisámegiella', 'Deitsch', 'Dolnoserbski', 'Эрзянь', 'Estremeñu', 'Fiji Hindi', 'Furlan', 'Gaelg', 'Gagauz', 'Gĩkũyũ', 'گیلکی', '贛語', 'Hak-kâ-ngî / 客家語', 'Хальмг', 'Hausa / هَوُسَا', 'ʻŌlelo Hawaiʻi', 'Interlingue', 'Kapampangan', 'Kaszëbsczi', 'Kernewek', 'ភាសាខ្មែរ', 'Kinyarwanda', 'Коми', 'Kongo', 'कोंकणी / Konknni', 'Kriyòl Gwiyannen', 'ພາສາລາວ', 'Dzhudezmo / לאדינו', 'Лакку', 'Лезги', 'Lingála', 'lojban', 'لۊری شومالی', 'Luganda', 'Lìgure', 'Malti', 'Reo Mā’ohi', 'Māori', 'Mirandés', 'Мокшень', 'Nāhuatlahtōlli', 'Dorerin Naoero', 'Nedersaksisch', 'Nouormand / Normaund', 'Novial', 'অসমীযা়', 'पालि', 'Pangasinán', 'Papiamentu', 'Перем Коми', 'Pfälzisch', 'Picard', 'Къарачай–Малкъар', 'Qaraqalpaqsha', 'Qırımtatarca', 'Ripoarisch', 'Rumantsch', 'Русиньскый Язык', 'Sardu', 'Seeltersk', 'Sesotho sa Leboa', 'ChiShona', 'Soomaaliga', 'Sranantongo', 'Taqbaylit', 'Tarandíne', 'Tetun', 'Tok Pisin', 'faka Tonga', 'Türkmençe', 'Тыва дыл', 'Удмурт', 'ئۇيغۇرچه', 'Vepsän', 'Võro', 'West-Vlams', 'Wolof', 'isiXhosa', 'Zeêuws', 'isiZulu', 'ދިވެހިބަސް', 'Akan', 'Bamanankan', 'Chamoru', 'Chichewa', 'Eʋegbe', 'Fulfulde', '𐌲𐌿𐍄𐌹𐍃𐌺', 'ᐃᓄᒃᑎᑐᑦ / Inuktitut', 'Iñupiak', 'Kalaallisut', 'كشميري', 'Latgaļu', 'Na Vosa Vaka-Viti', 'Nēhiyawēwin / ᓀᐦᐃᔭᐍᐏᐣ', 'Norfuk / Pitkern', 'Afaan Oromoo', 'Ποντιακά', 'རྫོང་ཁ', 'Romani', 'Kirundi', 'Gagana Sāmoa', 'Sängö', 'Sesotho', 'Setswana', 'Словѣ́ньскъ / ⰔⰎⰑⰂⰡⰐⰠⰔⰍⰟ', 'SiSwati', 'ᏣᎳᎩ', 'Tsėhesenėstsestotse', 'Tshivenḓa', 'Xitsonga', 'chiTumbuka', 'Twi', 'ትግርኛ', 'ߒߞߏ', 'Other languages', 'Weitere Sprachen', 'Autres langues', 'Kompletna lista języków', '他の言語', 'Otros idiomas', '其他語言', 'Другие языки', 'Aliaj lingvoj', '다른 언어', 'Ngôn ngữ khác']\n"
     ]
    }
   ],
   "source": [
    "#your code\n",
    "wiki_langs = req.get('https://www.wikipedia.org/') #Pagina a scrapear\n",
    "contenido = wiki_langs.content\n",
    "wiki_sopa = bs(contenido, 'html.parser')\n",
    "wiki_tabla_langs = wiki_sopa.find('div',{'class':'lang-list-content'})\n",
    "wiki_body_langs = wiki_tabla_langs.findAll('a')\n",
    "wiki_body_langs_txt = [str(i.text.replace('\\n','')) for i in wiki_body_langs] # WHY DID IT CLEAN THE STRINGS WITH NO \\n???  ε(´סּ︵סּ`)з\n",
    "\n",
    "contenido_arts = wiki_langs.content\n",
    "wiki_sopa_arts = bs(contenido_arts, 'html.parser')\n",
    "wiki_tabla_arts = wiki_sopa_arts.find('span',{'class':'text'})\n",
    "wiki_body_arts = wiki_tabla_arts.findAll('bdi')\n",
    "wiki_body_arts_txt = [str(i.text.replace('\\n','')) for i in wiki_body_arts]\n",
    "wiki_body_arts_txt_2 = [str(i.replace('\\xa0000',',000')) for i in wiki_body_arts_txt]\n",
    "\n",
    "\n",
    "print(f\"{wiki_body_arts_txt_2}\\n\\n{wiki_body_langs_txt}\")\n"
   ]
  },
  {
   "cell_type": "markdown",
   "metadata": {},
   "source": [
    "#### A list with the different kind of datasets available in data.gov.uk "
   ]
  },
  {
   "cell_type": "code",
   "execution_count": 23,
   "metadata": {},
   "outputs": [],
   "source": [
    "# This is the url you will scrape in this exercise\n",
    "url = 'https://data.gov.uk/'"
   ]
  },
  {
   "cell_type": "code",
   "execution_count": 24,
   "metadata": {},
   "outputs": [
    {
     "data": {
      "text/plain": [
       "['Business and economy',\n",
       " 'Crime and justice',\n",
       " 'Defence',\n",
       " 'Education',\n",
       " 'Environment',\n",
       " 'Government',\n",
       " 'Government spending',\n",
       " 'Health',\n",
       " 'Mapping',\n",
       " 'Society',\n",
       " 'Towns and cities',\n",
       " 'Transport']"
      ]
     },
     "execution_count": 24,
     "metadata": {},
     "output_type": "execute_result"
    }
   ],
   "source": [
    "#your code \n",
    "datasets_uk = req.get('https://data.gov.uk/')\n",
    "contenido = datasets_uk.content\n",
    "sopa = bs(contenido, 'html.parser')\n",
    "tabla_table = sopa.find('ul',{'class':'govuk-list'})\n",
    "body_uk = tabla_table.findAll('a')\n",
    "body_uk_txt = [str(i.text.replace('\\n','')) for i in body_uk] # WHY DID IT CLEAN THE STRINGS WITH NO \\n???  ε(´סּ︵סּ`)з\n",
    "body_uk_txt"
   ]
  },
  {
   "cell_type": "markdown",
   "metadata": {},
   "source": [
    "#### Top 10 languages by number of native speakers stored in a Pandas Dataframe"
   ]
  },
  {
   "cell_type": "code",
   "execution_count": 25,
   "metadata": {},
   "outputs": [],
   "source": [
    "# This is the url you will scrape in this exercise\n",
    "url = 'https://en.wikipedia.org/wiki/List_of_languages_by_number_of_native_speakers'"
   ]
  },
  {
   "cell_type": "code",
   "execution_count": 26,
   "metadata": {},
   "outputs": [
    {
     "data": {
      "text/html": [
       "<div>\n",
       "<style scoped>\n",
       "    .dataframe tbody tr th:only-of-type {\n",
       "        vertical-align: middle;\n",
       "    }\n",
       "\n",
       "    .dataframe tbody tr th {\n",
       "        vertical-align: top;\n",
       "    }\n",
       "\n",
       "    .dataframe thead th {\n",
       "        text-align: right;\n",
       "    }\n",
       "</style>\n",
       "<table border=\"1\" class=\"dataframe\">\n",
       "  <thead>\n",
       "    <tr style=\"text-align: right;\">\n",
       "      <th></th>\n",
       "      <th>Rank</th>\n",
       "      <th>Language</th>\n",
       "      <th>Speakers(millions)</th>\n",
       "      <th>% of World pop.(March 2019)[8]</th>\n",
       "      <th>Language family</th>\n",
       "      <th>Branch</th>\n",
       "    </tr>\n",
       "  </thead>\n",
       "  <tbody>\n",
       "    <tr>\n",
       "      <th>0</th>\n",
       "      <td>1</td>\n",
       "      <td>Mandarin Chinese</td>\n",
       "      <td>918</td>\n",
       "      <td>11.922</td>\n",
       "      <td>Sino-Tibetan</td>\n",
       "      <td>Sinitic</td>\n",
       "    </tr>\n",
       "    <tr>\n",
       "      <th>1</th>\n",
       "      <td>2</td>\n",
       "      <td>Spanish</td>\n",
       "      <td>480</td>\n",
       "      <td>5.994</td>\n",
       "      <td>Indo-European</td>\n",
       "      <td>Romance</td>\n",
       "    </tr>\n",
       "    <tr>\n",
       "      <th>2</th>\n",
       "      <td>3</td>\n",
       "      <td>English</td>\n",
       "      <td>379</td>\n",
       "      <td>4.922</td>\n",
       "      <td>Indo-European</td>\n",
       "      <td>Germanic</td>\n",
       "    </tr>\n",
       "    <tr>\n",
       "      <th>3</th>\n",
       "      <td>4</td>\n",
       "      <td>Hindi (Sanskritised Hindustani)[9]</td>\n",
       "      <td>341</td>\n",
       "      <td>4.429</td>\n",
       "      <td>Indo-European</td>\n",
       "      <td>Indo-Aryan</td>\n",
       "    </tr>\n",
       "    <tr>\n",
       "      <th>4</th>\n",
       "      <td>5</td>\n",
       "      <td>Bengali</td>\n",
       "      <td>228</td>\n",
       "      <td>2.961</td>\n",
       "      <td>Indo-European</td>\n",
       "      <td>Indo-Aryan</td>\n",
       "    </tr>\n",
       "    <tr>\n",
       "      <th>5</th>\n",
       "      <td>6</td>\n",
       "      <td>Portuguese</td>\n",
       "      <td>221</td>\n",
       "      <td>2.870</td>\n",
       "      <td>Indo-European</td>\n",
       "      <td>Romance</td>\n",
       "    </tr>\n",
       "    <tr>\n",
       "      <th>6</th>\n",
       "      <td>7</td>\n",
       "      <td>Russian</td>\n",
       "      <td>154</td>\n",
       "      <td>2.000</td>\n",
       "      <td>Indo-European</td>\n",
       "      <td>Balto-Slavic</td>\n",
       "    </tr>\n",
       "    <tr>\n",
       "      <th>7</th>\n",
       "      <td>8</td>\n",
       "      <td>Japanese</td>\n",
       "      <td>128</td>\n",
       "      <td>1.662</td>\n",
       "      <td>Japonic</td>\n",
       "      <td>Japanese</td>\n",
       "    </tr>\n",
       "    <tr>\n",
       "      <th>8</th>\n",
       "      <td>9</td>\n",
       "      <td>Western Punjabi[10]</td>\n",
       "      <td>92.7</td>\n",
       "      <td>1.204</td>\n",
       "      <td>Indo-European</td>\n",
       "      <td>Indo-Aryan</td>\n",
       "    </tr>\n",
       "    <tr>\n",
       "      <th>9</th>\n",
       "      <td>10</td>\n",
       "      <td>Marathi</td>\n",
       "      <td>83.1</td>\n",
       "      <td>1.079</td>\n",
       "      <td>Indo-European</td>\n",
       "      <td>Indo-Aryan</td>\n",
       "    </tr>\n",
       "  </tbody>\n",
       "</table>\n",
       "</div>"
      ],
      "text/plain": [
       "  Rank                            Language Speakers(millions)  \\\n",
       "0    1                    Mandarin Chinese                918   \n",
       "1    2                             Spanish                480   \n",
       "2    3                             English                379   \n",
       "3    4  Hindi (Sanskritised Hindustani)[9]                341   \n",
       "4    5                             Bengali                228   \n",
       "5    6                          Portuguese                221   \n",
       "6    7                             Russian                154   \n",
       "7    8                            Japanese                128   \n",
       "8    9                 Western Punjabi[10]               92.7   \n",
       "9   10                             Marathi               83.1   \n",
       "\n",
       "  % of World pop.(March 2019)[8] Language family        Branch  \n",
       "0                         11.922    Sino-Tibetan       Sinitic  \n",
       "1                          5.994   Indo-European       Romance  \n",
       "2                          4.922   Indo-European      Germanic  \n",
       "3                          4.429   Indo-European    Indo-Aryan  \n",
       "4                          2.961   Indo-European    Indo-Aryan  \n",
       "5                          2.870   Indo-European       Romance  \n",
       "6                          2.000   Indo-European  Balto-Slavic  \n",
       "7                          1.662         Japonic      Japanese  \n",
       "8                          1.204   Indo-European    Indo-Aryan  \n",
       "9                          1.079   Indo-European    Indo-Aryan  "
      ]
     },
     "execution_count": 26,
     "metadata": {},
     "output_type": "execute_result"
    }
   ],
   "source": [
    "#your code\n",
    "idiomas = req.get('https://en.wikipedia.org/wiki/List_of_languages_by_number_of_native_speakers')\n",
    "contenido = idiomas.content\n",
    "sopa = bs(contenido, 'html.parser')\n",
    "tabla_idiomas = sopa.find('table',{'class':'wikitable sortable'})\n",
    "cabecera_idiomas = tabla_idiomas.findAll('th')\n",
    "cabe_txt = [i.text.replace('\\n','') for i in cabecera_idiomas]\n",
    "body = tabla_idiomas.find('tbody')\n",
    "body_td = body.findAll('td')\n",
    "body_td_txt = [str(i.text.replace('\\n','')) for i in body_td]\n",
    "\n",
    "\n",
    "j = 0\n",
    "lst_lst = []\n",
    "for i in range(0,len(body_td_txt),6):\n",
    "    lst_lst.append(body_td_txt[j:i])\n",
    "    j = i\n",
    "lst_lst.pop(0)\n",
    "\n",
    "\n",
    "tabla_premios = pd.DataFrame(lst_lst, columns = cabe_txt)\n",
    "tabla_premios[:10]"
   ]
  },
  {
   "cell_type": "markdown",
   "metadata": {},
   "source": [
    "### BONUS QUESTIONS"
   ]
  },
  {
   "cell_type": "markdown",
   "metadata": {},
   "source": [
    "#### Scrape a certain number of tweets of a given Twitter account."
   ]
  },
  {
   "cell_type": "code",
   "execution_count": 27,
   "metadata": {},
   "outputs": [],
   "source": [
    "# This is the url you will scrape in this exercise \n",
    "# You will need to add the account credentials to this url\n",
    "url = 'https://twitter.com/'"
   ]
  },
  {
   "cell_type": "code",
   "execution_count": 28,
   "metadata": {},
   "outputs": [],
   "source": [
    "# your code"
   ]
  },
  {
   "cell_type": "markdown",
   "metadata": {},
   "source": [
    "#### IMDB's Top 250 data (movie name, Initial release, director name and stars) as a pandas dataframe"
   ]
  },
  {
   "cell_type": "code",
   "execution_count": 29,
   "metadata": {},
   "outputs": [],
   "source": [
    "# This is the url you will scrape in this exercise \n",
    "url = 'https://www.imdb.com/chart/top'"
   ]
  },
  {
   "cell_type": "code",
   "execution_count": 30,
   "metadata": {},
   "outputs": [],
   "source": [
    "# your code"
   ]
  },
  {
   "cell_type": "markdown",
   "metadata": {},
   "source": [
    "#### Movie name, year and a brief summary of the top 10 random movies (IMDB) as a pandas dataframe."
   ]
  },
  {
   "cell_type": "code",
   "execution_count": 31,
   "metadata": {},
   "outputs": [],
   "source": [
    "#This is the url you will scrape in this exercise\n",
    "url = 'http://www.imdb.com/chart/top'"
   ]
  },
  {
   "cell_type": "code",
   "execution_count": 32,
   "metadata": {},
   "outputs": [],
   "source": [
    "#your code"
   ]
  },
  {
   "cell_type": "markdown",
   "metadata": {},
   "source": [
    "#### Find the live weather report (temperature, wind speed, description and weather) of a given city."
   ]
  },
  {
   "cell_type": "code",
   "execution_count": 33,
   "metadata": {},
   "outputs": [
    {
     "name": "stdout",
     "output_type": "stream",
     "text": [
      "Enter the city:\n"
     ]
    }
   ],
   "source": [
    "#https://openweathermap.org/current\n",
    "city = city=input('Enter the city:')\n",
    "url = 'http://api.openweathermap.org/data/2.5/weather?'+'q='+city+'&APPID=b35975e18dc93725acb092f7272cc6b8&units=metric'"
   ]
  },
  {
   "cell_type": "code",
   "execution_count": 34,
   "metadata": {},
   "outputs": [],
   "source": [
    "# your code"
   ]
  },
  {
   "cell_type": "markdown",
   "metadata": {},
   "source": [
    "#### Book name,price and stock availability as a pandas dataframe."
   ]
  },
  {
   "cell_type": "code",
   "execution_count": 35,
   "metadata": {},
   "outputs": [],
   "source": [
    "# This is the url you will scrape in this exercise. \n",
    "# It is a fictional bookstore created to be scraped. \n",
    "url = 'http://books.toscrape.com/'"
   ]
  },
  {
   "cell_type": "code",
   "execution_count": 36,
   "metadata": {},
   "outputs": [],
   "source": [
    "#your code"
   ]
  }
 ],
 "metadata": {
  "kernelspec": {
   "display_name": "Python 3",
   "language": "python",
   "name": "python3"
  },
  "language_info": {
   "codemirror_mode": {
    "name": "ipython",
    "version": 3
   },
   "file_extension": ".py",
   "mimetype": "text/x-python",
   "name": "python",
   "nbconvert_exporter": "python",
   "pygments_lexer": "ipython3",
   "version": "3.7.8"
  }
 },
 "nbformat": 4,
 "nbformat_minor": 2
}
