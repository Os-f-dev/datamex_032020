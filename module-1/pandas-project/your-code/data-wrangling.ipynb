{
 "cells": [
  {
   "cell_type": "code",
   "execution_count": 1,
   "metadata": {},
   "outputs": [],
   "source": [
    "#importar librerias\n",
    "import pandas as pd\n",
    "import numpy as np\n",
    "import warnings\n",
    "import re\n",
    "import matplotlib.pyplot as plt"
   ]
  },
  {
   "cell_type": "code",
   "execution_count": 2,
   "metadata": {},
   "outputs": [],
   "source": [
    "#importar la base de datos desde el archivo .csv \n",
    "attacks = pd.read_csv('data/attacks.csv', encoding = 'ISO-8859-1', sep=',')"
   ]
  },
  {
   "cell_type": "code",
   "execution_count": 3,
   "metadata": {},
   "outputs": [
    {
     "data": {
      "text/plain": [
       "(25723, 24)"
      ]
     },
     "execution_count": 3,
     "metadata": {},
     "output_type": "execute_result"
    }
   ],
   "source": [
    "#Entender cuantas filas y columnas tiene la tabla\n",
    "attacks.shape"
   ]
  },
  {
   "cell_type": "code",
   "execution_count": 4,
   "metadata": {
    "scrolled": true
   },
   "outputs": [
    {
     "name": "stdout",
     "output_type": "stream",
     "text": [
      "<class 'pandas.core.frame.DataFrame'>\n",
      "RangeIndex: 25723 entries, 0 to 25722\n",
      "Data columns (total 24 columns):\n",
      " #   Column                  Non-Null Count  Dtype  \n",
      "---  ------                  --------------  -----  \n",
      " 0   Case Number             8702 non-null   object \n",
      " 1   Date                    6302 non-null   object \n",
      " 2   Year                    6300 non-null   float64\n",
      " 3   Type                    6298 non-null   object \n",
      " 4   Country                 6252 non-null   object \n",
      " 5   Area                    5847 non-null   object \n",
      " 6   Location                5762 non-null   object \n",
      " 7   Activity                5758 non-null   object \n",
      " 8   Name                    6092 non-null   object \n",
      " 9   Sex                     5737 non-null   object \n",
      " 10  Age                     3471 non-null   object \n",
      " 11  Injury                  6274 non-null   object \n",
      " 12  Fatal (Y/N)             5763 non-null   object \n",
      " 13  Time                    2948 non-null   object \n",
      " 14  Species                 3464 non-null   object \n",
      " 15  Investigator or Source  6285 non-null   object \n",
      " 16  pdf                     6302 non-null   object \n",
      " 17  href formula            6301 non-null   object \n",
      " 18  href                    6302 non-null   object \n",
      " 19  Case Number.1           6302 non-null   object \n",
      " 20  Case Number.2           6302 non-null   object \n",
      " 21  original order          6309 non-null   float64\n",
      " 22  Unnamed: 22             1 non-null      object \n",
      " 23  Unnamed: 23             2 non-null      object \n",
      "dtypes: float64(2), object(22)\n",
      "memory usage: 4.7+ MB\n"
     ]
    }
   ],
   "source": [
    "#información general de la tabla, columnas y tipos de datos\n",
    "attacks.info()"
   ]
  },
  {
   "cell_type": "code",
   "execution_count": 5,
   "metadata": {},
   "outputs": [
    {
     "data": {
      "text/plain": [
       "Case Number               17021\n",
       "Date                      19421\n",
       "Year                      19423\n",
       "Type                      19425\n",
       "Country                   19471\n",
       "Area                      19876\n",
       "Location                  19961\n",
       "Activity                  19965\n",
       "Name                      19631\n",
       "Sex                       19986\n",
       "Age                       22252\n",
       "Injury                    19449\n",
       "Fatal (Y/N)               19960\n",
       "Time                      22775\n",
       "Species                   22259\n",
       "Investigator or Source    19438\n",
       "pdf                       19421\n",
       "href formula              19422\n",
       "href                      19421\n",
       "Case Number.1             19421\n",
       "Case Number.2             19421\n",
       "original order            19414\n",
       "Unnamed: 22               25722\n",
       "Unnamed: 23               25721\n",
       "dtype: int64"
      ]
     },
     "execution_count": 5,
     "metadata": {},
     "output_type": "execute_result"
    }
   ],
   "source": [
    "#ver cuántos nulos hay en cada columna \n",
    "attacks.isna().sum()"
   ]
  },
  {
   "cell_type": "code",
   "execution_count": 6,
   "metadata": {},
   "outputs": [],
   "source": [
    "#se ve que hay muchas filas que tienen sus valores nulos, quiero saber el indice de estas\n",
    "rows_with_nan = [index for index, row in attacks.iterrows() if row.isnull().all()]"
   ]
  },
  {
   "cell_type": "code",
   "execution_count": 7,
   "metadata": {},
   "outputs": [
    {
     "name": "stdout",
     "output_type": "stream",
     "text": [
      "17020\n"
     ]
    }
   ],
   "source": [
    "print(len(rows_with_nan)) #hay 17020 filas que todos sus valores son nulos"
   ]
  },
  {
   "cell_type": "code",
   "execution_count": 8,
   "metadata": {},
   "outputs": [
    {
     "name": "stdout",
     "output_type": "stream",
     "text": [
      "Shape de tabla original:  (25723, 24)\n",
      "Shape de tabla sin filas de nulos:  (8703, 24)\n"
     ]
    }
   ],
   "source": [
    "#se eliminan filas que todos sus valores son nulos\n",
    "\n",
    "attacks_row_null = attacks.dropna(how='all')\n",
    "\n",
    "print(\"Shape de tabla original: \",attacks.shape)\n",
    "print(\"Shape de tabla sin filas de nulos: \",attacks_row_null.shape)"
   ]
  },
  {
   "cell_type": "code",
   "execution_count": 9,
   "metadata": {},
   "outputs": [
    {
     "data": {
      "text/plain": [
       "Case Number                  1\n",
       "Date                      2401\n",
       "Year                      2403\n",
       "Type                      2405\n",
       "Country                   2451\n",
       "Area                      2856\n",
       "Location                  2941\n",
       "Activity                  2945\n",
       "Name                      2611\n",
       "Sex                       2966\n",
       "Age                       5232\n",
       "Injury                    2429\n",
       "Fatal (Y/N)               2940\n",
       "Time                      5755\n",
       "Species                   5239\n",
       "Investigator or Source    2418\n",
       "pdf                       2401\n",
       "href formula              2402\n",
       "href                      2401\n",
       "Case Number.1             2401\n",
       "Case Number.2             2401\n",
       "original order            2394\n",
       "Unnamed: 22               8702\n",
       "Unnamed: 23               8701\n",
       "dtype: int64"
      ]
     },
     "execution_count": 9,
     "metadata": {},
     "output_type": "execute_result"
    }
   ],
   "source": [
    "#ver cuántos nulos hay en cada columna en la nueva tabla\n",
    "attacks_row_null.isna().sum()"
   ]
  },
  {
   "cell_type": "code",
   "execution_count": 10,
   "metadata": {},
   "outputs": [
    {
     "data": {
      "text/html": [
       "<div>\n",
       "<style scoped>\n",
       "    .dataframe tbody tr th:only-of-type {\n",
       "        vertical-align: middle;\n",
       "    }\n",
       "\n",
       "    .dataframe tbody tr th {\n",
       "        vertical-align: top;\n",
       "    }\n",
       "\n",
       "    .dataframe thead th {\n",
       "        text-align: right;\n",
       "    }\n",
       "</style>\n",
       "<table border=\"1\" class=\"dataframe\">\n",
       "  <thead>\n",
       "    <tr style=\"text-align: right;\">\n",
       "      <th></th>\n",
       "      <th>Case Number</th>\n",
       "      <th>Date</th>\n",
       "      <th>Year</th>\n",
       "      <th>Type</th>\n",
       "      <th>Country</th>\n",
       "      <th>Area</th>\n",
       "      <th>Location</th>\n",
       "      <th>Activity</th>\n",
       "      <th>Name</th>\n",
       "      <th>Sex</th>\n",
       "      <th>...</th>\n",
       "      <th>Species</th>\n",
       "      <th>Investigator or Source</th>\n",
       "      <th>pdf</th>\n",
       "      <th>href formula</th>\n",
       "      <th>href</th>\n",
       "      <th>Case Number.1</th>\n",
       "      <th>Case Number.2</th>\n",
       "      <th>original order</th>\n",
       "      <th>Unnamed: 22</th>\n",
       "      <th>Unnamed: 23</th>\n",
       "    </tr>\n",
       "  </thead>\n",
       "  <tbody>\n",
       "    <tr>\n",
       "      <th>0</th>\n",
       "      <td>2018.06.25</td>\n",
       "      <td>25-Jun-2018</td>\n",
       "      <td>2018.0</td>\n",
       "      <td>Boating</td>\n",
       "      <td>USA</td>\n",
       "      <td>California</td>\n",
       "      <td>Oceanside, San Diego County</td>\n",
       "      <td>Paddling</td>\n",
       "      <td>Julie Wolfe</td>\n",
       "      <td>F</td>\n",
       "      <td>...</td>\n",
       "      <td>White shark</td>\n",
       "      <td>R. Collier, GSAF</td>\n",
       "      <td>2018.06.25-Wolfe.pdf</td>\n",
       "      <td>http://sharkattackfile.net/spreadsheets/pdf_di...</td>\n",
       "      <td>http://sharkattackfile.net/spreadsheets/pdf_di...</td>\n",
       "      <td>2018.06.25</td>\n",
       "      <td>2018.06.25</td>\n",
       "      <td>6303.0</td>\n",
       "      <td>NaN</td>\n",
       "      <td>NaN</td>\n",
       "    </tr>\n",
       "    <tr>\n",
       "      <th>1</th>\n",
       "      <td>2018.06.18</td>\n",
       "      <td>18-Jun-2018</td>\n",
       "      <td>2018.0</td>\n",
       "      <td>Unprovoked</td>\n",
       "      <td>USA</td>\n",
       "      <td>Georgia</td>\n",
       "      <td>St. Simon Island, Glynn County</td>\n",
       "      <td>Standing</td>\n",
       "      <td>Adyson McNeely</td>\n",
       "      <td>F</td>\n",
       "      <td>...</td>\n",
       "      <td>NaN</td>\n",
       "      <td>K.McMurray, TrackingSharks.com</td>\n",
       "      <td>2018.06.18-McNeely.pdf</td>\n",
       "      <td>http://sharkattackfile.net/spreadsheets/pdf_di...</td>\n",
       "      <td>http://sharkattackfile.net/spreadsheets/pdf_di...</td>\n",
       "      <td>2018.06.18</td>\n",
       "      <td>2018.06.18</td>\n",
       "      <td>6302.0</td>\n",
       "      <td>NaN</td>\n",
       "      <td>NaN</td>\n",
       "    </tr>\n",
       "    <tr>\n",
       "      <th>2</th>\n",
       "      <td>2018.06.09</td>\n",
       "      <td>09-Jun-2018</td>\n",
       "      <td>2018.0</td>\n",
       "      <td>Invalid</td>\n",
       "      <td>USA</td>\n",
       "      <td>Hawaii</td>\n",
       "      <td>Habush, Oahu</td>\n",
       "      <td>Surfing</td>\n",
       "      <td>John Denges</td>\n",
       "      <td>M</td>\n",
       "      <td>...</td>\n",
       "      <td>NaN</td>\n",
       "      <td>K.McMurray, TrackingSharks.com</td>\n",
       "      <td>2018.06.09-Denges.pdf</td>\n",
       "      <td>http://sharkattackfile.net/spreadsheets/pdf_di...</td>\n",
       "      <td>http://sharkattackfile.net/spreadsheets/pdf_di...</td>\n",
       "      <td>2018.06.09</td>\n",
       "      <td>2018.06.09</td>\n",
       "      <td>6301.0</td>\n",
       "      <td>NaN</td>\n",
       "      <td>NaN</td>\n",
       "    </tr>\n",
       "    <tr>\n",
       "      <th>3</th>\n",
       "      <td>2018.06.08</td>\n",
       "      <td>08-Jun-2018</td>\n",
       "      <td>2018.0</td>\n",
       "      <td>Unprovoked</td>\n",
       "      <td>AUSTRALIA</td>\n",
       "      <td>New South Wales</td>\n",
       "      <td>Arrawarra Headland</td>\n",
       "      <td>Surfing</td>\n",
       "      <td>male</td>\n",
       "      <td>M</td>\n",
       "      <td>...</td>\n",
       "      <td>2 m shark</td>\n",
       "      <td>B. Myatt, GSAF</td>\n",
       "      <td>2018.06.08-Arrawarra.pdf</td>\n",
       "      <td>http://sharkattackfile.net/spreadsheets/pdf_di...</td>\n",
       "      <td>http://sharkattackfile.net/spreadsheets/pdf_di...</td>\n",
       "      <td>2018.06.08</td>\n",
       "      <td>2018.06.08</td>\n",
       "      <td>6300.0</td>\n",
       "      <td>NaN</td>\n",
       "      <td>NaN</td>\n",
       "    </tr>\n",
       "    <tr>\n",
       "      <th>4</th>\n",
       "      <td>2018.06.04</td>\n",
       "      <td>04-Jun-2018</td>\n",
       "      <td>2018.0</td>\n",
       "      <td>Provoked</td>\n",
       "      <td>MEXICO</td>\n",
       "      <td>Colima</td>\n",
       "      <td>La Ticla</td>\n",
       "      <td>Free diving</td>\n",
       "      <td>Gustavo Ramos</td>\n",
       "      <td>M</td>\n",
       "      <td>...</td>\n",
       "      <td>Tiger shark, 3m</td>\n",
       "      <td>A .Kipper</td>\n",
       "      <td>2018.06.04-Ramos.pdf</td>\n",
       "      <td>http://sharkattackfile.net/spreadsheets/pdf_di...</td>\n",
       "      <td>http://sharkattackfile.net/spreadsheets/pdf_di...</td>\n",
       "      <td>2018.06.04</td>\n",
       "      <td>2018.06.04</td>\n",
       "      <td>6299.0</td>\n",
       "      <td>NaN</td>\n",
       "      <td>NaN</td>\n",
       "    </tr>\n",
       "    <tr>\n",
       "      <th>...</th>\n",
       "      <td>...</td>\n",
       "      <td>...</td>\n",
       "      <td>...</td>\n",
       "      <td>...</td>\n",
       "      <td>...</td>\n",
       "      <td>...</td>\n",
       "      <td>...</td>\n",
       "      <td>...</td>\n",
       "      <td>...</td>\n",
       "      <td>...</td>\n",
       "      <td>...</td>\n",
       "      <td>...</td>\n",
       "      <td>...</td>\n",
       "      <td>...</td>\n",
       "      <td>...</td>\n",
       "      <td>...</td>\n",
       "      <td>...</td>\n",
       "      <td>...</td>\n",
       "      <td>...</td>\n",
       "      <td>...</td>\n",
       "      <td>...</td>\n",
       "    </tr>\n",
       "    <tr>\n",
       "      <th>8698</th>\n",
       "      <td>0</td>\n",
       "      <td>NaN</td>\n",
       "      <td>NaN</td>\n",
       "      <td>NaN</td>\n",
       "      <td>NaN</td>\n",
       "      <td>NaN</td>\n",
       "      <td>NaN</td>\n",
       "      <td>NaN</td>\n",
       "      <td>NaN</td>\n",
       "      <td>NaN</td>\n",
       "      <td>...</td>\n",
       "      <td>NaN</td>\n",
       "      <td>NaN</td>\n",
       "      <td>NaN</td>\n",
       "      <td>NaN</td>\n",
       "      <td>NaN</td>\n",
       "      <td>NaN</td>\n",
       "      <td>NaN</td>\n",
       "      <td>NaN</td>\n",
       "      <td>NaN</td>\n",
       "      <td>NaN</td>\n",
       "    </tr>\n",
       "    <tr>\n",
       "      <th>8699</th>\n",
       "      <td>0</td>\n",
       "      <td>NaN</td>\n",
       "      <td>NaN</td>\n",
       "      <td>NaN</td>\n",
       "      <td>NaN</td>\n",
       "      <td>NaN</td>\n",
       "      <td>NaN</td>\n",
       "      <td>NaN</td>\n",
       "      <td>NaN</td>\n",
       "      <td>NaN</td>\n",
       "      <td>...</td>\n",
       "      <td>NaN</td>\n",
       "      <td>NaN</td>\n",
       "      <td>NaN</td>\n",
       "      <td>NaN</td>\n",
       "      <td>NaN</td>\n",
       "      <td>NaN</td>\n",
       "      <td>NaN</td>\n",
       "      <td>NaN</td>\n",
       "      <td>NaN</td>\n",
       "      <td>NaN</td>\n",
       "    </tr>\n",
       "    <tr>\n",
       "      <th>8700</th>\n",
       "      <td>0</td>\n",
       "      <td>NaN</td>\n",
       "      <td>NaN</td>\n",
       "      <td>NaN</td>\n",
       "      <td>NaN</td>\n",
       "      <td>NaN</td>\n",
       "      <td>NaN</td>\n",
       "      <td>NaN</td>\n",
       "      <td>NaN</td>\n",
       "      <td>NaN</td>\n",
       "      <td>...</td>\n",
       "      <td>NaN</td>\n",
       "      <td>NaN</td>\n",
       "      <td>NaN</td>\n",
       "      <td>NaN</td>\n",
       "      <td>NaN</td>\n",
       "      <td>NaN</td>\n",
       "      <td>NaN</td>\n",
       "      <td>NaN</td>\n",
       "      <td>NaN</td>\n",
       "      <td>NaN</td>\n",
       "    </tr>\n",
       "    <tr>\n",
       "      <th>8701</th>\n",
       "      <td>0</td>\n",
       "      <td>NaN</td>\n",
       "      <td>NaN</td>\n",
       "      <td>NaN</td>\n",
       "      <td>NaN</td>\n",
       "      <td>NaN</td>\n",
       "      <td>NaN</td>\n",
       "      <td>NaN</td>\n",
       "      <td>NaN</td>\n",
       "      <td>NaN</td>\n",
       "      <td>...</td>\n",
       "      <td>NaN</td>\n",
       "      <td>NaN</td>\n",
       "      <td>NaN</td>\n",
       "      <td>NaN</td>\n",
       "      <td>NaN</td>\n",
       "      <td>NaN</td>\n",
       "      <td>NaN</td>\n",
       "      <td>NaN</td>\n",
       "      <td>NaN</td>\n",
       "      <td>NaN</td>\n",
       "    </tr>\n",
       "    <tr>\n",
       "      <th>25722</th>\n",
       "      <td>xx</td>\n",
       "      <td>NaN</td>\n",
       "      <td>NaN</td>\n",
       "      <td>NaN</td>\n",
       "      <td>NaN</td>\n",
       "      <td>NaN</td>\n",
       "      <td>NaN</td>\n",
       "      <td>NaN</td>\n",
       "      <td>NaN</td>\n",
       "      <td>NaN</td>\n",
       "      <td>...</td>\n",
       "      <td>NaN</td>\n",
       "      <td>NaN</td>\n",
       "      <td>NaN</td>\n",
       "      <td>NaN</td>\n",
       "      <td>NaN</td>\n",
       "      <td>NaN</td>\n",
       "      <td>NaN</td>\n",
       "      <td>NaN</td>\n",
       "      <td>NaN</td>\n",
       "      <td>NaN</td>\n",
       "    </tr>\n",
       "  </tbody>\n",
       "</table>\n",
       "<p>8703 rows × 24 columns</p>\n",
       "</div>"
      ],
      "text/plain": [
       "      Case Number         Date    Year        Type    Country  \\\n",
       "0      2018.06.25  25-Jun-2018  2018.0     Boating        USA   \n",
       "1      2018.06.18  18-Jun-2018  2018.0  Unprovoked        USA   \n",
       "2      2018.06.09  09-Jun-2018  2018.0     Invalid        USA   \n",
       "3      2018.06.08  08-Jun-2018  2018.0  Unprovoked  AUSTRALIA   \n",
       "4      2018.06.04  04-Jun-2018  2018.0    Provoked     MEXICO   \n",
       "...           ...          ...     ...         ...        ...   \n",
       "8698            0          NaN     NaN         NaN        NaN   \n",
       "8699            0          NaN     NaN         NaN        NaN   \n",
       "8700            0          NaN     NaN         NaN        NaN   \n",
       "8701            0          NaN     NaN         NaN        NaN   \n",
       "25722          xx          NaN     NaN         NaN        NaN   \n",
       "\n",
       "                  Area                        Location     Activity  \\\n",
       "0           California     Oceanside, San Diego County     Paddling   \n",
       "1              Georgia  St. Simon Island, Glynn County     Standing   \n",
       "2               Hawaii                    Habush, Oahu      Surfing   \n",
       "3      New South Wales              Arrawarra Headland      Surfing   \n",
       "4               Colima                        La Ticla  Free diving   \n",
       "...                ...                             ...          ...   \n",
       "8698               NaN                             NaN          NaN   \n",
       "8699               NaN                             NaN          NaN   \n",
       "8700               NaN                             NaN          NaN   \n",
       "8701               NaN                             NaN          NaN   \n",
       "25722              NaN                             NaN          NaN   \n",
       "\n",
       "                  Name Sex   ...         Species   \\\n",
       "0          Julie Wolfe    F  ...      White shark   \n",
       "1      Adyson McNeely     F  ...              NaN   \n",
       "2          John Denges    M  ...              NaN   \n",
       "3                 male    M  ...        2 m shark   \n",
       "4       Gustavo Ramos     M  ...  Tiger shark, 3m   \n",
       "...                ...  ...  ...              ...   \n",
       "8698               NaN  NaN  ...              NaN   \n",
       "8699               NaN  NaN  ...              NaN   \n",
       "8700               NaN  NaN  ...              NaN   \n",
       "8701               NaN  NaN  ...              NaN   \n",
       "25722              NaN  NaN  ...              NaN   \n",
       "\n",
       "               Investigator or Source                       pdf  \\\n",
       "0                    R. Collier, GSAF      2018.06.25-Wolfe.pdf   \n",
       "1      K.McMurray, TrackingSharks.com    2018.06.18-McNeely.pdf   \n",
       "2      K.McMurray, TrackingSharks.com     2018.06.09-Denges.pdf   \n",
       "3                      B. Myatt, GSAF  2018.06.08-Arrawarra.pdf   \n",
       "4                           A .Kipper      2018.06.04-Ramos.pdf   \n",
       "...                               ...                       ...   \n",
       "8698                              NaN                       NaN   \n",
       "8699                              NaN                       NaN   \n",
       "8700                              NaN                       NaN   \n",
       "8701                              NaN                       NaN   \n",
       "25722                             NaN                       NaN   \n",
       "\n",
       "                                            href formula  \\\n",
       "0      http://sharkattackfile.net/spreadsheets/pdf_di...   \n",
       "1      http://sharkattackfile.net/spreadsheets/pdf_di...   \n",
       "2      http://sharkattackfile.net/spreadsheets/pdf_di...   \n",
       "3      http://sharkattackfile.net/spreadsheets/pdf_di...   \n",
       "4      http://sharkattackfile.net/spreadsheets/pdf_di...   \n",
       "...                                                  ...   \n",
       "8698                                                 NaN   \n",
       "8699                                                 NaN   \n",
       "8700                                                 NaN   \n",
       "8701                                                 NaN   \n",
       "25722                                                NaN   \n",
       "\n",
       "                                                    href Case Number.1  \\\n",
       "0      http://sharkattackfile.net/spreadsheets/pdf_di...    2018.06.25   \n",
       "1      http://sharkattackfile.net/spreadsheets/pdf_di...    2018.06.18   \n",
       "2      http://sharkattackfile.net/spreadsheets/pdf_di...    2018.06.09   \n",
       "3      http://sharkattackfile.net/spreadsheets/pdf_di...    2018.06.08   \n",
       "4      http://sharkattackfile.net/spreadsheets/pdf_di...    2018.06.04   \n",
       "...                                                  ...           ...   \n",
       "8698                                                 NaN           NaN   \n",
       "8699                                                 NaN           NaN   \n",
       "8700                                                 NaN           NaN   \n",
       "8701                                                 NaN           NaN   \n",
       "25722                                                NaN           NaN   \n",
       "\n",
       "      Case Number.2 original order Unnamed: 22 Unnamed: 23  \n",
       "0        2018.06.25         6303.0         NaN         NaN  \n",
       "1        2018.06.18         6302.0         NaN         NaN  \n",
       "2        2018.06.09         6301.0         NaN         NaN  \n",
       "3        2018.06.08         6300.0         NaN         NaN  \n",
       "4        2018.06.04         6299.0         NaN         NaN  \n",
       "...             ...            ...         ...         ...  \n",
       "8698            NaN            NaN         NaN         NaN  \n",
       "8699            NaN            NaN         NaN         NaN  \n",
       "8700            NaN            NaN         NaN         NaN  \n",
       "8701            NaN            NaN         NaN         NaN  \n",
       "25722           NaN            NaN         NaN         NaN  \n",
       "\n",
       "[8703 rows x 24 columns]"
      ]
     },
     "execution_count": 10,
     "metadata": {},
     "output_type": "execute_result"
    }
   ],
   "source": [
    "#vemos la tabla\n",
    "attacks_row_null"
   ]
  },
  {
   "cell_type": "code",
   "execution_count": 11,
   "metadata": {},
   "outputs": [],
   "source": [
    "#Hay muchas filas que tienen un 0 en la primera columna y las otras columnas son todas nulas\n",
    "#Se eliminan filas que tienen más del 50% de columnas con valores nulos (>12 columnas)\n",
    "\n",
    "attacks_50_null = attacks_row_null.copy()\n",
    "\n",
    "for index, row in attacks_50_null.iterrows():\n",
    "    is_nan_series = row.isnull()\n",
    "    if list(is_nan_series).count(True)>(attacks_50_null.shape[1]*.50):\n",
    "        attacks_50_null.drop([index], inplace=True)\n",
    "\n",
    "attacks_50_null.reset_index(inplace=True, drop = True)"
   ]
  },
  {
   "cell_type": "code",
   "execution_count": 12,
   "metadata": {},
   "outputs": [
    {
     "name": "stdout",
     "output_type": "stream",
     "text": [
      "Shape de tabla inicial:  (25723, 24)\n",
      "Shape de tabla sin filas de nulos:  (8703, 24)\n",
      "Shape de tabla sin filas con más de 50% nulos:  (6302, 24)\n"
     ]
    }
   ],
   "source": [
    "print(\"Shape de tabla inicial: \",attacks.shape)\n",
    "print(\"Shape de tabla sin filas de nulos: \",attacks_row_null.shape)\n",
    "print(\"Shape de tabla sin filas con más de 50% nulos: \",attacks_50_null.shape)"
   ]
  },
  {
   "cell_type": "code",
   "execution_count": 13,
   "metadata": {},
   "outputs": [
    {
     "data": {
      "text/plain": [
       "Case Number                  1\n",
       "Date                         0\n",
       "Year                         2\n",
       "Type                         4\n",
       "Country                     50\n",
       "Area                       455\n",
       "Location                   540\n",
       "Activity                   544\n",
       "Name                       210\n",
       "Sex                        565\n",
       "Age                       2831\n",
       "Injury                      28\n",
       "Fatal (Y/N)                539\n",
       "Time                      3354\n",
       "Species                   2838\n",
       "Investigator or Source      17\n",
       "pdf                          0\n",
       "href formula                 1\n",
       "href                         0\n",
       "Case Number.1                0\n",
       "Case Number.2                0\n",
       "original order               0\n",
       "Unnamed: 22               6301\n",
       "Unnamed: 23               6300\n",
       "dtype: int64"
      ]
     },
     "execution_count": 13,
     "metadata": {},
     "output_type": "execute_result"
    }
   ],
   "source": [
    "#ya se eliminaron todas las filas con más de 50% de valores nulos, ahora vamos a verificar las columnas\n",
    "attacks_50_null.isna().sum()"
   ]
  },
  {
   "cell_type": "code",
   "execution_count": 14,
   "metadata": {},
   "outputs": [
    {
     "name": "stdout",
     "output_type": "stream",
     "text": [
      "se van a eliminar las columnas:  ['Unnamed: 22', 'Unnamed: 23']\n"
     ]
    }
   ],
   "source": [
    "#el total de filas de la tabla es de 6302 y vemos que hay dos columnas con 6300 y 6301 valor nulos.\n",
    "#se van a eliminar las columnas que tengan más del 80% de nulos\n",
    "\n",
    "columns_null = []\n",
    "\n",
    "for index, row in attacks_50_null.T.iterrows():\n",
    "    is_nan_series = row.isnull()\n",
    "    if list(is_nan_series).count(True)>(attacks_50_null.shape[0]*.80):\n",
    "        columns_null.append(index)\n",
    "        \n",
    "print(\"se van a eliminar las columnas: \",columns_null)       \n",
    "attacks_50_null.drop(columns_null, axis=1, inplace = True)"
   ]
  },
  {
   "cell_type": "code",
   "execution_count": 15,
   "metadata": {},
   "outputs": [],
   "source": [
    "#ya se tiene la tabla limpia de columnas y filas vacias\n",
    "attacks_no_null = attacks_50_null.copy()"
   ]
  },
  {
   "cell_type": "code",
   "execution_count": 16,
   "metadata": {},
   "outputs": [
    {
     "data": {
      "text/html": [
       "<div>\n",
       "<style scoped>\n",
       "    .dataframe tbody tr th:only-of-type {\n",
       "        vertical-align: middle;\n",
       "    }\n",
       "\n",
       "    .dataframe tbody tr th {\n",
       "        vertical-align: top;\n",
       "    }\n",
       "\n",
       "    .dataframe thead th {\n",
       "        text-align: right;\n",
       "    }\n",
       "</style>\n",
       "<table border=\"1\" class=\"dataframe\">\n",
       "  <thead>\n",
       "    <tr style=\"text-align: right;\">\n",
       "      <th></th>\n",
       "      <th>Case Number</th>\n",
       "      <th>Date</th>\n",
       "      <th>Year</th>\n",
       "      <th>Type</th>\n",
       "      <th>Country</th>\n",
       "      <th>Area</th>\n",
       "      <th>Location</th>\n",
       "      <th>Activity</th>\n",
       "      <th>Name</th>\n",
       "      <th>Sex</th>\n",
       "      <th>...</th>\n",
       "      <th>Fatal (Y/N)</th>\n",
       "      <th>Time</th>\n",
       "      <th>Species</th>\n",
       "      <th>Investigator or Source</th>\n",
       "      <th>pdf</th>\n",
       "      <th>href formula</th>\n",
       "      <th>href</th>\n",
       "      <th>Case Number.1</th>\n",
       "      <th>Case Number.2</th>\n",
       "      <th>original order</th>\n",
       "    </tr>\n",
       "  </thead>\n",
       "  <tbody>\n",
       "    <tr>\n",
       "      <th>0</th>\n",
       "      <td>2018.06.25</td>\n",
       "      <td>25-Jun-2018</td>\n",
       "      <td>2018.0</td>\n",
       "      <td>Boating</td>\n",
       "      <td>USA</td>\n",
       "      <td>California</td>\n",
       "      <td>Oceanside, San Diego County</td>\n",
       "      <td>Paddling</td>\n",
       "      <td>Julie Wolfe</td>\n",
       "      <td>F</td>\n",
       "      <td>...</td>\n",
       "      <td>N</td>\n",
       "      <td>18h00</td>\n",
       "      <td>White shark</td>\n",
       "      <td>R. Collier, GSAF</td>\n",
       "      <td>2018.06.25-Wolfe.pdf</td>\n",
       "      <td>http://sharkattackfile.net/spreadsheets/pdf_di...</td>\n",
       "      <td>http://sharkattackfile.net/spreadsheets/pdf_di...</td>\n",
       "      <td>2018.06.25</td>\n",
       "      <td>2018.06.25</td>\n",
       "      <td>6303.0</td>\n",
       "    </tr>\n",
       "    <tr>\n",
       "      <th>1</th>\n",
       "      <td>2018.06.18</td>\n",
       "      <td>18-Jun-2018</td>\n",
       "      <td>2018.0</td>\n",
       "      <td>Unprovoked</td>\n",
       "      <td>USA</td>\n",
       "      <td>Georgia</td>\n",
       "      <td>St. Simon Island, Glynn County</td>\n",
       "      <td>Standing</td>\n",
       "      <td>Adyson McNeely</td>\n",
       "      <td>F</td>\n",
       "      <td>...</td>\n",
       "      <td>N</td>\n",
       "      <td>14h00  -15h00</td>\n",
       "      <td>NaN</td>\n",
       "      <td>K.McMurray, TrackingSharks.com</td>\n",
       "      <td>2018.06.18-McNeely.pdf</td>\n",
       "      <td>http://sharkattackfile.net/spreadsheets/pdf_di...</td>\n",
       "      <td>http://sharkattackfile.net/spreadsheets/pdf_di...</td>\n",
       "      <td>2018.06.18</td>\n",
       "      <td>2018.06.18</td>\n",
       "      <td>6302.0</td>\n",
       "    </tr>\n",
       "    <tr>\n",
       "      <th>2</th>\n",
       "      <td>2018.06.09</td>\n",
       "      <td>09-Jun-2018</td>\n",
       "      <td>2018.0</td>\n",
       "      <td>Invalid</td>\n",
       "      <td>USA</td>\n",
       "      <td>Hawaii</td>\n",
       "      <td>Habush, Oahu</td>\n",
       "      <td>Surfing</td>\n",
       "      <td>John Denges</td>\n",
       "      <td>M</td>\n",
       "      <td>...</td>\n",
       "      <td>N</td>\n",
       "      <td>07h45</td>\n",
       "      <td>NaN</td>\n",
       "      <td>K.McMurray, TrackingSharks.com</td>\n",
       "      <td>2018.06.09-Denges.pdf</td>\n",
       "      <td>http://sharkattackfile.net/spreadsheets/pdf_di...</td>\n",
       "      <td>http://sharkattackfile.net/spreadsheets/pdf_di...</td>\n",
       "      <td>2018.06.09</td>\n",
       "      <td>2018.06.09</td>\n",
       "      <td>6301.0</td>\n",
       "    </tr>\n",
       "    <tr>\n",
       "      <th>3</th>\n",
       "      <td>2018.06.08</td>\n",
       "      <td>08-Jun-2018</td>\n",
       "      <td>2018.0</td>\n",
       "      <td>Unprovoked</td>\n",
       "      <td>AUSTRALIA</td>\n",
       "      <td>New South Wales</td>\n",
       "      <td>Arrawarra Headland</td>\n",
       "      <td>Surfing</td>\n",
       "      <td>male</td>\n",
       "      <td>M</td>\n",
       "      <td>...</td>\n",
       "      <td>N</td>\n",
       "      <td>NaN</td>\n",
       "      <td>2 m shark</td>\n",
       "      <td>B. Myatt, GSAF</td>\n",
       "      <td>2018.06.08-Arrawarra.pdf</td>\n",
       "      <td>http://sharkattackfile.net/spreadsheets/pdf_di...</td>\n",
       "      <td>http://sharkattackfile.net/spreadsheets/pdf_di...</td>\n",
       "      <td>2018.06.08</td>\n",
       "      <td>2018.06.08</td>\n",
       "      <td>6300.0</td>\n",
       "    </tr>\n",
       "    <tr>\n",
       "      <th>4</th>\n",
       "      <td>2018.06.04</td>\n",
       "      <td>04-Jun-2018</td>\n",
       "      <td>2018.0</td>\n",
       "      <td>Provoked</td>\n",
       "      <td>MEXICO</td>\n",
       "      <td>Colima</td>\n",
       "      <td>La Ticla</td>\n",
       "      <td>Free diving</td>\n",
       "      <td>Gustavo Ramos</td>\n",
       "      <td>M</td>\n",
       "      <td>...</td>\n",
       "      <td>N</td>\n",
       "      <td>NaN</td>\n",
       "      <td>Tiger shark, 3m</td>\n",
       "      <td>A .Kipper</td>\n",
       "      <td>2018.06.04-Ramos.pdf</td>\n",
       "      <td>http://sharkattackfile.net/spreadsheets/pdf_di...</td>\n",
       "      <td>http://sharkattackfile.net/spreadsheets/pdf_di...</td>\n",
       "      <td>2018.06.04</td>\n",
       "      <td>2018.06.04</td>\n",
       "      <td>6299.0</td>\n",
       "    </tr>\n",
       "    <tr>\n",
       "      <th>...</th>\n",
       "      <td>...</td>\n",
       "      <td>...</td>\n",
       "      <td>...</td>\n",
       "      <td>...</td>\n",
       "      <td>...</td>\n",
       "      <td>...</td>\n",
       "      <td>...</td>\n",
       "      <td>...</td>\n",
       "      <td>...</td>\n",
       "      <td>...</td>\n",
       "      <td>...</td>\n",
       "      <td>...</td>\n",
       "      <td>...</td>\n",
       "      <td>...</td>\n",
       "      <td>...</td>\n",
       "      <td>...</td>\n",
       "      <td>...</td>\n",
       "      <td>...</td>\n",
       "      <td>...</td>\n",
       "      <td>...</td>\n",
       "      <td>...</td>\n",
       "    </tr>\n",
       "    <tr>\n",
       "      <th>6297</th>\n",
       "      <td>ND.0005</td>\n",
       "      <td>Before 1903</td>\n",
       "      <td>0.0</td>\n",
       "      <td>Unprovoked</td>\n",
       "      <td>AUSTRALIA</td>\n",
       "      <td>Western Australia</td>\n",
       "      <td>Roebuck Bay</td>\n",
       "      <td>Diving</td>\n",
       "      <td>male</td>\n",
       "      <td>M</td>\n",
       "      <td>...</td>\n",
       "      <td>Y</td>\n",
       "      <td>NaN</td>\n",
       "      <td>NaN</td>\n",
       "      <td>H. Taunton; N. Bartlett,  p. 234</td>\n",
       "      <td>ND-0005-RoebuckBay.pdf</td>\n",
       "      <td>http://sharkattackfile.net/spreadsheets/pdf_di...</td>\n",
       "      <td>http://sharkattackfile.net/spreadsheets/pdf_di...</td>\n",
       "      <td>ND.0005</td>\n",
       "      <td>ND.0005</td>\n",
       "      <td>6.0</td>\n",
       "    </tr>\n",
       "    <tr>\n",
       "      <th>6298</th>\n",
       "      <td>ND.0004</td>\n",
       "      <td>Before 1903</td>\n",
       "      <td>0.0</td>\n",
       "      <td>Unprovoked</td>\n",
       "      <td>AUSTRALIA</td>\n",
       "      <td>Western Australia</td>\n",
       "      <td>NaN</td>\n",
       "      <td>Pearl diving</td>\n",
       "      <td>Ahmun</td>\n",
       "      <td>M</td>\n",
       "      <td>...</td>\n",
       "      <td>Y</td>\n",
       "      <td>NaN</td>\n",
       "      <td>NaN</td>\n",
       "      <td>H. Taunton; N. Bartlett,  pp. 233-234</td>\n",
       "      <td>ND-0004-Ahmun.pdf</td>\n",
       "      <td>http://sharkattackfile.net/spreadsheets/pdf_di...</td>\n",
       "      <td>http://sharkattackfile.net/spreadsheets/pdf_di...</td>\n",
       "      <td>ND.0004</td>\n",
       "      <td>ND.0004</td>\n",
       "      <td>5.0</td>\n",
       "    </tr>\n",
       "    <tr>\n",
       "      <th>6299</th>\n",
       "      <td>ND.0003</td>\n",
       "      <td>1900-1905</td>\n",
       "      <td>0.0</td>\n",
       "      <td>Unprovoked</td>\n",
       "      <td>USA</td>\n",
       "      <td>North Carolina</td>\n",
       "      <td>Ocracoke Inlet</td>\n",
       "      <td>Swimming</td>\n",
       "      <td>Coast Guard personnel</td>\n",
       "      <td>M</td>\n",
       "      <td>...</td>\n",
       "      <td>Y</td>\n",
       "      <td>NaN</td>\n",
       "      <td>NaN</td>\n",
       "      <td>F. Schwartz, p.23; C. Creswell, GSAF</td>\n",
       "      <td>ND-0003-Ocracoke_1900-1905.pdf</td>\n",
       "      <td>http://sharkattackfile.net/spreadsheets/pdf_di...</td>\n",
       "      <td>http://sharkattackfile.net/spreadsheets/pdf_di...</td>\n",
       "      <td>ND.0003</td>\n",
       "      <td>ND.0003</td>\n",
       "      <td>4.0</td>\n",
       "    </tr>\n",
       "    <tr>\n",
       "      <th>6300</th>\n",
       "      <td>ND.0002</td>\n",
       "      <td>1883-1889</td>\n",
       "      <td>0.0</td>\n",
       "      <td>Unprovoked</td>\n",
       "      <td>PANAMA</td>\n",
       "      <td>NaN</td>\n",
       "      <td>Panama Bay 8ºN, 79ºW</td>\n",
       "      <td>NaN</td>\n",
       "      <td>Jules Patterson</td>\n",
       "      <td>M</td>\n",
       "      <td>...</td>\n",
       "      <td>Y</td>\n",
       "      <td>NaN</td>\n",
       "      <td>NaN</td>\n",
       "      <td>The Sun, 10/20/1938</td>\n",
       "      <td>ND-0002-JulesPatterson.pdf</td>\n",
       "      <td>http://sharkattackfile.net/spreadsheets/pdf_di...</td>\n",
       "      <td>http://sharkattackfile.net/spreadsheets/pdf_di...</td>\n",
       "      <td>ND.0002</td>\n",
       "      <td>ND.0002</td>\n",
       "      <td>3.0</td>\n",
       "    </tr>\n",
       "    <tr>\n",
       "      <th>6301</th>\n",
       "      <td>ND.0001</td>\n",
       "      <td>1845-1853</td>\n",
       "      <td>0.0</td>\n",
       "      <td>Unprovoked</td>\n",
       "      <td>CEYLON (SRI LANKA)</td>\n",
       "      <td>Eastern Province</td>\n",
       "      <td>Below the English fort, Trincomalee</td>\n",
       "      <td>Swimming</td>\n",
       "      <td>male</td>\n",
       "      <td>M</td>\n",
       "      <td>...</td>\n",
       "      <td>Y</td>\n",
       "      <td>NaN</td>\n",
       "      <td>NaN</td>\n",
       "      <td>S.W. Baker</td>\n",
       "      <td>ND-0001-Ceylon.pdf</td>\n",
       "      <td>http://sharkattackfile.net/spreadsheets/pdf_di...</td>\n",
       "      <td>http://sharkattackfile.net/spreadsheets/pdf_di...</td>\n",
       "      <td>ND.0001</td>\n",
       "      <td>ND.0001</td>\n",
       "      <td>2.0</td>\n",
       "    </tr>\n",
       "  </tbody>\n",
       "</table>\n",
       "<p>6302 rows × 22 columns</p>\n",
       "</div>"
      ],
      "text/plain": [
       "     Case Number         Date    Year        Type             Country  \\\n",
       "0     2018.06.25  25-Jun-2018  2018.0     Boating                 USA   \n",
       "1     2018.06.18  18-Jun-2018  2018.0  Unprovoked                 USA   \n",
       "2     2018.06.09  09-Jun-2018  2018.0     Invalid                 USA   \n",
       "3     2018.06.08  08-Jun-2018  2018.0  Unprovoked           AUSTRALIA   \n",
       "4     2018.06.04  04-Jun-2018  2018.0    Provoked              MEXICO   \n",
       "...          ...          ...     ...         ...                 ...   \n",
       "6297     ND.0005  Before 1903     0.0  Unprovoked           AUSTRALIA   \n",
       "6298     ND.0004  Before 1903     0.0  Unprovoked           AUSTRALIA   \n",
       "6299     ND.0003    1900-1905     0.0  Unprovoked                 USA   \n",
       "6300     ND.0002    1883-1889     0.0  Unprovoked              PANAMA   \n",
       "6301     ND.0001    1845-1853     0.0  Unprovoked  CEYLON (SRI LANKA)   \n",
       "\n",
       "                   Area                             Location      Activity  \\\n",
       "0            California          Oceanside, San Diego County      Paddling   \n",
       "1               Georgia       St. Simon Island, Glynn County      Standing   \n",
       "2                Hawaii                         Habush, Oahu       Surfing   \n",
       "3       New South Wales                   Arrawarra Headland       Surfing   \n",
       "4                Colima                             La Ticla   Free diving   \n",
       "...                 ...                                  ...           ...   \n",
       "6297  Western Australia                          Roebuck Bay        Diving   \n",
       "6298  Western Australia                                  NaN  Pearl diving   \n",
       "6299     North Carolina                       Ocracoke Inlet      Swimming   \n",
       "6300                NaN                 Panama Bay 8ºN, 79ºW           NaN   \n",
       "6301   Eastern Province  Below the English fort, Trincomalee      Swimming   \n",
       "\n",
       "                       Name Sex   ... Fatal (Y/N)           Time  \\\n",
       "0               Julie Wolfe    F  ...           N          18h00   \n",
       "1           Adyson McNeely     F  ...           N  14h00  -15h00   \n",
       "2               John Denges    M  ...           N          07h45   \n",
       "3                      male    M  ...           N            NaN   \n",
       "4            Gustavo Ramos     M  ...           N            NaN   \n",
       "...                     ...  ...  ...         ...            ...   \n",
       "6297                   male    M  ...           Y            NaN   \n",
       "6298                  Ahmun    M  ...           Y            NaN   \n",
       "6299  Coast Guard personnel    M  ...           Y            NaN   \n",
       "6300        Jules Patterson    M  ...           Y            NaN   \n",
       "6301                   male    M  ...           Y            NaN   \n",
       "\n",
       "             Species                  Investigator or Source  \\\n",
       "0         White shark                       R. Collier, GSAF   \n",
       "1                 NaN         K.McMurray, TrackingSharks.com   \n",
       "2                 NaN         K.McMurray, TrackingSharks.com   \n",
       "3           2 m shark                         B. Myatt, GSAF   \n",
       "4     Tiger shark, 3m                              A .Kipper   \n",
       "...               ...                                    ...   \n",
       "6297              NaN       H. Taunton; N. Bartlett,  p. 234   \n",
       "6298              NaN  H. Taunton; N. Bartlett,  pp. 233-234   \n",
       "6299              NaN   F. Schwartz, p.23; C. Creswell, GSAF   \n",
       "6300              NaN                    The Sun, 10/20/1938   \n",
       "6301              NaN                             S.W. Baker   \n",
       "\n",
       "                                 pdf  \\\n",
       "0               2018.06.25-Wolfe.pdf   \n",
       "1             2018.06.18-McNeely.pdf   \n",
       "2              2018.06.09-Denges.pdf   \n",
       "3           2018.06.08-Arrawarra.pdf   \n",
       "4               2018.06.04-Ramos.pdf   \n",
       "...                              ...   \n",
       "6297          ND-0005-RoebuckBay.pdf   \n",
       "6298               ND-0004-Ahmun.pdf   \n",
       "6299  ND-0003-Ocracoke_1900-1905.pdf   \n",
       "6300      ND-0002-JulesPatterson.pdf   \n",
       "6301              ND-0001-Ceylon.pdf   \n",
       "\n",
       "                                           href formula  \\\n",
       "0     http://sharkattackfile.net/spreadsheets/pdf_di...   \n",
       "1     http://sharkattackfile.net/spreadsheets/pdf_di...   \n",
       "2     http://sharkattackfile.net/spreadsheets/pdf_di...   \n",
       "3     http://sharkattackfile.net/spreadsheets/pdf_di...   \n",
       "4     http://sharkattackfile.net/spreadsheets/pdf_di...   \n",
       "...                                                 ...   \n",
       "6297  http://sharkattackfile.net/spreadsheets/pdf_di...   \n",
       "6298  http://sharkattackfile.net/spreadsheets/pdf_di...   \n",
       "6299  http://sharkattackfile.net/spreadsheets/pdf_di...   \n",
       "6300  http://sharkattackfile.net/spreadsheets/pdf_di...   \n",
       "6301  http://sharkattackfile.net/spreadsheets/pdf_di...   \n",
       "\n",
       "                                                   href Case Number.1  \\\n",
       "0     http://sharkattackfile.net/spreadsheets/pdf_di...    2018.06.25   \n",
       "1     http://sharkattackfile.net/spreadsheets/pdf_di...    2018.06.18   \n",
       "2     http://sharkattackfile.net/spreadsheets/pdf_di...    2018.06.09   \n",
       "3     http://sharkattackfile.net/spreadsheets/pdf_di...    2018.06.08   \n",
       "4     http://sharkattackfile.net/spreadsheets/pdf_di...    2018.06.04   \n",
       "...                                                 ...           ...   \n",
       "6297  http://sharkattackfile.net/spreadsheets/pdf_di...       ND.0005   \n",
       "6298  http://sharkattackfile.net/spreadsheets/pdf_di...       ND.0004   \n",
       "6299  http://sharkattackfile.net/spreadsheets/pdf_di...       ND.0003   \n",
       "6300  http://sharkattackfile.net/spreadsheets/pdf_di...       ND.0002   \n",
       "6301  http://sharkattackfile.net/spreadsheets/pdf_di...       ND.0001   \n",
       "\n",
       "     Case Number.2 original order  \n",
       "0       2018.06.25         6303.0  \n",
       "1       2018.06.18         6302.0  \n",
       "2       2018.06.09         6301.0  \n",
       "3       2018.06.08         6300.0  \n",
       "4       2018.06.04         6299.0  \n",
       "...            ...            ...  \n",
       "6297       ND.0005            6.0  \n",
       "6298       ND.0004            5.0  \n",
       "6299       ND.0003            4.0  \n",
       "6300       ND.0002            3.0  \n",
       "6301       ND.0001            2.0  \n",
       "\n",
       "[6302 rows x 22 columns]"
      ]
     },
     "execution_count": 16,
     "metadata": {},
     "output_type": "execute_result"
    }
   ],
   "source": [
    "attacks_no_null"
   ]
  },
  {
   "cell_type": "code",
   "execution_count": 17,
   "metadata": {},
   "outputs": [
    {
     "data": {
      "text/plain": [
       "Case Number                  1\n",
       "Date                         0\n",
       "Year                         2\n",
       "Type                         4\n",
       "Country                     50\n",
       "Area                       455\n",
       "Location                   540\n",
       "Activity                   544\n",
       "Name                       210\n",
       "Sex                        565\n",
       "Age                       2831\n",
       "Injury                      28\n",
       "Fatal (Y/N)                539\n",
       "Time                      3354\n",
       "Species                   2838\n",
       "Investigator or Source      17\n",
       "pdf                          0\n",
       "href formula                 1\n",
       "href                         0\n",
       "Case Number.1                0\n",
       "Case Number.2                0\n",
       "original order               0\n",
       "dtype: int64"
      ]
     },
     "execution_count": 17,
     "metadata": {},
     "output_type": "execute_result"
    }
   ],
   "source": [
    "#Vamos a verificar qué otras columnas tienen muchos nulos y qué hacer con ellas\n",
    "attacks_no_null.isna().sum()"
   ]
  },
  {
   "cell_type": "code",
   "execution_count": 18,
   "metadata": {},
   "outputs": [],
   "source": [
    "#Creamos una nueva columna para organizar los datos de la columna \"time\"\n",
    "attacks_no_null[\"Time_classified\"] = attacks_no_null[\"Time\"].copy()"
   ]
  },
  {
   "cell_type": "code",
   "execution_count": 19,
   "metadata": {},
   "outputs": [],
   "source": [
    "#Funciones para clasificar la columna \"Time\"\n",
    "\n",
    "def time(hora):\n",
    "    try:\n",
    "        if hora >= 0 and hora < 6:\n",
    "            return \"00h00 - 06h00\"\n",
    "        elif hora >= 6 and hora < 12:\n",
    "            return \"06h00 - 12h00\"\n",
    "        elif hora >= 12 and hora < 18:\n",
    "            return \"12h00 - 18h00\"\n",
    "        elif hora >= 18 and hora < 24:\n",
    "            return \"18h00 - 24h00\"\n",
    "        else:\n",
    "            #print(\"otra hora\",hora)\n",
    "            return \"No specific time\"\n",
    "    except:\n",
    "        #print(\"error: \",hora, type(hora))\n",
    "        return \"No specific time\"\n",
    "    \n",
    "    \n",
    "def time_classification(x):\n",
    "    try:\n",
    "        hora = int(x[\"Time\"][0:2])\n",
    "        #print(\"ingresa Num: \",hora)\n",
    "        periodo = time(hora)\n",
    "        return periodo\n",
    "    except:\n",
    "        #print(\"ingresa Str: \",x[\"Time\"])\n",
    "        if x[\"Time\"] == x[\"Time\"]:\n",
    "            if re.search(\"\\w+orning.*\", x[\"Time\"]) or re.search(\"[Aa].{0,1}[Mm]\", x[\"Time\"]):\n",
    "                return \"06h00 - 12h00\" \n",
    "            elif re.search(\"\\w+fter\\s*no.*\", x[\"Time\"]) or re.search(\"[Pp].{0,1}[Mm]\", x[\"Time\"]) or re.search(\"[Mm]id\", x[\"Time\"]):\n",
    "                return \"12h00 - 18h00\"\n",
    "            elif re.search(\"\\w+igh.*\", x[\"Time\"]) or re.search(\"[Ee]ve\", x[\"Time\"]) or re.search(\"[Dd]u\", x[\"Time\"]):\n",
    "                return \"18h00 - 24h00\"\n",
    "            elif re.search(\"\\d\\d\\D+\", x[\"Time\"]):\n",
    "                hora = re.findall(\"\\d\\d\",x[\"Time\"])\n",
    "                periodo = time(int(hora[0]))\n",
    "                return periodo\n",
    "            else:\n",
    "                #print(\"Otro: \",x[\"Time\"])\n",
    "                return \"No specific time\"\n",
    "        else:\n",
    "            return \"No specific time\""
   ]
  },
  {
   "cell_type": "code",
   "execution_count": 20,
   "metadata": {},
   "outputs": [],
   "source": [
    "#Vamos a reemplazar las horas por periodos del día\n",
    "\n",
    "attacks_no_null[\"Time_classified\"] = attacks_no_null.apply(lambda x: time_classification(x), axis = 1)\n"
   ]
  },
  {
   "cell_type": "code",
   "execution_count": 21,
   "metadata": {},
   "outputs": [
    {
     "data": {
      "text/html": [
       "<div>\n",
       "<style scoped>\n",
       "    .dataframe tbody tr th:only-of-type {\n",
       "        vertical-align: middle;\n",
       "    }\n",
       "\n",
       "    .dataframe tbody tr th {\n",
       "        vertical-align: top;\n",
       "    }\n",
       "\n",
       "    .dataframe thead th {\n",
       "        text-align: right;\n",
       "    }\n",
       "</style>\n",
       "<table border=\"1\" class=\"dataframe\">\n",
       "  <thead>\n",
       "    <tr style=\"text-align: right;\">\n",
       "      <th></th>\n",
       "      <th>Time</th>\n",
       "      <th>Time_classified</th>\n",
       "    </tr>\n",
       "  </thead>\n",
       "  <tbody>\n",
       "    <tr>\n",
       "      <th>0</th>\n",
       "      <td>18h00</td>\n",
       "      <td>18h00 - 24h00</td>\n",
       "    </tr>\n",
       "    <tr>\n",
       "      <th>1</th>\n",
       "      <td>14h00  -15h00</td>\n",
       "      <td>12h00 - 18h00</td>\n",
       "    </tr>\n",
       "    <tr>\n",
       "      <th>2</th>\n",
       "      <td>07h45</td>\n",
       "      <td>06h00 - 12h00</td>\n",
       "    </tr>\n",
       "    <tr>\n",
       "      <th>3</th>\n",
       "      <td>NaN</td>\n",
       "      <td>No specific time</td>\n",
       "    </tr>\n",
       "    <tr>\n",
       "      <th>4</th>\n",
       "      <td>NaN</td>\n",
       "      <td>No specific time</td>\n",
       "    </tr>\n",
       "  </tbody>\n",
       "</table>\n",
       "</div>"
      ],
      "text/plain": [
       "            Time   Time_classified\n",
       "0          18h00     18h00 - 24h00\n",
       "1  14h00  -15h00     12h00 - 18h00\n",
       "2          07h45     06h00 - 12h00\n",
       "3            NaN  No specific time\n",
       "4            NaN  No specific time"
      ]
     },
     "execution_count": 21,
     "metadata": {},
     "output_type": "execute_result"
    }
   ],
   "source": [
    "#Verificamos las primeras filas\n",
    "attacks_no_null[[\"Time\",\"Time_classified\"]].head()"
   ]
  },
  {
   "cell_type": "code",
   "execution_count": 22,
   "metadata": {},
   "outputs": [
    {
     "data": {
      "text/plain": [
       "No specific time    3387\n",
       "12h00 - 18h00       1587\n",
       "06h00 - 12h00        930\n",
       "18h00 - 24h00        353\n",
       "00h00 - 06h00         45\n",
       "Name: Time_classified, dtype: int64"
      ]
     },
     "execution_count": 22,
     "metadata": {},
     "output_type": "execute_result"
    }
   ],
   "source": [
    "#contamos los valores de la columna \"Time_classified\"\n",
    "attacks_no_null[\"Time_classified\"].value_counts()"
   ]
  },
  {
   "cell_type": "code",
   "execution_count": 23,
   "metadata": {},
   "outputs": [],
   "source": [
    "#La siguiente columna a limpiar va a ser \"Species\"\n",
    "#El nombre de la columna tiene un espacio extra, hacemos el cambio\n",
    "attacks_no_null.rename(columns={'Species ': 'Species'}, inplace = True)"
   ]
  },
  {
   "cell_type": "code",
   "execution_count": 24,
   "metadata": {},
   "outputs": [],
   "source": [
    "#Creamos una nueva columna para organizar los datos de la columna \"Species\"\n",
    "attacks_no_null[\"Species_classified\"] = attacks_no_null[\"Species\"].copy()"
   ]
  },
  {
   "cell_type": "code",
   "execution_count": 25,
   "metadata": {},
   "outputs": [],
   "source": [
    "#palabras que se quiere eliminar de la columna\n",
    "stop = [\"Possibly\",\"for\",\"no\",\"fragments\",\"larger\",\"less\",\"than\",\"by\",\n",
    "        \"determined\",\"adult\",\"male\",\"hooked\",\"captured\",\"involved\",\"cm\",\n",
    "        \"feet\",\"female\",\"tooth\", \"fragment\", \"recovered\",\"according\", \n",
    "        \"witnesses\",\"said\",\"be\",\"averaged\",\"length\",\"pack\",\"of\",\"seen\", \n",
    "        \"in\", \"vicinity\",'',\"kg\",\"lb\",\"small\",\"a\",\"m\",\"thought\", \"to\", \n",
    "        \"involve\",\"possibly\", \"juvenile\",\"suspected\", \"due\", \"freshwater\", \n",
    "        \"habitat\"]\n",
    "\n",
    "#Función para clasificar la columna \"Species\"\n",
    "def species_classification(x):\n",
    "    #verifica si es NaN o no\n",
    "    if x[\"Species\"] == x[\"Species\"]:\n",
    "        especie_div = x[\"Species\"].split()\n",
    "        especie_stop = []\n",
    "        #elimina carácteres especiales\n",
    "        for i in especie_div:\n",
    "            x = i.lower()\n",
    "            x = re.sub(\"[^a-zA-Z]\", \"\", x)\n",
    "            x = x.replace(\"sharks\",\"shark\")\n",
    "            #elimina palabras que esten en la lista de stop words\n",
    "            if x not in stop:\n",
    "                especie_stop.append(x.lower())\n",
    "        #genera el nuevo string a validar\n",
    "        especie = \" \".join(especie_stop).capitalize()\n",
    "        #validación extra para strings con muchas palabras\n",
    "        if \"shark\" in especie_stop:\n",
    "            i_shark = especie_stop.index(\"shark\")\n",
    "            if len(especie_stop)>2:\n",
    "                especie_alt = (especie_stop[i_shark-2]+\" \"+especie_stop[i_shark-1] +\" \"+ especie_stop[i_shark]).capitalize()\n",
    "            else:\n",
    "                especie_alt = (especie_stop[i_shark-1] +\" \"+ especie_stop[i_shark]).capitalize()\n",
    "        else:\n",
    "            especie_alt = \"Other species\"\n",
    "            \n",
    "        #validaciones de las categorias más comunes\n",
    "        if len(especie) == 0:\n",
    "            return \"Not confirmed\"\n",
    "        elif re.search(\"[Nn]ot\", especie) or re.search(\".*un.*\", especie) or re.search(\".*[Qq]ue.*\", especie) or re.search(\"[Uu]ni\", especie) or especie == \"Shark\":\n",
    "            return \"Not confirmed\"\n",
    "        elif re.search(\"[Ii]nvalid\", especie) or re.search(\"No shark involvement\", especie):\n",
    "            return \"No shark involvement\"\n",
    "        elif re.search(\"[Ww]hite\\s\", especie):\n",
    "            return \"White shark\"\n",
    "        elif re.search(\"[Tt]ig\", especie):\n",
    "            return \"Tiger shark\"\n",
    "        elif re.search(\"[Ss]pin\", especie):\n",
    "            return \"Spinner shark\"\n",
    "        else:\n",
    "            return especie_alt\n",
    "    else:\n",
    "        return \"Not confirmed\""
   ]
  },
  {
   "cell_type": "code",
   "execution_count": 26,
   "metadata": {},
   "outputs": [],
   "source": [
    "#Vamos a clasificar las especies\n",
    "\n",
    "attacks_no_null[\"Species_classified\"] = attacks_no_null.apply(lambda x: species_classification(x), axis = 1)"
   ]
  },
  {
   "cell_type": "code",
   "execution_count": 27,
   "metadata": {},
   "outputs": [
    {
     "data": {
      "text/plain": [
       "Not confirmed           4179\n",
       "White shark              628\n",
       "Tiger shark              281\n",
       "Bull shark               159\n",
       "No shark involvement     103\n",
       "Bronze whaler shark       60\n",
       "Blacktip shark            55\n",
       "Nurse shark               49\n",
       "Spinner shark             48\n",
       "Wobbegong shark           44\n",
       "Name: Species_classified, dtype: int64"
      ]
     },
     "execution_count": 27,
     "metadata": {},
     "output_type": "execute_result"
    }
   ],
   "source": [
    "#contamos los valores de la columna \"Time_classified\"\n",
    "attacks_no_null[\"Species_classified\"].value_counts().head(10)"
   ]
  },
  {
   "cell_type": "code",
   "execution_count": 28,
   "metadata": {},
   "outputs": [
    {
     "data": {
      "text/html": [
       "<div>\n",
       "<style scoped>\n",
       "    .dataframe tbody tr th:only-of-type {\n",
       "        vertical-align: middle;\n",
       "    }\n",
       "\n",
       "    .dataframe tbody tr th {\n",
       "        vertical-align: top;\n",
       "    }\n",
       "\n",
       "    .dataframe thead th {\n",
       "        text-align: right;\n",
       "    }\n",
       "</style>\n",
       "<table border=\"1\" class=\"dataframe\">\n",
       "  <thead>\n",
       "    <tr style=\"text-align: right;\">\n",
       "      <th></th>\n",
       "      <th>Species</th>\n",
       "      <th>Species_classified</th>\n",
       "    </tr>\n",
       "  </thead>\n",
       "  <tbody>\n",
       "    <tr>\n",
       "      <th>0</th>\n",
       "      <td>White shark</td>\n",
       "      <td>White shark</td>\n",
       "    </tr>\n",
       "    <tr>\n",
       "      <th>1</th>\n",
       "      <td>NaN</td>\n",
       "      <td>Not confirmed</td>\n",
       "    </tr>\n",
       "    <tr>\n",
       "      <th>2</th>\n",
       "      <td>NaN</td>\n",
       "      <td>Not confirmed</td>\n",
       "    </tr>\n",
       "    <tr>\n",
       "      <th>3</th>\n",
       "      <td>2 m shark</td>\n",
       "      <td>Not confirmed</td>\n",
       "    </tr>\n",
       "    <tr>\n",
       "      <th>4</th>\n",
       "      <td>Tiger shark, 3m</td>\n",
       "      <td>Tiger shark</td>\n",
       "    </tr>\n",
       "    <tr>\n",
       "      <th>5</th>\n",
       "      <td>NaN</td>\n",
       "      <td>Not confirmed</td>\n",
       "    </tr>\n",
       "    <tr>\n",
       "      <th>6</th>\n",
       "      <td>Tiger shark</td>\n",
       "      <td>Tiger shark</td>\n",
       "    </tr>\n",
       "    <tr>\n",
       "      <th>7</th>\n",
       "      <td>Lemon shark, 3'</td>\n",
       "      <td>Lemon shark</td>\n",
       "    </tr>\n",
       "    <tr>\n",
       "      <th>8</th>\n",
       "      <td>Bull shark, 6'</td>\n",
       "      <td>Bull shark</td>\n",
       "    </tr>\n",
       "    <tr>\n",
       "      <th>9</th>\n",
       "      <td>NaN</td>\n",
       "      <td>Not confirmed</td>\n",
       "    </tr>\n",
       "  </tbody>\n",
       "</table>\n",
       "</div>"
      ],
      "text/plain": [
       "           Species Species_classified\n",
       "0      White shark        White shark\n",
       "1              NaN      Not confirmed\n",
       "2              NaN      Not confirmed\n",
       "3        2 m shark      Not confirmed\n",
       "4  Tiger shark, 3m        Tiger shark\n",
       "5              NaN      Not confirmed\n",
       "6      Tiger shark        Tiger shark\n",
       "7  Lemon shark, 3'        Lemon shark\n",
       "8   Bull shark, 6'         Bull shark\n",
       "9              NaN      Not confirmed"
      ]
     },
     "execution_count": 28,
     "metadata": {},
     "output_type": "execute_result"
    }
   ],
   "source": [
    "#Verificamos las primeras filas de \"Species\"\n",
    "attacks_no_null[[\"Species\",\"Species_classified\"]].head(10)"
   ]
  },
  {
   "cell_type": "code",
   "execution_count": 29,
   "metadata": {},
   "outputs": [],
   "source": [
    "#La siguiente columna a limpiar va a ser \"Age\"\n",
    "#Creamos una nueva columna para organizar los datos de la columna \"Ages\"\n",
    "attacks_no_null[\"Age_classified\"] = attacks_no_null[\"Age\"].copy()"
   ]
  },
  {
   "cell_type": "code",
   "execution_count": 30,
   "metadata": {},
   "outputs": [],
   "source": [
    "#Función para clasificar la columna \"Age\"\n",
    "def age_classification(x):\n",
    "    if x[\"Age\"] == x[\"Age\"]:\n",
    "        age = x[\"Age\"]\n",
    "        \n",
    "        #quitamos caracteres que no sean números\n",
    "        age = re.sub(\"[^0-9]\", \" \", age)\n",
    "        age = list(map(int, age.split())) \n",
    "        \n",
    "        #verificamos cuántos números vienen en la edad\n",
    "        if len(age) == 0:\n",
    "            return \"No record\"\n",
    "        elif len(age) == 1:\n",
    "            age = age[0]\n",
    "        else:\n",
    "            age = round(sum(age)/len(age))\n",
    "        \n",
    "        #clasificamos la edad en rangos\n",
    "        if age <= 10:\n",
    "            return \"0 - 10\"\n",
    "        elif age <= 20:\n",
    "            return \"11 - 20\"\n",
    "        elif age <= 30:\n",
    "            return \"21 - 30\"\n",
    "        elif age <= 40:\n",
    "            return \"31 - 40\"\n",
    "        elif age <= 50:\n",
    "            return \"41 - 50\"\n",
    "        elif age <= 60:\n",
    "            return \"51 - 60\"\n",
    "        elif age <= 70:\n",
    "            return \"61 - 70\"\n",
    "        elif age <= 80:\n",
    "            return \"71 - 80\"\n",
    "        else:\n",
    "            return \"81 or more\"\n",
    "    else:\n",
    "        return \"No record\"\n",
    "    "
   ]
  },
  {
   "cell_type": "code",
   "execution_count": 31,
   "metadata": {},
   "outputs": [],
   "source": [
    "#Vamos a clasificar las edades\n",
    "\n",
    "attacks_no_null[\"Age_classified\"] = attacks_no_null.apply(lambda x: age_classification(x), axis = 1)"
   ]
  },
  {
   "cell_type": "code",
   "execution_count": 32,
   "metadata": {},
   "outputs": [
    {
     "data": {
      "text/plain": [
       "No record     2861\n",
       "11 - 20       1192\n",
       "21 - 30        948\n",
       "31 - 40        525\n",
       "41 - 50        331\n",
       "0 - 10         179\n",
       "51 - 60        178\n",
       "61 - 70         67\n",
       "71 - 80         16\n",
       "81 or more       5\n",
       "Name: Age_classified, dtype: int64"
      ]
     },
     "execution_count": 32,
     "metadata": {},
     "output_type": "execute_result"
    }
   ],
   "source": [
    "attacks_no_null[\"Age_classified\"].value_counts()"
   ]
  },
  {
   "cell_type": "code",
   "execution_count": 33,
   "metadata": {},
   "outputs": [],
   "source": [
    "#La siguiente columna a limpiar va a ser \"Year\"\n",
    "#Creamos una nueva columna para organizar los datos de la columna\n",
    "attacks_no_null[\"Year_classified\"] = attacks_no_null[\"Year\"].copy()"
   ]
  },
  {
   "cell_type": "code",
   "execution_count": 34,
   "metadata": {},
   "outputs": [],
   "source": [
    "#Función para limpiar la columna de años\n",
    "\n",
    "def year_classification(x):\n",
    "    if x[\"Year\"] == x[\"Year\"]:\n",
    "        year = int(x[\"Year\"])\n",
    "        if len(str(year))<4:\n",
    "            return \"No record\"\n",
    "        else:\n",
    "            return year\n",
    "    else:\n",
    "        return \"No record\"\n",
    "    "
   ]
  },
  {
   "cell_type": "code",
   "execution_count": 35,
   "metadata": {},
   "outputs": [],
   "source": [
    "#llamamos a función que  limpia los años\n",
    "attacks_no_null[\"Year_classified\"] = attacks_no_null.apply(lambda x: year_classification(x), axis = 1)"
   ]
  },
  {
   "cell_type": "code",
   "execution_count": 36,
   "metadata": {},
   "outputs": [
    {
     "data": {
      "text/plain": [
       "2015         143\n",
       "2017         136\n",
       "2016         130\n",
       "No record    130\n",
       "2011         128\n",
       "            ... \n",
       "1788           1\n",
       "1787           1\n",
       "1786           1\n",
       "1785           1\n",
       "1543           1\n",
       "Name: Year_classified, Length: 246, dtype: int64"
      ]
     },
     "execution_count": 36,
     "metadata": {},
     "output_type": "execute_result"
    }
   ],
   "source": [
    "#Resumen de años\n",
    "attacks_no_null[\"Year_classified\"].value_counts()"
   ]
  },
  {
   "cell_type": "code",
   "execution_count": 37,
   "metadata": {},
   "outputs": [],
   "source": [
    "'''La siguiente columna a limpiar va a ser \"Date\". Dado que ya tenemos otra columna con el año,\n",
    "en está columna me interesa saber el mes del ataque.\n",
    "Creamos una nueva columna para organizar los datos de mes de la columna'''\n",
    "\n",
    "attacks_no_null[\"Month_classified\"] = attacks_no_null[\"Date\"].copy()"
   ]
  },
  {
   "cell_type": "code",
   "execution_count": 38,
   "metadata": {},
   "outputs": [],
   "source": [
    "#Función para limpiar la columna de meses\n",
    "\n",
    "def month_classification(x):\n",
    "    months_dict = {\"[Jj]an\":\"January\",\n",
    "                   \"[Ff]eb\":\"February\",\n",
    "                   \"[Mm]ar\":\"March\",\n",
    "                   \"[Aa]pr\":\"April\",\n",
    "                   \"[Mm]ay\":\"May\",\n",
    "                   \"[Jj]un\":\"June\",\n",
    "                   \"[Jj]ul\":\"July\",\n",
    "                   \"[Aa]ug\":\"August\",\n",
    "                   \"[Ss]ep\":\"September\",\n",
    "                   \"[Oo]ct\":\"October\",\n",
    "                   \"[Nn]ov\":\"November\",\n",
    "                   \"[Dd]ec\":\"December\"}\n",
    "    if x[\"Date\"] == x[\"Date\"]:\n",
    "        month = x[\"Date\"]\n",
    "        for key, value in months_dict.items():\n",
    "            if re.search(key, month):\n",
    "                #print(month,value)\n",
    "                return value\n",
    "        return \"No record\"\n",
    "    else:\n",
    "        return \"No record\""
   ]
  },
  {
   "cell_type": "code",
   "execution_count": 39,
   "metadata": {},
   "outputs": [],
   "source": [
    "#llamamos a función que  limpia los años\n",
    "attacks_no_null[\"Month_classified\"] = attacks_no_null.apply(lambda x: month_classification(x), axis = 1)"
   ]
  },
  {
   "cell_type": "code",
   "execution_count": 40,
   "metadata": {},
   "outputs": [
    {
     "data": {
      "text/plain": [
       "July         671\n",
       "August       602\n",
       "September    555\n",
       "No record    519\n",
       "January      519\n",
       "June         497\n",
       "April        455\n",
       "October      445\n",
       "December     438\n",
       "March        413\n",
       "November     408\n",
       "May          398\n",
       "February     382\n",
       "Name: Month_classified, dtype: int64"
      ]
     },
     "execution_count": 40,
     "metadata": {},
     "output_type": "execute_result"
    }
   ],
   "source": [
    "#Resumen de meses\n",
    "attacks_no_null[\"Month_classified\"].value_counts()"
   ]
  },
  {
   "cell_type": "code",
   "execution_count": 41,
   "metadata": {},
   "outputs": [],
   "source": [
    "#La siguiente columna a limpiar va a ser \"Type\".\n",
    "#Creamos una nueva columna para organizar los datos de la columna\n",
    "\n",
    "attacks_no_null[\"Type_classified\"] = attacks_no_null[\"Type\"].copy()"
   ]
  },
  {
   "cell_type": "code",
   "execution_count": 42,
   "metadata": {},
   "outputs": [],
   "source": [
    "#Función para limpiar la columna de meses\n",
    "\n",
    "def type_classification(x):\n",
    "    if x[\"Type\"] == x[\"Type\"]:\n",
    "        type = x[\"Type\"]\n",
    "        if re.search(\"[Bb]oat\", type):\n",
    "                return \"Not specified\"\n",
    "        else:\n",
    "            return type\n",
    "    else:\n",
    "        return \"Not specified\""
   ]
  },
  {
   "cell_type": "code",
   "execution_count": 43,
   "metadata": {},
   "outputs": [],
   "source": [
    "#llamamos a función que  limpia los tipos de ataques\n",
    "attacks_no_null[\"Type_classified\"] = attacks_no_null.apply(lambda x: type_classification(x), axis = 1)"
   ]
  },
  {
   "cell_type": "code",
   "execution_count": 44,
   "metadata": {},
   "outputs": [
    {
     "data": {
      "text/plain": [
       "Unprovoked       4595\n",
       "Provoked          574\n",
       "Invalid           547\n",
       "Not specified     345\n",
       "Sea Disaster      239\n",
       "Questionable        2\n",
       "Name: Type_classified, dtype: int64"
      ]
     },
     "execution_count": 44,
     "metadata": {},
     "output_type": "execute_result"
    }
   ],
   "source": [
    "#Resumen de Type\n",
    "attacks_no_null[\"Type_classified\"].value_counts()"
   ]
  },
  {
   "cell_type": "code",
   "execution_count": 45,
   "metadata": {},
   "outputs": [],
   "source": [
    "#La siguiente columna a limpiar va a ser \"Country\".\n",
    "#Creamos una nueva columna para organizar los paises de la columna\n",
    "\n",
    "attacks_no_null[\"Country_classified\"] = attacks_no_null[\"Country\"].copy()"
   ]
  },
  {
   "cell_type": "code",
   "execution_count": 46,
   "metadata": {},
   "outputs": [],
   "source": [
    "#Palabras a quitar de la columna\n",
    "stop = [\"uae\",\"between\",\"federated\", \"states\", \"of\",\"bay\",\"coast\",\"overseas\",\"territory\",\"territories\"]\n",
    "\n",
    "#Función para limpiar la columna de paises\n",
    "def country_classification(x):\n",
    "    if x[\"Country\"] == x[\"Country\"]:\n",
    "        country = x[\"Country\"].strip().lower()\n",
    "        country = re.sub(\"[^a-zA-Z &\\\\/]\", \"\", country)\n",
    "        if \"/\" in country:\n",
    "            country = country.split(\"/\")\n",
    "            country = country[0]\n",
    "        country_lst = country.split()\n",
    "        country_stop = []\n",
    "        for i in country_lst:\n",
    "            if i not in stop:\n",
    "                country_stop.append(i.capitalize())\n",
    "        country = \" \".join(country_stop)\n",
    "        return country_verification(country)\n",
    "    else:\n",
    "        return \"Not specified\"\n",
    "    \n",
    "#Funcion para verificar regex en paises\n",
    "def country_verification(country):\n",
    "    countries_dict = {\"[Oo]cean\":\"Not specified\",\n",
    "                      \"[Ss]ea\":\"Not specified\",\n",
    "                      \"^[Aa]frica$\":\"Country in Africa\",\n",
    "                      \"[Aa]ndaman\": \"Andaman Islands\",\n",
    "                      \"[Cc]eylon\": \"Sri Lanka\",\n",
    "                      \"[Aa]sia\":\"Country in Asia\"\n",
    "                     }\n",
    "    for key, value in countries_dict.items():\n",
    "        if re.search(key, country):\n",
    "            return value\n",
    "    return country"
   ]
  },
  {
   "cell_type": "code",
   "execution_count": 47,
   "metadata": {},
   "outputs": [],
   "source": [
    "#llamamos a función que limpia los paises\n",
    "attacks_no_null[\"Country_classified\"] = attacks_no_null.apply(lambda x: country_classification(x), axis = 1)"
   ]
  },
  {
   "cell_type": "code",
   "execution_count": 48,
   "metadata": {},
   "outputs": [
    {
     "data": {
      "text/plain": [
       "Usa                  2229\n",
       "Australia            1338\n",
       "South Africa          579\n",
       "Not specified         146\n",
       "Papua New Guinea      134\n",
       "                     ... \n",
       "Reunion Island          1\n",
       "Western Samoa           1\n",
       "Bangladesh              1\n",
       "Equatorial Guinea       1\n",
       "Cyprus                  1\n",
       "Name: Country_classified, Length: 170, dtype: int64"
      ]
     },
     "execution_count": 48,
     "metadata": {},
     "output_type": "execute_result"
    }
   ],
   "source": [
    "#Resumen de Country\n",
    "attacks_no_null[\"Country_classified\"].value_counts()"
   ]
  },
  {
   "cell_type": "code",
   "execution_count": 49,
   "metadata": {},
   "outputs": [],
   "source": [
    "#La siguiente columna a limpiar va a ser \"Activity\".\n",
    "#Creamos una nueva columna para organizar las actividades\n",
    "\n",
    "attacks_no_null[\"Activity_classified\"] = attacks_no_null[\"Activity\"].copy() "
   ]
  },
  {
   "cell_type": "code",
   "execution_count": 50,
   "metadata": {},
   "outputs": [],
   "source": [
    "#Función para limpiar la columna de actividades\n",
    "def activity_classification(x):\n",
    "    if x[\"Activity\"] == x[\"Activity\"]:\n",
    "        activity = x[\"Activity\"].strip().lower()\n",
    "        activity = re.sub(\"[^a-zA-Z \\\\/]\", \"\", activity)\n",
    "        activity = activity.split()\n",
    "        verbs = []\n",
    "        for i in activity:\n",
    "            txt = re.findall(\".*ing\", i)\n",
    "            if len(txt)>=1:\n",
    "                verbs.append(txt[0])\n",
    "        if len(verbs)>=1:\n",
    "            if \"shark\" in activity or \"sharks\" in activity:\n",
    "                act = verbs[0]+\" sharks\"\n",
    "                #print(\"tibu: \",act,\"... original:\",x[\"Activity\"])\n",
    "                return act.capitalize()\n",
    "            else:\n",
    "                #print(\"Actividad:\",verbs[0],\"... original:\",x[\"Activity\"])\n",
    "                return verbs[0].capitalize()\n",
    "        else:\n",
    "            #print(\"Sin Act:\",x[\"Activity\"])\n",
    "            return \"Not specified\"\n",
    "    else:\n",
    "        return \"Not specified\""
   ]
  },
  {
   "cell_type": "code",
   "execution_count": 51,
   "metadata": {},
   "outputs": [],
   "source": [
    "#llamamos a función que limpia las actividades\n",
    "attacks_no_null[\"Activity_classified\"] = attacks_no_null.apply(lambda x: activity_classification(x), axis = 1)"
   ]
  },
  {
   "cell_type": "code",
   "execution_count": 52,
   "metadata": {},
   "outputs": [
    {
     "data": {
      "text/plain": [
       "Swimming         1095\n",
       "Surfing          1080\n",
       "Not specified     948\n",
       "Fishing           648\n",
       "Diving            511\n",
       "                 ... \n",
       "Painting            1\n",
       "Kakaying            1\n",
       "Skimboarding        1\n",
       "Lobstering          1\n",
       "Shrimping           1\n",
       "Name: Activity_classified, Length: 238, dtype: int64"
      ]
     },
     "execution_count": 52,
     "metadata": {},
     "output_type": "execute_result"
    }
   ],
   "source": [
    "#Resumen de Activity\n",
    "attacks_no_null[\"Activity_classified\"].value_counts()"
   ]
  },
  {
   "cell_type": "code",
   "execution_count": 53,
   "metadata": {},
   "outputs": [],
   "source": [
    "#La siguiente columna a limpiar va a ser \"Sex\".\n",
    "#El nombre de la columna tiene un espacio extra, hacemos el cambio\n",
    "attacks_no_null.rename(columns={'Sex ': 'Sex'}, inplace = True) "
   ]
  },
  {
   "cell_type": "code",
   "execution_count": 54,
   "metadata": {},
   "outputs": [],
   "source": [
    "#Creamos una nueva columna para organizar el genero\n",
    "attacks_no_null[\"Sex_classified\"] = attacks_no_null[\"Sex\"].copy()"
   ]
  },
  {
   "cell_type": "code",
   "execution_count": 55,
   "metadata": {},
   "outputs": [],
   "source": [
    "#Función para limpiar la columna de genero\n",
    "def sex_classification(x):\n",
    "    if x[\"Sex\"] == x[\"Sex\"]:\n",
    "        gender = x[\"Sex\"]\n",
    "        if re.search(\"[Mm]\", gender):\n",
    "            return \"M\"\n",
    "        elif re.search(\"[Ff]\", gender):\n",
    "            return \"F\"\n",
    "        else:\n",
    "            return \"Not specified\"\n",
    "    else:\n",
    "        return \"Not specified\""
   ]
  },
  {
   "cell_type": "code",
   "execution_count": 56,
   "metadata": {},
   "outputs": [],
   "source": [
    "#llamamos a función que limpia el genero\n",
    "attacks_no_null[\"Sex_classified\"] = attacks_no_null.apply(lambda x: sex_classification(x), axis = 1)"
   ]
  },
  {
   "cell_type": "code",
   "execution_count": 57,
   "metadata": {},
   "outputs": [
    {
     "data": {
      "text/plain": [
       "M                5096\n",
       "F                 637\n",
       "Not specified     569\n",
       "Name: Sex_classified, dtype: int64"
      ]
     },
     "execution_count": 57,
     "metadata": {},
     "output_type": "execute_result"
    }
   ],
   "source": [
    "#Resumen de Sex (genero)\n",
    "attacks_no_null[\"Sex_classified\"].value_counts()"
   ]
  },
  {
   "cell_type": "code",
   "execution_count": 58,
   "metadata": {},
   "outputs": [],
   "source": [
    "#La siguiente columna a limpiar va a ser \"Fatal (Y/N)\".\n",
    "#Creamos una nueva columna para organizar la columna\n",
    "\n",
    "attacks_no_null[\"Fatal_classified\"] = attacks_no_null[\"Fatal (Y/N)\"].copy() "
   ]
  },
  {
   "cell_type": "code",
   "execution_count": 59,
   "metadata": {},
   "outputs": [],
   "source": [
    "#Función para limpiar la columna de \"Fatal\"\n",
    "def fatal_classification(x):\n",
    "    if x[\"Fatal (Y/N)\"] == x[\"Fatal (Y/N)\"]:\n",
    "        fatal = x[\"Fatal (Y/N)\"]\n",
    "        if re.search(\"[Yy]\", fatal):\n",
    "            return \"Y\"\n",
    "        elif re.search(\"[Nn]\", fatal):\n",
    "            return \"N\"\n",
    "        else:\n",
    "            return \"Not specified\"\n",
    "    else:\n",
    "        return \"Not specified\""
   ]
  },
  {
   "cell_type": "code",
   "execution_count": 60,
   "metadata": {},
   "outputs": [],
   "source": [
    "#llamamos a función que limpia \"Fatal\"\n",
    "attacks_no_null[\"Fatal_classified\"] = attacks_no_null.apply(lambda x: fatal_classification(x), axis = 1)"
   ]
  },
  {
   "cell_type": "code",
   "execution_count": 61,
   "metadata": {},
   "outputs": [
    {
     "data": {
      "text/plain": [
       "N                4372\n",
       "Y                1389\n",
       "Not specified     541\n",
       "Name: Fatal_classified, dtype: int64"
      ]
     },
     "execution_count": 61,
     "metadata": {},
     "output_type": "execute_result"
    }
   ],
   "source": [
    "#Resumen de \"Fatal (Y/N)\"\n",
    "attacks_no_null[\"Fatal_classified\"].value_counts()"
   ]
  },
  {
   "cell_type": "code",
   "execution_count": 62,
   "metadata": {},
   "outputs": [],
   "source": [
    "#La siguiente columna a limpiar va a ser \"Injury\".\n",
    "#Creamos una nueva columna para organizar la columna\n",
    "\n",
    "attacks_no_null[\"Injury_classified\"] = attacks_no_null[\"Injury\"].copy() "
   ]
  },
  {
   "cell_type": "code",
   "execution_count": 63,
   "metadata": {},
   "outputs": [],
   "source": [
    "#Función para limpiar la columna de \"Injury\"\n",
    "def injury_classification(x):\n",
    "    if x[\"Injury\"] == x[\"Injury\"]:\n",
    "        injury = x[\"Injury\"].strip().lower()\n",
    "        injury = re.sub(\"[^a-zA-Z ]\", \"\", injury)\n",
    "        return injury_verification(injury)\n",
    "    else:\n",
    "        return \"Not specified\"\n",
    "    \n",
    "#Funcion para verificar regex en injury\n",
    "def injury_verification(injury):\n",
    "    injury_dict = {\"fatal\":\"Fatal\",\n",
    "                   \"no injury\":\"No injury\",\n",
    "                   \"bitten|right|left|injur|bite\":\"Body bite / injured\",\n",
    "                   \"no.*details|surv|not|nonfatal\":\"Not specified\",\n",
    "                   \"lacera|abra\":\"Body lacerations\",\n",
    "                   \"severed|ampu\":\"Amputated limb\",\n",
    "                   \"minor|punc\":\"Minor injury\",\n",
    "                   \"drown\":\"Drowned\"}\n",
    "    for key, value in injury_dict.items():\n",
    "        if re.search(key, injury):\n",
    "            return value\n",
    "    return \"Not specified\""
   ]
  },
  {
   "cell_type": "code",
   "execution_count": 64,
   "metadata": {},
   "outputs": [],
   "source": [
    "#llamamos a función que limpia \"Injury\"\n",
    "attacks_no_null[\"Injury_classified\"] = attacks_no_null.apply(lambda x: injury_classification(x), axis = 1)"
   ]
  },
  {
   "cell_type": "code",
   "execution_count": 65,
   "metadata": {},
   "outputs": [
    {
     "data": {
      "text/plain": [
       "Body bite / injured    2577\n",
       "Fatal                  1362\n",
       "No injury               804\n",
       "Body lacerations        662\n",
       "Not specified           645\n",
       "Amputated limb           88\n",
       "Minor injury             83\n",
       "Drowned                  81\n",
       "Name: Injury_classified, dtype: int64"
      ]
     },
     "execution_count": 65,
     "metadata": {},
     "output_type": "execute_result"
    }
   ],
   "source": [
    "#Resumen de injury\n",
    "attacks_no_null[\"Injury_classified\"].value_counts()"
   ]
  },
  {
   "cell_type": "code",
   "execution_count": 66,
   "metadata": {},
   "outputs": [],
   "source": [
    "#La siguiente columna a limpiar va a ser \"Name\".\n",
    "#Creamos una nueva columna para organizar los nombres\n",
    "\n",
    "attacks_no_null[\"Name_classified\"] = attacks_no_null[\"Name\"].copy() "
   ]
  },
  {
   "cell_type": "code",
   "execution_count": 67,
   "metadata": {},
   "outputs": [],
   "source": [
    "stop = [\"yacht\", \"owened\", \"by\",\"launch\",\"a\",\"pilot\",\"air\",\"force\",\"officer\",\"royal\",\"australian\",\"skiff\", \"occupant\",\"captain\",\"occupants\"]\n",
    "name_dict = {\"valet|atla|coa|dingh|teen|peo|passe|teac|male|boy|boat|child|anony|sailor|girl|unid|unkn|fish|div|native|sold|men$|wom|young|yout|crew\":\"Not confirmed\"}\n",
    "\n",
    "#Función para limpiar la columna de \"Name\"\n",
    "def name_classification(x):\n",
    "    if x[\"Name\"] == x[\"Name\"]:\n",
    "        name = x[\"Name\"].lower()\n",
    "        name_lst = name.split(\",\")\n",
    "        name_lst = name_lst[0].strip()\n",
    "        name_lst = name_lst.split()\n",
    "        name_stop = []\n",
    "        for i in name_lst:\n",
    "            if i not in stop:\n",
    "                name_stop.append(i.capitalize())\n",
    "        if len(name_stop) <2:\n",
    "            return \"Not confirmed\"\n",
    "        else:\n",
    "            name = \" \".join(name_stop)\n",
    "            name = re.sub(\"[^a-zA-Z .]\", \"\", name)\n",
    "        for key, value in name_dict.items():\n",
    "            if re.search(key, name.lower()):\n",
    "                return value\n",
    "        if len(name.split())<2:\n",
    "            return \"Not confirmed\"\n",
    "        else:\n",
    "            return name\n",
    "    else:\n",
    "        return \"Not confirmed\""
   ]
  },
  {
   "cell_type": "code",
   "execution_count": 68,
   "metadata": {},
   "outputs": [],
   "source": [
    "#llamamos a función que limpia \"Name\"\n",
    "attacks_no_null[\"Name_classified\"] = attacks_no_null.apply(lambda x: name_classification(x), axis = 1)"
   ]
  },
  {
   "cell_type": "code",
   "execution_count": 69,
   "metadata": {},
   "outputs": [
    {
     "data": {
      "text/plain": [
       "Not confirmed     1906\n",
       "Andre Hartman        3\n",
       "John Williams        3\n",
       "Wayne Monk           2\n",
       "Gabriel Botha        2\n",
       "                  ... \n",
       "Kath. Oneill         1\n",
       "Kor Van Helden       1\n",
       "Joe Termini          1\n",
       "David Silva          1\n",
       "Brad Hibshman        1\n",
       "Name: Name_classified, Length: 4357, dtype: int64"
      ]
     },
     "execution_count": 69,
     "metadata": {},
     "output_type": "execute_result"
    }
   ],
   "source": [
    "#Resumen de name\n",
    "attacks_no_null[\"Name_classified\"].value_counts()"
   ]
  },
  {
   "cell_type": "code",
   "execution_count": 71,
   "metadata": {},
   "outputs": [
    {
     "data": {
      "text/html": [
       "<div>\n",
       "<style scoped>\n",
       "    .dataframe tbody tr th:only-of-type {\n",
       "        vertical-align: middle;\n",
       "    }\n",
       "\n",
       "    .dataframe tbody tr th {\n",
       "        vertical-align: top;\n",
       "    }\n",
       "\n",
       "    .dataframe thead th {\n",
       "        text-align: right;\n",
       "    }\n",
       "</style>\n",
       "<table border=\"1\" class=\"dataframe\">\n",
       "  <thead>\n",
       "    <tr style=\"text-align: right;\">\n",
       "      <th></th>\n",
       "      <th>Case Number</th>\n",
       "      <th>Date</th>\n",
       "      <th>Year</th>\n",
       "      <th>Type</th>\n",
       "      <th>Country</th>\n",
       "      <th>Area</th>\n",
       "      <th>Location</th>\n",
       "      <th>Activity</th>\n",
       "      <th>Name</th>\n",
       "      <th>Sex</th>\n",
       "      <th>...</th>\n",
       "      <th>Age_classified</th>\n",
       "      <th>Year_classified</th>\n",
       "      <th>Month_classified</th>\n",
       "      <th>Type_classified</th>\n",
       "      <th>Country_classified</th>\n",
       "      <th>Activity_classified</th>\n",
       "      <th>Sex_classified</th>\n",
       "      <th>Fatal_classified</th>\n",
       "      <th>Injury_classified</th>\n",
       "      <th>Name_classified</th>\n",
       "    </tr>\n",
       "  </thead>\n",
       "  <tbody>\n",
       "    <tr>\n",
       "      <th>0</th>\n",
       "      <td>2018.06.25</td>\n",
       "      <td>25-Jun-2018</td>\n",
       "      <td>2018.0</td>\n",
       "      <td>Boating</td>\n",
       "      <td>USA</td>\n",
       "      <td>California</td>\n",
       "      <td>Oceanside, San Diego County</td>\n",
       "      <td>Paddling</td>\n",
       "      <td>Julie Wolfe</td>\n",
       "      <td>F</td>\n",
       "      <td>...</td>\n",
       "      <td>51 - 60</td>\n",
       "      <td>2018</td>\n",
       "      <td>June</td>\n",
       "      <td>Not specified</td>\n",
       "      <td>Usa</td>\n",
       "      <td>Paddling</td>\n",
       "      <td>F</td>\n",
       "      <td>N</td>\n",
       "      <td>No injury</td>\n",
       "      <td>Julie Wolfe</td>\n",
       "    </tr>\n",
       "    <tr>\n",
       "      <th>1</th>\n",
       "      <td>2018.06.18</td>\n",
       "      <td>18-Jun-2018</td>\n",
       "      <td>2018.0</td>\n",
       "      <td>Unprovoked</td>\n",
       "      <td>USA</td>\n",
       "      <td>Georgia</td>\n",
       "      <td>St. Simon Island, Glynn County</td>\n",
       "      <td>Standing</td>\n",
       "      <td>Adyson McNeely</td>\n",
       "      <td>F</td>\n",
       "      <td>...</td>\n",
       "      <td>11 - 20</td>\n",
       "      <td>2018</td>\n",
       "      <td>June</td>\n",
       "      <td>Unprovoked</td>\n",
       "      <td>Usa</td>\n",
       "      <td>Standing</td>\n",
       "      <td>F</td>\n",
       "      <td>N</td>\n",
       "      <td>Body bite / injured</td>\n",
       "      <td>Adyson Mcneely</td>\n",
       "    </tr>\n",
       "    <tr>\n",
       "      <th>2</th>\n",
       "      <td>2018.06.09</td>\n",
       "      <td>09-Jun-2018</td>\n",
       "      <td>2018.0</td>\n",
       "      <td>Invalid</td>\n",
       "      <td>USA</td>\n",
       "      <td>Hawaii</td>\n",
       "      <td>Habush, Oahu</td>\n",
       "      <td>Surfing</td>\n",
       "      <td>John Denges</td>\n",
       "      <td>M</td>\n",
       "      <td>...</td>\n",
       "      <td>41 - 50</td>\n",
       "      <td>2018</td>\n",
       "      <td>June</td>\n",
       "      <td>Invalid</td>\n",
       "      <td>Usa</td>\n",
       "      <td>Surfing</td>\n",
       "      <td>M</td>\n",
       "      <td>N</td>\n",
       "      <td>Body bite / injured</td>\n",
       "      <td>John Denges</td>\n",
       "    </tr>\n",
       "  </tbody>\n",
       "</table>\n",
       "<p>3 rows × 34 columns</p>\n",
       "</div>"
      ],
      "text/plain": [
       "  Case Number         Date    Year        Type Country        Area  \\\n",
       "0  2018.06.25  25-Jun-2018  2018.0     Boating     USA  California   \n",
       "1  2018.06.18  18-Jun-2018  2018.0  Unprovoked     USA     Georgia   \n",
       "2  2018.06.09  09-Jun-2018  2018.0     Invalid     USA      Hawaii   \n",
       "\n",
       "                         Location  Activity             Name Sex  ...  \\\n",
       "0     Oceanside, San Diego County  Paddling      Julie Wolfe   F  ...   \n",
       "1  St. Simon Island, Glynn County  Standing  Adyson McNeely    F  ...   \n",
       "2                    Habush, Oahu   Surfing      John Denges   M  ...   \n",
       "\n",
       "  Age_classified Year_classified Month_classified Type_classified  \\\n",
       "0        51 - 60            2018             June   Not specified   \n",
       "1        11 - 20            2018             June      Unprovoked   \n",
       "2        41 - 50            2018             June         Invalid   \n",
       "\n",
       "  Country_classified Activity_classified Sex_classified Fatal_classified  \\\n",
       "0                Usa            Paddling              F                N   \n",
       "1                Usa            Standing              F                N   \n",
       "2                Usa             Surfing              M                N   \n",
       "\n",
       "     Injury_classified Name_classified  \n",
       "0            No injury     Julie Wolfe  \n",
       "1  Body bite / injured  Adyson Mcneely  \n",
       "2  Body bite / injured     John Denges  \n",
       "\n",
       "[3 rows x 34 columns]"
      ]
     },
     "execution_count": 71,
     "metadata": {},
     "output_type": "execute_result"
    }
   ],
   "source": [
    "attacks_no_null.head(3)"
   ]
  },
  {
   "cell_type": "code",
   "execution_count": 72,
   "metadata": {},
   "outputs": [
    {
     "data": {
      "text/plain": [
       "Index(['Case Number', 'Date', 'Year', 'Type', 'Country', 'Area', 'Location',\n",
       "       'Activity', 'Name', 'Sex', 'Age', 'Injury', 'Fatal (Y/N)', 'Time',\n",
       "       'Species', 'Investigator or Source', 'pdf', 'href formula', 'href',\n",
       "       'Case Number.1', 'Case Number.2', 'original order', 'Time_classified',\n",
       "       'Species_classified', 'Age_classified', 'Year_classified',\n",
       "       'Month_classified', 'Type_classified', 'Country_classified',\n",
       "       'Activity_classified', 'Sex_classified', 'Fatal_classified',\n",
       "       'Injury_classified', 'Name_classified'],\n",
       "      dtype='object')"
      ]
     },
     "execution_count": 72,
     "metadata": {},
     "output_type": "execute_result"
    }
   ],
   "source": [
    "attacks_no_null.columns"
   ]
  },
  {
   "cell_type": "code",
   "execution_count": 73,
   "metadata": {},
   "outputs": [],
   "source": [
    "attacks_clean = attacks_no_null[[\"Case Number\",\"Month_classified\",\"Year_classified\",\"Type_classified\",\"Country_classified\",\"Area\",\"Location\",\"Activity_classified\",\"Name_classified\",\"Sex_classified\",\"Age_classified\",\"Injury_classified\",\"Fatal_classified\",\"Time_classified\",\"Species_classified\",\"Investigator or Source\",\"pdf\",\"href formula\",\"href\",\"Case Number.1\",\"Case Number.2\",\"original order\"]].copy() "
   ]
  },
  {
   "cell_type": "code",
   "execution_count": 74,
   "metadata": {},
   "outputs": [],
   "source": [
    "attacks_clean.fillna(\"Not specified\", inplace = True)"
   ]
  },
  {
   "cell_type": "code",
   "execution_count": 75,
   "metadata": {},
   "outputs": [
    {
     "data": {
      "text/plain": [
       "Case Number               0\n",
       "Month_classified          0\n",
       "Year_classified           0\n",
       "Type_classified           0\n",
       "Country_classified        0\n",
       "Area                      0\n",
       "Location                  0\n",
       "Activity_classified       0\n",
       "Name_classified           0\n",
       "Sex_classified            0\n",
       "Age_classified            0\n",
       "Injury_classified         0\n",
       "Fatal_classified          0\n",
       "Time_classified           0\n",
       "Species_classified        0\n",
       "Investigator or Source    0\n",
       "pdf                       0\n",
       "href formula              0\n",
       "href                      0\n",
       "Case Number.1             0\n",
       "Case Number.2             0\n",
       "original order            0\n",
       "dtype: int64"
      ]
     },
     "execution_count": 75,
     "metadata": {},
     "output_type": "execute_result"
    }
   ],
   "source": [
    "attacks_clean.isna().sum()"
   ]
  },
  {
   "cell_type": "code",
   "execution_count": 76,
   "metadata": {},
   "outputs": [],
   "source": [
    "attacks_clean.to_csv(\"data/attacks_clean.csv\", index=False)"
   ]
  },
  {
   "cell_type": "markdown",
   "metadata": {},
   "source": [
    "## Insights"
   ]
  },
  {
   "cell_type": "markdown",
   "metadata": {},
   "source": [
    "### Fatal Attacks?\n",
    "\n",
    "#### More than 63% of the attacks where not fatal"
   ]
  },
  {
   "cell_type": "code",
   "execution_count": 77,
   "metadata": {},
   "outputs": [
    {
     "data": {
      "text/plain": [
       "<AxesSubplot:ylabel='Fatal_classified'>"
      ]
     },
     "execution_count": 77,
     "metadata": {},
     "output_type": "execute_result"
    },
    {
     "data": {
      "image/png": "[encoded data removed]",
      "text/plain": [
       "<Figure size 432x288 with 1 Axes>"
      ]
     },
     "metadata": {},
     "output_type": "display_data"
    }
   ],
   "source": [
    "attacks_no_null[\"Fatal_classified\"].value_counts().head().plot(kind = 'pie',autopct='%1.2f%%')"
   ]
  },
  {
   "cell_type": "markdown",
   "metadata": {},
   "source": [
    "### The attack was provoked or not?\n",
    "\n",
    "#### More than 72% of the attacks where unproovoked"
   ]
  },
  {
   "cell_type": "code",
   "execution_count": 78,
   "metadata": {},
   "outputs": [
    {
     "data": {
      "text/plain": [
       "<AxesSubplot:ylabel='Type_classified'>"
      ]
     },
     "execution_count": 78,
     "metadata": {},
     "output_type": "execute_result"
    },
    {
     "data": {
      "image/png": "[encoded data removed]",
      "text/plain": [
       "<Figure size 432x288 with 1 Axes>"
      ]
     },
     "metadata": {},
     "output_type": "display_data"
    }
   ],
   "source": [
    "attacks_no_null[\"Type_classified\"].value_counts().head().plot(kind = 'pie',autopct='%1.2f%%')"
   ]
  },
  {
   "cell_type": "markdown",
   "metadata": {},
   "source": [
    "### Shark species:\n",
    "\n",
    "#### The top 3 species with more attacks are the white shark, the tiger shark and the bull shark"
   ]
  },
  {
   "cell_type": "code",
   "execution_count": 79,
   "metadata": {},
   "outputs": [
    {
     "data": {
      "text/plain": [
       "<AxesSubplot:ylabel='Species_classified'>"
      ]
     },
     "execution_count": 79,
     "metadata": {},
     "output_type": "execute_result"
    },
    {
     "data": {
      "image/png": "[encoded data removed]",
      "text/plain": [
       "<Figure size 432x288 with 1 Axes>"
      ]
     },
     "metadata": {},
     "output_type": "display_data"
    }
   ],
   "source": [
    "attacks_no_null[\"Species_classified\"].value_counts().head().plot(kind = 'pie',autopct='%1.2f%%')"
   ]
  },
  {
   "cell_type": "markdown",
   "metadata": {},
   "source": [
    "### Genres:\n",
    "\n",
    "#### More than 80% of the victims were males"
   ]
  },
  {
   "cell_type": "code",
   "execution_count": 80,
   "metadata": {},
   "outputs": [
    {
     "data": {
      "text/plain": [
       "<AxesSubplot:ylabel='Sex_classified'>"
      ]
     },
     "execution_count": 80,
     "metadata": {},
     "output_type": "execute_result"
    },
    {
     "data": {
      "image/png": "[encoded data removed]",
      "text/plain": [
       "<Figure size 432x288 with 1 Axes>"
      ]
     },
     "metadata": {},
     "output_type": "display_data"
    }
   ],
   "source": [
    "attacks_no_null[\"Sex_classified\"].value_counts().head().plot(kind = 'pie',autopct='%1.2f%%')"
   ]
  },
  {
   "cell_type": "markdown",
   "metadata": {},
   "source": [
    "### Ages of victims:\n",
    "\n",
    "#### The age range between 11 - 20 years old had more attacks, followed by 21 - 30 and 31 - 40 years old."
   ]
  },
  {
   "cell_type": "code",
   "execution_count": 81,
   "metadata": {},
   "outputs": [
    {
     "data": {
      "text/plain": [
       "<AxesSubplot:>"
      ]
     },
     "execution_count": 81,
     "metadata": {},
     "output_type": "execute_result"
    },
    {
     "data": {
      "image/png": "[encoded data removed]",
      "text/plain": [
       "<Figure size 432x288 with 1 Axes>"
      ]
     },
     "metadata": {
      "needs_background": "light"
     },
     "output_type": "display_data"
    }
   ],
   "source": [
    "attacks_no_null[\"Age_classified\"].value_counts().plot(kind = 'bar')"
   ]
  },
  {
   "cell_type": "markdown",
   "metadata": {},
   "source": [
    "### Countries:\n",
    "\n",
    "#### The top 3 countries with more attacks are: USA, Australia and South Africa"
   ]
  },
  {
   "cell_type": "code",
   "execution_count": 82,
   "metadata": {},
   "outputs": [
    {
     "data": {
      "text/plain": [
       "<AxesSubplot:>"
      ]
     },
     "execution_count": 82,
     "metadata": {},
     "output_type": "execute_result"
    },
    {
     "data": {
      "image/png": "[encoded data removed]",
      "text/plain": [
       "<Figure size 432x288 with 1 Axes>"
      ]
     },
     "metadata": {
      "needs_background": "light"
     },
     "output_type": "display_data"
    }
   ],
   "source": [
    "attacks_no_null[\"Country_classified\"].value_counts().head(3).plot(kind = 'bar')"
   ]
  },
  {
   "cell_type": "markdown",
   "metadata": {},
   "source": [
    "### Years:\n",
    "\n",
    "#### 2015, 2017 and 2016 are the years with more shark attacks reported worldwide"
   ]
  },
  {
   "cell_type": "code",
   "execution_count": 83,
   "metadata": {},
   "outputs": [
    {
     "data": {
      "text/plain": [
       "<AxesSubplot:>"
      ]
     },
     "execution_count": 83,
     "metadata": {},
     "output_type": "execute_result"
    },
    {
     "data": {
      "image/png": "[encoded data removed]",
      "text/plain": [
       "<Figure size 432x288 with 1 Axes>"
      ]
     },
     "metadata": {
      "needs_background": "light"
     },
     "output_type": "display_data"
    }
   ],
   "source": [
    "attacks_no_null[\"Year_classified\"].value_counts().head(10).plot(kind = 'bar')"
   ]
  },
  {
   "cell_type": "markdown",
   "metadata": {},
   "source": [
    "### Months:\n",
    "\n",
    "#### July is the month with more attacks, followed by August and September"
   ]
  },
  {
   "cell_type": "code",
   "execution_count": 84,
   "metadata": {},
   "outputs": [
    {
     "data": {
      "text/plain": [
       "<AxesSubplot:>"
      ]
     },
     "execution_count": 84,
     "metadata": {},
     "output_type": "execute_result"
    },
    {
     "data": {
      "image/png": "[encoded data removed]",
      "text/plain": [
       "<Figure size 432x288 with 1 Axes>"
      ]
     },
     "metadata": {
      "needs_background": "light"
     },
     "output_type": "display_data"
    }
   ],
   "source": [
    "attacks_no_null[\"Month_classified\"].value_counts().plot(kind = 'bar')"
   ]
  },
  {
   "cell_type": "markdown",
   "metadata": {},
   "source": [
    "### Injuries:\n",
    "\n",
    "#### Almost 43% of the attacks involved a body bite or injure, and 10.94% included body lacerations"
   ]
  },
  {
   "cell_type": "code",
   "execution_count": 85,
   "metadata": {},
   "outputs": [
    {
     "data": {
      "text/plain": [
       "<AxesSubplot:ylabel='Injury_classified'>"
      ]
     },
     "execution_count": 85,
     "metadata": {},
     "output_type": "execute_result"
    },
    {
     "data": {
      "image/png": "[encoded data removed]",
      "text/plain": [
       "<Figure size 432x288 with 1 Axes>"
      ]
     },
     "metadata": {},
     "output_type": "display_data"
    }
   ],
   "source": [
    "attacks_no_null[\"Injury_classified\"].value_counts().head().plot(kind = 'pie',autopct='%1.2f%%')"
   ]
  }
 ],
 "metadata": {
  "kernelspec": {
   "display_name": "Python 3",
   "language": "python",
   "name": "python3"
  },
  "language_info": {
   "codemirror_mode": {
    "name": "ipython",
    "version": 3
   },
   "file_extension": ".py",
   "mimetype": "text/x-python",
   "name": "python",
   "nbconvert_exporter": "python",
   "pygments_lexer": "ipython3",
   "version": "3.8.5"
  }
 },
 "nbformat": 4,
 "nbformat_minor": 4
}
