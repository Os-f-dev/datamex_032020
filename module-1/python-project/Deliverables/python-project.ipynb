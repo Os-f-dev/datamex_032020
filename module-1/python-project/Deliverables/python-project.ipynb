{
 "cells": [
  {
   "cell_type": "markdown",
   "metadata": {},
   "source": [
    "# El Número Secreto "
   ]
  },
  {
   "cell_type": "code",
   "execution_count": 1,
   "metadata": {},
   "outputs": [
    {
     "name": "stdout",
     "output_type": "stream",
     "text": [
      "¡Te reto...A que no adivinas el númmero que estoy pensando, es entre 1 y 22!\n",
      "¿Cuál es el número? 1\n",
      "Nooop...te quedan 2 intentos más!\n",
      "¿Cuál es el número? 2\n",
      "Tampoco...te queda 1 último intento, tu puedes!\n",
      "¿Cuál es el número? 3\n",
      "Jejeje..no me has podido ganar, suerte para la proxima! El NÚMERO SECRETO era... ¡ 12 !\n"
     ]
    }
   ],
   "source": [
    "import random\n",
    "\n",
    "secret_number = random.randint(1,22)\n",
    "\n",
    "guess_count = 0\n",
    "guess_limit = 3\n",
    "\n",
    "print('¡Te reto...A que no adivinas el númmero que estoy pensando, es entre 1 y 22!')\n",
    "\n",
    "while guess_count < guess_limit:\n",
    "    guess = int(input('¿Cuál es el número? ' ))\n",
    "    #if guess != int():\n",
    "        #while True:\n",
    "            #try:\n",
    "                #guess = int(input('¿Cuál es el número? ' ))\n",
    "                #guess = int()\n",
    "                #break\n",
    "            #except:\n",
    "                #print(\"Únicamente son aceptados números enteros, por favor intente de nuevo\")\n",
    "                # No logro acomodar el try & except\n",
    "    guess_count += 1\n",
    "    guess_left = guess_limit - guess_count\n",
    "    if guess != secret_number and guess_left > 1:\n",
    "        print(f'Nooop...te quedan {guess_left} intentos más!')\n",
    "    elif guess != secret_number and guess_left == 1:\n",
    "        print(f'Tampoco...te queda {guess_left} último intento, tu puedes!')\n",
    "    elif guess == secret_number:\n",
    "        print(\"\"\" \n",
    "         *´¨)\n",
    "         ¸.•´¸.•*´¨) ¸.•*¨)\n",
    "        (¸.•´ (¸.•` ¤ WOWWWWW! has adivinado...¡¡¡MUCHAS FELICIDADES!!!, deberías intentar con un Melate (;\n",
    "        \n",
    "        ________´$$$$`_____________________________,,,_\n",
    "_______´$$$$$$$`_________________________´$$$`\n",
    "________`$$$$$$$`______,,________,,_______´$$$$´\n",
    "_________`$$$$$$$`____´$$`_____´$$`____´$$$$$´\n",
    "__________`$$$$$$$`_´$$$$$`_´$$$$$`__´$$$$$$$´\n",
    "___________`$$$$$$$_$$$$$$$_$$$$$$$_´$$$$$$$´_\n",
    "____________`$$$$$$_$$$$$$$_$$$$$$$`´$$$$$$´_\n",
    "___,,,,,,______`$$$$$$_$$$$$$$_$$$$$$$_$$$$$$´_\n",
    "_´$$$$$`____`$$$$$$_$$$$$$$_$$$$$$$_$$$$$$´_\n",
    "´$$$$$$$$$`´$$$$$$$_$$$$$$$_$$$$$$$_$$$$$´_\n",
    "´$$$$$$$$$$$$$$$$$$_$$$$$$$_$$$$$$$_$$$$$´_\n",
    "___`$$$$$$$$$$$$$$$_$$$$$$$_$$$$$$_$$$$$$´_\n",
    "______`$$$$$$$$$$$$$_$$$$$__$$_$$$$$$_$$´_\n",
    "_______`$$$$$$$$$$$$,___,$$$$,_____,$$$$$´_\n",
    "_________`$$$$$$$$$$$$$$$$$$$$$$$$$$$$$´_\n",
    "__________`$$$$$$$$$$$$$$$$$$$$$$$$$$$´_\n",
    "____________`$$$$$$$$$$$$$$$$$$$$$$$$´_\n",
    "_______________`$$$$$$$$$$$$$$$$$$$$´_  \"\"\")\n",
    "    else:\n",
    "        print('Jejeje..no me has podido ganar, suerte para la proxima! El NÚMERO SECRETO era... ¡',secret_number,'!')"
   ]
  },
  {
   "cell_type": "code",
   "execution_count": null,
   "metadata": {},
   "outputs": [],
   "source": []
  }
 ],
 "metadata": {
  "kernelspec": {
   "display_name": "Python 3",
   "language": "python",
   "name": "python3"
  },
  "language_info": {
   "codemirror_mode": {
    "name": "ipython",
    "version": 3
   },
   "file_extension": ".py",
   "mimetype": "text/x-python",
   "name": "python",
   "nbconvert_exporter": "python",
   "pygments_lexer": "ipython3",
   "version": "3.7.6"
  }
 },
 "nbformat": 4,
 "nbformat_minor": 4
}
