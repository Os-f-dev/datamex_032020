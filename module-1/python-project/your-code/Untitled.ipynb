{
 "cells": [
  {
   "cell_type": "code",
   "execution_count": 1,
   "metadata": {},
   "outputs": [],
   "source": [
    "import random\n",
    "palabras = ['ironhack', 'mujer', 'imagen', 'curso', 'libro', 'data', 'comedor', 'analytics', 'cocina', 'lampara', 'televisor', 'puerta', 'comida', 'hogar', 'ciudad']\n",
    "# Esta función elegirá una palabra aleatoria de la variable palabras.\n",
    "def random_palabras(lst_palabras): \n",
    "    random_palabra = random.randint(0, len(lst_palabras) -1)\n",
    "    return lst_palabras[random_palabra]"
   ]
  },
  {
   "cell_type": "code",
   "execution_count": null,
   "metadata": {},
   "outputs": [
    {
     "name": "stdout",
     "output_type": "stream",
     "text": [
      "¡Comencemos a jugar! Adivina la Palabra\n",
      "Tienes 5 intentos\n",
      "Introduce una letra: b\n",
      "****** \n",
      "Fallaste, te quedan: 4 intentos\n",
      "Introduce una letra: a\n",
      "*****a \n",
      "¡Bien hecho! Le atinaste a una letra\n",
      "Introduce una letra: e\n",
      "**e**a \n",
      "¡Bien hecho! Le atinaste a una letra\n",
      "Introduce una letra: $\n",
      "¡MUY MAL! Escogiste un caracter no válido\n",
      "Escribe solamente una letra de la a-z\n",
      "Introduce una letra: 4\n",
      "¡MUY MAL! Escogiste un caracter no válido\n",
      "Escribe solamente una letra de la a-z\n",
      "Introduce una letra: +\n",
      "¡MUY MAL! Escogiste un caracter no válido\n",
      "Escribe solamente una letra de la a-z\n",
      "Introduce una letra: u\n",
      "*u**** \n",
      "¡Bien hecho! Le atinaste a una letra\n"
     ]
    }
   ],
   "source": [
    "# ADIVINA LA PALABRA\n",
    "# El juego consiste en que la máquina elegirá una palabra al azar de la variable 'palabras' y el jugador será el encargado \n",
    "# tener que adivinar qué palabra se encuentra escondida por medio de ******\n",
    "# Cuenta con 5 intentos\n",
    "# Solamente son válidos las letras de la a-z\n",
    "print('¡Comencemos a jugar! Adivina la Palabra')\n",
    "print('Tienes 5 intentos')\n",
    "# Esta función será el juego \n",
    "def juego(palabra):\n",
    "    intentos = 5   # Variable de las oportunidades que tiene el jugador para adivinar la palabra\n",
    "    letra_jugador = \" \" # Variable para guardar las letras que el jugador vaya colocando\n",
    "    palabra = random_palabras(palabras) # Se selecciona la palabra aleatoria para que el jugador la adivine\n",
    "    \n",
    "    while intentos > 0:\n",
    "        contador = 0 # Nos ayudará a saber si el jugador ya atinó todas las letras\n",
    "        letra_seleccionada = input('Introduce una letra: ') # Se le pide al jugador que seleccione una letra\n",
    "        letra_jugador += letra_seleccionada # Se van almacenando en letra_jugador para recordar que ya se eligieron \n",
    "        validos = ('a','b', 'c', 'd', 'e', 'f', 'g', 'h', 'i', 'j', 'k', 'l', 'm', 'n', 'ñ', 'o', 'p', 'q','r', 's', 't', 'u', 'v', 'w', 'x', 'y','z')\n",
    "\n",
    "        for i in letra_seleccionada: # Podremos verificar que el jugador solamente ingrese letras de la a-z\n",
    "            if letra_seleccionada not in validos:\n",
    "                print('¡MUY MAL! Escogiste un caracter no válido') # En caso de seleccionar un caracter diferente a alguna letra de la a-z\n",
    "                print('Escribe solamente una letra de la a-z') # le arrojará un mensaje de ingresó un elemnto incorrecto\n",
    "                return juego(palabras)                           # y se le volverá a solicitar que introdusca una letra\n",
    "        else:\n",
    "            pass\n",
    "        \n",
    "        for x in palabra:   # Si el jugador acierta en una letra dentro de la palabra, se mostrará únicamente esa letra\n",
    "            if x in letra_jugador:\n",
    "                print(x, end='')\n",
    "            else:\n",
    "                print('*', end='') # Si no acierta se representarán los caracteres de la palabra con asteríscos ****\n",
    "                if contador == 0:  # y se comienza el conteo de fallos\n",
    "                    contador += 1        \n",
    "\n",
    "        if contador == 0:\n",
    "            print(': ¡Has ganado, adivinaste la palabra') # Si el contador es menor al límite de fallos, entonces a descubierto\n",
    "            break                                         #  la palabra y ha ganado el juego\n",
    "\n",
    "        if letra_seleccionada in palabra: # Si la letra seleccionada no está dentro de la palabra entonces se resta 1 intento\n",
    "            print(' \\n¡Bien hecho! Le atinaste a una letra')\n",
    "        else:\n",
    "            intentos -= 1\n",
    "            print(' \\nFallaste, te quedan: ' + str(intentos) + ' intentos')\n",
    "\n",
    "        if intentos ==0: # Si los intentos llegan a 0 entonces el juego ha terminado\n",
    "            print('¡Perdiste! Inténtalo otra vez')\n",
    "\n",
    "juego(\"\")"
   ]
  },
  {
   "cell_type": "code",
   "execution_count": null,
   "metadata": {},
   "outputs": [],
   "source": []
  }
 ],
 "metadata": {
  "kernelspec": {
   "display_name": "Python 3",
   "language": "python",
   "name": "python3"
  },
  "language_info": {
   "codemirror_mode": {
    "name": "ipython",
    "version": 3
   },
   "file_extension": ".py",
   "mimetype": "text/x-python",
   "name": "python",
   "nbconvert_exporter": "python",
   "pygments_lexer": "ipython3",
   "version": "3.7.6"
  }
 },
 "nbformat": 4,
 "nbformat_minor": 4
}
