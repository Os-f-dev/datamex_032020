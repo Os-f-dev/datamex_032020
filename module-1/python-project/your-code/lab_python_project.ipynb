{
 "cells": [
  {
   "cell_type": "code",
   "execution_count": 5,
   "metadata": {},
   "outputs": [
    {
     "name": "stdout",
     "output_type": "stream",
     "text": [
      "Hola\n",
      "¿Cómo te llamas?\n",
      "martin\n",
      "martin estoy pensando en un número entre el 1 y el 20\n",
      "Tienes cinco intentos para adivinar\n",
      "Intenta adivinar el número que estoy pensando\n",
      "Ingresa tú número\n",
      "10\n",
      "Digita un número menor\n",
      "Ingresa tú número\n",
      "30\n",
      "Qué no, es un número menor a 20\n",
      "Ingresa tú número\n",
      "5\n",
      "Muy bien, acertaste al número en 2 intentos.\n"
     ]
    }
   ],
   "source": [
    "import random\n",
    "\n",
    "\n",
    "print('Hola')\n",
    "print('¿Cómo te llamas?')\n",
    "nombre = input()\n",
    "\n",
    "print(nombre, 'estoy pensando en un número entre el 1 y el 20')\n",
    "print('Tienes cinco intentos para adivinar')\n",
    "print('Intenta adivinar el número que estoy pensando')\n",
    "\n",
    "#numero = numero_maquina\n",
    "\n",
    "numero_maquina = random.randint(1, 20)\n",
    "numero_usuario = 0\n",
    "intentos = 0\n",
    "\n",
    "\n",
    "\n",
    "while intentos < 5: \n",
    "    print('Ingresa tú número')\n",
    "    numero_usuario = int(input())\n",
    "    \n",
    "        \n",
    "    if (numero_usuario > int(20)):\n",
    "        print('Qué no, es un número menor a 20')\n",
    "        \n",
    "    elif (numero_usuario > numero_maquina):\n",
    "        print('Digita un número menor')\n",
    "        intentos += 1\n",
    "            \n",
    "    elif (numero_usuario < numero_maquina):\n",
    "        print('Digita un número mayor')\n",
    "        intentos += 1\n",
    "    \n",
    "    elif numero_usuario == numero_maquina:\n",
    "        intentos += 1\n",
    "        print('Muy bien, acertaste al número en', intentos, 'intentos.')\n",
    "        break\n",
    "        \n",
    "else:\n",
    "    print('Se terminaron los intentos.')\n",
    "    print(f'El número que estaba pensando es el {numero_maquina}')\n",
    "    \n"
   ]
  }
 ],
 "metadata": {
  "kernelspec": {
   "display_name": "Python 3",
   "language": "python",
   "name": "python3"
  },
  "language_info": {
   "codemirror_mode": {
    "name": "ipython",
    "version": 3
   },
   "file_extension": ".py",
   "mimetype": "text/x-python",
   "name": "python",
   "nbconvert_exporter": "python",
   "pygments_lexer": "ipython3",
   "version": "3.7.6"
  }
 },
 "nbformat": 4,
 "nbformat_minor": 4
}
