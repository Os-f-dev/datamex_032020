{
 "cells": [
  {
   "cell_type": "markdown",
   "metadata": {},
   "source": [
    "![Ironhack Logo](https://i.imgur.com/1QgrNNw.png)"
   ]
  },
  {
   "cell_type": "code",
   "execution_count": 3,
   "metadata": {},
   "outputs": [],
   "source": [
    "from pymongo import MongoClient\n",
    "client=MongoClient()\n",
    "db=client.companies"
   ]
  },
  {
   "cell_type": "code",
   "execution_count": 5,
   "metadata": {},
   "outputs": [],
   "source": [
    "colec = db.companies"
   ]
  },
  {
   "cell_type": "markdown",
   "metadata": {},
   "source": [
    "# Answers\n",
    "### 1. All the companies that it's name match 'Babelgum'. Retrieve only their `name` field."
   ]
  },
  {
   "cell_type": "code",
   "execution_count": 16,
   "metadata": {},
   "outputs": [
    {
     "data": {
      "text/plain": [
       "[{'name': 'Babelgum'}]"
      ]
     },
     "execution_count": 16,
     "metadata": {},
     "output_type": "execute_result"
    }
   ],
   "source": [
    "list(colec.find({'name':'Babelgum'},{'_id':0,'name':1})) "
   ]
  },
  {
   "cell_type": "markdown",
   "metadata": {},
   "source": [
    "### 2. All the companies that have more than 5000 employees. Limit the search to 20 companies and sort them by **number of employees**."
   ]
  },
  {
   "cell_type": "code",
   "execution_count": 7,
   "metadata": {},
   "outputs": [
    {
     "data": {
      "text/plain": [
       "[{'name': 'Siemens', 'number_of_employees': 405000},\n",
       " {'name': 'IBM', 'number_of_employees': 388000},\n",
       " {'name': 'Toyota', 'number_of_employees': 320000},\n",
       " {'name': 'PayPal', 'number_of_employees': 300000},\n",
       " {'name': 'Nippon Telegraph and Telephone Corporation',\n",
       "  'number_of_employees': 227000},\n",
       " {'name': 'Samsung Electronics', 'number_of_employees': 221726},\n",
       " {'name': 'Accenture', 'number_of_employees': 205000},\n",
       " {'name': 'Tata Consultancy Services', 'number_of_employees': 200300},\n",
       " {'name': 'Flextronics International', 'number_of_employees': 200000},\n",
       " {'name': 'Safeway', 'number_of_employees': 186000},\n",
       " {'name': 'Sony', 'number_of_employees': 180500},\n",
       " {'name': 'LG', 'number_of_employees': 177000},\n",
       " {'name': 'Ford', 'number_of_employees': 171000},\n",
       " {'name': 'Boeing', 'number_of_employees': 160000},\n",
       " {'name': 'Digital Equipment Corporation', 'number_of_employees': 140000},\n",
       " {'name': 'Nokia', 'number_of_employees': 125000},\n",
       " {'name': 'MItsubishi Electric', 'number_of_employees': 107000},\n",
       " {'name': 'MItsubishi Electric', 'number_of_employees': 107000},\n",
       " {'name': 'Bertelsmann', 'number_of_employees': 100000},\n",
       " {'name': 'Comcast', 'number_of_employees': 100000}]"
      ]
     },
     "execution_count": 7,
     "metadata": {},
     "output_type": "execute_result"
    }
   ],
   "source": [
    "list(colec.find({'number_of_employees':{'$gt':5000}},\n",
    "                {'name':1,'_id':0,'number_of_employees':1}).sort('number_of_employees',-1).limit(20))"
   ]
  },
  {
   "cell_type": "markdown",
   "metadata": {},
   "source": [
    "### 3. All the companies founded between 2000 and 2005, both years included. Retrieve only the `name` and `founded_year` fileds."
   ]
  },
  {
   "cell_type": "code",
   "execution_count": 12,
   "metadata": {},
   "outputs": [
    {
     "data": {
      "text/plain": [
       "[{'name': 'Dailymotion', 'founded_year': 2005},\n",
       " {'name': 'iSkoot', 'founded_year': 2005},\n",
       " {'name': 'RockYou', 'founded_year': 2005},\n",
       " {'name': 'Omnidrive', 'founded_year': 2005},\n",
       " {'name': 'Zoho', 'founded_year': 2005},\n",
       " {'name': 'ClipBlast!', 'founded_year': 2005},\n",
       " {'name': 'YouTube', 'founded_year': 2005},\n",
       " {'name': 'Netvibes', 'founded_year': 2005},\n",
       " {'name': 'Jingle Networks', 'founded_year': 2005},\n",
       " {'name': 'Instructables', 'founded_year': 2005},\n",
       " {'name': 'LifeLock', 'founded_year': 2005},\n",
       " {'name': 'Jangl SMS', 'founded_year': 2005},\n",
       " {'name': 'Wetpaint', 'founded_year': 2005},\n",
       " {'name': 'Jajah', 'founded_year': 2005},\n",
       " {'name': 'Slide', 'founded_year': 2005},\n",
       " {'name': 'Swivel', 'founded_year': 2005},\n",
       " {'name': 'Zlio', 'founded_year': 2005},\n",
       " {'name': 'Revision3', 'founded_year': 2005},\n",
       " {'name': 'Helio', 'founded_year': 2005},\n",
       " {'name': 'Wesabe', 'founded_year': 2005}]"
      ]
     },
     "execution_count": 12,
     "metadata": {},
     "output_type": "execute_result"
    }
   ],
   "source": [
    "list(colec.find({'$and':[{'founded_year':{'$gte':2000}},\n",
    "                       {'founded_year':{'$lte':2005}}]},\n",
    "              {'name':1,'founded_year':1,'_id':0}).sort('founded_year',-1).limit(20))"
   ]
  },
  {
   "cell_type": "markdown",
   "metadata": {},
   "source": [
    "### 4. All the companies that had a Valuation Amount of more than 100.000.000 and have been founded before 2010. Retrieve only the `name` and `ipo` fields."
   ]
  },
  {
   "cell_type": "code",
   "execution_count": 6,
   "metadata": {},
   "outputs": [
    {
     "data": {
      "text/plain": [
       "[{'name': 'KIT digital', 'founded_year': 2008},\n",
       " {'name': 'Groupon', 'founded_year': 2008},\n",
       " {'name': 'Twitter', 'founded_year': 2006},\n",
       " {'name': 'Wix', 'founded_year': 2006},\n",
       " {'name': 'Marketo', 'founded_year': 2006},\n",
       " {'name': 'Millennial Media', 'founded_year': 2006},\n",
       " {'name': 'Zillow', 'founded_year': 2005},\n",
       " {'name': 'HomeAway', 'founded_year': 2005},\n",
       " {'name': 'Chegg', 'founded_year': 2005},\n",
       " {'name': 'Chegg', 'founded_year': 2005},\n",
       " {'name': 'Tudou', 'founded_year': 2005},\n",
       " {'name': 'Facebook', 'founded_year': 2004},\n",
       " {'name': 'Yelp', 'founded_year': 2004},\n",
       " {'name': 'Brightcove', 'founded_year': 2004},\n",
       " {'name': 'BrightSource Energy', 'founded_year': 2004},\n",
       " {'name': 'GREE', 'founded_year': 2004},\n",
       " {'name': 'LinkedIn', 'founded_year': 2003},\n",
       " {'name': 'ChannelAdvisor', 'founded_year': 2001},\n",
       " {'name': 'Jive Software', 'founded_year': 2001},\n",
       " {'name': 'Rally Software', 'founded_year': 2001},\n",
       " {'name': 'TripAdvisor', 'founded_year': 2000},\n",
       " {'name': 'Higher One', 'founded_year': 2000},\n",
       " {'name': 'Shutterfly', 'founded_year': 1999},\n",
       " {'name': 'Salesforce', 'founded_year': 1999},\n",
       " {'name': 'QuinStreet', 'founded_year': 1999},\n",
       " {'name': 'Infoblox', 'founded_year': 1999},\n",
       " {'name': 'Baidu', 'founded_year': 1999},\n",
       " {'name': 'Opsware', 'founded_year': 1999},\n",
       " {'name': 'Telenav', 'founded_year': 1999},\n",
       " {'name': 'Mixi', 'founded_year': 1999},\n",
       " {'name': 'SolarWinds', 'founded_year': 1999},\n",
       " {'name': 'DemandTec', 'founded_year': 1999},\n",
       " {'name': 'Cornerstone OnDemand', 'founded_year': 1999},\n",
       " {'name': 'OpenTable', 'founded_year': 1998},\n",
       " {'name': 'Rackspace', 'founded_year': 1998},\n",
       " {'name': 'Tencent', 'founded_year': 1998},\n",
       " {'name': 'Amazon', 'founded_year': 1994},\n",
       " {'name': 'Geeknet', 'founded_year': 1993},\n",
       " {'name': 'QlikTech', 'founded_year': 1993},\n",
       " {'name': 'BMC Software', 'founded_year': 1980},\n",
       " {'name': 'Western Digital', 'founded_year': 1970},\n",
       " {'name': 'Nielsen', 'founded_year': 1922}]"
      ]
     },
     "execution_count": 6,
     "metadata": {},
     "output_type": "execute_result"
    }
   ],
   "source": [
    "list(colec.find({'$and':[{'ipo.valuation_amount':{'$gt':100000000}},\n",
    "                       {'founded_year':{'$lte':2010}}]},\n",
    "              {'name':1,'founded_year':1,'_id':0}).sort('founded_year',-1))          "
   ]
  },
  {
   "cell_type": "markdown",
   "metadata": {},
   "source": [
    "### 5. All the companies that have less than 1000 employees and have been founded before 2005. Order them by the number of employees and limit the search to 10 companies."
   ]
  },
  {
   "cell_type": "code",
   "execution_count": 36,
   "metadata": {},
   "outputs": [
    {
     "data": {
      "text/plain": [
       "[{'name': 'AdventNet'},\n",
       " {'name': 'Digg'},\n",
       " {'name': 'Fox Interactive Media'},\n",
       " {'name': 'Plaxo'},\n",
       " {'name': 'Technorati'},\n",
       " {'name': 'AddThis'},\n",
       " {'name': 'Meetup'},\n",
       " {'name': 'SmugMug'},\n",
       " {'name': 'Skype'},\n",
       " {'name': 'Pando Networks'}]"
      ]
     },
     "execution_count": 36,
     "metadata": {},
     "output_type": "execute_result"
    }
   ],
   "source": [
    "list(colec.find({'$and':[{'number_of_employees':{'$lt':1000}},\n",
    "                   {'founded_year':{'$lt':2005}}]},\n",
    "           {'name':1,'_id':0}).limit(10))"
   ]
  },
  {
   "cell_type": "markdown",
   "metadata": {},
   "source": [
    "### 6. All the companies that don't include the `partners` field."
   ]
  },
  {
   "cell_type": "code",
   "execution_count": 80,
   "metadata": {},
   "outputs": [
    {
     "data": {
      "text/plain": [
       "[]"
      ]
     },
     "execution_count": 80,
     "metadata": {},
     "output_type": "execute_result"
    }
   ],
   "source": [
    "list(colec.find({'partners':{'$exists':0}},\n",
    "                     {'_id':0,'name':1,'partners':1}))"
   ]
  },
  {
   "cell_type": "markdown",
   "metadata": {},
   "source": [
    "### 7. All the companies that have a null type of value on the `category_code` field."
   ]
  },
  {
   "cell_type": "code",
   "execution_count": 76,
   "metadata": {},
   "outputs": [
    {
     "data": {
      "text/plain": [
       "[{'name': 'Collective', 'category_code': 'null'},\n",
       " {'name': 'Snimmer', 'category_code': 'null'},\n",
       " {'name': 'KoolIM', 'category_code': 'null'},\n",
       " {'name': 'Level9 Media', 'category_code': 'null'},\n",
       " {'name': 'VidKing', 'category_code': 'null'},\n",
       " {'name': 'Drigg', 'category_code': 'null'},\n",
       " {'name': 'SpaceTime', 'category_code': 'null'},\n",
       " {'name': 'Touch Clarity', 'category_code': 'null'},\n",
       " {'name': 'MMDAYS', 'category_code': 'null'},\n",
       " {'name': 'Inside Group', 'category_code': 'null'},\n",
       " {'name': 'Repeater Store', 'category_code': 'null'},\n",
       " {'name': 'Tapesh', 'category_code': 'null'},\n",
       " {'name': 'iPersians', 'category_code': 'null'},\n",
       " {'name': 'NewPersia', 'category_code': 'null'},\n",
       " {'name': 'Pyra Labs', 'category_code': 'null'},\n",
       " {'name': 'Feedmap', 'category_code': 'null'},\n",
       " {'name': 'NuvoMedia', 'category_code': 'null'},\n",
       " {'name': 'Intwine', 'category_code': 'null'},\n",
       " {'name': 'The Weinstein Company', 'category_code': 'null'},\n",
       " {'name': 'ExecuNet', 'category_code': 'null'}]"
      ]
     },
     "execution_count": 76,
     "metadata": {},
     "output_type": "execute_result"
    }
   ],
   "source": [
    "list(colec.find({'category_code':'null'},\n",
    "                     {'_id':0,'name':1,'category_code':1}).limit(20))"
   ]
  },
  {
   "cell_type": "markdown",
   "metadata": {},
   "source": [
    "### 8. All the companies that have at least 100 employees but less than 1000. Retrieve only the `name` and `number of employees` fields."
   ]
  },
  {
   "cell_type": "code",
   "execution_count": 39,
   "metadata": {},
   "outputs": [
    {
     "data": {
      "text/plain": [
       "[{'name': 'Datamonitor', 'number_of_employees': 984},\n",
       " {'name': 'Infinera Corporation', 'number_of_employees': 974},\n",
       " {'name': 'Box', 'number_of_employees': 950},\n",
       " {'name': 'NorthPoint Communications Group', 'number_of_employees': 948},\n",
       " {'name': '888 Holdings', 'number_of_employees': 931},\n",
       " {'name': 'Forrester Research', 'number_of_employees': 903},\n",
       " {'name': 'InMobi', 'number_of_employees': 900},\n",
       " {'name': 'Workday', 'number_of_employees': 900},\n",
       " {'name': 'Webmetrics', 'number_of_employees': 900},\n",
       " {'name': 'SonicWALL', 'number_of_employees': 900},\n",
       " {'name': 'Relax Solutions Pvt Ltd', 'number_of_employees': 900},\n",
       " {'name': 'Cornerstone OnDemand', 'number_of_employees': 881},\n",
       " {'name': 'Wayfair', 'number_of_employees': 800},\n",
       " {'name': 'BitDefender', 'number_of_employees': 800},\n",
       " {'name': 'ZoomInfo', 'number_of_employees': 800},\n",
       " {'name': 'MySpace', 'number_of_employees': 800},\n",
       " {'name': 'LivingLink', 'number_of_employees': 800},\n",
       " {'name': 'LivingLink', 'number_of_employees': 800},\n",
       " {'name': 'Good Technology', 'number_of_employees': 800},\n",
       " {'name': 'Buongiorno', 'number_of_employees': 800}]"
      ]
     },
     "execution_count": 39,
     "metadata": {},
     "output_type": "execute_result"
    }
   ],
   "source": [
    "list(colec.find({'$and':[{'number_of_employees':{'$gte':100}},\n",
    "                       {'number_of_employees':{'$lt':1000}}]},\n",
    "              {'name':1,'number_of_employees':1,'_id':0}).sort('number_of_employees',-1).limit(20))"
   ]
  },
  {
   "cell_type": "markdown",
   "metadata": {},
   "source": [
    "### 9. Order all the companies by their IPO price descendently."
   ]
  },
  {
   "cell_type": "code",
   "execution_count": 74,
   "metadata": {},
   "outputs": [
    {
     "data": {
      "text/plain": [
       "[{'name': 'GREE', 'ipo': {'valuation_amount': 108960000000}},\n",
       " {'name': 'Facebook', 'ipo': {'valuation_amount': 104000000000}},\n",
       " {'name': 'Amazon', 'ipo': {'valuation_amount': 100000000000}},\n",
       " {'name': 'Twitter', 'ipo': {'valuation_amount': 18100000000}},\n",
       " {'name': 'Groupon', 'ipo': {'valuation_amount': 12800000000}},\n",
       " {'name': 'Tencent', 'ipo': {'valuation_amount': 11000000000}},\n",
       " {'name': 'Western Digital', 'ipo': {'valuation_amount': 9430000000}},\n",
       " {'name': 'LinkedIn', 'ipo': {'valuation_amount': 9310000000}},\n",
       " {'name': 'BMC Software', 'ipo': {'valuation_amount': 6000000000}},\n",
       " {'name': 'Rackspace', 'ipo': {'valuation_amount': 5440000000}},\n",
       " {'name': 'Baidu', 'ipo': {'valuation_amount': 4000000000}},\n",
       " {'name': 'TripAdvisor', 'ipo': {'valuation_amount': 3273770000}},\n",
       " {'name': 'HomeAway', 'ipo': {'valuation_amount': 3000000000}},\n",
       " {'name': 'Zillow', 'ipo': {'valuation_amount': 2550000000}},\n",
       " {'name': 'Nielsen', 'ipo': {'valuation_amount': 1600000000}},\n",
       " {'name': 'Yelp', 'ipo': {'valuation_amount': 1300000000}},\n",
       " {'name': 'Chegg', 'ipo': {'valuation_amount': 1100000000}},\n",
       " {'name': 'Chegg', 'ipo': {'valuation_amount': 1100000000}},\n",
       " {'name': 'RPX Corporation', 'ipo': {'valuation_amount': 1096000000}},\n",
       " {'name': 'Higher One', 'ipo': {'valuation_amount': 1060000000}}]"
      ]
     },
     "execution_count": 74,
     "metadata": {},
     "output_type": "execute_result"
    }
   ],
   "source": [
    "list(colec.find({'$and':[{'ipo.valuation_amount':{'$gte':1}},\n",
    "                       {'ipo.valuation_amount':{'$lt':1000000000000}}]},\n",
    "              {'name':1,'ipo.valuation_amount':1,'_id':0}).sort('ipo.valuation_amount',-1).limit(20))"
   ]
  },
  {
   "cell_type": "markdown",
   "metadata": {},
   "source": [
    "### 10. Retrieve the 10 companies with more employees, order by the `number of employees`"
   ]
  },
  {
   "cell_type": "code",
   "execution_count": 60,
   "metadata": {},
   "outputs": [
    {
     "data": {
      "text/plain": [
       "[{'name': 'Siemens', 'number_of_employees': 405000},\n",
       " {'name': 'IBM', 'number_of_employees': 388000},\n",
       " {'name': 'Toyota', 'number_of_employees': 320000},\n",
       " {'name': 'PayPal', 'number_of_employees': 300000},\n",
       " {'name': 'Nippon Telegraph and Telephone Corporation',\n",
       "  'number_of_employees': 227000},\n",
       " {'name': 'Samsung Electronics', 'number_of_employees': 221726},\n",
       " {'name': 'Accenture', 'number_of_employees': 205000},\n",
       " {'name': 'Tata Consultancy Services', 'number_of_employees': 200300},\n",
       " {'name': 'Flextronics International', 'number_of_employees': 200000},\n",
       " {'name': 'Safeway', 'number_of_employees': 186000},\n",
       " {'name': 'Sony', 'number_of_employees': 180500},\n",
       " {'name': 'LG', 'number_of_employees': 177000},\n",
       " {'name': 'Ford', 'number_of_employees': 171000},\n",
       " {'name': 'Boeing', 'number_of_employees': 160000},\n",
       " {'name': 'Digital Equipment Corporation', 'number_of_employees': 140000},\n",
       " {'name': 'Nokia', 'number_of_employees': 125000},\n",
       " {'name': 'MItsubishi Electric', 'number_of_employees': 107000},\n",
       " {'name': 'MItsubishi Electric', 'number_of_employees': 107000},\n",
       " {'name': 'Bertelsmann', 'number_of_employees': 100000},\n",
       " {'name': 'Comcast', 'number_of_employees': 100000}]"
      ]
     },
     "execution_count": 60,
     "metadata": {},
     "output_type": "execute_result"
    }
   ],
   "source": [
    "list(colec.find({'$and':[{'number_of_employees':{'$gte':1}},\n",
    "                       {'number_of_employees':{'$lt':1000000000}}]},\n",
    "              {'name':1,'number_of_employees':1,'_id':0}).sort('number_of_employees',-1).limit(20))"
   ]
  },
  {
   "cell_type": "markdown",
   "metadata": {},
   "source": [
    "### 11. All the companies founded on the second semester of the year. Limit your search to 1000 companies."
   ]
  },
  {
   "cell_type": "code",
   "execution_count": 59,
   "metadata": {},
   "outputs": [
    {
     "data": {
      "text/plain": [
       "[{'name': 'Wetpaint'},\n",
       " {'name': 'Zoho'},\n",
       " {'name': 'Digg'},\n",
       " {'name': 'Omnidrive'},\n",
       " {'name': 'Postini'},\n",
       " {'name': 'Geni'},\n",
       " {'name': 'Fox Interactive Media'},\n",
       " {'name': 'eBay'},\n",
       " {'name': 'Joost'},\n",
       " {'name': 'Plaxo'},\n",
       " {'name': 'Powerset'},\n",
       " {'name': 'Technorati'},\n",
       " {'name': 'Sparter'},\n",
       " {'name': 'Jingle Networks'},\n",
       " {'name': 'LifeLock'},\n",
       " {'name': 'SmugMug'},\n",
       " {'name': 'Google'},\n",
       " {'name': 'Skype'},\n",
       " {'name': 'Pando Networks'},\n",
       " {'name': 'delicious'}]"
      ]
     },
     "execution_count": 59,
     "metadata": {},
     "output_type": "execute_result"
    }
   ],
   "source": [
    "list(colec.find({'$and':[{'founded_month':{'$gte':6}},\n",
    "                       {'founded_month':{'$lt':12}}]},\n",
    "              {'name':1,'_id':0}).limit(20))"
   ]
  },
  {
   "cell_type": "code",
   "execution_count": null,
   "metadata": {},
   "outputs": [],
   "source": []
  },
  {
   "cell_type": "markdown",
   "metadata": {},
   "source": [
    "### 12. All the companies that have been 'deadpooled' after the third year."
   ]
  },
  {
   "cell_type": "code",
   "execution_count": null,
   "metadata": {},
   "outputs": [],
   "source": []
  },
  {
   "cell_type": "markdown",
   "metadata": {},
   "source": [
    "### 13. All the companies founded before 2000 that have and acquisition amount of more than 10.000.000"
   ]
  },
  {
   "cell_type": "code",
   "execution_count": null,
   "metadata": {},
   "outputs": [],
   "source": []
  },
  {
   "cell_type": "markdown",
   "metadata": {},
   "source": [
    "### 14. All the companies that have been acquired after 2015, order by the acquisition amount, and retrieve only their `name` and `acquisiton` field."
   ]
  },
  {
   "cell_type": "code",
   "execution_count": null,
   "metadata": {},
   "outputs": [],
   "source": [
    " "
   ]
  },
  {
   "cell_type": "markdown",
   "metadata": {},
   "source": [
    "### 15. Order the companies by their `founded year`, retrieving only their `name` and `founded year`."
   ]
  },
  {
   "cell_type": "code",
   "execution_count": null,
   "metadata": {},
   "outputs": [],
   "source": []
  },
  {
   "cell_type": "markdown",
   "metadata": {},
   "source": [
    "### 16. All the companies that have been founded on the first seven days of the month, including the seventh. Sort them by their `aquisition price` descendently. Limit the search to 10 documents."
   ]
  },
  {
   "cell_type": "code",
   "execution_count": null,
   "metadata": {},
   "outputs": [],
   "source": []
  },
  {
   "cell_type": "markdown",
   "metadata": {},
   "source": [
    "### 17. All the companies on the 'web' `category` that have more than 4000 employees. Sort them by the amount of employees in ascendant order."
   ]
  },
  {
   "cell_type": "code",
   "execution_count": null,
   "metadata": {},
   "outputs": [],
   "source": []
  },
  {
   "cell_type": "markdown",
   "metadata": {},
   "source": [
    "### 18. All the companies which their acquisition amount is more than 10.000.000, and currency are 'EUR'.\n"
   ]
  },
  {
   "cell_type": "code",
   "execution_count": null,
   "metadata": {},
   "outputs": [],
   "source": []
  },
  {
   "cell_type": "markdown",
   "metadata": {},
   "source": [
    "### 19. All the companies that have been acquired on the first trimester of the year. Limit the search to 10 companies, and retrieve only their `name` and `acquisition` fields."
   ]
  },
  {
   "cell_type": "code",
   "execution_count": null,
   "metadata": {},
   "outputs": [],
   "source": []
  },
  {
   "cell_type": "markdown",
   "metadata": {},
   "source": [
    "### 20. All the companies that have been founded between 2000 and 2010, but have not been acquired before 2011."
   ]
  },
  {
   "cell_type": "code",
   "execution_count": null,
   "metadata": {},
   "outputs": [],
   "source": []
  }
 ],
 "metadata": {
  "kernelspec": {
   "display_name": "Python 3",
   "language": "python",
   "name": "python3"
  },
  "language_info": {
   "codemirror_mode": {
    "name": "ipython",
    "version": 3
   },
   "file_extension": ".py",
   "mimetype": "text/x-python",
   "name": "python",
   "nbconvert_exporter": "python",
   "pygments_lexer": "ipython3",
   "version": "3.7.6"
  }
 },
 "nbformat": 4,
 "nbformat_minor": 2
}
