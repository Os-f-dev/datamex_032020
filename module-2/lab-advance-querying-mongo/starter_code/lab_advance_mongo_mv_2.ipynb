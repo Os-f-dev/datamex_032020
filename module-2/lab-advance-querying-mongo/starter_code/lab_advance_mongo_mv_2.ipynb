{
 "cells": [
  {
   "cell_type": "markdown",
   "metadata": {},
   "source": [
    "![Ironhack Logo](https://i.imgur.com/1QgrNNw.png)"
   ]
  },
  {
   "cell_type": "code",
   "execution_count": 3,
   "metadata": {},
   "outputs": [],
   "source": [
    "from pymongo import MongoClient\n",
    "client=MongoClient()\n",
    "db=client.companies\n",
    "colec = db.companies"
   ]
  },
  {
   "cell_type": "markdown",
   "metadata": {},
   "source": [
    "# Answers\n",
    "### 1. All the companies that it's name match 'Babelgum'. Retrieve only their `name` field."
   ]
  },
  {
   "cell_type": "code",
   "execution_count": null,
   "metadata": {},
   "outputs": [],
   "source": []
  },
  {
   "cell_type": "markdown",
   "metadata": {},
   "source": [
    "### 2. All the companies that have more than 5000 employees. Limit the search to 20 companies and sort them by **number of employees**."
   ]
  },
  {
   "cell_type": "code",
   "execution_count": null,
   "metadata": {},
   "outputs": [],
   "source": []
  },
  {
   "cell_type": "markdown",
   "metadata": {},
   "source": [
    "### 3. All the companies founded between 2000 and 2005, both years included. Retrieve only the `name` and `founded_year` fileds."
   ]
  },
  {
   "cell_type": "code",
   "execution_count": null,
   "metadata": {},
   "outputs": [],
   "source": []
  },
  {
   "cell_type": "markdown",
   "metadata": {},
   "source": [
    "### 4. All the companies that had a Valuation Amount of more than 100.000.000 and have been founded before 2010. Retrieve only the `name` and `ipo` fields."
   ]
  },
  {
   "cell_type": "code",
   "execution_count": null,
   "metadata": {},
   "outputs": [],
   "source": [
    "                                   "
   ]
  },
  {
   "cell_type": "markdown",
   "metadata": {},
   "source": [
    "### 5. All the companies that have less than 1000 employees and have been founded before 2005. Order them by the number of employees and limit the search to 10 companies."
   ]
  },
  {
   "cell_type": "code",
   "execution_count": 5,
   "metadata": {},
   "outputs": [
    {
     "data": {
      "text/plain": [
       "[{'name': 'AdventNet'},\n",
       " {'name': 'Digg'},\n",
       " {'name': 'Fox Interactive Media'},\n",
       " {'name': 'Plaxo'},\n",
       " {'name': 'Technorati'},\n",
       " {'name': 'AddThis'},\n",
       " {'name': 'Meetup'},\n",
       " {'name': 'SmugMug'},\n",
       " {'name': 'Skype'},\n",
       " {'name': 'Pando Networks'}]"
      ]
     },
     "execution_count": 5,
     "metadata": {},
     "output_type": "execute_result"
    }
   ],
   "source": [
    "list(colec.find({'$and':[{'number_of_employees':{'$lte':1000}},\n",
    "                   {'founded_year':{'$lt':2005}}]},\n",
    "           {'name':1,'_id':0}).limit(10))"
   ]
  },
  {
   "cell_type": "code",
   "execution_count": 7,
   "metadata": {},
   "outputs": [
    {
     "data": {
      "text/plain": [
       "[{'name': 'Infinera Corporation', 'number_of_employees': 974},\n",
       " {'name': 'NorthPoint Communications Group', 'number_of_employees': 948},\n",
       " {'name': '888 Holdings', 'number_of_employees': 931},\n",
       " {'name': 'Forrester Research', 'number_of_employees': 903},\n",
       " {'name': 'Webmetrics', 'number_of_employees': 900},\n",
       " {'name': 'SonicWALL', 'number_of_employees': 900},\n",
       " {'name': 'Cornerstone OnDemand', 'number_of_employees': 881},\n",
       " {'name': 'Buongiorno', 'number_of_employees': 800},\n",
       " {'name': 'Cvent', 'number_of_employees': 800},\n",
       " {'name': 'ZoomInfo', 'number_of_employees': 800}]"
      ]
     },
     "execution_count": 7,
     "metadata": {},
     "output_type": "execute_result"
    }
   ],
   "source": [
    "list(colec.find({'$and':[{'number_of_employees':{'$lt':1000}},\n",
    "                       {'founded_year':{'$lt':2005}}]},\n",
    "              {'name':1,'number_of_employees':1,'_id':0}).sort('number_of_employees',-1).limit(10))"
   ]
  },
  {
   "cell_type": "markdown",
   "metadata": {},
   "source": [
    "### 6. All the companies that don't include the `partners` field."
   ]
  },
  {
   "cell_type": "code",
   "execution_count": null,
   "metadata": {},
   "outputs": [],
   "source": []
  },
  {
   "cell_type": "markdown",
   "metadata": {},
   "source": [
    "### 7. All the companies that have a null type of value on the `category_code` field."
   ]
  },
  {
   "cell_type": "code",
   "execution_count": null,
   "metadata": {},
   "outputs": [],
   "source": []
  },
  {
   "cell_type": "markdown",
   "metadata": {},
   "source": [
    "### 8. All the companies that have at least 100 employees but less than 1000. Retrieve only the `name` and `number of employees` fields."
   ]
  },
  {
   "cell_type": "code",
   "execution_count": null,
   "metadata": {},
   "outputs": [],
   "source": []
  },
  {
   "cell_type": "markdown",
   "metadata": {},
   "source": [
    "### 9. Order all the companies by their IPO price descendently."
   ]
  },
  {
   "cell_type": "code",
   "execution_count": 11,
   "metadata": {},
   "outputs": [
    {
     "data": {
      "text/plain": [
       "[{'name': 'DeNA', 'ipo': {'valuation_amount': 117900}},\n",
       " {'name': 'DeNA', 'ipo': {'valuation_amount': 117900}},\n",
       " {'name': 'GT Solar', 'ipo': {'valuation_amount': 5000000}},\n",
       " {'name': 'Vringo', 'ipo': {'valuation_amount': 11003200}},\n",
       " {'name': 'Energy and Power Solutions', 'ipo': {'valuation_amount': 25000000}},\n",
       " {'name': 'Inuvo', 'ipo': {'valuation_amount': 30000000}},\n",
       " {'name': 'Inuvo', 'ipo': {'valuation_amount': 30000000}},\n",
       " {'name': 'Pironet', 'ipo': {'valuation_amount': 44000000}},\n",
       " {'name': 'Pironet', 'ipo': {'valuation_amount': 44000000}},\n",
       " {'name': 'Global Water', 'ipo': {'valuation_amount': 50000000}},\n",
       " {'name': 'Real Goods Solar', 'ipo': {'valuation_amount': 55000000}},\n",
       " {'name': 'Meru Networks', 'ipo': {'valuation_amount': 66600000}},\n",
       " {'name': 'EnerNOC', 'ipo': {'valuation_amount': 95500000}},\n",
       " {'name': 'JumpTV', 'ipo': {'valuation_amount': 100000000}},\n",
       " {'name': 'Salesforce', 'ipo': {'valuation_amount': 110000000}},\n",
       " {'name': 'Geeknet', 'ipo': {'valuation_amount': 134000000}},\n",
       " {'name': 'QuinStreet', 'ipo': {'valuation_amount': 140000000}},\n",
       " {'name': 'DivX', 'ipo': {'valuation_amount': 160000000}},\n",
       " {'name': 'Tudou', 'ipo': {'valuation_amount': 174000000}},\n",
       " {'name': 'KIT digital', 'ipo': {'valuation_amount': 235000000}}]"
      ]
     },
     "execution_count": 11,
     "metadata": {},
     "output_type": "execute_result"
    }
   ],
   "source": [
    "list(colec.find({'$and':[{'ipo.valuation_amount':{'$gte':1}},\n",
    "                       {'ipo.valuation_amount':{'$lt':1000000000000}}]},\n",
    "              {'name':1,'ipo.valuation_amount':1,'_id':0}).sort('ipo.valuation_amount',1).limit(20))"
   ]
  },
  {
   "cell_type": "markdown",
   "metadata": {},
   "source": [
    "### 10. Retrieve the 10 companies with more employees, order by the `number of employees`"
   ]
  },
  {
   "cell_type": "code",
   "execution_count": null,
   "metadata": {},
   "outputs": [],
   "source": []
  },
  {
   "cell_type": "markdown",
   "metadata": {},
   "source": [
    "### 11. All the companies founded on the second semester of the year. Limit your search to 1000 companies."
   ]
  },
  {
   "cell_type": "code",
   "execution_count": null,
   "metadata": {},
   "outputs": [],
   "source": []
  },
  {
   "cell_type": "markdown",
   "metadata": {},
   "source": [
    "### 12. All the companies that have been 'deadpooled' after the third year."
   ]
  },
  {
   "cell_type": "code",
   "execution_count": 30,
   "metadata": {},
   "outputs": [
    {
     "data": {
      "text/plain": [
       "[{'name': 'Zoho', 'deadpooled_year': 3},\n",
       " {'name': 'Omnidrive', 'deadpooled_year': 2008},\n",
       " {'name': 'Babelgum', 'deadpooled_year': 2013},\n",
       " {'name': 'Sparter', 'deadpooled_year': 2008},\n",
       " {'name': 'Thoof', 'deadpooled_year': 2013},\n",
       " {'name': 'Mercora', 'deadpooled_year': 2008},\n",
       " {'name': 'Wesabe', 'deadpooled_year': 2010},\n",
       " {'name': 'Jangl SMS', 'deadpooled_year': 2008},\n",
       " {'name': 'Stickam', 'deadpooled_year': 2013},\n",
       " {'name': 'AllPeers', 'deadpooled_year': 2008}]"
      ]
     },
     "execution_count": 30,
     "metadata": {},
     "output_type": "execute_result"
    }
   ],
   "source": [
    "list(db.companies.find({'deadpooled_year':{'$gte':3}},\n",
    "                {'name':1,'_id':0,'deadpooled_year':1}).limit(10))"
   ]
  },
  {
   "cell_type": "markdown",
   "metadata": {},
   "source": [
    "### 13. All the companies founded before 2000 that have and acquisition amount of more than 10.000.000"
   ]
  },
  {
   "cell_type": "code",
   "execution_count": 19,
   "metadata": {},
   "outputs": [
    {
     "data": {
      "text/plain": [
       "[{'name': 'Wetpaint'},\n",
       " {'name': 'AdventNet'},\n",
       " {'name': 'Zoho'},\n",
       " {'name': 'Digg'},\n",
       " {'name': 'Facebook'},\n",
       " {'name': 'Omnidrive'},\n",
       " {'name': 'Postini'},\n",
       " {'name': 'Geni'},\n",
       " {'name': 'Flektor'},\n",
       " {'name': 'Fox Interactive Media'}]"
      ]
     },
     "execution_count": 19,
     "metadata": {},
     "output_type": "execute_result"
    }
   ],
   "source": [
    "list(db.companies.find({ 'acquisition': { '$exists': True } },\n",
    "                       {'name':1,'_id':0}).limit(10))"
   ]
  },
  {
   "cell_type": "code",
   "execution_count": null,
   "metadata": {},
   "outputs": [],
   "source": []
  },
  {
   "cell_type": "markdown",
   "metadata": {},
   "source": [
    "### 14. All the companies that have been acquired after 2015, order by the acquisition amount, and retrieve only their `name` and `acquisiton` field."
   ]
  },
  {
   "cell_type": "code",
   "execution_count": 20,
   "metadata": {},
   "outputs": [
    {
     "data": {
      "text/plain": [
       "[]"
      ]
     },
     "execution_count": 20,
     "metadata": {},
     "output_type": "execute_result"
    }
   ],
   "source": [
    " list(db.companies.find({'acquisition.acquired_year':{'$gt':2014}},\n",
    "                        {'name':1,'_id':0,'acquisition.price_amount':1}).limit(10))"
   ]
  },
  {
   "cell_type": "markdown",
   "metadata": {},
   "source": [
    "### 15. Order the companies by their `founded year`, retrieving only their `name` and `founded year`."
   ]
  },
  {
   "cell_type": "code",
   "execution_count": 21,
   "metadata": {},
   "outputs": [
    {
     "data": {
      "text/plain": [
       "[{'name': 'Wamba', 'founded_year': 2013},\n",
       " {'name': 'Gimigo', 'founded_year': 2013},\n",
       " {'name': 'Clowdy', 'founded_year': 2013},\n",
       " {'name': 'Fluc', 'founded_year': 2013},\n",
       " {'name': 'Advaliant', 'founded_year': 2013},\n",
       " {'name': 'Pikk', 'founded_year': 2013},\n",
       " {'name': 'WhosCall', 'founded_year': 2013},\n",
       " {'name': 'SEOGroup', 'founded_year': 2013},\n",
       " {'name': 'iBazar', 'founded_year': 2013},\n",
       " {'name': 'Fixya', 'founded_year': 2013}]"
      ]
     },
     "execution_count": 21,
     "metadata": {},
     "output_type": "execute_result"
    }
   ],
   "source": [
    "list(db.companies.find({'founded_year':{'$gte':0}},\n",
    "                {'name':1,'_id':0,'founded_year':1}).sort('founded_year',-1).limit(10))\n"
   ]
  },
  {
   "cell_type": "markdown",
   "metadata": {},
   "source": [
    "### 16. All the companies that have been founded on the first seven days of the month, including the seventh. Sort them by their `aquisition price` descendently. Limit the search to 10 documents."
   ]
  },
  {
   "cell_type": "code",
   "execution_count": 22,
   "metadata": {},
   "outputs": [
    {
     "data": {
      "text/plain": [
       "[{'name': 'Netscape', 'acquisition': {'price_amount': 4200000000.0}},\n",
       " {'name': 'PayPal', 'acquisition': {'price_amount': 1500000000}},\n",
       " {'name': 'Zappos', 'acquisition': {'price_amount': 1200000000}},\n",
       " {'name': 'Alibaba', 'acquisition': {'price_amount': 1000000000}},\n",
       " {'name': 'Postini', 'acquisition': {'price_amount': 625000000}},\n",
       " {'name': 'Danger', 'acquisition': {'price_amount': 500000000}},\n",
       " {'name': 'Clearwell Systems', 'acquisition': {'price_amount': 410000000}},\n",
       " {'name': 'PrimeSense', 'acquisition': {'price_amount': 345000000}},\n",
       " {'name': 'Amobee', 'acquisition': {'price_amount': 321000000}},\n",
       " {'name': 'Vitrue', 'acquisition': {'price_amount': 300000000}}]"
      ]
     },
     "execution_count": 22,
     "metadata": {},
     "output_type": "execute_result"
    }
   ],
   "source": [
    "list(db.companies.find({'founded_day':{'$lte':7}},\n",
    "                {'name':1,'_id':0,'acquisition.price_amount':1}).sort('acquisition.price_amount',-1).limit(10))"
   ]
  },
  {
   "cell_type": "markdown",
   "metadata": {},
   "source": [
    "### 17. All the companies on the 'web' `category` that have more than 4000 employees. Sort them by the amount of employees in ascendant order."
   ]
  },
  {
   "cell_type": "code",
   "execution_count": 25,
   "metadata": {},
   "outputs": [
    {
     "data": {
      "text/plain": [
       "[{'name': 'Expedia', 'number_of_employees': 4400},\n",
       " {'name': 'AOL', 'number_of_employees': 8000},\n",
       " {'name': 'Webkinz', 'number_of_employees': 8657},\n",
       " {'name': 'Rakuten', 'number_of_employees': 10000},\n",
       " {'name': 'Los Angeles Times Media Group', 'number_of_employees': 10000},\n",
       " {'name': 'Groupon', 'number_of_employees': 10000},\n",
       " {'name': 'Yahoo!', 'number_of_employees': 13600},\n",
       " {'name': 'eBay', 'number_of_employees': 15000},\n",
       " {'name': 'Experian', 'number_of_employees': 15500}]"
      ]
     },
     "execution_count": 25,
     "metadata": {},
     "output_type": "execute_result"
    }
   ],
   "source": [
    "list(db.companies.find({'$and':[{'category_code': 'web'},{'number_of_employees':{'$gt':4000}}]},\n",
    "                       {'name':1,'_id':0,'number_of_employees':1}).sort('number_of_employees',1).limit(10))"
   ]
  },
  {
   "cell_type": "markdown",
   "metadata": {},
   "source": [
    "### 18. All the companies which their acquisition amount is more than 10.000.000, and currency are 'EUR'.\n"
   ]
  },
  {
   "cell_type": "code",
   "execution_count": 26,
   "metadata": {},
   "outputs": [
    {
     "data": {
      "text/plain": [
       "[{'name': 'Wayfinder',\n",
       "  'acquisition': {'price_amount': 24000000, 'price_currency_code': 'EUR'}},\n",
       " {'name': 'ZYB',\n",
       "  'acquisition': {'price_amount': 31500000, 'price_currency_code': 'EUR'}},\n",
       " {'name': 'Greenfield Online',\n",
       "  'acquisition': {'price_amount': 40000000, 'price_currency_code': 'EUR'}},\n",
       " {'name': 'BioMed Central',\n",
       "  'acquisition': {'price_amount': 43400000, 'price_currency_code': 'EUR'}},\n",
       " {'name': 'Webedia',\n",
       "  'acquisition': {'price_amount': 70000000, 'price_currency_code': 'EUR'}},\n",
       " {'name': 'Tuenti Technologies',\n",
       "  'acquisition': {'price_amount': 70000000, 'price_currency_code': 'EUR'}},\n",
       " {'name': 'Apertio',\n",
       "  'acquisition': {'price_amount': 140000000, 'price_currency_code': 'EUR'}}]"
      ]
     },
     "execution_count": 26,
     "metadata": {},
     "output_type": "execute_result"
    }
   ],
   "source": [
    "list(db.companies.find({'$and':[{'acquisition.price_amount': {'$gte':10000000}},\n",
    "{'acquisition.price_currency_code':'EUR'}]},{'name':1,'_id':0,'acquisition.price_amount':1\n",
    ",'acquisition.price_currency_code':1}).sort('acquisition.price_amount',1).limit(10))"
   ]
  },
  {
   "cell_type": "code",
   "execution_count": null,
   "metadata": {},
   "outputs": [],
   "source": []
  },
  {
   "cell_type": "markdown",
   "metadata": {},
   "source": [
    "### 19. All the companies that have been acquired on the first trimester of the year. Limit the search to 10 companies, and retrieve only their `name` and `acquisition` fields."
   ]
  },
  {
   "cell_type": "code",
   "execution_count": 35,
   "metadata": {},
   "outputs": [
    {
     "data": {
      "text/plain": [
       "[{'name': '123people',\n",
       "  'acquisition': {'price_amount': nan,\n",
       "   'price_currency_code': 'USD',\n",
       "   'term_code': 'null',\n",
       "   'source_url': 'http://techcrunch.com/2010/03/19/looks-like-123people-has-been-acquired-by-frances-yellow-pages/',\n",
       "   'source_description': 'Looks Like 123people Has Been Acquired By Franceâ€™s Yellow Pages',\n",
       "   'acquired_year': 2010,\n",
       "   'acquired_month': 3,\n",
       "   'acquired_day': 19,\n",
       "   'acquiring_company': {'name': 'PagesJaunes', 'permalink': 'pagesjaunes'}}},\n",
       " {'name': '1Up',\n",
       "  'acquisition': {'price_amount': nan,\n",
       "   'price_currency_code': 'USD',\n",
       "   'term_code': 'null',\n",
       "   'source_url': 'http://www.techcrunch.com/2009/01/07/ugo-entertainment-buys-1up-gaming-network-emg-bites-dust/',\n",
       "   'source_description': 'UGO Entertainment Buys 1UP Gaming Network; EGM Bites Dust',\n",
       "   'acquired_year': 2009,\n",
       "   'acquired_month': 1,\n",
       "   'acquired_day': 6,\n",
       "   'acquiring_company': {'name': 'UGO Entertainment',\n",
       "    'permalink': 'ugo-entertainment'}}},\n",
       " {'name': '2ergo',\n",
       "  'acquisition': {'price_amount': nan,\n",
       "   'price_currency_code': 'USD',\n",
       "   'term_code': 'null',\n",
       "   'source_url': 'http://ir.soundbite.com/phoenix.zhtml?c=211501&p=irol-newsArticle&ID=1707957&highlight=',\n",
       "   'source_description': 'SoundBite Communications Acquires Americas Operations of 2ergo Group plc, a Pioneer of Innovative Mobile Marketing Solutions',\n",
       "   'acquired_year': 2012,\n",
       "   'acquired_month': 2,\n",
       "   'acquired_day': nan,\n",
       "   'acquiring_company': {'name': 'SoundBite Communications',\n",
       "    'permalink': 'soundbite-communication'}}},\n",
       " {'name': '3721 Internet Assistant',\n",
       "  'acquisition': {'price_amount': nan,\n",
       "   'price_currency_code': 'USD',\n",
       "   'term_code': 'null',\n",
       "   'source_url': '',\n",
       "   'source_description': '',\n",
       "   'acquired_year': 2004,\n",
       "   'acquired_month': 1,\n",
       "   'acquired_day': nan,\n",
       "   'acquiring_company': {'name': 'Yahoo!', 'permalink': 'yahoo'}}},\n",
       " {'name': '3Leaf',\n",
       "  'acquisition': {'price_amount': nan,\n",
       "   'price_currency_code': 'USD',\n",
       "   'term_code': 'null',\n",
       "   'source_url': 'http://www.reuters.com/article/2011/02/19/us-huawei-3leaf-idUSTRE71I38920110219',\n",
       "   'source_description': 'Huawei backs away from 3Leaf acquisition',\n",
       "   'acquired_year': 2011,\n",
       "   'acquired_month': 2,\n",
       "   'acquired_day': 19,\n",
       "   'acquiring_company': {'name': 'Huawei Technologies',\n",
       "    'permalink': 'huawei'}}},\n",
       " {'name': '3Tera',\n",
       "  'acquisition': {'price_amount': nan,\n",
       "   'price_currency_code': 'USD',\n",
       "   'term_code': 'null',\n",
       "   'source_url': 'http://techcrunch.com/2010/02/24/ca-continues-shopping-spree-acquires-3tera-to-boost-presence-in-the-cloud/',\n",
       "   'source_description': 'CA Continues Shopping Spree; Acquires 3Tera To Boost Presence In The Cloud',\n",
       "   'acquired_year': 2010,\n",
       "   'acquired_month': 2,\n",
       "   'acquired_day': 24,\n",
       "   'acquiring_company': {'name': 'CA Technologies', 'permalink': 'ca'}}},\n",
       " {'name': '6th Sense Analytics',\n",
       "  'acquisition': {'price_amount': nan,\n",
       "   'price_currency_code': 'USD',\n",
       "   'term_code': 'null',\n",
       "   'source_url': 'http://www.techjournalsouth.com/news/article.html?item_id=6735',\n",
       "   'source_description': 'Rally Software buys NC-based 6th Sense Analytics',\n",
       "   'acquired_year': 2009,\n",
       "   'acquired_month': 1,\n",
       "   'acquired_day': 14,\n",
       "   'acquiring_company': {'name': 'Rally Software',\n",
       "    'permalink': 'rally-software'}}},\n",
       " {'name': '@Last Software',\n",
       "  'acquisition': {'price_amount': nan,\n",
       "   'price_currency_code': 'USD',\n",
       "   'term_code': 'cash',\n",
       "   'source_url': 'http://news.cnet.com/Google-acquires-Last-Software/2100-1030_3-6049511.html',\n",
       "   'source_description': 'Google has acquired @Last Software, a 3D-design toolmaker and developer of the SketchUp software, the start-up announced Tuesday.',\n",
       "   'acquired_year': 2006,\n",
       "   'acquired_month': 3,\n",
       "   'acquired_day': 14,\n",
       "   'acquiring_company': {'name': 'Google', 'permalink': 'google'}}},\n",
       " {'name': 'A1Vacations',\n",
       "  'acquisition': {'price_amount': nan,\n",
       "   'price_currency_code': 'USD',\n",
       "   'term_code': 'null',\n",
       "   'source_url': 'http://www.A1Vacations.com',\n",
       "   'source_description': '',\n",
       "   'acquired_year': 2005,\n",
       "   'acquired_month': 2,\n",
       "   'acquired_day': 1,\n",
       "   'acquiring_company': {'name': 'HomeAway', 'permalink': 'homeaway'}}},\n",
       " {'name': 'AGEIA Technologies',\n",
       "  'acquisition': {'price_amount': nan,\n",
       "   'price_currency_code': 'USD',\n",
       "   'term_code': 'null',\n",
       "   'source_url': 'http://www.nvidia.com/object/io_1202161567170.html',\n",
       "   'source_description': 'NVIDIA to Acquire AGEIA Technologies',\n",
       "   'acquired_year': 2008,\n",
       "   'acquired_month': 2,\n",
       "   'acquired_day': nan,\n",
       "   'acquiring_company': {'name': 'Nvidia', 'permalink': 'nvidia'}}}]"
      ]
     },
     "execution_count": 35,
     "metadata": {},
     "output_type": "execute_result"
    }
   ],
   "source": [
    "list(db.companies.find({\"acquisition.acquired_month\":{'$lte':3}},\n",
    "               {'name':1,'acquisition':1,'_id':0}).sort('name',1).limit(10))"
   ]
  },
  {
   "cell_type": "markdown",
   "metadata": {},
   "source": [
    "### 20. All the companies that have been founded between 2000 and 2010, but have not been acquired before 2011."
   ]
  },
  {
   "cell_type": "code",
   "execution_count": 28,
   "metadata": {},
   "outputs": [
    {
     "data": {
      "text/plain": [
       "[{'name': 'Wetpaint',\n",
       "  'founded_year': 2005,\n",
       "  'acquisition': {'acquired_year': 2013}},\n",
       " {'name': 'Digg',\n",
       "  'founded_year': 2004,\n",
       "  'acquisition': {'acquired_year': 2012}},\n",
       " {'name': 'Geni',\n",
       "  'founded_year': 2006,\n",
       "  'acquisition': {'acquired_year': 2012}},\n",
       " {'name': 'Kyte',\n",
       "  'founded_year': 2006,\n",
       "  'acquisition': {'acquired_year': 2011}},\n",
       " {'name': 'Jingle Networks',\n",
       "  'founded_year': 2005,\n",
       "  'acquisition': {'acquired_year': 2011}},\n",
       " {'name': 'blogTV',\n",
       "  'founded_year': 2006,\n",
       "  'acquisition': {'acquired_year': 2013}},\n",
       " {'name': 'delicious',\n",
       "  'founded_year': 2003,\n",
       "  'acquisition': {'acquired_year': 2011}},\n",
       " {'name': 'Revision3',\n",
       "  'founded_year': 2005,\n",
       "  'acquisition': {'acquired_year': 2012}},\n",
       " {'name': 'iContact',\n",
       "  'founded_year': 2003,\n",
       "  'acquisition': {'acquired_year': 2012}},\n",
       " {'name': 'Mashery',\n",
       "  'founded_year': 2006,\n",
       "  'acquisition': {'acquired_year': 2013}}]"
      ]
     },
     "execution_count": 28,
     "metadata": {},
     "output_type": "execute_result"
    }
   ],
   "source": [
    "list(db.companies.find({'$and':[{'founded_year': {'$gte':2000}},{'founded_year': {'$lte':2010}},\n",
    "{'acquisition.acquired_year': {'$gt':2010}}]},{'name':1,'_id':0,'founded_year':1,\n",
    "'acquisition.acquired_year':1}).limit(10))"
   ]
  },
  {
   "cell_type": "code",
   "execution_count": null,
   "metadata": {},
   "outputs": [],
   "source": []
  }
 ],
 "metadata": {
  "kernelspec": {
   "display_name": "Python 3",
   "language": "python",
   "name": "python3"
  },
  "language_info": {
   "codemirror_mode": {
    "name": "ipython",
    "version": 3
   },
   "file_extension": ".py",
   "mimetype": "text/x-python",
   "name": "python",
   "nbconvert_exporter": "python",
   "pygments_lexer": "ipython3",
   "version": "3.7.6"
  }
 },
 "nbformat": 4,
 "nbformat_minor": 2
}
