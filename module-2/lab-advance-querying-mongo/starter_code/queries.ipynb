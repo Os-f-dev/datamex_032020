{
 "cells": [
  {
   "cell_type": "markdown",
   "metadata": {},
   "source": [
    "![Ironhack Logo](https://i.imgur.com/1QgrNNw.png)"
   ]
  },
  {
   "cell_type": "code",
   "execution_count": 23,
   "metadata": {},
   "outputs": [],
   "source": [
    "from pymongo import MongoClient\n",
    "client=MongoClient()\n",
    "db=client.Companies"
   ]
  },
  {
   "cell_type": "markdown",
   "metadata": {},
   "source": [
    "# Answers\n",
    "### 1. All the companies that it's name match 'Babelgum'. Retrieve only their `name` field."
   ]
  },
  {
   "cell_type": "code",
   "execution_count": 77,
   "metadata": {},
   "outputs": [
    {
     "data": {
      "text/plain": [
       "['_id',\n",
       " 'acquisition',\n",
       " 'acquisitions',\n",
       " 'alias_list',\n",
       " 'blog_feed_url',\n",
       " 'blog_url',\n",
       " 'category_code',\n",
       " 'competitions',\n",
       " 'created_at',\n",
       " 'crunchbase_url',\n",
       " 'deadpooled_day',\n",
       " 'deadpooled_month',\n",
       " 'deadpooled_url',\n",
       " 'deadpooled_year',\n",
       " 'description',\n",
       " 'email_address',\n",
       " 'external_links',\n",
       " 'founded_day',\n",
       " 'founded_month',\n",
       " 'founded_year',\n",
       " 'funding_rounds',\n",
       " 'homepage_url',\n",
       " 'image',\n",
       " 'investments',\n",
       " 'ipo',\n",
       " 'milestones',\n",
       " 'name',\n",
       " 'number_of_employees',\n",
       " 'offices',\n",
       " 'overview',\n",
       " 'partners',\n",
       " 'permalink',\n",
       " 'phone_number',\n",
       " 'products',\n",
       " 'providerships',\n",
       " 'relationships',\n",
       " 'screenshots',\n",
       " 'tag_list',\n",
       " 'total_money_raised',\n",
       " 'twitter_username',\n",
       " 'updated_at',\n",
       " 'video_embeds']"
      ]
     },
     "execution_count": 77,
     "metadata": {},
     "output_type": "execute_result"
    }
   ],
   "source": [
    "sorted(list(db.companies.find()[1000]))"
   ]
  },
  {
   "cell_type": "code",
   "execution_count": 47,
   "metadata": {},
   "outputs": [
    {
     "data": {
      "text/plain": [
       "[{'name': 'Babelgum'}]"
      ]
     },
     "execution_count": 47,
     "metadata": {},
     "output_type": "execute_result"
    }
   ],
   "source": [
    "list(db.companies.find({'name':'Babelgum'},{'_id':0,'name':1}))"
   ]
  },
  {
   "cell_type": "markdown",
   "metadata": {},
   "source": [
    "### 2. All the companies that have more than 5000 employees. Limit the search to 20 companies and sort them by **number of employees**."
   ]
  },
  {
   "cell_type": "code",
   "execution_count": 57,
   "metadata": {},
   "outputs": [
    {
     "data": {
      "text/plain": [
       "[{'name': 'Siemens', 'number_of_employees': 405000},\n",
       " {'name': 'IBM', 'number_of_employees': 388000},\n",
       " {'name': 'Toyota', 'number_of_employees': 320000},\n",
       " {'name': 'PayPal', 'number_of_employees': 300000},\n",
       " {'name': 'Nippon Telegraph and Telephone Corporation',\n",
       "  'number_of_employees': 227000},\n",
       " {'name': 'Samsung Electronics', 'number_of_employees': 221726},\n",
       " {'name': 'Accenture', 'number_of_employees': 205000},\n",
       " {'name': 'Tata Consultancy Services', 'number_of_employees': 200300},\n",
       " {'name': 'Flextronics International', 'number_of_employees': 200000},\n",
       " {'name': 'Safeway', 'number_of_employees': 186000},\n",
       " {'name': 'Sony', 'number_of_employees': 180500},\n",
       " {'name': 'LG', 'number_of_employees': 177000},\n",
       " {'name': 'Ford', 'number_of_employees': 171000},\n",
       " {'name': 'Boeing', 'number_of_employees': 160000},\n",
       " {'name': 'Digital Equipment Corporation', 'number_of_employees': 140000},\n",
       " {'name': 'Nokia', 'number_of_employees': 125000},\n",
       " {'name': 'MItsubishi Electric', 'number_of_employees': 107000},\n",
       " {'name': 'MItsubishi Electric', 'number_of_employees': 107000},\n",
       " {'name': 'Comcast', 'number_of_employees': 100000},\n",
       " {'name': 'Bertelsmann', 'number_of_employees': 100000}]"
      ]
     },
     "execution_count": 57,
     "metadata": {},
     "output_type": "execute_result"
    }
   ],
   "source": [
    "list(db.companies.find({'number_of_employees':{'$gt':5000}},\n",
    "                {'name':1,'_id':0,'number_of_employees':1}).sort('number_of_employees',-1).limit(20))"
   ]
  },
  {
   "cell_type": "markdown",
   "metadata": {},
   "source": [
    "### 3. All the companies founded between 2000 and 2005, both years included. Retrieve only the `name` and `founded_year` fileds."
   ]
  },
  {
   "cell_type": "code",
   "execution_count": 94,
   "metadata": {},
   "outputs": [
    {
     "data": {
      "text/plain": [
       "[{'name': '10East', 'founded_year': 2002},\n",
       " {'name': '1915 Studios', 'founded_year': 2004},\n",
       " {'name': '1938 Media', 'founded_year': 2005},\n",
       " {'name': '1Scan', 'founded_year': 2004},\n",
       " {'name': '2 Minutes', 'founded_year': 2000},\n",
       " {'name': '247techsupport', 'founded_year': 2005},\n",
       " {'name': '25 Pixels Media', 'founded_year': 2001},\n",
       " {'name': '2GeeksinaLab', 'founded_year': 2004},\n",
       " {'name': '2GeeksinaLab', 'founded_year': 2004},\n",
       " {'name': '2threads', 'founded_year': 2004},\n",
       " {'name': '302designs', 'founded_year': 2004},\n",
       " {'name': '32bytes', 'founded_year': 2001},\n",
       " {'name': '360innovate', 'founded_year': 2005},\n",
       " {'name': '360is', 'founded_year': 2002},\n",
       " {'name': '3Dynamics', 'founded_year': 2004},\n",
       " {'name': '3Jam', 'founded_year': 2005},\n",
       " {'name': '3Leaf', 'founded_year': 2004},\n",
       " {'name': '3Sigma', 'founded_year': 2000},\n",
       " {'name': '3Tera', 'founded_year': 2004},\n",
       " {'name': '3biz', 'founded_year': 2005},\n",
       " {'name': '3i Systems', 'founded_year': 2004}]"
      ]
     },
     "execution_count": 94,
     "metadata": {},
     "output_type": "execute_result"
    }
   ],
   "source": [
    "list(db.companies.find({'$and':[{'founded_year':{'$gte':2000}},\n",
    "                                {'founded_year':{'$lte':2005}}]},\n",
    "                       {'name':1,'_id':0,'founded_year':1}).sort('name',1).limit(21))"
   ]
  },
  {
   "cell_type": "markdown",
   "metadata": {},
   "source": [
    "### 4. All the companies that had a Valuation Amount of more than 100.000.000 and have been founded before 2010. Retrieve only the `name` and `ipo` fields."
   ]
  },
  {
   "cell_type": "code",
   "execution_count": 79,
   "metadata": {},
   "outputs": [
    {
     "data": {
      "text/plain": [
       "[{'name': 'Amazon', 'founded_year': 1994},\n",
       " {'name': 'BMC Software', 'founded_year': 1980},\n",
       " {'name': 'Baidu', 'founded_year': 1999},\n",
       " {'name': 'BrightSource Energy', 'founded_year': 2004},\n",
       " {'name': 'Brightcove', 'founded_year': 2004},\n",
       " {'name': 'ChannelAdvisor', 'founded_year': 2001},\n",
       " {'name': 'Chegg', 'founded_year': 2005},\n",
       " {'name': 'Chegg', 'founded_year': 2005},\n",
       " {'name': 'Cornerstone OnDemand', 'founded_year': 1999},\n",
       " {'name': 'DemandTec', 'founded_year': 1999},\n",
       " {'name': 'Facebook', 'founded_year': 2004},\n",
       " {'name': 'GREE', 'founded_year': 2004},\n",
       " {'name': 'Geeknet', 'founded_year': 1993},\n",
       " {'name': 'Groupon', 'founded_year': 2008},\n",
       " {'name': 'Higher One', 'founded_year': 2000},\n",
       " {'name': 'HomeAway', 'founded_year': 2005},\n",
       " {'name': 'Infoblox', 'founded_year': 1999},\n",
       " {'name': 'Jive Software', 'founded_year': 2001},\n",
       " {'name': 'KIT digital', 'founded_year': 2008},\n",
       " {'name': 'LinkedIn', 'founded_year': 2003},\n",
       " {'name': 'Marketo', 'founded_year': 2006},\n",
       " {'name': 'Millennial Media', 'founded_year': 2006},\n",
       " {'name': 'Mixi', 'founded_year': 1999},\n",
       " {'name': 'Nielsen', 'founded_year': 1922},\n",
       " {'name': 'OpenTable', 'founded_year': 1998},\n",
       " {'name': 'Opsware', 'founded_year': 1999},\n",
       " {'name': 'QlikTech', 'founded_year': 1993},\n",
       " {'name': 'QuinStreet', 'founded_year': 1999},\n",
       " {'name': 'Rackspace', 'founded_year': 1998},\n",
       " {'name': 'Rally Software', 'founded_year': 2001},\n",
       " {'name': 'Salesforce', 'founded_year': 1999},\n",
       " {'name': 'Shutterfly', 'founded_year': 1999},\n",
       " {'name': 'SolarWinds', 'founded_year': 1999},\n",
       " {'name': 'Telenav', 'founded_year': 1999},\n",
       " {'name': 'Tencent', 'founded_year': 1998},\n",
       " {'name': 'TripAdvisor', 'founded_year': 2000},\n",
       " {'name': 'Tudou', 'founded_year': 2005},\n",
       " {'name': 'Twitter', 'founded_year': 2006},\n",
       " {'name': 'Western Digital', 'founded_year': 1970},\n",
       " {'name': 'Wix', 'founded_year': 2006},\n",
       " {'name': 'Yelp', 'founded_year': 2004},\n",
       " {'name': 'Zillow', 'founded_year': 2005}]"
      ]
     },
     "execution_count": 79,
     "metadata": {},
     "output_type": "execute_result"
    }
   ],
   "source": [
    " list(db.companies.find({'$and':[{'founded_year':{'$lte':2010}},\n",
    "                    {'ipo.valuation_amount':{'$gt':100000000}}]},\n",
    "           {'name':1,'_id':0,'founded_year':1}).sort('name',1))                      "
   ]
  },
  {
   "cell_type": "markdown",
   "metadata": {},
   "source": [
    "### 5. All the companies that have less than 1000 employees and have been founded before 2005. Order them by the number of employees and limit the search to 10 companies."
   ]
  },
  {
   "cell_type": "code",
   "execution_count": 83,
   "metadata": {},
   "outputs": [
    {
     "data": {
      "text/plain": [
       "[{'name': 'Infinera Corporation',\n",
       "  'number_of_employees': 974,\n",
       "  'founded_year': 2000},\n",
       " {'name': 'Box', 'number_of_employees': 950, 'founded_year': 2005},\n",
       " {'name': 'NorthPoint Communications Group',\n",
       "  'number_of_employees': 948,\n",
       "  'founded_year': 1997},\n",
       " {'name': '888 Holdings', 'number_of_employees': 931, 'founded_year': 1997},\n",
       " {'name': 'Forrester Research',\n",
       "  'number_of_employees': 903,\n",
       "  'founded_year': 1983},\n",
       " {'name': 'Webmetrics', 'number_of_employees': 900, 'founded_year': 1999},\n",
       " {'name': 'SonicWALL', 'number_of_employees': 900, 'founded_year': 1991},\n",
       " {'name': 'Workday', 'number_of_employees': 900, 'founded_year': 2005},\n",
       " {'name': 'Cornerstone OnDemand',\n",
       "  'number_of_employees': 881,\n",
       "  'founded_year': 1999},\n",
       " {'name': 'Mozilla', 'number_of_employees': 800, 'founded_year': 1998}]"
      ]
     },
     "execution_count": 83,
     "metadata": {},
     "output_type": "execute_result"
    }
   ],
   "source": [
    "list(db.companies.find({'$and':[{'founded_year':{'$lte':2005}},\n",
    "                                {'number_of_employees':{'$lt':1000}}]},\n",
    "                       {'name':1,'_id':0,'founded_year':1,'number_of_employees':1}\n",
    "                      ).sort('number_of_employees',-1).limit(10))"
   ]
  },
  {
   "cell_type": "markdown",
   "metadata": {},
   "source": [
    "### 6. All the companies that don't include the `partners` field."
   ]
  },
  {
   "cell_type": "code",
   "execution_count": 147,
   "metadata": {},
   "outputs": [
    {
     "data": {
      "text/plain": [
       "[{'name': 'Wetpaint'},\n",
       " {'name': 'AdventNet'},\n",
       " {'name': 'Zoho'},\n",
       " {'name': 'Digg'},\n",
       " {'name': 'Facebook'},\n",
       " {'name': 'Omnidrive'},\n",
       " {'name': 'Postini'},\n",
       " {'name': 'Geni'},\n",
       " {'name': 'Flektor'},\n",
       " {'name': 'Fox Interactive Media'},\n",
       " {'name': 'Twitter'},\n",
       " {'name': 'StumbleUpon'},\n",
       " {'name': 'Gizmoz'},\n",
       " {'name': 'Scribd'},\n",
       " {'name': 'Slacker'},\n",
       " {'name': 'Lala'},\n",
       " {'name': 'Helio'},\n",
       " {'name': 'eBay'},\n",
       " {'name': 'MeetMoi'},\n",
       " {'name': 'Joost'},\n",
       " {'name': 'CBS'}]"
      ]
     },
     "execution_count": 147,
     "metadata": {},
     "output_type": "execute_result"
    }
   ],
   "source": [
    "list(db.companies.find({ 'partners': { '$exists': True } }, # if False prints an empty list\n",
    "                       {'name':1,'_id':0}).limit(21))\n",
    "# type reference:\n",
    "# https://docs.mongodb.com/manual/reference/operator/query/type/#querying-by-array-type"
   ]
  },
  {
   "cell_type": "markdown",
   "metadata": {},
   "source": [
    "### 7. All the companies that have a null type of value on the `category_code` field."
   ]
  },
  {
   "cell_type": "code",
   "execution_count": 146,
   "metadata": {},
   "outputs": [
    {
     "data": {
      "text/plain": [
       "[{'name': 'Wetpaint'},\n",
       " {'name': 'AdventNet'},\n",
       " {'name': 'Zoho'},\n",
       " {'name': 'Digg'},\n",
       " {'name': 'Facebook'},\n",
       " {'name': 'Omnidrive'},\n",
       " {'name': 'Postini'},\n",
       " {'name': 'Geni'},\n",
       " {'name': 'Flektor'},\n",
       " {'name': 'Fox Interactive Media'},\n",
       " {'name': 'Twitter'},\n",
       " {'name': 'StumbleUpon'},\n",
       " {'name': 'Gizmoz'},\n",
       " {'name': 'Scribd'},\n",
       " {'name': 'Slacker'},\n",
       " {'name': 'Lala'},\n",
       " {'name': 'Helio'},\n",
       " {'name': 'eBay'},\n",
       " {'name': 'MeetMoi'},\n",
       " {'name': 'Joost'},\n",
       " {'name': 'CBS'}]"
      ]
     },
     "execution_count": 146,
     "metadata": {},
     "output_type": "execute_result"
    }
   ],
   "source": [
    "list(db.companies.find({ 'category_code': { '$type': \"string\" } }, # prints an empty list with \"null\"\n",
    "                       {'name':1,'_id':0}).limit(21))"
   ]
  },
  {
   "cell_type": "markdown",
   "metadata": {},
   "source": [
    "### 8. All the companies that have at least 100 employees but less than 1000. Retrieve only the `name` and `number of employees` fields."
   ]
  },
  {
   "cell_type": "code",
   "execution_count": 93,
   "metadata": {},
   "outputs": [
    {
     "data": {
      "text/plain": [
       "[{'name': '2 Minutes', 'number_of_employees': 105},\n",
       " {'name': '2AdPro', 'number_of_employees': 350},\n",
       " {'name': '2ergo', 'number_of_employees': 100},\n",
       " {'name': '4shared', 'number_of_employees': 666},\n",
       " {'name': '7digital', 'number_of_employees': 120},\n",
       " {'name': '800APP', 'number_of_employees': 200},\n",
       " {'name': '888 Holdings', 'number_of_employees': 931},\n",
       " {'name': '88DB', 'number_of_employees': 150},\n",
       " {'name': '99designs', 'number_of_employees': 100},\n",
       " {'name': '9You', 'number_of_employees': 460},\n",
       " {'name': 'A10 Networks', 'number_of_employees': 500},\n",
       " {'name': 'AKQA', 'number_of_employees': 550},\n",
       " {'name': 'AKQA', 'number_of_employees': 550},\n",
       " {'name': 'AMAX Global Services', 'number_of_employees': 200},\n",
       " {'name': 'AMAX Global Services', 'number_of_employees': 200},\n",
       " {'name': 'AMEC', 'number_of_employees': 240},\n",
       " {'name': 'AMX', 'number_of_employees': 346},\n",
       " {'name': 'API Outsourcing', 'number_of_employees': 130},\n",
       " {'name': 'API Outsourcing', 'number_of_employees': 130},\n",
       " {'name': 'APICS', 'number_of_employees': 110},\n",
       " {'name': 'AVST', 'number_of_employees': 100}]"
      ]
     },
     "execution_count": 93,
     "metadata": {},
     "output_type": "execute_result"
    }
   ],
   "source": [
    "list(db.companies.find({'$and':[{'number_of_employees':{'$gte':100}},\n",
    "                                {'number_of_employees':{'$lte':1000}}]},\n",
    "                       {'name':1,'_id':0,'number_of_employees':1}).sort('name',1).limit(21))"
   ]
  },
  {
   "cell_type": "markdown",
   "metadata": {},
   "source": [
    "### 9. Order all the companies by their IPO price descendently."
   ]
  },
  {
   "cell_type": "code",
   "execution_count": 92,
   "metadata": {},
   "outputs": [
    {
     "data": {
      "text/plain": [
       "[{'name': 'GREE', 'ipo': {'valuation_amount': 108960000000}},\n",
       " {'name': 'Facebook', 'ipo': {'valuation_amount': 104000000000}},\n",
       " {'name': 'Amazon', 'ipo': {'valuation_amount': 100000000000}},\n",
       " {'name': 'Twitter', 'ipo': {'valuation_amount': 18100000000}},\n",
       " {'name': 'Groupon', 'ipo': {'valuation_amount': 12800000000}},\n",
       " {'name': 'Tencent', 'ipo': {'valuation_amount': 11000000000}},\n",
       " {'name': 'Western Digital', 'ipo': {'valuation_amount': 9430000000}},\n",
       " {'name': 'LinkedIn', 'ipo': {'valuation_amount': 9310000000}},\n",
       " {'name': 'BMC Software', 'ipo': {'valuation_amount': 6000000000}},\n",
       " {'name': 'Rackspace', 'ipo': {'valuation_amount': 5440000000}},\n",
       " {'name': 'Baidu', 'ipo': {'valuation_amount': 4000000000}},\n",
       " {'name': 'TripAdvisor', 'ipo': {'valuation_amount': 3273770000}},\n",
       " {'name': 'HomeAway', 'ipo': {'valuation_amount': 3000000000}},\n",
       " {'name': 'Zillow', 'ipo': {'valuation_amount': 2550000000}},\n",
       " {'name': 'Nielsen', 'ipo': {'valuation_amount': 1600000000}},\n",
       " {'name': 'Yelp', 'ipo': {'valuation_amount': 1300000000}},\n",
       " {'name': 'Chegg', 'ipo': {'valuation_amount': 1100000000}},\n",
       " {'name': 'Chegg', 'ipo': {'valuation_amount': 1100000000}},\n",
       " {'name': 'RPX Corporation', 'ipo': {'valuation_amount': 1096000000}},\n",
       " {'name': 'Higher One', 'ipo': {'valuation_amount': 1060000000}},\n",
       " {'name': 'OpenTable', 'ipo': {'valuation_amount': 1050000000}}]"
      ]
     },
     "execution_count": 92,
     "metadata": {},
     "output_type": "execute_result"
    }
   ],
   "source": [
    "list(db.companies.find({'ipo.valuation_amount':{'$gt':10}},\n",
    "                {'name':1,'_id':0,'ipo.valuation_amount':1}).sort('ipo.valuation_amount',-1).limit(21))"
   ]
  },
  {
   "cell_type": "markdown",
   "metadata": {},
   "source": [
    "### 10. Retrieve the 10 companies with more employees, order by the `number of employees`"
   ]
  },
  {
   "cell_type": "code",
   "execution_count": 95,
   "metadata": {},
   "outputs": [
    {
     "data": {
      "text/plain": [
       "[{'name': 'Siemens', 'number_of_employees': 405000},\n",
       " {'name': 'IBM', 'number_of_employees': 388000},\n",
       " {'name': 'Toyota', 'number_of_employees': 320000},\n",
       " {'name': 'PayPal', 'number_of_employees': 300000},\n",
       " {'name': 'Nippon Telegraph and Telephone Corporation',\n",
       "  'number_of_employees': 227000},\n",
       " {'name': 'Samsung Electronics', 'number_of_employees': 221726},\n",
       " {'name': 'Accenture', 'number_of_employees': 205000},\n",
       " {'name': 'Tata Consultancy Services', 'number_of_employees': 200300},\n",
       " {'name': 'Flextronics International', 'number_of_employees': 200000},\n",
       " {'name': 'Safeway', 'number_of_employees': 186000}]"
      ]
     },
     "execution_count": 95,
     "metadata": {},
     "output_type": "execute_result"
    }
   ],
   "source": [
    "list(db.companies.find({'number_of_employees':{'$gt':10}},\n",
    "                {'name':1,'_id':0,'number_of_employees':1}).sort('number_of_employees',-1).limit(10))"
   ]
  },
  {
   "cell_type": "markdown",
   "metadata": {},
   "source": [
    "### 11. All the companies founded on the second semester of the year. Limit your search to 1000 companies."
   ]
  },
  {
   "cell_type": "code",
   "execution_count": 97,
   "metadata": {},
   "outputs": [
    {
     "data": {
      "text/plain": [
       "[{'name': 'Wetpaint', 'founded_month': 10},\n",
       " {'name': 'Zoho', 'founded_month': 9},\n",
       " {'name': 'Digg', 'founded_month': 10},\n",
       " {'name': 'Omnidrive', 'founded_month': 11},\n",
       " {'name': 'eBay', 'founded_month': 9},\n",
       " {'name': 'Joost', 'founded_month': 10},\n",
       " {'name': 'Plaxo', 'founded_month': 11},\n",
       " {'name': 'Powerset', 'founded_month': 10},\n",
       " {'name': 'Kyte', 'founded_month': 12},\n",
       " {'name': 'Thoof', 'founded_month': 12},\n",
       " {'name': 'Jingle Networks', 'founded_month': 9},\n",
       " {'name': 'LifeLock', 'founded_month': 8},\n",
       " {'name': 'Wesabe', 'founded_month': 12},\n",
       " {'name': 'SmugMug', 'founded_month': 11},\n",
       " {'name': 'Google', 'founded_month': 9},\n",
       " {'name': 'Skype', 'founded_month': 8},\n",
       " {'name': 'Pando Networks', 'founded_month': 7},\n",
       " {'name': 'Ikan', 'founded_month': 12},\n",
       " {'name': 'delicious', 'founded_month': 9},\n",
       " {'name': 'AllPeers', 'founded_month': 8},\n",
       " {'name': 'Wize', 'founded_month': 8}]"
      ]
     },
     "execution_count": 97,
     "metadata": {},
     "output_type": "execute_result"
    }
   ],
   "source": [
    "list(db.companies.find({'founded_month':{'$gte':7}},\n",
    "                {'name':1,'_id':0,'founded_month':1}).limit(21))"
   ]
  },
  {
   "cell_type": "markdown",
   "metadata": {},
   "source": [
    "### 12. All the companies that have been 'deadpooled' after the third year."
   ]
  },
  {
   "cell_type": "code",
   "execution_count": 98,
   "metadata": {},
   "outputs": [
    {
     "data": {
      "text/plain": [
       "[{'name': 'Zoho', 'deadpooled_year': 3},\n",
       " {'name': 'Omnidrive', 'deadpooled_year': 2008},\n",
       " {'name': 'Babelgum', 'deadpooled_year': 2013},\n",
       " {'name': 'Sparter', 'deadpooled_year': 2008},\n",
       " {'name': 'Thoof', 'deadpooled_year': 2013},\n",
       " {'name': 'Mercora', 'deadpooled_year': 2008},\n",
       " {'name': 'Wesabe', 'deadpooled_year': 2010},\n",
       " {'name': 'Jangl SMS', 'deadpooled_year': 2008},\n",
       " {'name': 'Stickam', 'deadpooled_year': 2013},\n",
       " {'name': 'AllPeers', 'deadpooled_year': 2008},\n",
       " {'name': 'EQO', 'deadpooled_year': 2012},\n",
       " {'name': 'AllofMP3', 'deadpooled_year': 2007},\n",
       " {'name': 'SellABand', 'deadpooled_year': 2010},\n",
       " {'name': 'Zlio', 'deadpooled_year': 2011},\n",
       " {'name': 'Jaiku', 'deadpooled_year': 2012},\n",
       " {'name': 'Spotplex', 'deadpooled_year': 2008},\n",
       " {'name': 'TripUp', 'deadpooled_year': 2008},\n",
       " {'name': 'Fleck', 'deadpooled_year': 2008},\n",
       " {'name': 'Coghead', 'deadpooled_year': 2009},\n",
       " {'name': 'Zooomr', 'deadpooled_year': 2006},\n",
       " {'name': 'Swivel', 'deadpooled_year': 2010}]"
      ]
     },
     "execution_count": 98,
     "metadata": {},
     "output_type": "execute_result"
    }
   ],
   "source": [
    "list(db.companies.find({'deadpooled_year':{'$gte':3}},\n",
    "                {'name':1,'_id':0,'deadpooled_year':1}).limit(21))"
   ]
  },
  {
   "cell_type": "markdown",
   "metadata": {},
   "source": [
    "### 13. All the companies founded before 2000 that have an acquisition amount of more than 10.000.000"
   ]
  },
  {
   "cell_type": "code",
   "execution_count": 124,
   "metadata": {},
   "outputs": [
    {
     "data": {
      "text/plain": [
       "[{'name': 'Wetpaint'},\n",
       " {'name': 'AdventNet'},\n",
       " {'name': 'Zoho'},\n",
       " {'name': 'Digg'},\n",
       " {'name': 'Facebook'}]"
      ]
     },
     "execution_count": 124,
     "metadata": {},
     "output_type": "execute_result"
    }
   ],
   "source": [
    "list(db.companies.find({ 'acquisition': { '$exists': True } },\n",
    "                       {'name':1,'_id':0}).limit(5))\n",
    "# got companies where i'm sure the field \"acquisition\" exists"
   ]
  },
  {
   "cell_type": "code",
   "execution_count": 172,
   "metadata": {},
   "outputs": [],
   "source": [
    "# list(db.companies.find({'name':'Wetpaint'}))\n",
    "# got the acquisition.price_amount from this query"
   ]
  },
  {
   "cell_type": "code",
   "execution_count": 130,
   "metadata": {},
   "outputs": [
    {
     "data": {
      "text/plain": [
       "[{'name': 'picoChip', 'acquisition': {'price_amount': 76800000}},\n",
       " {'name': 'mindSHIFT Technologies',\n",
       "  'acquisition': {'price_amount': 167000000}},\n",
       " {'name': 'ioko', 'acquisition': {'price_amount': 91400000}},\n",
       " {'name': 'iWeb Technologies', 'acquisition': {'price_amount': 145000000}},\n",
       " {'name': 'iWeb Technologies', 'acquisition': {'price_amount': 145000000}},\n",
       " {'name': 'iVillage', 'acquisition': {'price_amount': 600000000}},\n",
       " {'name': 'iStockphoto', 'acquisition': {'price_amount': 50000000}},\n",
       " {'name': 'iCrossing', 'acquisition': {'price_amount': 325000000}},\n",
       " {'name': 'eGroups', 'acquisition': {'price_amount': 432000000}},\n",
       " {'name': \"eBaum's World\", 'acquisition': {'price_amount': 32500000}},\n",
       " {'name': 'aQuantive', 'acquisition': {'price_amount': 6400000000.0}}]"
      ]
     },
     "execution_count": 130,
     "metadata": {},
     "output_type": "execute_result"
    }
   ],
   "source": [
    "list(db.companies.find({'$and':[{'founded_year':{'$lte':2000}},\n",
    "                                {'acquisition.price_amount':{'$gte':10000000}}]},\n",
    "                       {'name':1,'_id':0,'acquisition.price_amount':1}).sort('name',-1).limit(11))"
   ]
  },
  {
   "cell_type": "markdown",
   "metadata": {},
   "source": [
    "### 14. All the companies that have been acquired after 2015, order by the acquisition amount, and retrieve only their `name` and `acquisiton` field."
   ]
  },
  {
   "cell_type": "code",
   "execution_count": 141,
   "metadata": {},
   "outputs": [
    {
     "data": {
      "text/plain": [
       "[{'name': 'Sense Networks', 'acquisition': {'price_amount': nan}},\n",
       " {'name': 'Nullsoft', 'acquisition': {'price_amount': nan}},\n",
       " {'name': 'Alverix', 'acquisition': {'price_amount': 40000000}}]"
      ]
     },
     "execution_count": 141,
     "metadata": {},
     "output_type": "execute_result"
    }
   ],
   "source": [
    "list(db.companies.find({'acquisition.acquired_year':{'$gte':2014}},# prints an empty list after \"2015\"\n",
    "                {'name':1,'_id':0,'acquisition.price_amount':1}).limit(20))"
   ]
  },
  {
   "cell_type": "markdown",
   "metadata": {},
   "source": [
    "### 15. Order the companies by their `founded year`, retrieving only their `name` and `founded year`."
   ]
  },
  {
   "cell_type": "code",
   "execution_count": 155,
   "metadata": {},
   "outputs": [
    {
     "data": {
      "text/plain": [
       "[{'name': 'Fixya', 'founded_year': 2013},\n",
       " {'name': 'Gimigo', 'founded_year': 2013},\n",
       " {'name': 'VistaGen Therapeutics', 'founded_year': 2013},\n",
       " {'name': 'SEOGroup', 'founded_year': 2013},\n",
       " {'name': 'WhosCall', 'founded_year': 2013},\n",
       " {'name': 'Wamba', 'founded_year': 2013},\n",
       " {'name': 'Shopseen', 'founded_year': 2013},\n",
       " {'name': 'Tongxue', 'founded_year': 2013},\n",
       " {'name': 'Advaliant', 'founded_year': 2013},\n",
       " {'name': 'Pikk', 'founded_year': 2013},\n",
       " {'name': 'Fluc', 'founded_year': 2013},\n",
       " {'name': 'Clowdy', 'founded_year': 2013},\n",
       " {'name': 'iBazar', 'founded_year': 2013},\n",
       " {'name': 'Springleap', 'founded_year': 2012},\n",
       " {'name': 'Skydeck', 'founded_year': 2012},\n",
       " {'name': 'Mobiluck', 'founded_year': 2012},\n",
       " {'name': 'headr', 'founded_year': 2012},\n",
       " {'name': 'FoodCare', 'founded_year': 2012},\n",
       " {'name': 'Bling Easy', 'founded_year': 2012},\n",
       " {'name': 'Jumbuck Entertainment', 'founded_year': 2012}]"
      ]
     },
     "execution_count": 155,
     "metadata": {},
     "output_type": "execute_result"
    }
   ],
   "source": [
    "list(db.companies.find({'founded_year':{'$gte':0}},\n",
    "                {'name':1,'_id':0,'founded_year':1}).sort('founded_year',-1).limit(20))"
   ]
  },
  {
   "cell_type": "markdown",
   "metadata": {},
   "source": [
    "### 16. All the companies that have been founded on the first seven days of the month, including the seventh. Sort them by their `aquisition price` descendently. Limit the search to 10 documents."
   ]
  },
  {
   "cell_type": "code",
   "execution_count": 158,
   "metadata": {},
   "outputs": [
    {
     "data": {
      "text/plain": [
       "[{'name': 'Netscape', 'acquisition': {'price_amount': 4200000000.0}},\n",
       " {'name': 'PayPal', 'acquisition': {'price_amount': 1500000000}},\n",
       " {'name': 'Zappos', 'acquisition': {'price_amount': 1200000000}},\n",
       " {'name': 'Alibaba', 'acquisition': {'price_amount': 1000000000}},\n",
       " {'name': 'Postini', 'acquisition': {'price_amount': 625000000}},\n",
       " {'name': 'Danger', 'acquisition': {'price_amount': 500000000}},\n",
       " {'name': 'Clearwell Systems', 'acquisition': {'price_amount': 410000000}},\n",
       " {'name': 'PrimeSense', 'acquisition': {'price_amount': 345000000}},\n",
       " {'name': 'Amobee', 'acquisition': {'price_amount': 321000000}},\n",
       " {'name': 'BlueLithium', 'acquisition': {'price_amount': 300000000}}]"
      ]
     },
     "execution_count": 158,
     "metadata": {},
     "output_type": "execute_result"
    }
   ],
   "source": [
    "list(db.companies.find({'founded_day':{'$lte':7}},\n",
    "                {'name':1,'_id':0,'acquisition.price_amount':1}).sort('acquisition.price_amount',-1).limit(10))"
   ]
  },
  {
   "cell_type": "markdown",
   "metadata": {},
   "source": [
    "### 17. All the companies on the 'web' `category` that have more than 4000 employees. Sort them by the amount of employees in ascendant order."
   ]
  },
  {
   "cell_type": "code",
   "execution_count": 160,
   "metadata": {},
   "outputs": [
    {
     "data": {
      "text/plain": [
       "[{'name': 'Expedia', 'number_of_employees': 4400},\n",
       " {'name': 'AOL', 'number_of_employees': 8000},\n",
       " {'name': 'Webkinz', 'number_of_employees': 8657},\n",
       " {'name': 'Rakuten', 'number_of_employees': 10000},\n",
       " {'name': 'Los Angeles Times Media Group', 'number_of_employees': 10000},\n",
       " {'name': 'Groupon', 'number_of_employees': 10000},\n",
       " {'name': 'Yahoo!', 'number_of_employees': 13600},\n",
       " {'name': 'eBay', 'number_of_employees': 15000},\n",
       " {'name': 'Experian', 'number_of_employees': 15500}]"
      ]
     },
     "execution_count": 160,
     "metadata": {},
     "output_type": "execute_result"
    }
   ],
   "source": [
    "list(db.companies.find({'$and':[{'category_code': 'web'},\n",
    "                                {'number_of_employees':{'$gt':4000}}]},\n",
    "                       {'name':1,'_id':0,'number_of_employees':1}).sort('number_of_employees',1).limit(21))"
   ]
  },
  {
   "cell_type": "markdown",
   "metadata": {},
   "source": [
    "### 18. All the companies which their acquisition amount is more than 10.000.000, and currency are 'EUR'.\n"
   ]
  },
  {
   "cell_type": "code",
   "execution_count": 162,
   "metadata": {},
   "outputs": [
    {
     "data": {
      "text/plain": [
       "[{'name': 'Wayfinder',\n",
       "  'acquisition': {'price_amount': 24000000, 'price_currency_code': 'EUR'}},\n",
       " {'name': 'ZYB',\n",
       "  'acquisition': {'price_amount': 31500000, 'price_currency_code': 'EUR'}},\n",
       " {'name': 'Greenfield Online',\n",
       "  'acquisition': {'price_amount': 40000000, 'price_currency_code': 'EUR'}},\n",
       " {'name': 'BioMed Central',\n",
       "  'acquisition': {'price_amount': 43400000, 'price_currency_code': 'EUR'}},\n",
       " {'name': 'Webedia',\n",
       "  'acquisition': {'price_amount': 70000000, 'price_currency_code': 'EUR'}},\n",
       " {'name': 'Tuenti Technologies',\n",
       "  'acquisition': {'price_amount': 70000000, 'price_currency_code': 'EUR'}},\n",
       " {'name': 'Apertio',\n",
       "  'acquisition': {'price_amount': 140000000, 'price_currency_code': 'EUR'}}]"
      ]
     },
     "execution_count": 162,
     "metadata": {},
     "output_type": "execute_result"
    }
   ],
   "source": [
    "list(db.companies.find({'$and':[{'acquisition.price_amount': {'$gte':10000000}},\n",
    "                                {'acquisition.price_currency_code':'EUR'}]},\n",
    "                       {'name':1,'_id':0,'acquisition.price_amount':1,'acquisition.price_currency_code':1}\n",
    "                      ).sort('acquisition.price_amount',1).limit(21))"
   ]
  },
  {
   "cell_type": "markdown",
   "metadata": {},
   "source": [
    "### 19. All the companies that have been acquired on the first trimester of the year. Limit the search to 10 companies, and retrieve only their `name` and `acquisition` fields."
   ]
  },
  {
   "cell_type": "code",
   "execution_count": 169,
   "metadata": {},
   "outputs": [
    {
     "data": {
      "text/plain": [
       "[{'name': 'Paramount Pictures', 'acquisition': {'acquired_month': 3}},\n",
       " {'name': 'CompareNet', 'acquisition': {'acquired_month': 3}},\n",
       " {'name': 'Lightera', 'acquisition': {'acquired_month': 3}},\n",
       " {'name': 'HyperParallel', 'acquisition': {'acquired_month': 2}},\n",
       " {'name': 'Sentient Networks', 'acquisition': {'acquired_month': 4}},\n",
       " {'name': 'Berkeley Networks', 'acquisition': {'acquired_month': 4}},\n",
       " {'name': 'GeoCities', 'acquisition': {'acquired_month': 1}},\n",
       " {'name': 'zip2', 'acquisition': {'acquired_month': 4}},\n",
       " {'name': 'inTALK', 'acquisition': {'acquired_month': 2}},\n",
       " {'name': 'Jump Networks', 'acquisition': {'acquired_month': 4}},\n",
       " {'name': 'Treesahran Industries Ganes', 'acquisition': {'acquired_month': 1}},\n",
       " {'name': 'MyQuest', 'acquisition': {'acquired_month': 3}},\n",
       " {'name': 'Nortel Networks', 'acquisition': {'acquired_month': 4}},\n",
       " {'name': 'Direct Hit', 'acquisition': {'acquired_month': 2}},\n",
       " {'name': 'BabyCenter', 'acquisition': {'acquired_month': 3}},\n",
       " {'name': 'WhaleMail', 'acquisition': {'acquired_month': 2}},\n",
       " {'name': 'Deja', 'acquisition': {'acquired_month': 2}},\n",
       " {'name': 'Spinway', 'acquisition': {'acquired_month': 3}},\n",
       " {'name': 'Planet Alumni User Data', 'acquisition': {'acquired_month': 2}},\n",
       " {'name': 'Zayante', 'acquisition': {'acquired_month': 4}},\n",
       " {'name': 'Planet Alumni User Data', 'acquisition': {'acquired_month': 2}}]"
      ]
     },
     "execution_count": 169,
     "metadata": {},
     "output_type": "execute_result"
    }
   ],
   "source": [
    "list(db.companies.find({'acquisition.acquired_month':{'$lte':4}},\n",
    "                        {'name':1,'_id':0,'acquisition.acquired_month':1}\n",
    "                       ).sort('acquisition.acquired_year',1).limit(21))"
   ]
  },
  {
   "cell_type": "markdown",
   "metadata": {},
   "source": [
    "### 20. All the companies that have been founded between 2000 and 2010, but have not been acquired before 2011."
   ]
  },
  {
   "cell_type": "code",
   "execution_count": 171,
   "metadata": {},
   "outputs": [
    {
     "data": {
      "text/plain": [
       "[{'name': 'Wetpaint',\n",
       "  'founded_year': 2005,\n",
       "  'acquisition': {'acquired_year': 2013}},\n",
       " {'name': 'Digg',\n",
       "  'founded_year': 2004,\n",
       "  'acquisition': {'acquired_year': 2012}},\n",
       " {'name': 'Geni',\n",
       "  'founded_year': 2006,\n",
       "  'acquisition': {'acquired_year': 2012}},\n",
       " {'name': 'Kyte',\n",
       "  'founded_year': 2006,\n",
       "  'acquisition': {'acquired_year': 2011}},\n",
       " {'name': 'Jingle Networks',\n",
       "  'founded_year': 2005,\n",
       "  'acquisition': {'acquired_year': 2011}},\n",
       " {'name': 'blogTV',\n",
       "  'founded_year': 2006,\n",
       "  'acquisition': {'acquired_year': 2013}},\n",
       " {'name': 'delicious',\n",
       "  'founded_year': 2003,\n",
       "  'acquisition': {'acquired_year': 2011}}]"
      ]
     },
     "execution_count": 171,
     "metadata": {},
     "output_type": "execute_result"
    }
   ],
   "source": [
    "list(db.companies.find({'$and':[{'founded_year': {'$gte':2000}},\n",
    "                                {'founded_year': {'$lte':2010}},\n",
    "                                {'acquisition.acquired_year': {'$gt':2010}}]},\n",
    "                       {'name':1,'_id':0,'founded_year':1,'acquisition.acquired_year':1}\n",
    "                      ).limit(7))"
   ]
  },
  {
   "cell_type": "code",
   "execution_count": null,
   "metadata": {},
   "outputs": [],
   "source": []
  }
 ],
 "metadata": {
  "kernelspec": {
   "display_name": "Python 3",
   "language": "python",
   "name": "python3"
  },
  "language_info": {
   "codemirror_mode": {
    "name": "ipython",
    "version": 3
   },
   "file_extension": ".py",
   "mimetype": "text/x-python",
   "name": "python",
   "nbconvert_exporter": "python",
   "pygments_lexer": "ipython3",
   "version": "3.7.8"
  }
 },
 "nbformat": 4,
 "nbformat_minor": 2
}
