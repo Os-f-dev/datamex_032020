{
 "cells": [
  {
   "cell_type": "markdown",
   "metadata": {},
   "source": [
    "# Before your start:\n",
    "- Read the README.md file\n",
    "- Comment as much as you can and use the resources (README.md file)\n",
    "- Happy learning!"
   ]
  },
  {
   "cell_type": "code",
   "execution_count": 1,
   "metadata": {},
   "outputs": [],
   "source": [
    "# Run this code:\n",
    "\n",
    "%matplotlib inline\n",
    "\n",
    "import matplotlib.pyplot as plt"
   ]
  },
  {
   "cell_type": "code",
   "execution_count": 2,
   "metadata": {},
   "outputs": [],
   "source": [
    "# Import numpy and pandas:\n",
    "import numpy as np\n",
    "import pandas as pd"
   ]
  },
  {
   "cell_type": "markdown",
   "metadata": {},
   "source": [
    "# Challenge 1 - Reading and Standardizing the Data\n",
    "\n",
    "In this challenge we will work with image data and reduce the dimensions of the data to create a 2 dimensional plot. While we have not worked much with image data before, it can be represented as a numpy array where each pixel is assigned a numeric value. In this lesson, we will look at a dataset of cats and a dataset of dogs and see whether reducing them to two dimensions allows us to see if the data is separable. We will start by loading and processing the data. Run the cell below to load the two csv files and convert them into numpy arrays."
   ]
  },
  {
   "cell_type": "code",
   "execution_count": 3,
   "metadata": {},
   "outputs": [],
   "source": [
    "# Run this code\n",
    "\n",
    "cats = np.array(pd.read_csv(\"https://raw.githubusercontent.com/bioramble/pca/master/cat.csv\", header=None))\n",
    "dogs = np.array(pd.read_csv(\"https://raw.githubusercontent.com/bioramble/pca/master/dog.csv\", header=None))"
   ]
  },
  {
   "cell_type": "markdown",
   "metadata": {},
   "source": [
    "Next, we'll examine the shape of both the cats and the dogs arrays. Print out both shapes below."
   ]
  },
  {
   "cell_type": "code",
   "execution_count": 6,
   "metadata": {},
   "outputs": [
    {
     "name": "stdout",
     "output_type": "stream",
     "text": [
      "cats (4096, 80)\n",
      "dogs (4096, 80)\n"
     ]
    }
   ],
   "source": [
    "# Your code here:\n",
    "print('cats', cats.shape)\n",
    "print('dogs', dogs.shape)"
   ]
  },
  {
   "cell_type": "markdown",
   "metadata": {},
   "source": [
    "What this means is that both arrays contain 80 images each (the number of columns). Each image is comprised of 64x64 pixels (so a total of 4096 pixels per image). The images have been flattened such that all 4096 are in a single row.\n",
    "\n",
    "Print out column 0 of the cats array to see what the pixels values look like."
   ]
  },
  {
   "cell_type": "code",
   "execution_count": 7,
   "metadata": {},
   "outputs": [
    {
     "data": {
      "text/plain": [
       "array([ 64,  23, 250, 137,  55, 173,  18, 134,  19,  47, 109, 164,  41,\n",
       "        78, 108, 108, 247, 105, 158,  54, 103,   4,  23, 102, 239,  72,\n",
       "        42,  21, 168, 109, 112, 177,  22, 233,  15, 236, 250, 137,  32,\n",
       "         5, 178, 109,  24, 107,  53, 241, 226, 143,   5, 136,  98, 100,\n",
       "        89,  66, 228,  92, 255,  88, 230,  56, 160,  69,   6,  24, 195,\n",
       "       183, 239,  35, 154, 154, 122,  18,  87, 106, 174,  69,  28,  60,\n",
       "       223, 101], dtype=int64)"
      ]
     },
     "execution_count": 7,
     "metadata": {},
     "output_type": "execute_result"
    }
   ],
   "source": [
    "# Your code here:\n",
    "\n",
    "cats[0]"
   ]
  },
  {
   "cell_type": "markdown",
   "metadata": {},
   "source": [
    "Using `matplotlib` we can plot a single cat or a single dog. We do this by reshaping the vector back to a 64x64 image and then using the `imshow` function.\n",
    "\n",
    "Run the code below to look at the first dog and the first cat."
   ]
  },
  {
   "cell_type": "code",
   "execution_count": 8,
   "metadata": {},
   "outputs": [
    {
     "data": {
      "text/plain": [
       "<matplotlib.image.AxesImage at 0x1c9133f6a60>"
      ]
     },
     "execution_count": 8,
     "metadata": {},
     "output_type": "execute_result"
    },
    {
     "data": {
      "image/png": "[encoded data removed]",
      "text/plain": [
       "<Figure size 432x288 with 1 Axes>"
      ]
     },
     "metadata": {
      "needs_background": "light"
     },
     "output_type": "display_data"
    }
   ],
   "source": [
    "# Run this code:\n",
    "\n",
    "fig, ax = plt.subplots()\n",
    "ax.imshow(cats[:,0].reshape(64, 64).T, cmap=plt.cm.bone, interpolation='nearest') "
   ]
  },
  {
   "cell_type": "code",
   "execution_count": 9,
   "metadata": {},
   "outputs": [
    {
     "data": {
      "text/plain": [
       "<matplotlib.image.AxesImage at 0x1c9134e4880>"
      ]
     },
     "execution_count": 9,
     "metadata": {},
     "output_type": "execute_result"
    },
    {
     "data": {
      "image/png": "[encoded data removed]",
      "text/plain": [
       "<Figure size 432x288 with 1 Axes>"
      ]
     },
     "metadata": {
      "needs_background": "light"
     },
     "output_type": "display_data"
    }
   ],
   "source": [
    "# Run this code:\n",
    "\n",
    "fig, ax = plt.subplots()\n",
    "ax.imshow(dogs[:,0].reshape(64, 64).T, cmap=plt.cm.bone, interpolation='nearest') "
   ]
  },
  {
   "cell_type": "markdown",
   "metadata": {},
   "source": [
    "Next, we would like to create a standardization function. This function will find the mean and standard deviation of each image. We subtract the mean from each pixel and divide each pixel by the standard deviation. Write the function below.\n",
    "\n",
    "Hint: To find the mean and standard deviation of each image, use `numpy`'s version of mean and stadnard deviation and use `axis=0`."
   ]
  },
  {
   "cell_type": "code",
   "execution_count": 10,
   "metadata": {},
   "outputs": [],
   "source": [
    "def standardize(x):\n",
    "    #This function takes as input a numpy array and returns a stadardized numpy array of the same dimensions.\n",
    "    #Sample input: np.array([[1,2,3],[4,5,6]])\n",
    "    #Sample output: np.array([[-1,-1,-1],[1,1,1]])\n",
    "    \n",
    "    # Your code here:\n",
    "    mean=x-np.mean(x, axis=0)\n",
    "    divi=mean/np.std(x, axis=0)\n",
    "    return divi"
   ]
  },
  {
   "cell_type": "markdown",
   "metadata": {},
   "source": [
    "Now, use the `np.concatenate` function to combine the cats and dogs arrays. Use `axis=1` to combine the two correctly. Make sure to put dogs first."
   ]
  },
  {
   "cell_type": "code",
   "execution_count": 11,
   "metadata": {},
   "outputs": [
    {
     "data": {
      "text/plain": [
       "array([[224, 131, 127, ...,  60, 223, 101],\n",
       "       [224, 124, 136, ...,  50, 224, 107],\n",
       "       [224, 104, 127, ...,  63, 225, 106],\n",
       "       ...,\n",
       "       [100, 104, 115, ..., 105, 180, 114],\n",
       "       [100, 124, 104, ..., 118, 182,  91],\n",
       "       [100, 124, 104, ..., 104, 177, 113]], dtype=int64)"
      ]
     },
     "execution_count": 11,
     "metadata": {},
     "output_type": "execute_result"
    }
   ],
   "source": [
    "# Your code here:\n",
    "concadog=np.concatenate((dogs,cats), axis=1)\n",
    "concadog"
   ]
  },
  {
   "cell_type": "markdown",
   "metadata": {},
   "source": [
    "Standardize the concatenated array below."
   ]
  },
  {
   "cell_type": "code",
   "execution_count": 15,
   "metadata": {},
   "outputs": [
    {
     "data": {
      "text/plain": [
       "array([[ 2.37662907, -0.30753004,  0.93254857, ..., -1.80817356,\n",
       "         1.42293481, -0.20363951],\n",
       "       [ 2.37662907, -0.40500299,  1.15681724, ..., -2.06459792,\n",
       "         1.44036713, -0.05437635],\n",
       "       [ 2.37662907, -0.68349716,  0.93254857, ..., -1.73124626,\n",
       "         1.45779946, -0.07925354],\n",
       "       ...,\n",
       "       [ 0.22755315, -0.68349716,  0.63352369, ..., -0.65426398,\n",
       "         0.67334483,  0.11976401],\n",
       "       [ 0.22755315, -0.40500299,  0.35941754, ..., -0.32091232,\n",
       "         0.70820948, -0.45241144],\n",
       "       [ 0.22755315, -0.40500299,  0.35941754, ..., -0.67990641,\n",
       "         0.62104786,  0.09488681]])"
      ]
     },
     "execution_count": 15,
     "metadata": {},
     "output_type": "execute_result"
    }
   ],
   "source": [
    "# Your code here:\n",
    "standard=standardize(concadog)\n",
    "standard"
   ]
  },
  {
   "cell_type": "markdown",
   "metadata": {},
   "source": [
    "# Challenge 2 - Using PCA\n",
    "\n",
    "Now that we have created a standardized matrix of cats and dogs, we'll find the two most important components in the data.\n",
    "\n",
    "Load the `PCA` function from `statsmodels` (read about this function [here](https://www.statsmodels.org/dev/generated/statsmodels.multivariate.pca.PCA.html)) and apply the function to our standarized data. Create a PCA model with two components."
   ]
  },
  {
   "cell_type": "code",
   "execution_count": 19,
   "metadata": {},
   "outputs": [],
   "source": [
    "# Your code here:\n",
    "from sklearn.decomposition import PCA\n",
    "pca=PCA(n_components = 2)\n",
    "pca_s=pca.fit(standard)"
   ]
  },
  {
   "cell_type": "markdown",
   "metadata": {},
   "source": [
    "Use `numpy` to find to transpose the standardized pet array. This will help us compute the projection."
   ]
  },
  {
   "cell_type": "code",
   "execution_count": 20,
   "metadata": {},
   "outputs": [
    {
     "data": {
      "text/plain": [
       "array([[ 2.37662907,  2.37662907,  2.37662907, ...,  0.22755315,\n",
       "         0.22755315,  0.22755315],\n",
       "       [-0.30753004, -0.40500299, -0.68349716, ..., -0.68349716,\n",
       "        -0.40500299, -0.40500299],\n",
       "       [ 0.93254857,  1.15681724,  0.93254857, ...,  0.63352369,\n",
       "         0.35941754,  0.35941754],\n",
       "       ...,\n",
       "       [-1.80817356, -2.06459792, -1.73124626, ..., -0.65426398,\n",
       "        -0.32091232, -0.67990641],\n",
       "       [ 1.42293481,  1.44036713,  1.45779946, ...,  0.67334483,\n",
       "         0.70820948,  0.62104786],\n",
       "       [-0.20363951, -0.05437635, -0.07925354, ...,  0.11976401,\n",
       "        -0.45241144,  0.09488681]])"
      ]
     },
     "execution_count": 20,
     "metadata": {},
     "output_type": "execute_result"
    }
   ],
   "source": [
    "# Your code here:\n",
    "trans=np.transpose(standard)\n",
    "trans"
   ]
  },
  {
   "cell_type": "markdown",
   "metadata": {},
   "source": [
    "Find the dot product of the transposed standardized pet matrix and the `factors` of the `PCA` model found above. This will be the projection onto 2 dimensions. This means that each cat and dog image will now only have two columns instead of 4096."
   ]
  },
  {
   "cell_type": "code",
   "execution_count": 23,
   "metadata": {},
   "outputs": [
    {
     "data": {
      "text/plain": [
       "array([[-4.26696744e+01,  2.16785537e+01],\n",
       "       [-3.26224303e+01, -1.14422400e+01],\n",
       "       [ 1.25101875e+01, -8.95564035e+00],\n",
       "       [-5.58138561e+00, -2.65438587e+01],\n",
       "       [-3.31245292e+01,  1.05808774e+01],\n",
       "       [ 8.17262625e+00, -3.68300098e+01],\n",
       "       [-2.25383019e+01, -6.10811575e+00],\n",
       "       [-1.48809183e+01, -3.08330728e+01],\n",
       "       [-1.29642489e+01, -3.11849586e+01],\n",
       "       [-3.97424054e+01,  8.68920782e+00],\n",
       "       [-8.86446877e-01, -2.80581968e+01],\n",
       "       [-2.21809314e+01, -1.09133214e+01],\n",
       "       [-8.90354422e+00, -1.02099509e+01],\n",
       "       [ 2.69075738e+00, -1.32165857e+01],\n",
       "       [-1.97081888e+01, -2.33588048e+01],\n",
       "       [-1.80958720e+01, -2.64307811e+01],\n",
       "       [-1.63281125e+01, -3.80906143e+00],\n",
       "       [-3.94806129e+01, -1.33860606e+01],\n",
       "       [-1.89293237e+01, -1.97288499e+01],\n",
       "       [-1.61555286e+01, -3.74266440e+01],\n",
       "       [ 3.07088462e+00, -2.75607286e+01],\n",
       "       [-2.14570024e+00, -3.15650071e+01],\n",
       "       [-1.01886027e+01, -9.42491375e+00],\n",
       "       [-1.24438754e+01, -3.31371232e+01],\n",
       "       [-2.76523445e+01, -2.26784908e+01],\n",
       "       [-8.04952797e-01, -3.61563774e+01],\n",
       "       [ 3.21770803e+00, -2.10732508e+01],\n",
       "       [-1.33795558e+00, -1.58795354e+01],\n",
       "       [-1.42164320e+01, -3.98397830e+01],\n",
       "       [-1.01809200e+01, -1.64780963e+01],\n",
       "       [-5.34437512e+00, -2.05156852e+01],\n",
       "       [-7.92542684e+00, -1.66580368e+01],\n",
       "       [-3.06195872e+01, -2.15305252e+01],\n",
       "       [-1.37032961e+01, -2.94643696e+01],\n",
       "       [ 6.76929718e+00, -3.33206035e+01],\n",
       "       [-1.62822500e+01, -6.27786825e+00],\n",
       "       [ 1.36466507e+01, -3.01664316e+01],\n",
       "       [-1.92475342e+00, -2.37609182e+01],\n",
       "       [ 5.98715319e+00, -3.51289155e+01],\n",
       "       [-2.90685358e+01, -1.23950611e+01],\n",
       "       [-1.76181689e+01, -3.21906466e+01],\n",
       "       [-1.16963052e+01,  2.52270303e+01],\n",
       "       [ 9.62825846e+00, -2.93112417e+01],\n",
       "       [-1.56504910e+01, -2.05330795e+01],\n",
       "       [ 7.62312676e+00, -7.40706838e+00],\n",
       "       [-2.03031572e+01,  2.55199253e+01],\n",
       "       [-2.68518944e+01,  1.71187974e+01],\n",
       "       [-7.32763155e+00,  1.06159736e-02],\n",
       "       [-1.54205910e+01,  1.61115445e+01],\n",
       "       [ 1.60652793e+01, -3.09893502e+01],\n",
       "       [-2.95981480e+01,  1.31055794e+01],\n",
       "       [-3.67630510e+01,  3.31223605e+01],\n",
       "       [-6.29973480e+00,  2.11983634e+01],\n",
       "       [ 2.12723960e+01, -3.46398992e+01],\n",
       "       [ 2.11912517e+01,  5.06159271e+00],\n",
       "       [ 1.36505347e+01,  4.67771354e+00],\n",
       "       [-2.93819137e+01,  1.23752412e+01],\n",
       "       [-1.50150013e+01,  1.71419267e+01],\n",
       "       [ 1.62461969e+01, -2.29819197e+01],\n",
       "       [ 1.63390956e+00, -2.59647721e+01],\n",
       "       [-8.29573644e+00, -3.19161760e+01],\n",
       "       [-3.10634772e+01,  2.32312606e+01],\n",
       "       [-3.12800228e+01,  1.29744458e+01],\n",
       "       [ 2.26688168e+01,  9.70997773e+00],\n",
       "       [ 1.03320599e+01, -1.98981603e+00],\n",
       "       [-2.75742120e+01,  4.81109697e+00],\n",
       "       [-5.10875261e+00,  2.29598917e+01],\n",
       "       [ 3.18934023e+01, -6.47948515e+00],\n",
       "       [ 1.94286558e+00,  5.44112764e+00],\n",
       "       [-2.30779243e+01, -2.49462827e+01],\n",
       "       [ 1.02687446e+01, -6.51680935e+00],\n",
       "       [ 5.30818921e-01, -2.61302441e+01],\n",
       "       [-2.68385553e+01, -1.99874199e+01],\n",
       "       [ 2.06784169e+01, -1.99383716e+01],\n",
       "       [-1.04265675e+01,  3.27375841e+01],\n",
       "       [-4.01301064e+01,  1.33311374e+01],\n",
       "       [-3.34862331e+01, -6.25522425e+00],\n",
       "       [ 7.75795085e+00, -2.74343664e+01],\n",
       "       [ 2.87272931e+00, -2.79379443e+01],\n",
       "       [-3.92563497e+01,  8.47454173e+00],\n",
       "       [ 1.53546058e+01,  2.57217717e+01],\n",
       "       [ 4.94822777e+01,  3.87471073e+00],\n",
       "       [-4.84680927e+01,  1.25819088e+01],\n",
       "       [-4.12744950e+01,  4.22057231e+00],\n",
       "       [ 2.99451896e+01,  2.71408667e+01],\n",
       "       [ 2.07730374e+01,  4.05526103e+01],\n",
       "       [ 4.11025835e+01,  3.11506015e+00],\n",
       "       [ 5.04614579e+00,  2.34477918e+01],\n",
       "       [ 4.21170275e+01,  1.42163256e+01],\n",
       "       [ 2.08562366e+01,  2.36800623e+01],\n",
       "       [-2.93623331e-01,  9.26668083e+00],\n",
       "       [-6.04278169e+00,  1.19994361e+01],\n",
       "       [ 5.15794521e+01,  1.59614079e+01],\n",
       "       [ 3.00502655e+01,  2.13035824e+01],\n",
       "       [-2.91820047e+01,  2.48064070e+01],\n",
       "       [ 3.89466561e+01,  2.41856931e+01],\n",
       "       [-2.91575805e+01,  1.68559877e+01],\n",
       "       [ 3.30432935e+01,  1.60088832e+01],\n",
       "       [-4.31209580e+01,  5.83872158e+00],\n",
       "       [ 5.03100007e+01,  1.26526559e+01],\n",
       "       [-1.12712628e+01,  2.29267221e+01],\n",
       "       [ 3.52331421e+01,  4.51934370e+00],\n",
       "       [ 3.52024982e+01, -9.22611222e+00],\n",
       "       [ 3.35483054e+01, -2.63314180e+01],\n",
       "       [-5.18683552e+01,  1.39228342e+01],\n",
       "       [ 6.65973250e+00, -1.74209532e+01],\n",
       "       [ 3.47398666e+01,  2.61076488e+01],\n",
       "       [ 3.11687224e+01, -1.13442392e+01],\n",
       "       [-2.17262387e+01,  1.22528755e+01],\n",
       "       [ 2.06451680e+01,  1.81651219e+01],\n",
       "       [ 2.29174863e+00,  2.20143702e+01],\n",
       "       [-1.26541451e+01,  2.66959464e+01],\n",
       "       [ 1.83409295e+01,  3.67760631e+01],\n",
       "       [-5.31587664e+01,  1.85212063e+01],\n",
       "       [ 5.08795011e+01,  6.49516241e-01],\n",
       "       [ 7.25789096e+00, -6.98766309e+00],\n",
       "       [-5.08099087e+01,  6.20645451e+00],\n",
       "       [ 4.27554212e+01,  1.43313542e+01],\n",
       "       [ 2.06128567e+01, -1.79517048e+01],\n",
       "       [ 1.53720666e+01,  1.92430742e+01],\n",
       "       [ 7.15595831e+00,  2.59468567e+01],\n",
       "       [ 2.68979636e+01,  2.78211169e+01],\n",
       "       [ 5.41103632e+01, -9.86989466e+00],\n",
       "       [ 3.15663446e+01, -1.29840105e+01],\n",
       "       [ 5.14593124e+01, -1.40857510e+01],\n",
       "       [-3.36785773e+01,  2.28799219e+01],\n",
       "       [-3.44469561e+01,  5.10722461e+00],\n",
       "       [-2.88723354e+01,  1.40761976e+01],\n",
       "       [ 5.03984965e+01,  1.62579244e+00],\n",
       "       [-1.53670166e+00,  2.01230466e+01],\n",
       "       [ 2.47301967e+01,  2.36203460e+01],\n",
       "       [ 1.55623716e+01, -5.93005747e+00],\n",
       "       [ 4.58988163e+01,  2.49706546e+01],\n",
       "       [ 3.57330265e+01,  2.36705792e+01],\n",
       "       [-1.88265794e+01,  3.18880016e+01],\n",
       "       [ 3.86810563e+01,  2.65172016e+01],\n",
       "       [ 3.61048225e+01,  3.22415601e+01],\n",
       "       [ 1.91421445e+01, -1.97018606e+00],\n",
       "       [-3.30917089e+01,  3.53983964e+01],\n",
       "       [ 2.11838595e+01, -2.59329712e+01],\n",
       "       [ 1.48680410e+00,  3.16126625e+00],\n",
       "       [ 2.11602103e+01,  2.20194534e+01],\n",
       "       [ 3.92922320e+01,  1.64479531e+01],\n",
       "       [ 4.17062967e+01, -4.88221263e+00],\n",
       "       [-2.53612901e+01,  8.60737749e+00],\n",
       "       [ 6.89208490e+00,  2.36564946e+01],\n",
       "       [-5.12485003e+01,  1.40627891e+01],\n",
       "       [ 3.28843436e+00,  6.57199132e+00],\n",
       "       [-2.25407484e+01,  1.54431242e+01],\n",
       "       [-3.29442261e+01,  4.46121615e-01],\n",
       "       [-1.60076518e+01,  1.15333649e+01],\n",
       "       [ 3.46673783e+01, -6.29042754e+00],\n",
       "       [ 1.07951344e+01,  2.10758364e+01],\n",
       "       [-2.29251497e+00,  1.61143617e+00],\n",
       "       [-1.14040023e+01,  7.20970791e+00],\n",
       "       [ 2.64762252e+01, -1.25720420e+01],\n",
       "       [ 3.25325580e+01, -1.88492885e+01],\n",
       "       [ 4.53721844e+01, -9.14848008e+00],\n",
       "       [-1.74214527e+01,  4.57400238e+00],\n",
       "       [ 7.86602646e+00,  1.94135274e+01]])"
      ]
     },
     "execution_count": 23,
     "metadata": {},
     "output_type": "execute_result"
    }
   ],
   "source": [
    "# Your code here:\n",
    "d_product = pca.fit_transform(trans)\n",
    "d_product"
   ]
  },
  {
   "cell_type": "markdown",
   "metadata": {},
   "source": [
    "# Challenge 3 - Plotting the Data\n",
    "\n",
    "Now that we have reduced our cats and dogs arrays, we can easily plot the data in a way that the human eye can understand. We can look at this plot to see whether there are differences between the cat and dog images. \n",
    "\n",
    "In the cell below, turn the two dimensional projection into a pandas dataframe and name the columns `pc1`, and `pc2` respectively."
   ]
  },
  {
   "cell_type": "code",
   "execution_count": 24,
   "metadata": {},
   "outputs": [
    {
     "data": {
      "text/html": [
       "<div>\n",
       "<style scoped>\n",
       "    .dataframe tbody tr th:only-of-type {\n",
       "        vertical-align: middle;\n",
       "    }\n",
       "\n",
       "    .dataframe tbody tr th {\n",
       "        vertical-align: top;\n",
       "    }\n",
       "\n",
       "    .dataframe thead th {\n",
       "        text-align: right;\n",
       "    }\n",
       "</style>\n",
       "<table border=\"1\" class=\"dataframe\">\n",
       "  <thead>\n",
       "    <tr style=\"text-align: right;\">\n",
       "      <th></th>\n",
       "      <th>pc1</th>\n",
       "      <th>pc2</th>\n",
       "    </tr>\n",
       "  </thead>\n",
       "  <tbody>\n",
       "    <tr>\n",
       "      <th>0</th>\n",
       "      <td>-42.669674</td>\n",
       "      <td>21.678554</td>\n",
       "    </tr>\n",
       "    <tr>\n",
       "      <th>1</th>\n",
       "      <td>-32.622430</td>\n",
       "      <td>-11.442240</td>\n",
       "    </tr>\n",
       "    <tr>\n",
       "      <th>2</th>\n",
       "      <td>12.510188</td>\n",
       "      <td>-8.955640</td>\n",
       "    </tr>\n",
       "    <tr>\n",
       "      <th>3</th>\n",
       "      <td>-5.581386</td>\n",
       "      <td>-26.543859</td>\n",
       "    </tr>\n",
       "    <tr>\n",
       "      <th>4</th>\n",
       "      <td>-33.124529</td>\n",
       "      <td>10.580877</td>\n",
       "    </tr>\n",
       "    <tr>\n",
       "      <th>...</th>\n",
       "      <td>...</td>\n",
       "      <td>...</td>\n",
       "    </tr>\n",
       "    <tr>\n",
       "      <th>155</th>\n",
       "      <td>26.476225</td>\n",
       "      <td>-12.572042</td>\n",
       "    </tr>\n",
       "    <tr>\n",
       "      <th>156</th>\n",
       "      <td>32.532558</td>\n",
       "      <td>-18.849289</td>\n",
       "    </tr>\n",
       "    <tr>\n",
       "      <th>157</th>\n",
       "      <td>45.372184</td>\n",
       "      <td>-9.148480</td>\n",
       "    </tr>\n",
       "    <tr>\n",
       "      <th>158</th>\n",
       "      <td>-17.421453</td>\n",
       "      <td>4.574002</td>\n",
       "    </tr>\n",
       "    <tr>\n",
       "      <th>159</th>\n",
       "      <td>7.866026</td>\n",
       "      <td>19.413527</td>\n",
       "    </tr>\n",
       "  </tbody>\n",
       "</table>\n",
       "<p>160 rows × 2 columns</p>\n",
       "</div>"
      ],
      "text/plain": [
       "           pc1        pc2\n",
       "0   -42.669674  21.678554\n",
       "1   -32.622430 -11.442240\n",
       "2    12.510188  -8.955640\n",
       "3    -5.581386 -26.543859\n",
       "4   -33.124529  10.580877\n",
       "..         ...        ...\n",
       "155  26.476225 -12.572042\n",
       "156  32.532558 -18.849289\n",
       "157  45.372184  -9.148480\n",
       "158 -17.421453   4.574002\n",
       "159   7.866026  19.413527\n",
       "\n",
       "[160 rows x 2 columns]"
      ]
     },
     "execution_count": 24,
     "metadata": {},
     "output_type": "execute_result"
    }
   ],
   "source": [
    "# Your code here:\n",
    "df=pd.DataFrame(d_product, columns=['pc1', 'pc2'])\n",
    "df"
   ]
  },
  {
   "cell_type": "markdown",
   "metadata": {},
   "source": [
    "Create a labels list. This list will be of size 160. The first 80 elements in the list will be the word `blue`, and the last 80 elements will be `red`. This will ensure that all dog observations will be colored in blue and all cats will be colored in red. Name this list `colors`."
   ]
  },
  {
   "cell_type": "code",
   "execution_count": 25,
   "metadata": {},
   "outputs": [],
   "source": [
    "# Your code here:\n",
    "label=['blue' for i in range(80)]+['red'for i in range(80)]\n"
   ]
  },
  {
   "cell_type": "markdown",
   "metadata": {},
   "source": [
    "Create a scatter plot of `pc1` and `pc2` below. Use the `colors` list above to color the observations by setting `c=colors`."
   ]
  },
  {
   "cell_type": "code",
   "execution_count": 26,
   "metadata": {},
   "outputs": [
    {
     "data": {
      "text/plain": [
       "<matplotlib.collections.PathCollection at 0x1c91777caf0>"
      ]
     },
     "execution_count": 26,
     "metadata": {},
     "output_type": "execute_result"
    },
    {
     "data": {
      "image/png": "[encoded data removed]",
      "text/plain": [
       "<Figure size 432x288 with 1 Axes>"
      ]
     },
     "metadata": {
      "needs_background": "light"
     },
     "output_type": "display_data"
    }
   ],
   "source": [
    "# Your code here:\n",
    "plt.scatter(df[\"pc1\"],df[\"pc2\"],c=label)\n"
   ]
  },
  {
   "cell_type": "markdown",
   "metadata": {},
   "source": [
    "Do you see a clear separation between cats and dogs? Write your answer below."
   ]
  },
  {
   "cell_type": "code",
   "execution_count": 27,
   "metadata": {},
   "outputs": [],
   "source": [
    "# Your conclusions here:\n",
    "#A pesar de que hay varios puntos de perros y gatos claramente separados, una gran población se encuentra en los mismos puntos, por lo que parecen ser muy similares\n"
   ]
  },
  {
   "cell_type": "code",
   "execution_count": null,
   "metadata": {},
   "outputs": [],
   "source": []
  }
 ],
 "metadata": {
  "kernelspec": {
   "display_name": "Python 3",
   "language": "python",
   "name": "python3"
  },
  "language_info": {
   "codemirror_mode": {
    "name": "ipython",
    "version": 3
   },
   "file_extension": ".py",
   "mimetype": "text/x-python",
   "name": "python",
   "nbconvert_exporter": "python",
   "pygments_lexer": "ipython3",
   "version": "3.8.3"
  }
 },
 "nbformat": 4,
 "nbformat_minor": 2
}
