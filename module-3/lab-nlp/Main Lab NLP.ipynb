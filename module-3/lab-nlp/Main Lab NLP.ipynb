{
 "cells": [
  {
   "cell_type": "markdown",
   "metadata": {},
   "source": [
    "## Lab NLP ##"
   ]
  },
  {
   "cell_type": "markdown",
   "metadata": {},
   "source": [
    "## Challenge 1"
   ]
  },
  {
   "cell_type": "code",
   "execution_count": 1,
   "metadata": {},
   "outputs": [],
   "source": [
    "import nltk"
   ]
  },
  {
   "cell_type": "code",
   "execution_count": 2,
   "metadata": {},
   "outputs": [
    {
     "name": "stdout",
     "output_type": "stream",
     "text": [
      "showing info https://raw.githubusercontent.com/nltk/nltk_data/gh-pages/index.xml\n"
     ]
    },
    {
     "data": {
      "text/plain": [
       "True"
      ]
     },
     "execution_count": 2,
     "metadata": {},
     "output_type": "execute_result"
    }
   ],
   "source": [
    "nltk.download()"
   ]
  },
  {
   "cell_type": "code",
   "execution_count": 3,
   "metadata": {},
   "outputs": [],
   "source": [
    "from nltk.corpus import brown"
   ]
  },
  {
   "cell_type": "code",
   "execution_count": 4,
   "metadata": {},
   "outputs": [
    {
     "data": {
      "text/plain": [
       "['The',\n",
       " 'Fulton',\n",
       " 'County',\n",
       " 'Grand',\n",
       " 'Jury',\n",
       " 'said',\n",
       " 'Friday',\n",
       " 'an',\n",
       " 'investigation',\n",
       " 'of']"
      ]
     },
     "execution_count": 4,
     "metadata": {},
     "output_type": "execute_result"
    }
   ],
   "source": [
    "brown.words()[0:10]"
   ]
  },
  {
   "cell_type": "code",
   "execution_count": 5,
   "metadata": {},
   "outputs": [
    {
     "data": {
      "text/plain": [
       "[('The', 'AT'),\n",
       " ('Fulton', 'NP-TL'),\n",
       " ('County', 'NN-TL'),\n",
       " ('Grand', 'JJ-TL'),\n",
       " ('Jury', 'NN-TL'),\n",
       " ('said', 'VBD'),\n",
       " ('Friday', 'NR'),\n",
       " ('an', 'AT'),\n",
       " ('investigation', 'NN'),\n",
       " ('of', 'IN')]"
      ]
     },
     "execution_count": 5,
     "metadata": {},
     "output_type": "execute_result"
    }
   ],
   "source": [
    "brown.tagged_words()[0:10]"
   ]
  },
  {
   "cell_type": "code",
   "execution_count": 6,
   "metadata": {},
   "outputs": [
    {
     "name": "stderr",
     "output_type": "stream",
     "text": [
      "C:\\Users\\Oscar\\anaconda3\\lib\\site-packages\\IPython\\core\\inputtransformer2.py:481: UserWarning: `make_tokens_by_line` received a list of lines which do not have lineending markers ('\\n', '\\r', '\\r\\n', '\\x0b', '\\x0c'), behavior will be unspecified\n",
      "  warnings.warn(\"`make_tokens_by_line` received a list of lines which do not have lineending markers ('\\\\n', '\\\\r', '\\\\r\\\\n', '\\\\x0b', '\\\\x0c'), behavior will be unspecified\")\n"
     ]
    }
   ],
   "source": [
    "text = 'Ironhack is a Global Tech School ranked num 2 worldwide.  ",
    " ",
    "Our mission is to help people transform their careers and join a thriving community of tech professionals that love what they do. This ideology is reflected in our teaching practices, which consist of a nine-weeks immersive programming, UX/UI design or Data Analytics course as well as a one-week hiring fair aimed at helping our students change their career and get a job straight after the course. We are present in 8 countries and have campuses in 9 locations - Madrid, Barcelona, Miami, Paris, Mexico City,  Berlin, Amsterdam, Sao Paulo and Lisbon.'"
   ]
  },
  {
   "cell_type": "code",
   "execution_count": 7,
   "metadata": {},
   "outputs": [],
   "source": [
    "from nltk import sent_tokenize, word_tokenize"
   ]
  },
  {
   "cell_type": "code",
   "execution_count": 8,
   "metadata": {},
   "outputs": [
    {
     "data": {
      "text/plain": [
       "['Ironhack is a Global Tech School ranked num 2 worldwide.',\n",
       " 'Our mission is to help people transform their careers and join a thriving community of tech professionals that love what they do.',\n",
       " 'This ideology is reflected in our teaching practices, which consist of a nine-weeks immersive programming, UX/UI design or Data Analytics course as well as a one-week hiring fair aimed at helping our students change their career and get a job straight after the course.',\n",
       " 'We are present in 8 countries and have campuses in 9 locations - Madrid, Barcelona, Miami, Paris, Mexico City,  Berlin, Amsterdam, Sao Paulo and Lisbon.']"
      ]
     },
     "execution_count": 8,
     "metadata": {},
     "output_type": "execute_result"
    }
   ],
   "source": [
    "sent_tokenize(text)"
   ]
  },
  {
   "cell_type": "code",
   "execution_count": 9,
   "metadata": {},
   "outputs": [
    {
     "name": "stdout",
     "output_type": "stream",
     "text": [
      "Pretty printing has been turned OFF\n"
     ]
    },
    {
     "data": {
      "text/plain": [
       "['Ironhack', 'is', 'a', 'Global', 'Tech', 'School', 'ranked', 'num', '2', 'worldwide', '.', 'Our', 'mission', 'is', 'to', 'help', 'people', 'transform', 'their', 'careers', 'and', 'join', 'a', 'thriving', 'community', 'of', 'tech', 'professionals', 'that', 'love', 'what', 'they', 'do', '.', 'This', 'ideology', 'is', 'reflected', 'in', 'our', 'teaching', 'practices', ',', 'which', 'consist', 'of', 'a', 'nine-weeks', 'immersive', 'programming', ',', 'UX/UI', 'design', 'or', 'Data', 'Analytics', 'course', 'as', 'well', 'as', 'a', 'one-week', 'hiring', 'fair', 'aimed', 'at', 'helping', 'our', 'students', 'change', 'their', 'career', 'and', 'get', 'a', 'job', 'straight', 'after', 'the', 'course', '.', 'We', 'are', 'present', 'in', '8', 'countries', 'and', 'have', 'campuses', 'in', '9', 'locations', '-', 'Madrid', ',', 'Barcelona', ',', 'Miami', ',', 'Paris', ',', 'Mexico', 'City', ',', 'Berlin', ',', 'Amsterdam', ',', 'Sao', 'Paulo', 'and', 'Lisbon', '.']"
      ]
     },
     "execution_count": 9,
     "metadata": {},
     "output_type": "execute_result"
    }
   ],
   "source": [
    "%pprint off\n",
    "word_tokenize(text)"
   ]
  },
  {
   "cell_type": "markdown",
   "metadata": {},
   "source": [
    "## Challenge 2"
   ]
  },
  {
   "cell_type": "code",
   "execution_count": 10,
   "metadata": {},
   "outputs": [],
   "source": [
    "import re"
   ]
  },
  {
   "cell_type": "code",
   "execution_count": 11,
   "metadata": {},
   "outputs": [],
   "source": [
    "def clean_up(s):\n",
    "    clean = [\"http://?.+ \", \"\\W+|\\d+\"]\n",
    "    s = s.lower()\n",
    "    for i in clean:\n",
    "        s = re.sub(i,\" \",s)\n",
    "    s = s.split()\n",
    "    s = \" \".join(s)\n",
    "    return s"
   ]
  },
  {
   "cell_type": "code",
   "execution_count": 12,
   "metadata": {},
   "outputs": [
    {
     "data": {
      "text/plain": [
       "'ironhack s q website is'"
      ]
     },
     "execution_count": 12,
     "metadata": {},
     "output_type": "execute_result"
    }
   ],
   "source": [
    "clean_up('''@Ironhack's-#Q website 776-is http://ironhack.com [(2018)]\")''')"
   ]
  },
  {
   "cell_type": "code",
   "execution_count": 13,
   "metadata": {},
   "outputs": [],
   "source": [
    "from nltk import word_tokenize"
   ]
  },
  {
   "cell_type": "code",
   "execution_count": 14,
   "metadata": {},
   "outputs": [],
   "source": [
    "def tokenize(s):\n",
    "    s= word_tokenize(s)\n",
    "    return s"
   ]
  },
  {
   "cell_type": "code",
   "execution_count": 15,
   "metadata": {},
   "outputs": [
    {
     "data": {
      "text/plain": [
       "['ironhack', 's', 'q', 'website', 'is']"
      ]
     },
     "execution_count": 15,
     "metadata": {},
     "output_type": "execute_result"
    }
   ],
   "source": [
    "tokenize('ironhack s q website is')"
   ]
  },
  {
   "cell_type": "code",
   "execution_count": 16,
   "metadata": {},
   "outputs": [],
   "source": [
    "from nltk.stem import PorterStemmer\n",
    "from nltk.stem import WordNetLemmatizer"
   ]
  },
  {
   "cell_type": "code",
   "execution_count": 17,
   "metadata": {},
   "outputs": [],
   "source": [
    "def stem_and_lemmatize(l):\n",
    "    lemm = []\n",
    "    porter = PorterStemmer()\n",
    "    lem =  WordNetLemmatizer()\n",
    "    stem = list(map(porter.stem,l))\n",
    "    for i in l:\n",
    "        lemm.append(lem.lemmatize(i, pos = 'v'))\n",
    "    return lemm\n"
   ]
  },
  {
   "cell_type": "code",
   "execution_count": 18,
   "metadata": {},
   "outputs": [],
   "source": [
    "s = ['data', 'science', 'is', 'an', 'interdisciplinary', 'field', 'that', 'uses', 'scientific', 'methods', 'processes', 'algorithms', 'and', 'systems', 'to', 'extract', 'knowledge', 'and', 'insights', 'from', 'data', 'in', 'various', 'forms', 'both', 'structured', 'and', 'unstructured', 'similar', 'to', 'data', 'mining', 'data', 'science', 'is', 'a', 'concept', 'to', 'unify', 'statistics', 'data', 'analysis', 'machine', 'learning', 'and', 'their', 'related', 'methods', 'in', 'order', 'to', 'understand', 'and', 'analyze', 'actual', 'phenomena', 'with', 'data', 'it', 'employs', 'techniques', 'and', 'theories', 'drawn', 'from', 'many', 'fields', 'within', 'the', 'context', 'of', 'mathematics', 'statistics', 'information', 'science', 'and', 'computer', 'science', 'turing', 'award', 'winner', 'jim', 'gray', 'imagined', 'data', 'science', 'as', 'a', 'fourth', 'paradigm', 'of', 'science', 'empirical', 'theoretical', 'computational', 'and', 'now', 'data', 'driven', 'and', 'asserted', 'that', 'everything', 'about', 'science', 'is', 'changing', 'because', 'of', 'the', 'impact', 'of', 'information', 'technology', 'and', 'the', 'data', 'deluge', 'in', 'when', 'harvard', 'business', 'review', 'called', 'it', 'the', 'sexiest', 'job', 'of', 'the', 'st', 'century', 'the', 'term', 'data', 'science', 'became', 'a', 'buzzword', 'it', 'is', 'now', 'often', 'used', 'interchangeably', 'with', 'earlier', 'concepts']"
   ]
  },
  {
   "cell_type": "code",
   "execution_count": 19,
   "metadata": {},
   "outputs": [
    {
     "data": {
      "text/plain": [
       "['data', 'science', 'be', 'an', 'interdisciplinary', 'field', 'that', 'use', 'scientific', 'methods', 'process', 'algorithms', 'and', 'systems', 'to', 'extract', 'knowledge', 'and', 'insights', 'from', 'data', 'in', 'various', 'form', 'both', 'structure', 'and', 'unstructured', 'similar', 'to', 'data', 'mine', 'data', 'science', 'be', 'a', 'concept', 'to', 'unify', 'statistics', 'data', 'analysis', 'machine', 'learn', 'and', 'their', 'relate', 'methods', 'in', 'order', 'to', 'understand', 'and', 'analyze', 'actual', 'phenomena', 'with', 'data', 'it', 'employ', 'techniques', 'and', 'theories', 'draw', 'from', 'many', 'field', 'within', 'the', 'context', 'of', 'mathematics', 'statistics', 'information', 'science', 'and', 'computer', 'science', 'turing', 'award', 'winner', 'jim', 'gray', 'imagine', 'data', 'science', 'as', 'a', 'fourth', 'paradigm', 'of', 'science', 'empirical', 'theoretical', 'computational', 'and', 'now', 'data', 'drive', 'and', 'assert', 'that', 'everything', 'about', 'science', 'be', 'change', 'because', 'of', 'the', 'impact', 'of', 'information', 'technology', 'and', 'the', 'data', 'deluge', 'in', 'when', 'harvard', 'business', 'review', 'call', 'it', 'the', 'sexiest', 'job', 'of', 'the', 'st', 'century', 'the', 'term', 'data', 'science', 'become', 'a', 'buzzword', 'it', 'be', 'now', 'often', 'use', 'interchangeably', 'with', 'earlier', 'concepts']"
      ]
     },
     "execution_count": 19,
     "metadata": {},
     "output_type": "execute_result"
    }
   ],
   "source": [
    "stem_and_lemmatize(s)"
   ]
  },
  {
   "cell_type": "code",
   "execution_count": 20,
   "metadata": {},
   "outputs": [],
   "source": [
    "from nltk.corpus import stopwords"
   ]
  },
  {
   "cell_type": "code",
   "execution_count": 21,
   "metadata": {},
   "outputs": [],
   "source": [
    "def remove_stopwords(l):\n",
    "    stopwords_en = stopwords.words('english')\n",
    "    clean_words = []\n",
    "    for w in l:\n",
    "        if w not in stopwords_en:\n",
    "            clean_words.append(w)\n",
    "    return clean_words"
   ]
  },
  {
   "cell_type": "code",
   "execution_count": 22,
   "metadata": {},
   "outputs": [
    {
     "data": {
      "text/plain": [
       "['data', 'science', 'interdisciplinary', 'field', 'use', 'scientific', 'methods', 'process', 'algorithms', 'systems', 'extract', 'knowledge', 'insights', 'data', 'various', 'form', 'structure', 'unstructured', 'similar', 'data', 'mine', 'data', 'science', 'concept', 'unify', 'statistics', 'data', 'analysis', 'machine', 'learn', 'relate', 'methods', 'order', 'understand', 'analyze', 'actual', 'phenomena', 'data', 'employ', 'techniques', 'theories', 'draw', 'many', 'field', 'within', 'context', 'mathematics', 'statistics', 'information', 'science', 'computer', 'science', 'turing', 'award', 'winner', 'jim', 'gray', 'imagine', 'data', 'science', 'fourth', 'paradigm', 'science', 'empirical', 'theoretical', 'computational', 'data', 'drive', 'assert', 'everything', 'science', 'change', 'impact', 'information', 'technology', 'data', 'deluge', 'harvard', 'business', 'review', 'call', 'sexiest', 'job', 'st', 'century', 'term', 'data', 'science', 'become', 'buzzword', 'often', 'use', 'interchangeably', 'earlier', 'concepts']"
      ]
     },
     "execution_count": 22,
     "metadata": {},
     "output_type": "execute_result"
    }
   ],
   "source": [
    "remove_stopwords(stem_and_lemmatize(s))"
   ]
  },
  {
   "cell_type": "code",
   "execution_count": 23,
   "metadata": {},
   "outputs": [
    {
     "data": {
      "text/plain": [
       "95"
      ]
     },
     "execution_count": 23,
     "metadata": {},
     "output_type": "execute_result"
    }
   ],
   "source": [
    "len(remove_stopwords(stem_and_lemmatize(s)))"
   ]
  },
  {
   "cell_type": "markdown",
   "metadata": {},
   "source": [
    "## Challenge 3"
   ]
  },
  {
   "cell_type": "code",
   "execution_count": 24,
   "metadata": {},
   "outputs": [],
   "source": [
    "import pandas as pd\n",
    "import zipfile"
   ]
  },
  {
   "cell_type": "code",
   "execution_count": 25,
   "metadata": {},
   "outputs": [],
   "source": [
    "zipfile = zipfile.ZipFile('Sentiment140.csv.zip')"
   ]
  },
  {
   "cell_type": "code",
   "execution_count": 26,
   "metadata": {},
   "outputs": [],
   "source": [
    "df = pd.read_csv(zipfile.open('Sentiment140.csv'))"
   ]
  },
  {
   "cell_type": "code",
   "execution_count": 27,
   "metadata": {},
   "outputs": [
    {
     "data": {
      "text/html": [
       "<div>\n",
       "<style scoped>\n",
       "    .dataframe tbody tr th:only-of-type {\n",
       "        vertical-align: middle;\n",
       "    }\n",
       "\n",
       "    .dataframe tbody tr th {\n",
       "        vertical-align: top;\n",
       "    }\n",
       "\n",
       "    .dataframe thead th {\n",
       "        text-align: right;\n",
       "    }\n",
       "</style>\n",
       "<table border=\"1\" class=\"dataframe\">\n",
       "  <thead>\n",
       "    <tr style=\"text-align: right;\">\n",
       "      <th></th>\n",
       "      <th>target</th>\n",
       "      <th>id</th>\n",
       "      <th>date</th>\n",
       "      <th>flag</th>\n",
       "      <th>user</th>\n",
       "      <th>text</th>\n",
       "    </tr>\n",
       "  </thead>\n",
       "  <tbody>\n",
       "    <tr>\n",
       "      <th>0</th>\n",
       "      <td>0</td>\n",
       "      <td>1467810369</td>\n",
       "      <td>Mon Apr 06 22:19:45 PDT 2009</td>\n",
       "      <td>NO_QUERY</td>\n",
       "      <td>_TheSpecialOne_</td>\n",
       "      <td>@switchfoot http://twitpic.com/2y1zl - Awww, t...</td>\n",
       "    </tr>\n",
       "    <tr>\n",
       "      <th>1</th>\n",
       "      <td>0</td>\n",
       "      <td>1467810672</td>\n",
       "      <td>Mon Apr 06 22:19:49 PDT 2009</td>\n",
       "      <td>NO_QUERY</td>\n",
       "      <td>scotthamilton</td>\n",
       "      <td>is upset that he can't update his Facebook by ...</td>\n",
       "    </tr>\n",
       "    <tr>\n",
       "      <th>2</th>\n",
       "      <td>0</td>\n",
       "      <td>1467810917</td>\n",
       "      <td>Mon Apr 06 22:19:53 PDT 2009</td>\n",
       "      <td>NO_QUERY</td>\n",
       "      <td>mattycus</td>\n",
       "      <td>@Kenichan I dived many times for the ball. Man...</td>\n",
       "    </tr>\n",
       "    <tr>\n",
       "      <th>3</th>\n",
       "      <td>0</td>\n",
       "      <td>1467811184</td>\n",
       "      <td>Mon Apr 06 22:19:57 PDT 2009</td>\n",
       "      <td>NO_QUERY</td>\n",
       "      <td>ElleCTF</td>\n",
       "      <td>my whole body feels itchy and like its on fire</td>\n",
       "    </tr>\n",
       "    <tr>\n",
       "      <th>4</th>\n",
       "      <td>0</td>\n",
       "      <td>1467811193</td>\n",
       "      <td>Mon Apr 06 22:19:57 PDT 2009</td>\n",
       "      <td>NO_QUERY</td>\n",
       "      <td>Karoli</td>\n",
       "      <td>@nationwideclass no, it's not behaving at all....</td>\n",
       "    </tr>\n",
       "  </tbody>\n",
       "</table>\n",
       "</div>"
      ],
      "text/plain": [
       "   target          id                          date      flag  \\\n",
       "0       0  1467810369  Mon Apr 06 22:19:45 PDT 2009  NO_QUERY   \n",
       "1       0  1467810672  Mon Apr 06 22:19:49 PDT 2009  NO_QUERY   \n",
       "2       0  1467810917  Mon Apr 06 22:19:53 PDT 2009  NO_QUERY   \n",
       "3       0  1467811184  Mon Apr 06 22:19:57 PDT 2009  NO_QUERY   \n",
       "4       0  1467811193  Mon Apr 06 22:19:57 PDT 2009  NO_QUERY   \n",
       "\n",
       "              user                                               text  \n",
       "0  _TheSpecialOne_  @switchfoot http://twitpic.com/2y1zl - Awww, t...  \n",
       "1    scotthamilton  is upset that he can't update his Facebook by ...  \n",
       "2         mattycus  @Kenichan I dived many times for the ball. Man...  \n",
       "3          ElleCTF    my whole body feels itchy and like its on fire   \n",
       "4           Karoli  @nationwideclass no, it's not behaving at all....  "
      ]
     },
     "execution_count": 27,
     "metadata": {},
     "output_type": "execute_result"
    }
   ],
   "source": [
    "df.head()"
   ]
  },
  {
   "cell_type": "code",
   "execution_count": 28,
   "metadata": {},
   "outputs": [],
   "source": [
    "from nltk.sentiment.vader import SentimentIntensityAnalyzer"
   ]
  },
  {
   "cell_type": "code",
   "execution_count": 29,
   "metadata": {},
   "outputs": [
    {
     "name": "stderr",
     "output_type": "stream",
     "text": [
      "C:\\Users\\Oscar\\anaconda3\\lib\\site-packages\\IPython\\core\\inputtransformer2.py:481: UserWarning: `make_tokens_by_line` received a list of lines which do not have lineending markers ('\\n', '\\r', '\\r\\n', '\\x0b', '\\x0c'), behavior will be unspecified\n",
      "  warnings.warn(\"`make_tokens_by_line` received a list of lines which do not have lineending markers ('\\\\n', '\\\\r', '\\\\r\\\\n', '\\\\x0b', '\\\\x0c'), behavior will be unspecified\")\n"
     ]
    }
   ],
   "source": [
    "txt = \"Ironhack is a Global Tech School ranked num 2 worldwide.  ",
    " ",
    "Our mission is to help people transform their careers and join a thriving community of tech professionals that love what they do.\""
   ]
  },
  {
   "cell_type": "code",
   "execution_count": 30,
   "metadata": {},
   "outputs": [
    {
     "data": {
      "text/plain": [
       "{'neg': 0.0, 'neu': 0.741, 'pos': 0.259, 'compound': 0.8442}"
      ]
     },
     "execution_count": 30,
     "metadata": {},
     "output_type": "execute_result"
    }
   ],
   "source": [
    "analyzer = SentimentIntensityAnalyzer()\n",
    "analyzer.polarity_scores(txt)"
   ]
  },
  {
   "cell_type": "code",
   "execution_count": 31,
   "metadata": {},
   "outputs": [],
   "source": [
    "df2 = df.sample(n=20000)"
   ]
  },
  {
   "cell_type": "code",
   "execution_count": 32,
   "metadata": {},
   "outputs": [],
   "source": [
    "df2['text_processed'] = df2.text.apply(lambda x:remove_stopwords(stem_and_lemmatize(tokenize(clean_up(x)))))\n"
   ]
  },
  {
   "cell_type": "code",
   "execution_count": 33,
   "metadata": {},
   "outputs": [
    {
     "data": {
      "text/plain": [
       "707009    [ok, either, grow, pain, someone, try, pull, l...\n",
       "620779            [finally, chores, time, relax, bed, work]\n",
       "768043    [pameladetlor, sorry, pamela, stressful, heart...\n",
       "12688     [sleep, longer, hours, last, night, thing, say...\n",
       "146259            [kknell, brace, smile, also, still, mine]\n",
       "Name: text_processed, dtype: object"
      ]
     },
     "execution_count": 33,
     "metadata": {},
     "output_type": "execute_result"
    }
   ],
   "source": [
    "df2['text_processed'].head()"
   ]
  },
  {
   "cell_type": "code",
   "execution_count": 34,
   "metadata": {},
   "outputs": [],
   "source": [
    "from nltk.probability import FreqDist"
   ]
  },
  {
   "cell_type": "code",
   "execution_count": 35,
   "metadata": {},
   "outputs": [],
   "source": [
    "bag_words = []\n",
    "\n",
    "for i in df2['text_processed']:\n",
    "    bag_words += i"
   ]
  },
  {
   "cell_type": "code",
   "execution_count": 36,
   "metadata": {},
   "outputs": [],
   "source": [
    "fdist = FreqDist(bag_words)\n",
    "\n",
    "frec = fdist.most_common(5000)"
   ]
  },
  {
   "cell_type": "code",
   "execution_count": 37,
   "metadata": {},
   "outputs": [],
   "source": [
    "cols = [f[0] for f in frec]"
   ]
  },
  {
   "cell_type": "code",
   "execution_count": 38,
   "metadata": {},
   "outputs": [],
   "source": [
    "matrix=[]\n",
    "for i in df2['text_processed']:\n",
    "    matricita=[]\n",
    "    for j in cols:\n",
    "        if j in i:\n",
    "            matricita.append(True)\n",
    "        else:\n",
    "            matricita.append(False)\n",
    "    matrix.append(matricita)"
   ]
  },
  {
   "cell_type": "code",
   "execution_count": 39,
   "metadata": {},
   "outputs": [],
   "source": [
    "matriz = pd.DataFrame(matrix, columns=cols, index= df2.index)"
   ]
  },
  {
   "cell_type": "code",
   "execution_count": 41,
   "metadata": {},
   "outputs": [
    {
     "data": {
      "text/html": [
       "<div>\n",
       "<style scoped>\n",
       "    .dataframe tbody tr th:only-of-type {\n",
       "        vertical-align: middle;\n",
       "    }\n",
       "\n",
       "    .dataframe tbody tr th {\n",
       "        vertical-align: top;\n",
       "    }\n",
       "\n",
       "    .dataframe thead th {\n",
       "        text-align: right;\n",
       "    }\n",
       "</style>\n",
       "<table border=\"1\" class=\"dataframe\">\n",
       "  <thead>\n",
       "    <tr style=\"text-align: right;\">\n",
       "      <th></th>\n",
       "      <th>get</th>\n",
       "      <th>go</th>\n",
       "      <th>day</th>\n",
       "      <th>good</th>\n",
       "      <th>work</th>\n",
       "      <th>like</th>\n",
       "      <th>love</th>\n",
       "      <th>quot</th>\n",
       "      <th>today</th>\n",
       "      <th>time</th>\n",
       "      <th>...</th>\n",
       "      <th>dashboard</th>\n",
       "      <th>gio</th>\n",
       "      <th>cleaner</th>\n",
       "      <th>passionate</th>\n",
       "      <th>courageous</th>\n",
       "      <th>election</th>\n",
       "      <th>oooo</th>\n",
       "      <th>mattkean</th>\n",
       "      <th>ofcourse</th>\n",
       "      <th>workouts</th>\n",
       "    </tr>\n",
       "  </thead>\n",
       "  <tbody>\n",
       "    <tr>\n",
       "      <th>707009</th>\n",
       "      <td>False</td>\n",
       "      <td>False</td>\n",
       "      <td>False</td>\n",
       "      <td>False</td>\n",
       "      <td>False</td>\n",
       "      <td>False</td>\n",
       "      <td>False</td>\n",
       "      <td>False</td>\n",
       "      <td>False</td>\n",
       "      <td>False</td>\n",
       "      <td>...</td>\n",
       "      <td>False</td>\n",
       "      <td>False</td>\n",
       "      <td>False</td>\n",
       "      <td>False</td>\n",
       "      <td>False</td>\n",
       "      <td>False</td>\n",
       "      <td>False</td>\n",
       "      <td>False</td>\n",
       "      <td>False</td>\n",
       "      <td>False</td>\n",
       "    </tr>\n",
       "    <tr>\n",
       "      <th>620779</th>\n",
       "      <td>False</td>\n",
       "      <td>False</td>\n",
       "      <td>False</td>\n",
       "      <td>False</td>\n",
       "      <td>True</td>\n",
       "      <td>False</td>\n",
       "      <td>False</td>\n",
       "      <td>False</td>\n",
       "      <td>False</td>\n",
       "      <td>True</td>\n",
       "      <td>...</td>\n",
       "      <td>False</td>\n",
       "      <td>False</td>\n",
       "      <td>False</td>\n",
       "      <td>False</td>\n",
       "      <td>False</td>\n",
       "      <td>False</td>\n",
       "      <td>False</td>\n",
       "      <td>False</td>\n",
       "      <td>False</td>\n",
       "      <td>False</td>\n",
       "    </tr>\n",
       "    <tr>\n",
       "      <th>768043</th>\n",
       "      <td>False</td>\n",
       "      <td>False</td>\n",
       "      <td>False</td>\n",
       "      <td>False</td>\n",
       "      <td>False</td>\n",
       "      <td>False</td>\n",
       "      <td>False</td>\n",
       "      <td>False</td>\n",
       "      <td>False</td>\n",
       "      <td>False</td>\n",
       "      <td>...</td>\n",
       "      <td>False</td>\n",
       "      <td>False</td>\n",
       "      <td>False</td>\n",
       "      <td>False</td>\n",
       "      <td>False</td>\n",
       "      <td>False</td>\n",
       "      <td>False</td>\n",
       "      <td>False</td>\n",
       "      <td>False</td>\n",
       "      <td>False</td>\n",
       "    </tr>\n",
       "    <tr>\n",
       "      <th>12688</th>\n",
       "      <td>False</td>\n",
       "      <td>False</td>\n",
       "      <td>False</td>\n",
       "      <td>True</td>\n",
       "      <td>False</td>\n",
       "      <td>False</td>\n",
       "      <td>False</td>\n",
       "      <td>False</td>\n",
       "      <td>False</td>\n",
       "      <td>False</td>\n",
       "      <td>...</td>\n",
       "      <td>False</td>\n",
       "      <td>False</td>\n",
       "      <td>False</td>\n",
       "      <td>False</td>\n",
       "      <td>False</td>\n",
       "      <td>False</td>\n",
       "      <td>False</td>\n",
       "      <td>False</td>\n",
       "      <td>False</td>\n",
       "      <td>False</td>\n",
       "    </tr>\n",
       "    <tr>\n",
       "      <th>146259</th>\n",
       "      <td>False</td>\n",
       "      <td>False</td>\n",
       "      <td>False</td>\n",
       "      <td>False</td>\n",
       "      <td>False</td>\n",
       "      <td>False</td>\n",
       "      <td>False</td>\n",
       "      <td>False</td>\n",
       "      <td>False</td>\n",
       "      <td>False</td>\n",
       "      <td>...</td>\n",
       "      <td>False</td>\n",
       "      <td>False</td>\n",
       "      <td>False</td>\n",
       "      <td>False</td>\n",
       "      <td>False</td>\n",
       "      <td>False</td>\n",
       "      <td>False</td>\n",
       "      <td>False</td>\n",
       "      <td>False</td>\n",
       "      <td>False</td>\n",
       "    </tr>\n",
       "  </tbody>\n",
       "</table>\n",
       "<p>5 rows × 5000 columns</p>\n",
       "</div>"
      ],
      "text/plain": [
       "          get     go    day   good   work   like   love   quot  today   time  \\\n",
       "707009  False  False  False  False  False  False  False  False  False  False   \n",
       "620779  False  False  False  False   True  False  False  False  False   True   \n",
       "768043  False  False  False  False  False  False  False  False  False  False   \n",
       "12688   False  False  False   True  False  False  False  False  False  False   \n",
       "146259  False  False  False  False  False  False  False  False  False  False   \n",
       "\n",
       "        ...  dashboard    gio  cleaner  passionate  courageous  election  \\\n",
       "707009  ...      False  False    False       False       False     False   \n",
       "620779  ...      False  False    False       False       False     False   \n",
       "768043  ...      False  False    False       False       False     False   \n",
       "12688   ...      False  False    False       False       False     False   \n",
       "146259  ...      False  False    False       False       False     False   \n",
       "\n",
       "         oooo  mattkean  ofcourse  workouts  \n",
       "707009  False     False     False     False  \n",
       "620779  False     False     False     False  \n",
       "768043  False     False     False     False  \n",
       "12688   False     False     False     False  \n",
       "146259  False     False     False     False  \n",
       "\n",
       "[5 rows x 5000 columns]"
      ]
     },
     "execution_count": 41,
     "metadata": {},
     "output_type": "execute_result"
    }
   ],
   "source": [
    "matriz.head()"
   ]
  },
  {
   "cell_type": "code",
   "execution_count": 44,
   "metadata": {},
   "outputs": [],
   "source": [
    "matriz['is_positive'] = matriz['target'].apply(lambda x: True if x==4 else False)"
   ]
  },
  {
   "cell_type": "code",
   "execution_count": 45,
   "metadata": {},
   "outputs": [],
   "source": [
    "lista = []\n",
    "\n",
    "for i in matriz.index:\n",
    "    dicc = {}\n",
    "    for j in matriz.columns[:-1]:\n",
    "        dicc[j] = matriz.loc[i,j]\n",
    "    lista.append((dicc, matriz.loc[i, \"is_positive\"]))"
   ]
  },
  {
   "cell_type": "code",
   "execution_count": 46,
   "metadata": {},
   "outputs": [
    {
     "data": {
      "text/plain": [
       "({'get': False, 'go': False, 'day': False, 'good': False, 'work': False, 'like': False, 'love': False, 'quot': False, 'today': False, 'time': False, 'want': False, 'think': False, 'u': False, 'know': False, 'lol': False, 'miss': False, 'make': False, 'thank': False, 'see': False, 'back': False, 'one': False, 'feel': False, 'really': False, 'amp': False, 'im': False, 'need': False, 'come': False, 'well': True, 'still': False, 'new': False, 'night': False, 'na': False, 'watch': False, 'oh': False, 'home': False, 'look': False, 'much': False, 'http': False, 'sleep': False, 'morning': False, 'tomorrow': False, 'last': False, 'wait': False, 'great': False, 'wish': False, 'say': False, 'hope': False, 'haha': False, 'twitter': False, 'sad': False, 'take': False, 'right': False, 'happy': False, 'com': False, 'fun': False, 'try': False, 'bad': False, 'would': False, 'tonight': False, 'sorry': True, 'leave': False, 'find': False, 'even': False, 'yeah': False, 'gon': False, 'could': False, 'tweet': False, 'bed': False, 'way': False, 'weekend': False, 'better': False, 'week': False, 'yes': False, 'nice': False, 'hate': False, 'though': False, 'win': False, 'people': False, 'start': False, 'play': False, 'eat': False, 'rain': False, 'days': False, 'school': False, 'next': False, 'lt': False, 'show': False, 'guy': False, 'bite': False, 'tire': False, 'follow': False, 'hey': False, 'dont': False, 'first': False, 'never': False, 'awesome': False, 'long': False, 'wan': False, 'call': False, 'bore': False, 'use': False, 'soon': False, 'little': False, 'life': False, 'everyone': False, 'man': False, 'sick': False, 'tell': False, 'let': False, 'x': False, 'best': False, 'ok': False, 'something': False, 'please': False, 'cool': False, 'suck': False, 'cant': False, 'movie': False, 'phone': False, 'thing': False, 'lot': False, 'yay': False, 'help': False, 'head': False, 'wake': False, 'lose': False, 'hurt': False, 'house': False, 'break': False, 'enjoy': False, 'us': False, 'ready': False, 'sure': False, 'p': False, 'ever': False, 'give': False, 'hours': False, 'keep': False, 'early': False, 'another': False, 'read': False, 'mean': False, 'live': False, 'talk': False, 'hear': False, 'friend': False, 'friends': False, 'run': False, 'already': False, 'someone': False, 'b': False, 'always': False, 'summer': False, 'maybe': False, 'amaze': False, 'n': False, 'check': False, 'ur': False, 'yet': False, 'away': False, 'sound': False, 'pretty': False, 'excite': False, 'listen': False, 'party': False, 'wow': False, 'birthday': False, 'end': False, 'god': False, 'buy': False, 'things': False, 'old': False, 'stop': False, 'guess': False, 'actually': False, 'finally': False, 'later': False, 'world': False, 'omg': False, 'meet': False, 'ta': False, 'glad': False, 'game': False, 'year': False, 'baby': False, 'ya': False, 'sit': False, 'hot': False, 'finish': False, 'happen': False, 'damn': False, 'put': False, 'might': False, 'weather': False, 'nothing': False, 'friday': False, 'seem': False, 'stuff': False, 'big': False, 'job': False, 'music': False, 'sun': False, 'since': False, 'beautiful': False, 'many': False, 'move': False, 'two': False, 'girl': False, 'hi': False, 'shit': False, 'w': False, 'hard': False, 'thats': False, 'plan': False, 'around': False, 'saw': False, 'may': False, 'cold': False, 'monday': False, 'late': False, 'study': False, 'also': False, 'drink': False, 'song': False, 'die': False, 'send': False, 'luck': False, 'fuck': False, 'yesterday': False, 'stay': False, 'mom': False, 'must': False, 'kid': False, 'book': False, 'cry': False, 'car': False, 'forward': False, 'lunch': False, 'update': False, 'post': False, 'ugh': False, 'th': False, 'aww': False, 'sunday': False, 'free': False, 'r': False, 'till': False, 'clean': False, 'everything': False, 'write': False, 'okay': False, 'drive': False, 'least': False, 'enough': False, 'tho': False, 'cute': False, 'funny': False, 'anymore': False, 'hour': False, 'without': False, 'believe': False, 'family': False, 'fail': False, 'iphone': False, 'forget': False, 'every': False, 'anyone': False, 'whole': False, 'hair': False, 'class': False, 'weeks': False, 'awww': False, 'far': False, 'real': False, 'gt': False, 'ha': False, 'food': False, 'ly': False, 'hahaha': False, 'place': False, 'dinner': False, 'wrong': False, 'face': False, 'cause': False, 'followers': False, 'welcome': False, 'shop': False, 'poor': False, 'walk': False, 'change': False, 'www': False, 'catch': False, 'hang': False, 'hopefully': False, 'hit': False, 'didnt': False, 'ask': False, 'headache': False, 'totally': False, 'almost': False, 'anything': False, 'word': False, 'picture': False, 'add': False, 'open': False, 'news': False, 'crazy': False, 'name': False, 'probably': False, 'boo': False, 'dream': False, 'spend': False, 'g': False, 'busy': False, 'super': False, 'c': False, 'tv': False, 'turn': False, 'reply': False, 'lovely': False, 'xx': False, 'saturday': False, 'room': False, 'close': False, 'plurk': False, 'learn': False, 'money': False, 'pay': False, 'k': False, 'train': False, 'either': False, 'outside': False, 'care': False, 'sweet': False, 'exam': False, 'mother': False, 'remember': False, 'wont': False, 'fan': False, 'pm': False, 'mine': False, 'rock': False, 'idea': False, 'sooo': False, 'true': False, 'test': False, 'dad': False, 'alone': False, 'hell': False, 'kinda': False, 'bring': False, 'kind': False, 'hop': False, 'stupid': False, 'half': False, 'wonder': False, 'eye': False, 'heart': False, 'worry': False, 'girls': False, 'coffee': False, 'instead': False, 'rest': False, 'part': False, 'dance': False, 'trip': False, 'lucky': False, 'seriously': False, 'e': False, 'sing': False, 'goodnight': False, 'beach': False, 'computer': False, 'stick': False, 'breakfast': False, 'answer': False, 'nite': False, 'awake': False, 'mind': False, 'mileycyrus': False, 'blog': False, 'else': False, 'video': False, 'course': False, 'dude': False, 'full': False, 'ill': False, 'ah': False, 'years': False, 'pain': False, 'facebook': False, 'hand': False, 'st': False, 'la': False, 'pic': False, 'email': False, 'boy': False, 'ago': False, 'pass': False, 'soo': False, 'ticket': False, 'fall': False, 'pics': False, 'hello': False, 'hehe': False, 'til': False, 'favorite': False, 'lmao': False, 'set': False, 'quite': False, 'dog': False, 'f': False, 'person': False, 'tinyurl': False, 'hug': False, 'visit': False, 'office': False, 'star': False, 'exams': False, 'able': False, 'cook': False, 'jealous': False, 'soooo': False, 'award': False, 'shoot': False, 'homework': False, 'online': False, 'figure': False, 'concert': False, 'sunny': False, 'hungry': False, 'suppose': False, 'text': False, 'save': False, 'link': False, 'crap': False, 'songs': False, 'wear': False, 'yea': False, 'park': False, 'short': False, 'cuz': False, 'holiday': False, 'city': False, 'sore': False, 'ice': False, 'dear': False, 'account': False, 'pick': False, 'download': False, 'cut': False, 'shower': False, 'green': False, 'fine': False, 'kill': False, 'point': False, 'perfect': False, 'goin': False, 'twitpic': False, 'tommcfly': False, 'congrats': False, 'bye': False, 'album': False, 'line': False, 'message': False, 'town': False, 'season': False, 'internet': False, 'tour': False, 'card': False, 'laugh': False, 'mad': False, 'burn': False, 'interest': False, 'weird': False, 'asleep': False, 'hmm': False, 'hat': False, 'join': False, 'understand': False, 'list': False, 'fix': False, 'sigh': False, 'sign': False, 'easy': False, 'movies': False, 'sell': False, 'ahh': False, 'anyway': False, 'ive': False, 'store': False, 'second': False, 'brother': False, 'month': False, 'btw': False, 'red': False, 'lil': False, 'annoy': False, 'flu': False, 'bout': False, 'smile': False, 'fm': False, 'final': False, 'decide': False, 'sleepy': False, 'sister': False, 'wonderful': False, 'drop': False, 'story': False, 'question': False, 'v': False, 'followfriday': False, 'ones': False, 'wed': False, 'boys': False, 'record': False, 'agree': False, 'together': False, 'appreciate': False, 'band': False, 'side': False, 'cat': False, 'apparently': False, 'mac': False, 'moment': False, 'problem': False, 'tuesday': False, 'share': False, 'dead': False, 'london': False, 'vote': False, 'date': False, 'beat': False, 'youtube': False, 'number': False, 'nap': False, 'lie': False, 'ppl': False, 'especially': False, 'ass': False, 'minutes': False, 'reason': False, 'church': False, 'realize': False, 'page': False, 'sometimes': False, 'bum': False, 'blue': False, 'gym': False, 'moon': False, 'light': False, 'chocolate': False, 'lazy': False, 'ddlovato': False, 'horrible': False, 'yep': False, 'cream': False, 'past': False, 'aw': False, 'pack': False, 'water': False, 'pizza': False, 'order': False, 'fly': False, 'sunshine': False, 'swim': False, 'june': False, 'blip': False, 'dress': False, 'pool': False, 'laptop': False, 'project': False, 'flight': False, 'thursday': False, 'fair': False, 'speak': False, 'bbq': False, 'couple': False, 'l': False, 'cancel': False, 'throat': False, 'scar': False, 'bet': False, 'begin': False, 'site': False, 'months': False, 'afternoon': False, 'google': False, 'air': False, 'cheer': False, 'relax': False, 'xxx': False, 'box': False, 'support': False, 'stand': False, 'unfortunately': False, 'count': False, 'lay': False, 'vacation': False, 'episode': False, 'load': False, 'uk': False, 'j': False, 'english': False, 'parent': False, 'top': False, 'grow': False, 'ride': False, 'web': False, 'mr': False, 'less': False, 'college': False, 'forever': False, 'david': False, 'website': False, 'havent': False, 'bike': False, 'myspace': False, 'paper': False, 'block': False, 'rip': False, 'bless': False, 'camp': False, 'kick': False, 'mins': False, 'mood': False, 'worth': False, 'photos': False, 'warm': False, 'mention': False, 'camera': False, 'xd': False, 'mtv': False, 'age': False, 'brain': False, 'disappoint': False, 'upset': False, 'cake': False, 'throw': False, 'gettin': False, 'tea': False, 'cover': False, 'rather': False, 'sadly': False, 'worse': False, 'exhaust': False, 'nd': False, 'smell': False, 'fb': False, 'bitch': False, 'photo': False, 'garden': False, 'boyfriend': False, 'thx': False, 'hill': False, 'team': False, 'white': False, 'fell': False, 'alright': False, 'huge': False, 'ache': False, 'depress': False, 'different': False, 'upload': False, 'yo': False, 'ohh': False, 'chat': False, 'profile': False, 'bloody': False, 'due': False, 'uh': False, 'feet': False, 'door': False, 'arrive': False, 'type': False, 'mess': False, 'rid': False, 'except': False, 'tear': False, 'round': False, 'absolutely': False, 'father': False, 'mum': False, 'tom': False, 'doctor': False, 'voice': False, 'piss': False, 'practice': False, 'comment': False, 'pray': False, 'special': False, 'storm': False, 'lame': False, 'em': False, 'dm': False, 'pull': False, 'become': False, 'stomach': False, 'fast': False, 'behind': False, 'power': False, 'nyc': False, 'hahah': False, 'remind': False, 'definitely': False, 'joke': False, 'expect': False, 'front': False, 'ball': False, 'lady': False, 'jonasbrothers': False, 'app': False, 'ring': False, 'black': False, 'wash': False, 'hold': False, 'proud': False, 'group': False, 'road': False, 'freeze': False, 'design': False, 'whats': False, 'fight': False, 'return': False, 'mail': False, 'clothe': False, 'nope': False, 'hubby': False, 'cd': False, 'shame': False, 'da': False, 'body': False, 'apple': False, 'finger': False, 'felt': False, 'twilight': False, 'hun': False, 'buddy': False, 'bday': False, 'babe': False, 'hmmm': False, 'view': False, 'touch': False, 'roll': False, 'glass': False, 'deal': False, 'bear': False, 'consider': False, 'bb': False, 'case': False, 'blah': False, 'invite': False, 'ipod': False, 'trouble': False, 'hangover': False, 'plane': False, 'wine': False, 'lonely': False, 'son': False, 'company': False, 'lately': False, 'serious': False, 'sky': False, 'doesnt': False, 'somewhere': False, 'vegas': False, 'market': False, 'ahead': False, 'bar': False, 'sort': False, 'wife': False, 'business': False, 'bag': False, 'tummy': False, 'officially': False, 'slow': False, 'woot': False, 'via': False, 'surprise': False, 'tan': False, 'bus': False, 'minute': False, 'film': False, 'mcfly': False, 'ff': False, 'nah': False, 'area': False, 'stress': False, 'nobody': False, 'earlier': False, 'track': False, 'matter': False, 'arm': False, 'fact': False, 'chill': False, 'woo': False, 'service': False, 'guitar': False, 'huh': False, 'degrees': False, 'h': False, 'cough': False, 'xo': False, 'inside': False, 'chance': False, 'scary': False, 'finals': False, 'terrible': False, 'travel': False, 'tweetdeck': False, 'kiss': False, 'theres': False, 'draw': False, 'ouch': False, 'yummy': False, 'math': False, 'taste': False, 'french': False, 'mouth': False, 'chris': False, 'state': False, 'ahhh': False, 'possible': False, 'interview': False, 'jonas': False, 'wit': False, 'freak': False, 'peace': False, 'notice': False, 'plus': False, 'luv': False, 'blackberry': False, 'nights': False, 'gosh': False, 'jam': False, 'dvd': False, 'high': False, 'miley': False, 'gorgeous': False, 'note': False, 'search': False, 'eh': False, 'trek': False, 'file': False, 'worst': False, 'wednesday': False, 'result': False, 'ny': False, 'shoe': False, 'gay': False, 'ooh': False, 'husband': False, 'bug': False, 'although': False, 'waste': False, 'magic': False, 'delete': False, 'crash': False, 'release': False, 'deserve': False, 'ruin': False, 'net': False, 'tumblr': False, 'manage': False, 'ps': False, 'major': False, 'brazil': False, 'blood': False, 'longer': False, 'min': False, 'revise': False, 'sport': False, 'hospital': False, 'report': False, 'shall': False, 'celebrate': False, 'pc': False, 'mmm': False, 'idk': False, 'exactly': False, 'de': False, 'men': False, 'screen': False, 'three': False, 'graduation': False, 'laundry': False, 'chip': False, 'goodbye': False, 'shift': False, 'mate': False, 'wtf': False, 'aint': False, 'myloc': False, 'nose': False, 'background': False, 'everybody': False, 'brothers': False, 'realise': False, 'history': False, 'machine': False, 'safe': False, 'sims': False, 'fever': False, 'spot': False, 'z': False, 'fit': False, 'xoxo': False, 'peep': False, 'windows': False, 'airport': False, 'allow': False, 'thoughts': False, 'thunder': False, 'double': False, 'along': False, 'color': False, 'foot': False, 'id': False, 'bank': False, 'watchin': False, 'complete': False, 'mommy': False, 'whatever': False, 'build': False, 'shirt': False, 'dark': False, 'random': False, 'miles': False, 'choose': False, 'trailer': False, 'cup': False, 'legs': False, 'tune': False, 'revision': False, 'fml': False, 'dunno': False, 'include': False, 'kate': False, 'reach': False, 'cheese': False, 'bottle': False, 'barely': False, 'strange': False, 'often': False, 'cousin': False, 'july': False, 'usually': False, 'maths': False, 'hotel': False, 'twit': False, 'hide': False, 'fee': False, 'wall': False, 'ed': False, 'congratulations': False, 'sis': False, 'marry': False, 'mall': False, 'crack': False, 'prom': False, 'august': False, 'sum': False, 'race': False, 'hrs': False, 'fam': False, 'joy': False, 'small': False, 'shut': False, 'starbucks': False, 'death': False, 'neck': False, 'oops': False, 'chillin': False, 'jump': False, 'donniewahlberg': False, 'club': False, 'copy': False, 'imagine': False, 'grade': False, 'boat': False, 'milk': False, 'near': False, 'land': False, 'personal': False, 'fire': False, 'swear': False, 'wave': False, 'jus': False, 'rd': False, 'radio': False, 'couch': False, 'thru': False, 'fresh': False, 'bf': False, 'prepare': False, 'none': False, 'mama': False, 'quick': False, 'bill': False, 'doin': False, 'perhaps': False, 'pen': False, 'tonite': False, 'cross': False, 'adam': False, 'rainy': False, 'others': False, 'vip': False, 'fat': False, 'match': False, 'daddy': False, 'floor': False, 'steal': False, 'awful': False, 'videos': False, 'future': False, 'blast': False, 'version': False, 'mo': False, 'american': False, 'chicken': False, 'afraid': False, 'uni': False, 'argh': False, 'pink': False, 'completely': False, 'surgery': False, 'pop': False, 'vewy': False, 'daughter': False, 'kno': False, 'empty': False, 'apartment': False, 'system': False, 'experience': False, 'shitty': False, 'mark': False, 'crave': False, 'click': False, 'darn': False, 'ty': False, 'series': False, 'model': False, 'sense': False, 'thanx': False, 'sushi': False, 'john': False, 'ow': False, 'weight': False, 'beer': False, 'present': False, 'france': False, 'edit': False, 'awwww': False, 'itunes': False, 'freakin': False, 'dry': False, 'woohoo': False, 'push': False, 'marathon': False, 'space': False, 'frustrate': False, 'country': False, 'everyday': False, 'kitty': False, 'hilarious': False, 'alot': False, 'lock': False, 'young': False, 'australia': False, 'hehehe': False, 'blow': False, 'biggest': False, 'bird': False, 'tha': False, 'grr': False, 'indeed': False, 'bunch': False, 'cos': False, 'knee': False, 'etc': False, 'self': False, 'suffer': False, 'yup': False, 'choice': False, 'non': False, 'teeth': False, 'wasnt': False, 'goodmorning': False, 'confuse': False, 'level': False, 'teach': False, 'joe': False, 'yr': False, 'crappy': False, 'swine': False, 'jon': False, 'issue': False, 'positive': False, 'survive': False, 'folks': False, 'quiet': False, 'workin': False, 'diet': False, 'taylor': False, '_': False, 'isnt': False, 'expensive': False, 'dumb': False, 'size': False, 'score': False, 'south': False, 'network': False, 'cookies': False, 'flower': False, 'west': False, 'dang': False, 'idol': False, 'pleasure': False, 'clear': False, 'davidarchie': False, 'trend': False, 'vid': False, 'lmfao': False, 'tooth': False, 'sweetie': False, 'tattoo': False, 'heh': False, 'bother': False, 'sexy': False, 'pls': False, 'promise': False, 'coz': False, 'lakers': False, 'smart': False, 'twice': False, 'youre': False, 'leg': False, 'smoke': False, 'lead': False, 'rule': False, 'dentist': False, 'finale': False, 'truck': False, 'silly': False, 'bro': False, 'midnight': False, 'act': False, 'hes': False, 'bright': False, 'outta': False, 'low': False, 'gr': False, 'upgrade': False, 'boss': False, 'nearly': False, 'paint': False, 'social': False, 'strong': False, 'remove': False, 'gutted': False, 'climb': False, 'treat': False, 'lake': False, 'knock': False, 'recover': False, 'grey': False, 'honey': False, 'morrow': False, 'yoga': False, 'sale': False, 'bummer': False, 'imma': False, 'um': False, 'sooooo': False, 'nervous': False, 'squarespace': False, 'drag': False, 'recommend': False, 'step': False, 'spam': False, 'war': False, 'whenever': False, 'north': False, 'tiny': False, 'local': False, 'offer': False, 'wide': False, 'usual': False, 'jk': False, 'feed': False, 'fake': False, 'ish': False, 'direct': False, 'vet': False, 'piece': False, 'feelin': False, 'control': False, 'san': False, 'fish': False, 'contact': False, 'tweeps': False, 'log': False, 'grandma': False, 'q': False, 'sea': False, 'wing': False, 'handle': False, 'cable': False, 'ughh': False, 'someday': False, 'def': False, 'cost': False, 'couldnt': False, 'skin': False, 'pant': False, 'alive': False, 'gunna': False, 'energy': False, 'workout': False, 'middle': False, 'pre': False, 'event': False, 'addict': False, 'dj': False, 'sadness': False, 'shock': False, 'sg': False, 'sam': False, 'epic': False, 'aha': False, 'blame': False, 'george': False, 'gd': False, 'somebody': False, 'dnt': False, 'million': False, 'graduate': False, 'vs': False, 'puppy': False, 'create': False, 'prayers': False, 'hoo': False, 'ignore': False, 'dr': False, 'mornin': False, 'difference': False, 'gig': False, 'iron': False, 'switch': False, 'art': False, 'currently': False, 'board': False, 'heat': False, 'dave': False, 'simple': False, 'woman': False, 'nick': False, 'instal': False, 'science': False, 'chinese': False, 'boot': False, 'accept': False, 'melt': False, 'attempt': False, 'sex': False, 'data': False, 'sock': False, 'straight': False, 'four': False, 'seb': False, 'goodness': False, 'pet': True, 'detail': False, 'hannah': False, 'program': False, 'theme': False, 'ugly': False, 'restaurant': False, 'sneak': False, 'prob': False, 'neither': False, 'ladies': False, 'spring': False, 'sandwich': False, 'schedule': False, 'usa': False, 'price': False, 'however': False, 'seat': False, 'row': False, 'sunburn': False, 'important': False, 'heavy': False, 'force': False, 'women': False, 'nut': False, 'bath': False, 'mobile': False, 'ily': False, 'brown': False, 'dat': False, 'excuse': False, 'secret': False, 'table': False, 'credit': False, 'form': False, 'screw': False, 'single': False, 'spread': False, 'lack': False, 'fill': False, 'msn': False, 'salad': False, 'ashley': False, 'doubt': False, 'macbook': False, 'street': False, 'script': False, 'shes': False, 'closer': False, 'refresh': False, 'favourite': False, 'healthy': False, 'fantastic': False, 'depend': False, 'coke': False, 'public': False, 'quit': False, 'plz': False, 'hero': False, 'soup': False, 'hook': False, 'mini': False, 'complain': False, 'guilty': False, 'otherwise': False, 'fav': False, 'window': False, 'conference': False, 'afford': False, 'connect': False, 'hahahaha': False, 'review': False, 'susan': False, 'hunt': False, 'haircut': False, 'presentation': False, 'island': False, 'rise': False, 'skip': False, 'pa': False, 'accident': False, 'apps': False, 'software': False, 'normal': False, 'latest': False, 'problems': False, 'access': False, 'yum': False, 'receive': False, 'gift': False, 'entertain': False, 'ankle': False, 'dammit': False, 'mostly': False, 'quickly': False, 'arent': False, 'tix': False, 'scream': False, 'co': False, 'massive': False, 'paris': False, 'session': False, 'cookie': False, 'ms': False, 'hah': False, 'xbox': False, 'continue': False, 'tough': False, 'children': False, 'ship': False, 'ahhhh': False, 'brilliant': False, 'situation': False, 'cash': False, 'swell': False, 'jb': False, 'excellent': False, 'wisdom': False, 'perform': False, 'cloudy': False, 'battery': False, 'chicago': False, 'ima': False, 'spanish': False, 'settle': False, 'yall': False, 'disney': False, 'prefer': False, 'library': False, 'apprentice': False, 'process': False, 'butt': False, 'nooo': False, 'wrap': False, 'tech': False, 'delicious': False, 'jonathanrknight': False, 'tryin': False, 'teacher': False, 'limit': False, 'pour': False, 'hockey': False, 'nail': False, 'article': False, 'fashion': False, 'ughhh': False, 'somehow': False, 'cloud': False, 'shape': False, 'grand': False, 'stage': False, 'booo': False, 'uncle': False, 'quality': False, 'essay': False, 'shout': False, 'tr': False, 'respond': False, 'wise': False, 'chesterday': False, 'kitchen': False, 'ho': False, 'serve': False, 'quiz': False, 'media': False, 'dannymcfly': False, 'chuck': False, 'bah': False, 'bowl': False, 'extra': False, 'angry': False, 'rush': False, 'shake': False, 'cell': False, 'yuck': False, 'moms': False, 'downtown': False, 'unless': False, 'station': False, 'sundays': False, 'character': False, 'judge': False, 'research': False, 'texts': False, 'trust': False, 'subway': False, 'pasta': False, 'destroy': False, 'across': False, 'flat': False, 'speech': False, 'lookin': False, 'child': False, 'restore': False, 'letter': False, 'bake': False, 'sweat': False, 'server': False, 'selenagomez': False, 'california': False, 'onto': False, 'follower': False, 'mike': False, 'grad': False, 'tweeteradder': False, 'driver': False, 'easier': False, 'attack': False, 'decision': False, 'wii': False, 'grind': False, 'noooo': False, 'awe': False, 'request': False, 'jason': False, 'andrew': False, 'babysitting': False, 'yeh': False, 'horse': False, 'appointment': False, 'desk': False, 'orange': False, 'jack': False, 'sir': False, 'youu': False, 'alex': False, 'five': False, 'apart': False, 'exist': False, 'health': False, 'piano': False, 'bleed': False, 'reality': False, 'cuddle': False, 'gah': False, 'creative': False, 'breathe': False, 'student': False, 'truly': False, 'focus': False, 'ideas': False, 'fave': False, 'steve': False, 'europe': False, 'attend': False, 'slowly': False, 'mondays': False, 'bigger': False, 'charge': False, 'sometime': False, 'ears': False, 'print': False, 'chelsea': False, 'holy': False, 'classic': False, 'naw': False, 'bio': False, 'cousins': False, 'base': False, 'fry': False, 'info': False, 'dread': False, 'amy': False, 'style': False, 'feature': False, 'scratch': False, 'kirstiealley': False, 'os': False, 'golf': False, 'drama': False, 'hr': False, 'atm': False, 'dirty': False, 'paul': False, 'hay': False, 'appear': False, 'mon': False, 'famous': False, 'ol': False, 'title': False, 'cartoon': False, 'channel': False, 'fancy': False, 'mitchelmusso': False, 'master': False, 'queen': False, 'shin': False, 'response': False, 'harry': False, 'bt': False, 'fabulous': False, 'charger': False, 'bathroom': False, 'taylorswift': False, 'yfrog': False, 'michael': False, 'raise': False, 'demi': False, 'lift': False, 'correct': False, 'goal': False, 'nasty': False, 'pro': False, 'spell': False, 'awwwww': False, 'sting': False, 'lord': False, 'yard': False, 'aunt': False, 'jeans': False, 'england': False, 'anywhere': False, 'soccer': False, 'fellow': False, 'andy': False, 'paranoid': False, 'earth': False, 'player': False, 'tag': False, 'tip': False, 'hurry': False, 'urgh': False, 'mix': False, 'pee': False, 'rite': False, 'official': False, 'success': False, 'talkin': False, 'awhile': False, 'quote': False, 'florida': False, 'jordanknight': False, 'anytime': False, 'decent': False, 'football': False, 'farrah': False, 'sisters': False, 'boston': False, 'ryan': False, 'performance': False, 'mary': False, 'possibly': False, 'snow': False, 'client': False, 'opinion': False, 'sydney': False, 'abt': False, 'ustre': False, 'mistake': False, 'gb': False, 'everywhere': False, 'stoke': False, 'button': False, 'flickr': False, 'gud': False, 'hee': False, 'heyy': False, 'montana': False, 'dougiemcfly': False, 'allergic': False, 'tmrw': False, 'apt': False, 'moments': False, 'fuckin': False, 'soooooo': False, 'human': False, 'poker': False, 'improve': False, 'cars': False, 'nightmare': False, 'museum': False, 'ear': False, 'coach': False, 'faster': False, 'elbow': False, 'slightly': False, 'students': False, 'kit': False, 'chase': False, 'danny': False, 'wat': False, 'per': False, 'wth': False, 'rough': False, 'icon': False, 'delay': False, 'jesus': False, 'mountain': False, 'bedroom': False, 'colour': False, 'oooh': False, 'badly': False, 'carry': False, 'wet': False, 'difficult': False, 'memory': False, 'japan': False, 'hangin': False, 'cancer': False, 'loud': False, 'italy': False, 'status': False, 'law': False, 'anniversary': False, 'key': False, 'traffic': False, 'ex': False, 'ebay': False, 'greet': False, 'bc': False, 'root': False, 'doc': False, 'canada': False, 'skype': False, 'princess': False, 'china': False, 'grrr': False, 'corner': False, 'texting': False, 'woop': False, 'anyways': False, 'tis': False, 'thinkin': False, 'preview': False, 'original': False, 'ohhh': False, 'kristen': False, 'slip': False, 'memories': False, 'killer': False, 'neighbor': False, 'rubbish': False, 'ch': False, 'shots': False, 'involve': False, 'adventure': False, 'snack': False, 'discover': False, 'orlando': False, 'hayfever': False, 'soul': False, 'nkotb': False, 'sob': False, 'soak': False, 'boyle': False, 'cereal': False, 'rob': False, 'dallas': False, 'conan': False, 'longest': False, 'suggestions': False, 'sittin': False, 'iran': False, 'festival': False, 'contest': False, 'spin': False, 'gross': False, 'repeat': False, 'sauce': False, 'dc': False, 'proper': False, 'term': False, 'chest': False, 'winter': False, 'frog': False, 'toy': False, 'adorable': False, 'org': False, 'smh': False, 'provide': False, 'twin': False, 'gs': False, 'bass': False, 'obviously': False, 'monkey': False, 'hows': False, 'target': False, 'txt': False, 'belly': False, 'prince': False, 'spain': False, 'atl': False, 'host': False, 'vista': False, 'gots': False, 'pretend': False, 'hole': False, 'bacon': False, 'melbourne': False, 'transformers': False, 'speed': False, 'reunion': False, 'universe': False, 'simply': False, 'jonaskevin': False, 'angel': False, 'admit': False, 'stock': False, 'tweeters': False, 'snap': False, 'youngq': False, 'omfg': False, 'carrie': False, 'coast': False, 'matt': False, 'regular': False, 'square': False, 'ash': False, 'prop': False, 'source': False, 'domain': False, 'bone': False, 'cheap': False, 'fox': False, 'properly': False, 'pirate': False, 'mission': False, 'theatre': False, 'hella': False, 'flow': False, 'ep': False, 'bunny': False, 'toronto': False, 'advice': False, 'chemistry': False, 'available': False, 'flash': False, 'productive': False, 'bid': False, 'mi': False, 'starve': False, 'tetris': False, 'palm': False, 'compliment': False, 'friendly': False, 'britney': False, 'sooner': False, 'certain': False, 'disappear': False, 'bff': False, 'schofe': False, 'fully': False, 'photography': False, 'atleast': False, 'morn': False, 'assignment': False, 'cnt': False, 'thumb': False, 'deliver': False, 'biology': False, 'keyboard': False, 'plenty': False, 'trick': False, 'journey': False, 'hungover': False, 'comp': False, 'incredible': False, 'girlfriend': False, 'zero': False, 'kelly': False, 'brunch': False, 'stories': False, 'havin': False, 'dip': False, 'king': False, 'entire': False, 'aka': False, 'pump': False, 'angels': False, 'female': False, 'sa': False, 'hood': False, 'nevermind': False, 'avoid': False, 'fault': False, 'mouse': False, 'egg': False, 'crowd': False, 'ahaha': False, 'diversity': False, 'noone': False, 'rap': False, 'purchase': False, 'thankyou': False, 'tht': False, 'six': False, 'ray': False, 'replace': False, 'benefit': False, 'gear': False, 'kris': False, 'center': False, 'ftw': False, 'asap': False, 'america': False, 'mile': False, 'thunderstorms': False, 'diego': False, 'wooo': False, 'india': False, 'weed': False, 'brand': False, 'cap': False, 'dun': False, 'sarah': False, 'wah': False, 'topic': False, 'basically': False, 'tight': False, 'heaven': False, 'creepy': False, 'national': False, 'stephen': False, 'banksyart': False, 'nt': False, 'burgers': False, 'oil': False, 'hawaii': False, 'bang': False, 'ahah': False, 'bedtime': False, 'active': False, 'rice': False, 'tomfelton': False, 'lawn': False, 'register': False, 'loop': False, 'uhm': False, 'tick': False, 'grocery': False, 'headaches': False, 'bruise': False, 'bottom': False, 'smith': False, 'plug': False, 'maintenance': False, 'goooood': False, 'addictive': False, 'grab': False, 'unfollow': False, 'inspire': False, 'actual': False, 'snuggle': False, 'alarm': False, 'ben': False, 'sux': False, 'user': False, 'ground': False, 'battle': False, 'thnx': False, 'katie': False, 'lee': False, 'demand': False, 'podcast': False, 'central': False, 'image': False, 'teen': False, 'stone': False, 'dollars': False, 'senior': False, 'prayer': False, 'infection': False, 'studio': False, 'yelyahwilliams': False, 'warp': False, 'bruno': False, 'bull': False, 'kanye': False, 'ang': False, 'errands': False, 'scare': False, 'besides': False, 'tee': False, 'mexico': False, 'fear': False, 'alas': False, 'duty': False, 'pub': False, 'potter': False, 'standard': False, 'direction': False, 'vids': False, 'umbrella': False, 'purple': False, 'rent': False, 'everytime': False, 'reference': False, 'muscle': False, 'texas': False, 'cavs': False, 'cafe': False, 'gaga': False, 'clock': False, 'con': False, 'monster': False, 'attention': False, 'tall': False, 'comedy': False, 'jay': False, 'chai': False, 'windy': False, 'sugar': False, 'ireland': False, 'river': False, 'lips': False, 'itouch': False, 'noo': False, 'literally': False, 'emma': False, 'lovin': False, 'sneeze': False, 'awsome': False, 'shortly': False, 'extremely': False, 'happiness': False, 'vodka': False, 'terminator': False, 'upside': False, 'poop': False, 'un': False, 'partner': False, 'flip': False, 'massage': False, 'divorce': False, 'staff': False, 'mmmm': False, 'africa': False, 'charm': False, 'wicked': False, 'apply': False, 'en': False, 'crew': False, 'cupcakes': False, 'fab': False, 'bob': False, 'xxxxx': False, 'mass': False, 'painful': False, 'confirm': False, 'tree': False, 'crush': False, 'indoors': False, 'mar': False, 'peterfacinelli': False, 'shoulder': False, 'musical': False, 'odd': False, 'stalk': False, 'rachel': False, 'ocean': False, 'jacket': False, 'eff': False, 'condition': False, 'calm': False, 'germany': False, 'gfalcone': False, 'pound': False, 'wild': False, 'fruit': False, 'rat': False, 'bubble': False, 'terribly': False, 'er': False, 'robert': False, 'grill': False, 'skinny': False, 'lo': False, 'certainly': False, 'hip': False, 'migraine': False, 'wolverine': False, 'bell': False, 'limp': False, 'pierce': False, 'si': False, 'recital': False, 'mia': False, 'hasnt': False, 'bella': False, 'devil': False, 'hp': False, 'cure': False, 'butter': False, 'bing': False, 'cus': False, 'robin': False, 'joey': False, 'cyrus': False, 'goood': False, 'marie': False, 'beauty': False, 'york': False, 'drum': False, 'bridge': False, 'pair': False, 'therealjordin': False, 'league': False, 'allergies': False, 'lab': False, 'impossible': False, 'cast': False, 'previous': False, 'curious': False, 'ing': False, 'dizzy': False, 'sheet': False, 'sales': False, 'stretch': False, 'launch': False, 'plant': False, 'jacob': False, 'mega': False, 'cub': False, 'bay': False, 'sub': False, 'meat': False, 'large': False, 'mirror': False, 'jess': False, 'wind': False, 'brace': False, 'cupcake': False, 'recommendation': False, 'kitten': False, 'lecture': False, 'eww': False, 'horny': False, 'bean': False, 'ca': False, 'spoil': False, 'bind': False, 'steak': False, 'wif': False, 'strawberry': False, 'damage': False, 'faith': False, 'favorites': False, 'arse': False, 'develop': False, 'hd': False, 'rub': False, 'outfit': False, 'emergency': False, 'october': False, 'opportunity': False, 'wordpress': False, 'weak': False, 'foods': False, 'peter': False, 'experiment': False, 'insane': False, 'doh': False, 'ten': False, 'whilst': False, 'firefox': False, 'flavor': False, 'whoop': False, 'picnic': False, 'ad': False, 'drivers': False, 'ew': False, 'bleh': False, 'topics': False, 'numb': False, 'anna': False, 'victoria': False, 'author': False, 'relationship': False, 'claim': False, 'bride': False, 'sniff': False, 'brush': False, 'downstairs': False, 'mariahcarey': False, 'pit': False, 'thankfully': False, 'basketball': False, 'beta': False, 'bow': False, 'clip': False, 'turkey': False, 'anybody': False, 'dane': False, 'conflict': False, 'meh': False, 'jersey': False, 'compare': False, 'lang': False, 'sniffle': False, 'songzyuuup': False, 'iranelection': False, 'within': False, 'tie': False, 'ko': False, 'tweetie': False, 'waffle': False, 'amazon': False, 'thrill': False, 'content': False, 'ceremony': False, 'impress': False, 'esp': False, 'toe': False, 'period': False, 'nxt': False, 'addiction': False, 'douche': False, 'unite': False, 'sight': False, 'hav': False, 'ooo': False, 'shave': False, 'lisa': False, 'tim': False, 'php': False, 'kat': False, 'total': False, 'fuckers': False, 'insurance': False, 'chair': False, 'recently': False, 'smash': False, 'toast': False, 'que': False, 'honest': False, 'tons': False, 'manchester': False, 'wreck': False, 'ahhhhh': False, 'hotmail': False, 'seven': False, 'farm': False, 'nooooo': False, 'maine': False, 'tweeterfollow': False, 'circle': False, 'pie': False, 'seal': False, 'security': False, 'bbc': False, 'loss': False, 'stream': False, 'nurse': False, 'tap': False, 'gas': False, 'german': False, 'singer': False, 'richard': False, 'nathan': False, 'petewentz': False, 'houston': False, 'prolly': False, 'twitterland': False, 'proposal': False, 'bread': False, 'poison': False, 'gain': False, 'miserable': False, 'saddest': False, 'fool': False, 'wifi': False, 'waitin': False, 'lions': False, 'peel': False, 'handsome': False, 'eminem': False, 'xxxx': False, 'jelly': False, 'easily': False, 'events': False, 'entertainment': False, 'garage': False, 'japanese': False, 'umm': False, 'iremember': False, 'pr': False, 'scotland': False, 'cycle': False, 'dope': False, 'wen': False, 'knight': False, 'third': False, 'queue': False, 'wink': False, 'ft': False, 'main': False, 'glorious': False, 'alcohol': False, 'heel': False, 'adult': False, 'holly': False, 'blogspot': False, 'brian': False, 'miami': False, 'march': False, 'bomb': False, 'sorta': False, 'whale': False, 'cud': False, 'trash': False, 'ridiculous': False, 'leno': False, 'scene': False, 'philippines': False, 'harder': False, 'distract': False, 'general': False, 'katy': False, 'darling': False, 'giggle': False, 'url': False, 'remote': False, 'jazz': False, 'hardly': False, 'clue': False, 'warn': False, 'deep': False, 'wheel': False, 'multiple': False, 'common': False, 'task': False, 'conversation': False, 'demons': False, 'hence': False, 'application': False, 'amuse': False, 'cooler': False, 'hv': False, 'poorly': False, 'zoo': False, 'lesson': False, 'forum': False, 'suit': False, 'explain': False, 'pig': False, 'sink': False, 'jr': False, 'aplusk': False, 'medicine': False, 'signal': False, 'drain': False, 'megan': False, 'stairs': False, 'regret': False, 'metal': False, 'map': False, 'court': False, 'niggas': False, 'commercial': False, 'playlist': False, 'punch': False, 'ne': False, 'mee': False, 'lounge': False, 'pride': False, 'amsterdam': False, 'yer': False, 'luckily': False, 'clearly': False, 'sec': False, 'spy': False, 'rich': False, 'cuppa': False, 'slide': False, 'press': False, 'semester': False, 'winner': False, 'dew': False, 'disconnect': False, 'li': False, 'tuition': False, 'tweetup': False, 'tool': False, 'daily': False, 'icons': False, 'avatar': False, 'sunglasses': False, 'josh': False, 'gg': False, 'adjust': False, 'hayley': False, 'ram': False, 'install': False, 'sd': False, 'thread': False, 'mrs': False, 'lyric': False, 'ashleytisdale': False, 'idiot': False, 'tennis': False, 'austin': False, 'mushroom': False, 'suggest': False, 'perry': False, 'max': False, 'bin': False, 'icecream': False, 'plate': False, 'language': False, 'gum': False, 'electricity': False, 'humid': False, 'mask': False, 'youth': False, 'pressure': False, 'grrrrr': False, 'truth': False, 'yawn': False, 'dust': False, 'relieve': False, 'affect': False, 'dig': False, 'bounce': False, 'police': False, 'sleepless': False, 'unpack': False, 'joel': False, 'separate': False, 'motion': False, 'wouldnt': False, 'ole': False, 'yeahh': False, 'shiny': False, 'silver': False, 'buffet': False, 'absolute': False, 'unloved': False, 'nicely': False, 'normally': False, 'pity': False, 'niece': False, 'theory': False, 'sry': False, 'duh': False, 'horrid': False, 'ooc': False, 'prevent': False, 'tongue': False, 'omj': False, 'mmmmm': False, 'greek': False, 'dl': False, 'edge': False, 'georgia': False, 'lottery': False, 'coldplay': False, 'lily': False, 'society': False, 'valley': False, 'el': False, 'concentrate': False, 'fri': False, 'relate': False, 'crystalchappell': False, 'yayyy': False, 'pot': False, 'loser': False, 'lip': False, 'greatest': False, 'duck': False, 'dick': False, 'relief': False, 'community': False, 'grandmother': False, 'sunburnt': False, 'md': False, 'verse': False, 'celebrity': False, 'nighty': False, 'todays': False, 'blonde': False, 'gold': False, 'etsy': False, 'lightning': False, 'newport': False, 'wknd': False, 'renew': False, 'older': False, 'venue': False, 'dell': False, 'therapy': False, 'tequila': False, 'announcement': False, 'lend': False, 'exchange': False, 'din': False, 'fridge': False, 'buddies': False, 'cinema': False, 'nam': False, 'heck': False, 'noooooo': False, 'lean': False, 'assume': False, 'rail': False, 'lolz': False, 'whether': False, 'panda': False, 'comin': False, 'di': False, 'smack': False, 'matthew': False, 'suspect': False, 'noise': False, 'virus': False, 'mgiraudofficial': False, 'blogger': False, 'heal': False, 'unique': False, 'imo': False, 'amanda': False, 'evil': False, 'inform': False, 'particularly': False, 'skate': False, 'bits': False, 'action': False, 'bgt': False, 'shy': False, 'patch': False, 'rug': False, 'advance': False, 'junior': False, 'amount': False, 'tasty': False, 'beyond': False, 'mexican': False, 'joeymcintyre': False, 'refuse': False, 'reward': False, 'encourage': False, 'bk': False, 'cb': False, 'whew': False, 'hint': False, 'twitterverse': False, 'hut': False, 'kyle': False, 'seattle': False, 'websites': False, 'cruel': False, 'gmail': False, 'chart': False, 'youuuu': False, 'invisible': False, 'cod': False, 'alan': False, 'assignments': False, 'iv': False, 'prove': False, 'production': False, 'silence': False, 'mode': False, 'error': False, 'popular': False, 'meal': False, 'towel': False, 'deadline': False, 'va': False, 'wk': False, 'juice': False, 'yesss': False, 'tax': False, 'overall': False, 'announce': False, 'split': False, 'agh': False, 'tbh': False, 'bg': False, 'convert': False, 'cricket': False, 'excitement': False, 'iz': False, 'subject': False, 'magazine': False, 'bash': False, 'anthony': False, 'stink': False, 'inspiration': False, 'wireless': False, 'dive': False, 'tw': False, 'audio': False, 'function': False, 'countries': False, 'swift': False, 'tyrese': False, 'makeup': False, 'lc': False, 'bugger': False, 'aim': False, 'passport': False, 'mcdonalds': False, 'appropriate': False, 'phrase': False, 'bros': False, 'several': False, 'brb': False, 'gut': False, 'boooo': False, 'cha': False, 'address': False, 'stickers': False, 'tony': False, 'archuleta': False, 'pcd': False, 'sc': False, 'adopt': False, 'nine': False, 'mah': False, 'jj': False, 'snore': False, 'april': False, 'celebration': False, 'index': False, 'ii': False, 'slice': False, 'ink': False, 'inch': False, 'rss': False, 'doll': False, 'trade': False, 'entry': False, 'probs': False, 'coursework': False, 'wana': False, 'loose': False, 'lap': False, 'oc': False, 'wot': False, 'debate': False, 'nothin': False, 'wrk': False, 'twurl': False, 'nl': False, 'playin': False, 'knowledge': False, 'italian': False, 'blink': False, 'alert': False, 'bestie': False, 'virgin': False, 'jet': False, 'pencil': False, 'doughnut': False, 'listenin': False, 'transfer': False, 'ewww': False, 'jerk': False, 'crab': False, 'jordin': False, 'tsk': False, 'chores': False, 'jp': False, 'capture': False, 'anti': False, 'disco': False, 'solve': False, 'sleepover': False, 'loopt': False, 'clutch': False, 'calories': False, 'knit': False, 'factory': False, 'thurs': False, 'tat': False, 'popcorn': False, 'marley': False, 'tues': False, 'jailbreak': False, 'ac': False, 'range': False, 'former': False, 'suggestion': False, 'perezhilton': False, 'procrastinate': False, 'obsess': False, 'yikes': False, 'hon': False, 'core': False, 'anger': False, 'tommorow': False, 'atlantic': False, 'honor': False, 'ebassman': False, 'oz': False, 'singapore': False, 'sod': False, 'vanessa': False, 'hack': False, 'risk': False, 'uhh': False, 'chi': False, 'management': False, 'foreign': False, 'emo': False, 'drool': False, 'itch': False, 'vines': False, 'wikipedia': False, 'regents': False, 'career': False, 'br': False, 'cheaper': False, 'zone': False, 'madison': False, 'explore': False, 'discuss': False, 'marriage': False, 'officialtila': False, 'eek': False, 'unexpected': False, 'ummm': False, 'cba': False, 'safari': False, 'clap': False, 'blush': False, 'ahem': False, 'thai': False, 'gossip': False, 'sweaty': False, 'az': False, 'roast': False, 'garlic': False, 'pepper': False, 'spirit': False, 'broadway': False, 'heycassadee': False, 'southern': False, 'comfort': False, 'lemonade': False, 'effort': False, 'lvatt': False, 'display': False, 'password': False, 'global': False, 'families': False, 'comfy': False, 'chapter': False, 'kiddos': False, 'value': False, 'freedom': False, 'denmark': False, 'woah': False, 'extend': False, 'ct': False, 'shud': False, 'ie': False, 'le': False, 'jen': False, 'someones': False, 'kindle': False, 'donate': False, 'expire': False, 'sucker': False, 'mn': False, 'awwh': False, 'lj': False, 'bee': False, 'position': False, 'campus': False, 'tiff': False, 'communication': False, 'ga': False, 'edward': False, 'paypal': False, 'bust': False, 'lovato': False, 'exact': False, 'hotter': False, 'culture': False, 'momma': False, 'breeze': False, 'highlight': False, 'skills': False, 'montreal': False, 'vancouver': False, 'scrub': False, 'pjs': False, 'justin': False, 'exit': False, 'countdown': False, 'dmv': False, 'whoa': False, 'bae': False, 'dedicate': False, 'gals': False, 'farewell': False, 'meals': False, 'ke': False, 'sexual': False, 'actor': False, 'il': False, 'nc': False, 'tempt': False, 'damnit': False, 'cheesecake': False, 'visa': False, 'awh': False, 'blind': False, 'cali': False, 'tmr': False, 'moro': False, 'crystal': False, 'rash': False, 'recent': False, 'animals': False, 'blanket': False, 'swing': False, 'hips': False, 'jamie': False, 'tesco': False, 'ashamed': False, 'dis': False, 'burger': False, 'incredibly': False, 'ts': False, 'grateful': False, 'thankful': False, 'noes': False, 'statement': False, 'tidy': False, 'drinkin': False, 'breath': False, 'madness': False, 'jordan': False, 'potential': False, 'trap': False, 'occasion': False, 'rugby': False, 'physical': False, 'depression': False, 'metro': False, 'borrow': False, 'obama': False, 'peak': False, 'makin': False, 'fund': False, 'november': False, 'est': False, 'cramp': False, 'taco': False, 'meg': False, 'ton': False, 'tgif': False, 'mat': False, 'iowa': False, 'haunt': False, 'hire': False, 'yellow': False, 'beatles': False, 'candy': False, 'sausage': False, 'european': False, 'slave': False, 'bead': False, 'randomly': False, 'surf': False, 'genius': False, 'relay': False, 'holla': False, 'browser': False, 'looove': False, 'mms': False, 'oyster': False, 'wee': False, 'tease': False, 'steel': False, 'atlanta': False, 'goodnite': False, 'effect': False, 'recommendations': False, 'nighter': False, 'teachers': False, 'collection': False, 'caffeine': False, 'toothache': False, 'pill': False, 'dev': False, 'titanic': False, 'progress': False, 'dwighthoward': False, 'noon': False, 'gotcha': False, 'brownies': False, 'whos': False, 'pat': False, 'fedex': False, 'member': False, 'exercise': False, 'surely': False, 'birth': False, 'royal': False, 'yayy': False, 'orientation': False, 'curl': False, 'intense': False, 'yell': False, 'sucky': False, 'latte': False, 'whore': False, 'yess': False, 'paradise': False, 'kim': False, 'rhyme': False, 'bump': False, 'crackberry': False, 'frm': False, 'meds': False, 'ubertwitter': False, 'competition': False, 'tampa': False, 'incident': False, 'option': False, 'rotten': False, 'playoffs': False, 'virginia': False, 'thebrandicyrus': False, 'imac': False, 'postpone': False, 'hahahah': False, 'pokemon': False, 'denver': False, 'mental': False, 'peaceful': False, 'louis': False, 'disturb': False, 'rescue': False, 'ja': False, 'basic': False, 'peanut': False, 'temporary': False, 'pocket': False, 'gurl': False, 'offline': False, 'pillow': False, 'alancarr': False, 'successful': False, 'dish': False, 'dan': False, 'stephenfry': False, 'newest': False, 'hike': False, 'lolol': False, 'latin': False, 'episodes': False, 'eu': False, 'booooo': False, 'wo': False, 'suddenly': False, 'shine': False, 'dvds': False, 'baseball': False, 'michelle': False, 'hols': False, 'korea': False, 'tb': False, 'audience': False, 'appt': False, 'ban': False, 'jakarta': False, 'indonesia': False, 'gahhh': False, 'description': False, 'spare': False, 'housework': False, 'current': False, 'mainly': False, 'countryside': False, 'cs': False, 'thousand': False, 'reschedule': False, 'express': False, 'flood': False, 'volunteer': False, 'sytycd': False, 'thunderstorm': False, 'byeee': False, 'backup': False, 'sony': False, 'physics': False, 'ellen': False, 'patrick': False, 'meantime': False, 'xox': False, 'tooo': False, 'cape': False, 'ay': False, 'verify': False, 'cave': False, 'wossy': False, 'plastic': False, 'nip': False, 'por': False, 'favor': False, 'indiana': False, 'grandpa': False, 'youuu': False, 'hw': False, 'yessss': False, 'meee': False, 'iranian': False, 'brisbane': False, 'complicate': False, 'shade': False, 'ooooh': False, 'dd': False, 'apparent': False, 'belong': False, 'mint': False, 'ldn': False, 'edinburgh': False, 'funeral': False, 'indian': False, 'jog': False, 'van': False, 'outage': False, 'talent': False, 'combination': False, 'lauren': False, 'pure': False, 'xp': False, 'karaoke': False, 'private': False, 'curse': False, 'recycle': False, 'fyi': False, 'ginger': False, 'database': False, 'naked': False, 'cc': False, 'tryna': False, 'discussion': False, 'es': False, 'mosquito': False, 'lifetime': False, 'struggle': False, 'skool': False, 'den': False, 'ng': False, 'fawcett': False, 'casino': False, 'pork': False, 'package': False, 'sara': False, 'stun': False, 'gcse': False, 'banana': False, 'cornwall': False, 'wats': False, 'toilet': False, 'fiction': False, 'reckon': False, 'francisco': False, 'sync': False, 'alice': False, 'rag': False, 'heartburn': False, 'diner': False, 'manila': False, 'missin': False, 'adelaide': False, 'jones': False, 'beside': False, 'challenge': False, 'toothbrush': False, 'volleyball': False, 'inn': False, 'ipl': False, 'section': False, 'gal': False, 'memorial': False, 'artist': False, 'allen': False, 'modern': False, 'seek': False, 'solution': False, 'dare': False, 'honestly': False, 'stag': False, 'surround': False, 'field': False, 'porn': False, 'hm': False, 'al': False, 'úc': False, 'nerds': False, 'chaos': False, 'bible': False, 'twenty': False, 'meeee': False, 'awkward': False, 'wipe': False, 'gulpanag': False, 'takin': False, 'equipment': False, 'bub': False, 'tx': False, 'prison': False, 'naughty': False, 'deb': False, 'fwd': False, 'css': False, 'rude': False, 'yu': False, 'betta': False, 'mums': False, 'heroes': False, 'tomorow': False, 'uggh': False, 'default': False, 'wakey': False, 'rt': False, 'michigan': False, 'failure': False, 'electric': False, 'dull': False, 'supper': False, 'towards': False, 'jenn': False, 'eps': False, 'silent': False, 'kidnap': False, 'fifa': False, 'lem': False, 'gun': False, 'chilly': False, 'string': False, 'shell': False, 'bud': False, 'boom': False, 'mic': False, 'scott': False, 'cellphone': False, 'mansfield': False, 'grass': False, 'chain': False, 'hada': False, 'chemical': False, 'tf': False, 'useless': False, 'hail': False, 'heidi': False, 'colorado': False, 'nk': False, 'reminder': False, 'premiere': False, 'ian': False, 'aaron': False, 'nike': False, 'chick': False, 'expose': False, 'nooooooo': False, 'photoshop': False, 'reinstall': False, 'mid': False, 'ako': False, 'jeff': False, 'intend': False, 'urgent': False, 'skyline': False, 'souljaboytellem': False, 'op': False, 'delhi': False, 'lovers': False, 'mannnn': False, 'digital': False, 'bestest': False, 'code': False, 'speakers': False, 'coolest': False, 'cheeseburger': False, 'remain': False, 'contract': False, 'conclusion': False, 'fletcher': False, 'luggage': False, 'options': False, 'lim': False, 'basement': False, 'choc': False, 'xoxox': False, 'outrageous': False, 'dannywood': False, 'lastnight': False, 'choices': False, 'auto': False, 'gather': False, 'mani': False, 'sidekick': False, 'champion': False, 'discount': False, 'hooray': False, 'opera': False, 'ace': False, 'desktop': False, 'adobe': False, 'mcmahon': False, 'wardrobe': False, 'eight': False, 'rc': False, 'doggy': False, 'boooooo': False, 'bail': False, 'iii': False, 'economy': False, 'constant': False, 'pandora': False, 'january': False, 'license': False, 'shamble': False, 'associate': False, 'sb': False, 'crown': False, 'comfortable': False, 'coworker': False, 'meanwhile': False, 'hiccup': False, 'drug': False, 'dom': False, 'mcdonald': False, 'actress': False, 'diane': False, 'neat': False, 'roommate': False, 'terminal': False, 'snake': False, 'cord': False, 'weep': False, 'pinky': False, 'poke': False, 'ferry': False, 'iamdiddy': False, 'somewhat': False, 'nigga': False, 'charlieskies': False, 'castle': False, 'nh': False, 'cam': False, 'sesh': False, 'solo': False, 'dogbook': False, 'ant': False, 'elizabeth': False, 'earn': False, 'fl': False, 'bryan': False, 'okey': False, 'dot': False, 'restart': False, 'haveyouever': False, 'stranger': False, 'rove': False, 'university': False, 'ye': False, 'thts': False, 'bam': False, 'kimkardashian': False, 'squee': False, 'yucky': False, 'ohio': False, 'lappy': False, 'huhu': False, 'boredom': False, 'russian': False, 'aircon': False, 'twitterific': False, 'lilyroseallen': False, 'proof': False, 'billy': False, 'followin': False, 'hallelujah': False, 'insert': False, 'wil': False, 'wisely': False, 'asia': False, 'supply': False, 'cutest': False, 'itchy': False, 'ack': False, 'safety': False, 'workshop': False, 'awesomeness': False, 'api': False, 'loooove': False, 'weekly': False, 'streets': False, 'munch': False, 'weddings': False, 'login': False, 'automatic': False, 'footage': False, 'classroom': False, 'sweden': False, 'guide': False, 'nj': False, 'adios': False, 'require': False, 'computers': False, 'needle': False, 'hookah': False, 'punk': False, 'nude': False, 'pathetic': False, 'marsiscoming': False, 'dublin': False, 'ak': False, 'grumpy': False, 'zach': False, 'terrify': False, 'fone': False, 'dam': False, 'psychology': False, 'reveal': False, 'downside': False, 'athens': False, 'nauseous': False, 'dvr': False, 'selfish': False, 'embarrass': False, 'andyclemmensen': False, 'nom': False, 'complex': False, 'fairy': False, 'semi': False, 'grace': False, 'yaay': False, 'heather': False, 'trivia': False, 'connection': False, 'soundtrack': False, 'introduce': False, 'hearts': False, 'tourist': False, 'maggie': False, 'oke': False, 'debbiefletcher': False, 'bartender': False, 'participate': False, 'hulu': False, 'nerve': False, 'yah': False, 'gim': False, 'talented': False, 'fart': False, 'penny': False, 'strip': False, 'csi': False, 'lolll': False, 'pearl': False, 'jackie': False, 'kevin': False, 'mikes': False, 'command': False, 'wembley': False, 'forgive': False, 'homeless': False, 'jessica': False, 'lovee': False, 'lewis': False, 'lambert': False, 'slam': False, 'ways': False, 'tweeter': False, 'trail': False, 'arena': False, 'vinyl': False, 'aussie': False, 'concern': False, 'checkin': False, 'definately': False, 'ditch': False, 'delivery': False, 'spider': False, 'describe': False, 'nuggets': False, 'tommorrow': False, 'fascinate': False, 'customer': False, 'fuse': False, 'insomnia': False, 'amazingly': False, 'communicate': False, 'minus': False, 'significant': False, 'brazilian': False, 'tri': False, 'rev': False, 'ramp': False, 'engagement': False, 'equal': False, 'pete': False, 'routine': False, 'similar': False, 'bluetooth': False, 'springfield': False, 'pattinson': False, 'reminisce': False, 'rumour': False, 'await': False, 'fred': False, 'catchin': False, 'lemon': False, 'stats': False, 'thingy': False, 'yrs': False, 'saturdays': False, 'innocent': False, 'tomoz': False, 'convention': False, 'charlie': False, 'wht': False, 'recieved': False, 'squirrel': False, 'merienda': False, 'shed': False, 'roof': False, 'phoenix': False, 'dana': False, 'tut': False, 'september': False, 'nashville': False, 'pose': False, 'welsh': False, 'wire': False, 'reaction': False, 'photoshoot': False, 'determine': False, 'jewelry': False, 'sympathy': False, 'approach': False, 'solid': False, 'caitlin': False, 'beg': False, 'blank': False, 'kansas': False, 'beef': False, 'girlie': False, 'jesse': False, 'rebuild': False, 'maid': False, 'diva': False, 'loudly': False, 'flag': False, 'rerun': False, 'useful': False, 'misery': False, 'creep': False, 'glasgow': False, 'bold': False, 'unit': False, 'becca': False, 'gang': False, 'fade': False, 'patient': False, 'theater': False, 'disgust': False, 'kickin': False, 'jackalltimelow': False, 'lessons': False, 'finance': False, 'spicy': False, 'magnolia': False, 'mountains': False, 'comic': False, 'sans': False, 'okie': False, 'muchos': False, 'reception': False, 'daisies': False, 'reds': False, 'nadal': False, 'britneyspears': False, 'documentary': False, 'motivation': False, 'hitch': False, 'jumper': False, 'spill': False, 'amber': False, 'approve': False, 'corn': False, 'rihanna': False, 'sprint': False, 'babysit': False, 'studyin': False, 'paramore': False, 'poster': False, 'respect': False, 'golden': False, 'translation': False, 'irish': False, 'worship': False, 'sms': False, 'crib': False, 'jimmy': False, 'mister': False, 'bark': False, 'peek': False, 'planet': False, 'gh': False, 'margaritas': False, 'nm': False, 'thus': False, 'dough': False, 'dads': False, 'anatomy': False, 'officialtl': False, 'whack': False, 'ilove': False, 'emily': False, 'rocky': False, 'muh': False, 'scrap': False, 'fo': False, 'peach': False, 'fest': False, 'travis': False, 'entirely': False, 'nokia': False, 'hotties': False, 'o_o': False, 'zune': False, 'violence': False, 'cocktails': False, 'combine': False, 'squash': False, 'leavin': False, 'yahoo': False, 'pembsdave': False, 'milkshake': False, 'resist': False, 'keen': False, 'sake': False, 'gooood': False, 'chop': False, 'shrink': False, 'quest': False, 'hottie': False, 'katyperry': False, 'holland': False, 'med': False, 'papa': False, 'logo': False, 'constantly': False, 'asian': False, 'babes': False, 'cho': False, 'sophie': False, 'east': False, 'shadow': False, 'pancakes': False, 'conf': False, 'mash': False, 'sofa': False, 'eatin': False, 'transport': False, 'twas': False, 'ds': False, 'poem': False, 'yogurt': False, 'bkite': False, 'prof': False, 'supernatural': False, 'oklahoma': False, 'motivate': False, 'postal': False, 'yday': False, 'cab': False, 'hashtag': False, 'select': False, 'boost': False, 'laptops': False, 'location': False, 'belive': False, 'torture': False, 'cds': False, 'classmates': False, 'murder': False, 'illness': False, 'cooper': False, 'presence': False, 'gps': False, 'typical': False, 'furniture': False, 'tomato': False, 'rehearsal': False, 'registration': False, 'gina': False, 'cherries': False, 'gona': False, 'irn': False, 'bru': False, 'regard': False, 'ingredients': False, 'frost': False, 'lush': False, 'bu': False, 'shatter': False, 'mug': False, 'hola': False, 'reallly': False, 'british': False, 'cnn': False, 'tofu': False, 'flick': False, 'bcuz': False, 'zombies': False, 'wayyy': False, 'mvp': False, 'sweets': False, 'template': False, 'buzz': False, 'stuffy': False, 'methinks': False, 'batch': False, 'condolences': False, 'naman': False, 'chew': False, 'pala': False, 'rabbit': False, 'arg': False, 'nvm': False, 'grrrr': False, 'les': False, 'numerous': False, 'neil': False, 'average': False, 'mickey': False, 'chloe': False, 'ba': False, 'fridays': False, 'lover': False, 'overdue': False, 'yt': False, 'patiently': False, 'sober': False, 'juz': False, 'nbc': False, 'srsly': False, 'bioshock': False, 'render': False, 'budget': False, 'sean': False, 'taller': False, 'twat': False, 'tomatoes': False, 'xfm': False, 'mop': False, 'kfc': False, 'likely': False, 'km': False, 'pooped': False, 'hospitals': False, 'vampire': False, 'choke': False, 'vintage': False, 'hoedown': False, 'throwdown': False, 'nephew': False, 'daw': False, 'slim': False, 'helen': False, 'submit': False, 'cassie': False, 'eric': False, 'omgg': False, 'wa': False, 'twitterberry': False, 'coat': False, 'accord': False, 'tiger': False, 'jammin': False, 'escape': False, 'purpose': False, 'apologies': False, 'distance': False, 'whoo': False, 'rome': False, 'racist': False, 'scout': False, 'sox': False, 'wrist': False, 'washington': False, 'enter': False, 'vegetarian': False, 'tube': False, 'mypict': False, 'fortune': False, 'kk': False, 'bo': False, 'retreat': False, 'paulaabdul': False, 'reboot': False, 'dragon': False, 'malaysia': False, 'enjoyable': False, 'diff': False, 'ultimate': False, 'heheh': False, 'orleans': False, 'erin': False, 'ashton': False, 'gate': False, 'monsters': False, 'geography': False, 'decor': False, 'balcony': False, 'lor': False, 'ihave': False, 'sweetest': False, 'nausea': False, 'eventually': False, 'panic': False, 'torrential': False, 'compete': False, 'criminal': False, 'carrots': False, 'humans': False, 'vc': False, 'ovi': False, 'dq': False, 'careful': False, 'citizen': False, 'studios': False, 'forest': False, 'rb': False, 'cruise': False, 'effin': False, 'crime': False, 'wks': False, 'lifes': False, 'drizzle': False, 'choir': False, 'funky': False, 'rly': False, 'gnite': False, 'salsa': False, 'reset': False, 'despite': False, 'dairy': False, 'ultra': False, 'carbs': False, 'soy': False, 'deeply': False, 'soothe': False, 'cider': False, 'pameladetlor': True, 'stressful': True, 'heartbreaking': True, 'spice': False, 'crispy': False, 'deliciously': False, 'muse': False, 'bra': False, 'minor': False, 'ape': False, 'nickelback': False, 'stinky': False, 'offend': False, 'lamb': False, 'horribly': False, 'fetch': False, 'kite': False, 'concept': False, 'yoko': False, 'fresno': False, 'endless': False, 'chennai': False, 'graphic': False, 'supervisor': False, 'vineyard': False, 'organize': False, 'sack': False, 'everest': False, 'elsewhere': False, 'username': False, 'automatically': False, 'redwings': False, 'romance': False, 'twitterfon': False, 'label': False, 'likey': False, 'muchmusic': False, 'minnesota': False, 'shoppin': False, 'yaaay': False, 'conversations': False, 'worlds': False, 'dump': False, 'jaw': False, 'bowwow': False, 'confusion': False, 'debut': False, 'blockheads': False, 'shh': False, 'hellooo': False, 'slack': False, 'posh': False, 'db': False, 'mysql': False, 'pixie': False, 'ego': False, 'psych': False, 'av': False, 'farmer': False, 'eva': False, 'everton': False, 'ittt': False, 'lucy': False, 'tweeties': False, 'sept': False, 'photograph': False, 'fold': False, 'shelby': False, 'alternative': False, 'airlines': False, 'crazytwism': False, 'tragic': False, 'compute': False, 'yew': False, 'cameron': False, 'tennant': False, 'upppp': False, 'sundae': False, 'jays': False, 'xoxoxo': False, 'handmade': False, 'aa': False, 'shuck': False, 'twitterfox': False, 'float': False, 'lng': False, 'jd': False, 'assist': False, 'salt': False, 'animal': False, 'pix': False, 'spose': False, 'criss': False, 'wander': False, 'cow': False, 'audition': False, 'innings': False, 'obsession': False, 'hii': False, 'pun': False, 'shawn': False, 'fax': False, 'lama': False, 'guests': False, 'education': False, 'contribute': False, 'jason_mraz': False, 'dora': False, 'costume': False, 'poland': False, 'expert': False, 'desire': False, 'familiar': False, 'alcoholic': False, 'merry': False, 'grouchy': False, 'retweet': False, 'carnival': False, 'eli': False, 'tricky': False, 'speechless': False, 'thomas': False, 'theellenshow': False, 'pg': False, 'gma': False, 'sp': False, 'allison': False, 'sats': False, 'zac': False, 'necklace': False, 'reservation': False, 'candle': False, 'resume': False, 'fag': False, 'examination': False, 'accomplish': False, 'safely': False, 'hump': False, 'religion': False, 'loll': False, 'niley': False, 'ancient': False, 'te': False, 'summertime': False, 'championship': False, 'footy': False, 'dayum': False, 'dancer': False, 'geometry': False, 'sentence': False, 'lung': False, 'insanity': False, 'uu': False, 'upcoming': False, 'ahhhhhhhhhhh': False, 'shaun': False, 'novel': False, 'phew': False, 'tower': False, 'iamjonathancook': False, 'logic': False, 'texted': False, 'sickness': False, 'mentor': False, 'ana': False, 'hillarious': False, 'coaster': False, 'ver': False, 'deck': False, 'rant': False, 'typo': False, 'linkedin': False, 'hiya': False, 'noe': False, 'elementary': False, 'elisa': False, 'willeth': False, 'spotify': False, 'wuz': False, 'lace': False, 'edition': False, 'naturally': False, 'mann': False, 'vanish': False, 'brag': False, 'iphones': False, 'wax': False, 'jasmine': False, 'dmb': False, 'newcastle': False, 'elaine': False, 'dye': False, 'recall': False, 'mraz': False, 'witch': False, 'sadface': False, 'johncmayer': False, 'hype': False, 'inner': False, 'caribou': False, 'ughhhh': False, 'nonsense': False, 'potato': False, 'rascal': False, 'doors': False, 'heyyyyy': False, 'bat': False, 'infront': False, 'higher': False, 'drown': False, 'starter': False, 'runnin': False, 'congratulation': False, 'bak': False, 'alien': False, 'assassinate': False, 'fewer': False, 'tutor': False, 'babygirlparis': False, 'cologne': False, 'berlin': False, 'increase': False, 'pregnant': False, 'meeeeeee': False, 'nightclub': False, 'wiv': False, 'slash': False, 'vg': False, 'netflix': False, 'dylan': False, 'kirsty': False, 'swap': False, 'cunt': False, 'chef': False, 'aid': False, 'unusual': False, 'beyonce': False, 'kathyireland': False, 'heap': False, 'milan': False, 'sleepin': False, 'gilmore': False, 'flame': False, 'devastate': False, 'hyper': False, 'mitchel': False, 'fudge': False, 'filthy': False, 'balance': False, 'squishy': False, 'straighten': False, 'sumtimes': False, 'clients': False, 'innit': False, 'eastenders': False, 'attitude': False, 'setup': False, 'arizona': False, 'rl': False, 'beauties': False, 'urs': False, 'occupy': False, 'eddy': False, 'sponge': False, 'greedy': False, 'soggy': False, 'donnie': False, 'juss': False, 'spoon': False, 'feedback': False, 'recipe': False, 'formula': False, 'youll': False, 'nao': False, 'rely': False, 'dani': False, 'puzzle': False, 'connecticut': False, 'ttyl': False, 'grader': False, 'irritate': False, 'samjmoody': False, 'tomorrows': False, 'ph': False, 'shiz': False, 'trent_reznor': False, 'tiredness': False, 'hamster': False, 'disappointment': False, 'archie': False, 'hubs': False, 'hollywood': False, 'donut': False, 'qualify': False, 'salon': False, 'gabrielsaporta': False, 'cheesy': False, 'thoroughly': False, 'gary': False, 'abc': False, 'gloves': False, 'hershey': False, 'upp': False, 'donations': False, 'gladly': False, 'nahhh': False, 'musicmonday': False, 'brownie': False, 'teh': False, 'blister': False, 'danger': False, 'muhahaha': False, 'stomp': False, 'tail': False, 'iamsoannoyed': False, 'politics': False, 'rn': False, 'millions': False, 'patience': False, 'blake': False, 'belated': False, 'jradc': False, 'david_henrie': False, 'celeb': False, 'woooo': False, 'male': False, 'ave': False, 'wellll': False, 'laughter': False, 'voicemail': False, 'salvation': False, 'maui': False, 'pointless': False, 'adidas': False, 'ability': False, 'clash': False, 'cope': False, 'minimum': False, 'dodgers': False, 'telletwa': False, 'observation': False, 'jim': False, 'homies': False, 'shaundiviney': False, 'blackout': False, 'dialogue': False, 'onions': False, 'poo': False, 'promote': False, 'drill': False, 'celebrities': False, 'carradine': False, 'dint': False, 'unfortunate': False, 'highway': False, 'hobby': False, 'jonthanjay': False, 'littlefletcher': False, 'overcast': False, 'sour': False, 'earthquake': False, 'kasey': False, 'aye': False, 'dannygokey': False, 'wrinkle': False, 'deprive': False, 'shenanigans': False, 'twist': False, 'nickname': False, 'eg': False, 'rusty': False, 'aaah': False, 'locker': False, 'soap': False, 'beast': False, 'fiancee': False, 'scooter': False, 'dolly': False, 'anjeebaby': False, 'ova': False, 'annie': False, 'tt': False, 'okayyy': False, 'sacrifice': False, 'diamond': False, 'campaign': False, 'dudes': False, 'dolphin': False, 'hoodie': False, 'spectacular': False, 'skirt': False, 'vomit': False, 'peas': False, 'fond': False, 'sooooooo': False, 'jillian': False, 'policy': False, 'kirstyhilton': False, 'attractive': False, 'therefore': False, 'officialcharice': False, 'chin': False, 'backstreetboys': False, 'tasha': False, 'ewwww': False, 'blunt': False, 'undergo': False, 'nga': False, 'jm': False, 'aus': False, 'besties': False, 'johnlloydtaylor': False, 'accompany': False, 'beloved': False, 'wt': False, 'zealand': False, 'designer': False, 'ealing': False, 'sudden': False, 'noodles': False, 'der': False, 'army': False, 'vaca': False, 'anoop': False, 'twitterrific': False, 'skull': False, 'lg': False, 'nowhere': False, 'ryanseacrest': False, 'whitney': False, 'broadband': False, 'moe': False, 'lola': False, 'leopard': False, 'mccartney': False, 'sweater': False, 'cudnt': False, 'disk': False, 'payment': False, 'ld': False, 'carr': False, 'chatty': False, 'greg': False, 'treatment': False, 'jake': False, 'eep': False, 'adore': False, 'volume': False, 'biz': False, 'filter': False, 'wayne': False, 'coulda': False, 'yung': False, 'hammock': False, 'apologize': False, 'lebron': False, 'nooooooooo': False, 'owe': False, 'cherry': False, 'gokey': False, 'owww': False, 'finaly': False, 'retire': False, 'leak': False, 'ea': False, 'forums': False, 'laura': False, 'wrestle': False, 'bazillion': False, 'morrison': False, 'negative': False, 'mangoes': False, 'flatter': False, 'twitch': False, 'fantasmic': False, 'abs': False, 'dutch': False, 'noww': False, 'pup': False, 'jason_manford': False, 'fran': False, 'tad': False, 'hoptonhousebnb': False, 'shuffle': False, 'booty': False, 'peeve': False, 'nicer': False, 'laguna': False, 'aja': False, 'swedish': False, 'journals': False, 'marvelous': False, 'diaper': False, 'syd': False, 'tk': False, 'anderson': False, 'custom': False, 'dw': False, 'attn': False, 'users': False, 'trace': False, 'porto': False, 'nw': False, 'se': False, 'eve': False, 'fetish': False, 'oprah': False, 'refer': False, 'spiritual': False, 'owie': False, 'amongst': False, 'little_ren': False, 'members': False, 'mcflymusic': False, 'hott': False, 'satan': False, 'mag': False, 'brandon': False, 'cracker': False, 'excel': False, 'internship': False, 'ftl': False, 'sunshines': False, 'maynaseric': False, 'portfolio': False, 'virtual': False, 'mk': False, 'emmy': False, 'ffs': False, 'hamilton': False, 'import': False, 'accidentally': False, 'rehersal': False, 'ab': False, 'bonfire': False, 'pgh': False, 'admin': False, 'loooong': False, 'friggen': False, 'information': False, 'cal': False, 'gf': False, 'sweetheart': False, 'nature': False, 'deadpool': False, 'gailporter': False, 'kellie': False, 'pace': False, 'pulse': False, 'firmware': False, 'lordy': False, 'zombie': False, 'echo': False, 'blogtv': False, 'milo': False, 'measure': False, 'stadium': False, 'harsh': False, 'lady_twitster': False, 'sookiebontemps': False, 'creeper': False, 'editor': False, 'hunter': False, 'recognize': False, 'practically': False, 'err': False, 'poll': False, 'billyraycyrus': False, 'runway': False, 'howdy': False, 'fierce': False, 'booth': False, 'jayde_nicole': False, 'unemployed': False, 'taddy': False, 'morninggg': False, 'enamoredsoul': False, 'johnny': False, 'alike': False, 'nothings': False, 'ijustine': False, 'headphones': False, 'clinic': False, 'inspirational': False, 'shoutout': False, 'favour': False, 'corrupt': False, 'casual': False, 'cringe': False, 'yasmina': False, 'expertise': False, 'philly': False, 'investment': False, 'multiply': False, 'spamming': False, 'overtime': False, 'nic': False, 'sth': False, 'mel': False, 'ignorance': False, 'delightful': False, 'hectic': False, 'eventful': False, 'retard': False, 'unnecessary': False, 'flavour': False, 'globe': False, 'maria': False, 'banner': False, 'ihop': False, 'captain': False, 'srry': False, 'msjuicy': False, 'vewe': False, 'ano': False, 'twiter': False, 'html': False, 'craft': False, 'toss': False, 'combo': False, 'highly': False, 'freaky': False, 'addition': False, 'veronicas': False, 'sr': False, 'dougie': False, 'leap': False, 'prez': False, 'stayin': False, 'dollar': False, 'legit': False, 'anime': False, 'fritz': False, 'tina': False, 'hiss': False, 'iamthecommodore': False, 'cleveland': False, 'spymaster': False, 'kara': False, 'yur': False, 'isolate': False, 'softball': False, 'payday': False, 'burst': False, 'summit': False, 'wacky': False, 'cody': False, 'publishers': False, 'pleasures': False, 'cg': False, 'injury': False, 'customers': False, 'fantasy': False, 'emotionally': False, 'aah': False, 'stl': False, 'deg': False, 'misha': False, 'daniel': False, 'scottish': False, 'county': False, 'frankiethesats': False, 'badge': False, 'iplayer': False, 'suicide': False, 'bs': False, 'tlc': False, 'confirmation': False, 'mercury': False, 'randy': False, 'kan': False, 'costco': False, 'grapes': False, 'yupp': False, 'nz': False, 'audioboo': False, 'republic': False, 'sally': False, 'evar': False, 'gm': False, 'sf': False, 'sweep': False, 'pimp': False, 'grip': False, 'embrace': False, 'docs': False, 'bamboozle': False, 'ness': False, 'waaay': False, 'dental': False, 'perk': False, 'hoe': False, 'rave': False, 'heyyy': False, 'phase': False, 'buggy': False, 'condo': False, 'assessment': False, 'doggie': False, 'curry': False, 'external': False, 'tot': False, 'afterwards': False, 'tank': False, 'achievement': False, 'admire': False, 'seventeen': False, 'alexalltimelow': False, 'hmph': False, 'nick_carter': False, 'pda': False, 'taxi': False, 'batman': False, 'hall': False, 'ellis': False, 'sharp': False, 'goodsex': False, 'greece': False, 'profound': False, 'nicole': False, 'ipods': False, 'ey': False, 'engineer': False, 'alexarpd': False, 'collect': False, 'dia': False, 'olive': False, 'canon': False, 'rim': False, 'asean': False, 'phil': False, 'flake': False, 'tshirt': False, 'knees': False, 'toooooo': False, 'tomtom': False, 'pan': False, 'mabetini': False, 'spock': False, 'friggin': False, 'frickin': False, 'ouchy': False, 'bond': False, 'ting': False, 'fuzzy': False, 'pin': False, 'tomarrow': False, 'vinegar': False, 'canal': False, 'jungle': False, 'cosmos': False, 'memorize': False, 'loris_sl': False, 'younger': False, 'acid': False, 'glitter': False, 'shane': False, 'bristol': False, 'converse': False, 'ufc': False, 'federer': False, 'tivo': False, 'encounter': False, 'hottt': False, 'recovery': False, 'urg': False, 'happend': False, 'hugh': False, 'outdoor': False, 'nba': False, 'crisp': False, 'bach': False, 'rawr': False, 'pout': False, 'disaster': False, 'survey': False, 'pixar': False, 'grove': False, 'alyssa_milano': False, 'solangeknowles': False, 'pad': False, 'posters': False, 'boil': False, 'zinger': False, 'sadd': False, 'arrange': False, 'lighten': False, 'medium': False, 'nos': False, 'skittle': False, 'grandfather': False, 'goto': False, 'microsoft': False, 'unwanted': False, 'romantic': False, 'hottest': False, 'mango': False, 'sprinkle': False, 'uve': False, 'dec': False, 'jessicaveronica': False, 'cutie': False, 'carpet': False, 'organic': False, 'tent': False, 'gp': False, 'sexiest': False, 'thisisdavina': False, 'courtside': False, 'tomo': False, 'generally': False, 'israel': False, 'oly': False, 'mm': False, 'toooo': False, 'los': False, 'angeles': False, 'premier': False, 'angie': False, 'carly': False, 'pod': False, 'io': False, 'homee': False, 'boredd': False, 'unlock': False, 'nest': False, 'stm': False, 'path': False, 'neglect': False, 'vmware': False, 'deff': False, 'maker': False, 'jt': False, 'jealousy': False, 'tru': False, 'madden': False, 'contemplate': False, 'carter': False, 'steph': False, 'retrorewind': False, 'gmorning': False, 'sup': False, 'brewers': False, 'brit': False, 'query': False, 'halfway': False, 'internal': False, 'uber': False, 'dennys': False, 'tutorial': False, 'trance': False, 'stickam': False, 'spammers': False, 'pyjama': False, 'brick': False, 'drench': False, 'barry': False, 'tuck': False, 'yukky': False, 'stil': False, 'cain': False, 'wkend': False, 'manager': False, 'izzy': False, 'prep': False, 'whose': False, 'noodle': False, 'tmw': False, 'ther': False, 'slut': False, 'pas': False, 'uncool': False, 'television': False, 'impressive': False, 'urban': False, 'gtg': False, 'tonfue': False, 'chipotle': False, 'dash': False, 'dolls': False, 'recognise': False, 'pope': False, 'kona': False, 'jasonbradbury': False, 'tissue': False, 'explode': False, 'darker': False, 'oasis': False, 'sunlight': False, 'kingdom': False, 'arthritis': False, 'pleasant': False, 'jinx': False, 'agenda': False, 'tracecyrus': False, 'norway': False, 'necessary': False, 'patio': False, 'khloekardashian': False, 'yas': False, 'ri': False, 'capacity': False, 'warehouse': False, 'jar': False, 'subscription': False, 'brad': False, 'yey': False, 'suprise': False, 'bein': False, 'java': False, 'poetic': False, 'aware': False, 'instantly': False, 'commentary': False, 'bradiewebb': False, 'beeee': False, 'nkangel': False, 'grin': False, 'christ': False, 'messenger': False, 'oohh': False, 'greggarbo': False, 'kerry': False, 'alley': False, 'cube': False, 'rebekah_mcfly': False, 'usd': False, 'guyz': False, 'makati': False, 'leon': False, 'anxiety': False, 'brooklyn': False, 'era': False, 'ohhhh': False, 'utterly': False, 'poppin': False, 'mem': False, 'leaf': False, 'gnight': False, 'char': False, 'grandad': False, 'ל': False, 'sandals': False, 'pedi': False, 'hunters': False, 'bittersweet': False, 'nee': False, 'counter': False, 'vacay': False, 'whoever': False, 'kobe': False, 'za': False, 'ghost': False, 'lag': False, 'mystery': False, 'terrencej': False, 'lane': False, 'wud': False, 'eugh': False, 'neva': False, 'je': False, 'motorcycle': False, 'groupie': False, 'ml': False, 'sk': False, 'mud': False, 'tweeple': False, 'pastor': False, 'ron': False, 'okaaay': False, 'mob': False, 'shred': False, 'jeremiah': False, 'otw': False, 'mmmmmm': False, 'owner': False, 'fireworks': False, 'visual': False, 'sayin': False, 'nerd': False, 'aimee': False, 'shoulda': False, 'ottawa': False, 'funniest': False, 'trackle': False, 'draft': False, 'react': False, 'advert': False, 'woohoooo': False, 'kings': False, 'mornings': False, 'mailbox': False, 'sonday': False, 'tehe': False, 'kol': False, 'cigars': False, 'eurovision': False, 'crazier': False, 'rare': False, 'lbs': False, 'fc': False, 'unfair': False, 'vocabulary': False, 'sample': False, 'resort': False, 'michaelsarver': False, 'cn': False, 'jonathan': False, 'zack': False, 'polo': False, 'capable': False, 'abby': False, 'desperately': False, 'fur': False, 'sausages': False, 'gna': False, 'dreary': False, 'desperate': False, 'obvious': False, 'bobby': False, 'medical': False, 'yip': False, 'preppy': False, 'ic': False, 'desert': False, 'wood': False, 'jlsofficial': False, 'bistro': False, 'takers': False, 'argentina': False, 'puke': False, 'reduce': False, 'lighter': False, 'linux': False, 'guru': False, 'sebastian': False, 'eng': False, 'papercakes': False, 'upper': False, 'lime': False, 'rick': False, 'soooon': False, 'mp': False, 'horrific': False, 'porch': False, 'ahahah': False, 'mcflyinmanila': False, 'amusement': False, 'lan': False, 'becky': False, 'dei': False, 'chrome': False, 'sac': False, 'injure': False, 'hayleyp': False, 'insult': False, 'helpful': False, 'surprisingly': False, 'tris': False, 'strike': False, 'erm': False, 'fullest': False, 'teehee': False, 'loan': False, 'ubuntu': False, 'superman': False, 'sel': False, 'cheek': False, 'sicker': False, 'nyuk': False, 'whomp': False, 'pho': False, 'unfollowed': False, 'worthy': False, 'bicycle': False, 'bastard': False, 'humble': False, 'loong': False, 'deviant': False, 'dancers': False, 'chuckmemondays': False, 'lovley': False, 'wal': False, 'mart': False, 'ammo': False, 'twitteriffic': False, 'nellclothing': False, 'camper': False, 'broadcast': False, 'jamesmoran': False, 'yahhh': False, 'shawarma': False, 'segment': False, 'nicksantino': False, 'tigers': False, 'sonic': False, 'pdurham': False, 'withdrawal': False, 'patron': False, 'blueberry': False, 'liquor': False, 'compatible': False, 'ashez': False, 'plumbbob': False, 'sim': False, 'yesssss': False, 'yessssss': False, 'afta': False, 'penguins': False, 'bullshit': False, 'awesomeee': False, 'duluth': False, 'teemwilliams': False, 'keepingfeet': False, 'musiq': False, 'curvy': False, 'secretly': False, 'sarcastic': False, 'unlike': False, 'lilah': False, 'timothy': False, 'noobs': False, 'lovelies': False, 'moz': False, 'evaporate': False, 'littlest': False, 'pidgin': False, 'yearrr': False, 'wiff': False, 'laters': False, 'installation': False, 'looong': False, 'tierd': False, 'tnt': False, 'classmate': False, 'cathedral': False, 'moefugger': False, 'yayyyyy': False, 'deposit': False, 'garethslee': False, 'gareth': False, 'chore': False, 'rgoodchild': False, 'yeaah': False, 'primary': False, 'nasa': False, 'bytheway': False, 'birthdays': False, 'pacific': False, 'appeal': False, 'thetricktolife': False, 'customize': False, 'mrtonylee': False, 'brien': False, 'favorited': False, 'wichita': False, 'vw': False, 'beetle': False, 'gota': False, 'providence': False, 'flamboyantbella': False, 'recipes': False, 'maze': False, 'xm': False, 'killa': False, 'crüe': False, 'een': False, 'naar': False, 'del': False, 'realpattinson': False, 'chunk': False, 'wallet': False, 'musicians': False, 'woods': False, 'abusive': False, 'vb': False, 'programmer': False, 'honorsociety': False, 'ry': False, 'tennessee': False, 'krudd': False, 'gahh': False, 'journalism': False, 'linkin': False, 'marshall': False, 'portal': False, 'gccis': False, 'kuan': False, 'siang': False, 'fandom': False, 'badminton': False, 'wi': False, 'quack': False, 'sherrieshepherd': False, 'shiet': False, 'xs': False, 'martini': False, 'glitch': False, 'cupcakeloser': False, 'cheapest': False, 'vibe': False, 'hatton': False, 'purdue': False, 'vector': False, 'placer': False, 'bord': False, 'gadbaby': False, 'whistle': False, 'qc': False, 'cara': False, 'suziperry': False, 'squeak': False, 'trailers': False, 'insight': False, 'ui': False, 'mg': False, 'akelaa': False, 'intake': False, 'veronica': False, 'surgical': False, 'yearly': False, 'nicholas': False, 'touristy': False, 'globealone': False, 'jab': False, 'yankees': False, 'stephaniepratt': False, 'quik': False, 'boon': False, 'thomasfiss': False, 'belgium': False, 'nambu': False, 'rum': False, 'webinar': False, 'aaaah': False, 'usher': False, 'collegiate': False, 'harbour': False, 'connor': False, 'suite': False, 'shawneyj': False, 'kimsherrell': False, 'module': False, 'gentlemen': False, 'bmolko': False, 'bby': False, 'subscribers': False, 'trey': False, 'praise': False, 'drunken': False, 'giddy': False, 'bastards': False, 'hahahha': False, 'unproductive': False, 'splode': False, 'jury': False, 'pst': False, 'grabe': False, 'askin': False, 'perth': False, 'krishna': False, 'dwindle': False, 'warmer': False, 'rec': False, 'fitness': False, 'jaysean': False, 'vegassss': False, 'jamaica': False, 'legalize': False, 'cosmetic': False, 'pah': False, 'mal': False, 'dashboard': False, 'gio': False, 'cleaner': False, 'passionate': False, 'courageous': False, 'election': False, 'oooo': False, 'mattkean': False, 'ofcourse': False, 'workouts': False}, False)"
      ]
     },
     "execution_count": 46,
     "metadata": {},
     "output_type": "execute_result"
    }
   ],
   "source": [
    "lista[2]"
   ]
  },
  {
   "cell_type": "code",
   "execution_count": 3,
   "metadata": {},
   "outputs": [
    {
     "ename": "NameError",
     "evalue": "name 'lista' is not defined",
     "output_type": "error",
     "traceback": [
      "\u001b[1;31m---------------------------------------------------------------------------\u001b[0m",
      "\u001b[1;31mNameError\u001b[0m                                 Traceback (most recent call last)",
      "\u001b[1;32m<ipython-input-3-af7b0a653d84>\u001b[0m in \u001b[0;36m<module>\u001b[1;34m\u001b[0m\n\u001b[1;32m----> 1\u001b[1;33m \u001b[0mtrain_set\u001b[0m\u001b[1;33m,\u001b[0m \u001b[0mtest_set\u001b[0m \u001b[1;33m=\u001b[0m \u001b[0mlista\u001b[0m\u001b[1;33m[\u001b[0m\u001b[1;33m:\u001b[0m\u001b[1;36m16000\u001b[0m\u001b[1;33m]\u001b[0m\u001b[1;33m,\u001b[0m \u001b[0mlista\u001b[0m\u001b[1;33m[\u001b[0m\u001b[1;33m-\u001b[0m\u001b[1;36m4000\u001b[0m\u001b[1;33m:\u001b[0m\u001b[1;33m]\u001b[0m\u001b[1;33m\u001b[0m\u001b[1;33m\u001b[0m\u001b[0m\n\u001b[0m",
      "\u001b[1;31mNameError\u001b[0m: name 'lista' is not defined"
     ]
    }
   ],
   "source": [
    "train_set, test_set = lista[:16000], lista[-4000:]"
   ]
  },
  {
   "cell_type": "code",
   "execution_count": 4,
   "metadata": {},
   "outputs": [
    {
     "ename": "NameError",
     "evalue": "name 'nltk' is not defined",
     "output_type": "error",
     "traceback": [
      "\u001b[1;31m---------------------------------------------------------------------------\u001b[0m",
      "\u001b[1;31mNameError\u001b[0m                                 Traceback (most recent call last)",
      "\u001b[1;32m<ipython-input-4-a7c7bad752ae>\u001b[0m in \u001b[0;36m<module>\u001b[1;34m\u001b[0m\n\u001b[1;32m----> 1\u001b[1;33m \u001b[0mclassifier\u001b[0m \u001b[1;33m=\u001b[0m \u001b[0mnltk\u001b[0m\u001b[1;33m.\u001b[0m\u001b[0mNaiveBayesClassifier\u001b[0m\u001b[1;33m.\u001b[0m\u001b[0mtrain\u001b[0m\u001b[1;33m(\u001b[0m\u001b[0mtrain_set\u001b[0m\u001b[1;33m)\u001b[0m\u001b[1;33m\u001b[0m\u001b[1;33m\u001b[0m\u001b[0m\n\u001b[0m",
      "\u001b[1;31mNameError\u001b[0m: name 'nltk' is not defined"
     ]
    }
   ],
   "source": [
    "classifier = nltk.NaiveBayesClassifier.train(train_set)"
   ]
  },
  {
   "cell_type": "code",
   "execution_count": 5,
   "metadata": {},
   "outputs": [
    {
     "ename": "NameError",
     "evalue": "name 'classifier' is not defined",
     "output_type": "error",
     "traceback": [
      "\u001b[1;31m---------------------------------------------------------------------------\u001b[0m",
      "\u001b[1;31mNameError\u001b[0m                                 Traceback (most recent call last)",
      "\u001b[1;32m<ipython-input-5-e4a138703db3>\u001b[0m in \u001b[0;36m<module>\u001b[1;34m\u001b[0m\n\u001b[1;32m----> 1\u001b[1;33m \u001b[0mclassifier\u001b[0m\u001b[1;33m.\u001b[0m\u001b[0mshow_most_informative_features\u001b[0m\u001b[1;33m(\u001b[0m\u001b[1;36m10\u001b[0m\u001b[1;33m)\u001b[0m\u001b[1;33m\u001b[0m\u001b[1;33m\u001b[0m\u001b[0m\n\u001b[0m",
      "\u001b[1;31mNameError\u001b[0m: name 'classifier' is not defined"
     ]
    }
   ],
   "source": [
    "classifier.show_most_informative_features(10)"
   ]
  },
  {
   "cell_type": "code",
   "execution_count": 6,
   "metadata": {},
   "outputs": [
    {
     "ename": "NameError",
     "evalue": "name 'nltk' is not defined",
     "output_type": "error",
     "traceback": [
      "\u001b[1;31m---------------------------------------------------------------------------\u001b[0m",
      "\u001b[1;31mNameError\u001b[0m                                 Traceback (most recent call last)",
      "\u001b[1;32m<ipython-input-6-ee1353d56882>\u001b[0m in \u001b[0;36m<module>\u001b[1;34m\u001b[0m\n\u001b[1;32m----> 1\u001b[1;33m \u001b[0mprint\u001b[0m\u001b[1;33m(\u001b[0m\u001b[0mnltk\u001b[0m\u001b[1;33m.\u001b[0m\u001b[0mclassify\u001b[0m\u001b[1;33m.\u001b[0m\u001b[0maccuracy\u001b[0m\u001b[1;33m(\u001b[0m\u001b[0mclassifier\u001b[0m\u001b[1;33m,\u001b[0m \u001b[0mtest_set\u001b[0m\u001b[1;33m)\u001b[0m\u001b[1;33m)\u001b[0m\u001b[1;33m\u001b[0m\u001b[1;33m\u001b[0m\u001b[0m\n\u001b[0m",
      "\u001b[1;31mNameError\u001b[0m: name 'nltk' is not defined"
     ]
    }
   ],
   "source": [
    "print(nltk.classify.accuracy(classifier, test_set))"
   ]
  },
  {
   "cell_type": "code",
   "execution_count": null,
   "metadata": {},
   "outputs": [],
   "source": []
  }
 ],
 "metadata": {
  "kernelspec": {
   "display_name": "Python 3",
   "language": "python",
   "name": "python3"
  },
  "language_info": {
   "codemirror_mode": {
    "name": "ipython",
    "version": 3
   },
   "file_extension": ".py",
   "mimetype": "text/x-python",
   "name": "python",
   "nbconvert_exporter": "python",
   "pygments_lexer": "ipython3",
   "version": "3.7.6"
  }
 },
 "nbformat": 4,
 "nbformat_minor": 4
}
