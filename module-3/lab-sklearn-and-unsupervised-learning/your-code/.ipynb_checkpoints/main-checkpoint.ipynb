{
 "cells": [
  {
   "cell_type": "markdown",
   "metadata": {},
   "source": [
    "# Before your start:\n",
    "- Read the README.md file\n",
    "- Comment as much as you can and use the resources in the README.md file\n",
    "- Happy learning!\n"
   ]
  },
  {
   "cell_type": "code",
   "execution_count": 1,
   "metadata": {},
   "outputs": [],
   "source": [
    "#Import your libraries\n",
    "import pandas as pd\n",
    "import numpy as np"
   ]
  },
  {
   "cell_type": "markdown",
   "metadata": {},
   "source": [
    "# Challenge 1 -  Explore the Internal Dataset\n",
    "\n",
    "In this lab, we will start off by working with the wine dataset in scikit-learn. We will select the wine dataset and use a clustering algorithm to learn more about the functionalities of this library. \n",
    "\n",
    "We start off by loading the dataset using the `load_wine` function ([documentation](https://scikit-learn.org/stable/modules/generated/sklearn.datasets.load_wine.html)). In the cell below, we will import the function from scikit-learn."
   ]
  },
  {
   "cell_type": "code",
   "execution_count": 2,
   "metadata": {},
   "outputs": [],
   "source": [
    "from sklearn.datasets import load_wine"
   ]
  },
  {
   "cell_type": "markdown",
   "metadata": {},
   "source": [
    "In the cell below, use the `load_wine` function and assign the wine dataset to a variable called `wine`."
   ]
  },
  {
   "cell_type": "code",
   "execution_count": 3,
   "metadata": {},
   "outputs": [],
   "source": [
    "# Your code here:\n",
    "wine = load_wine()"
   ]
  },
  {
   "cell_type": "markdown",
   "metadata": {},
   "source": [
    "In the next step, list the keys of the variable `wine` to examine its contents. Note that the `load_wine` function does not return dataframes. It returns you a Python dictionary."
   ]
  },
  {
   "cell_type": "code",
   "execution_count": 4,
   "metadata": {},
   "outputs": [
    {
     "data": {
      "text/plain": [
       "dict_keys(['data', 'target', 'frame', 'target_names', 'DESCR', 'feature_names'])"
      ]
     },
     "execution_count": 4,
     "metadata": {},
     "output_type": "execute_result"
    }
   ],
   "source": [
    "# Your code here:\n",
    "wine.keys()"
   ]
  },
  {
   "cell_type": "markdown",
   "metadata": {},
   "source": [
    "Next, list the feature names. These are the different characteristics of the wine. "
   ]
  },
  {
   "cell_type": "code",
   "execution_count": 5,
   "metadata": {},
   "outputs": [
    {
     "data": {
      "text/plain": [
       "['alcohol',\n",
       " 'malic_acid',\n",
       " 'ash',\n",
       " 'alcalinity_of_ash',\n",
       " 'magnesium',\n",
       " 'total_phenols',\n",
       " 'flavanoids',\n",
       " 'nonflavanoid_phenols',\n",
       " 'proanthocyanins',\n",
       " 'color_intensity',\n",
       " 'hue',\n",
       " 'od280/od315_of_diluted_wines',\n",
       " 'proline']"
      ]
     },
     "execution_count": 5,
     "metadata": {},
     "output_type": "execute_result"
    }
   ],
   "source": [
    "# Your code here:\n",
    "wine.feature_names"
   ]
  },
  {
   "cell_type": "markdown",
   "metadata": {},
   "source": [
    "Print the description of the dataset in the cell below using the `DESCR` attribute of the `wine` variable.\n",
    "\n",
    "*Hint: If your output is ill-formatted by displaying linebreaks as `\\n`, it means you are not using the print function.*"
   ]
  },
  {
   "cell_type": "code",
   "execution_count": 6,
   "metadata": {},
   "outputs": [
    {
     "name": "stdout",
     "output_type": "stream",
     "text": [
      ".. _wine_dataset:\n",
      "\n",
      "Wine recognition dataset\n",
      "------------------------\n",
      "\n",
      "**Data Set Characteristics:**\n",
      "\n",
      "    :Number of Instances: 178 (50 in each of three classes)\n",
      "    :Number of Attributes: 13 numeric, predictive attributes and the class\n",
      "    :Attribute Information:\n",
      " \t\t- Alcohol\n",
      " \t\t- Malic acid\n",
      " \t\t- Ash\n",
      "\t\t- Alcalinity of ash  \n",
      " \t\t- Magnesium\n",
      "\t\t- Total phenols\n",
      " \t\t- Flavanoids\n",
      " \t\t- Nonflavanoid phenols\n",
      " \t\t- Proanthocyanins\n",
      "\t\t- Color intensity\n",
      " \t\t- Hue\n",
      " \t\t- OD280/OD315 of diluted wines\n",
      " \t\t- Proline\n",
      "\n",
      "    - class:\n",
      "            - class_0\n",
      "            - class_1\n",
      "            - class_2\n",
      "\t\t\n",
      "    :Summary Statistics:\n",
      "    \n",
      "    ============================= ==== ===== ======= =====\n",
      "                                   Min   Max   Mean     SD\n",
      "    ============================= ==== ===== ======= =====\n",
      "    Alcohol:                      11.0  14.8    13.0   0.8\n",
      "    Malic Acid:                   0.74  5.80    2.34  1.12\n",
      "    Ash:                          1.36  3.23    2.36  0.27\n",
      "    Alcalinity of Ash:            10.6  30.0    19.5   3.3\n",
      "    Magnesium:                    70.0 162.0    99.7  14.3\n",
      "    Total Phenols:                0.98  3.88    2.29  0.63\n",
      "    Flavanoids:                   0.34  5.08    2.03  1.00\n",
      "    Nonflavanoid Phenols:         0.13  0.66    0.36  0.12\n",
      "    Proanthocyanins:              0.41  3.58    1.59  0.57\n",
      "    Colour Intensity:              1.3  13.0     5.1   2.3\n",
      "    Hue:                          0.48  1.71    0.96  0.23\n",
      "    OD280/OD315 of diluted wines: 1.27  4.00    2.61  0.71\n",
      "    Proline:                       278  1680     746   315\n",
      "    ============================= ==== ===== ======= =====\n",
      "\n",
      "    :Missing Attribute Values: None\n",
      "    :Class Distribution: class_0 (59), class_1 (71), class_2 (48)\n",
      "    :Creator: R.A. Fisher\n",
      "    :Donor: Michael Marshall (MARSHALL%PLU@io.arc.nasa.gov)\n",
      "    :Date: July, 1988\n",
      "\n",
      "This is a copy of UCI ML Wine recognition datasets.\n",
      "https://archive.ics.uci.edu/ml/machine-learning-databases/wine/wine.data\n",
      "\n",
      "The data is the results of a chemical analysis of wines grown in the same\n",
      "region in Italy by three different cultivators. There are thirteen different\n",
      "measurements taken for different constituents found in the three types of\n",
      "wine.\n",
      "\n",
      "Original Owners: \n",
      "\n",
      "Forina, M. et al, PARVUS - \n",
      "An Extendible Package for Data Exploration, Classification and Correlation. \n",
      "Institute of Pharmaceutical and Food Analysis and Technologies,\n",
      "Via Brigata Salerno, 16147 Genoa, Italy.\n",
      "\n",
      "Citation:\n",
      "\n",
      "Lichman, M. (2013). UCI Machine Learning Repository\n",
      "[https://archive.ics.uci.edu/ml]. Irvine, CA: University of California,\n",
      "School of Information and Computer Science. \n",
      "\n",
      ".. topic:: References\n",
      "\n",
      "  (1) S. Aeberhard, D. Coomans and O. de Vel, \n",
      "  Comparison of Classifiers in High Dimensional Settings, \n",
      "  Tech. Rep. no. 92-02, (1992), Dept. of Computer Science and Dept. of  \n",
      "  Mathematics and Statistics, James Cook University of North Queensland. \n",
      "  (Also submitted to Technometrics). \n",
      "\n",
      "  The data was used with many others for comparing various \n",
      "  classifiers. The classes are separable, though only RDA \n",
      "  has achieved 100% correct classification. \n",
      "  (RDA : 100%, QDA 99.4%, LDA 98.9%, 1NN 96.1% (z-transformed data)) \n",
      "  (All results using the leave-one-out technique) \n",
      "\n",
      "  (2) S. Aeberhard, D. Coomans and O. de Vel, \n",
      "  \"THE CLASSIFICATION PERFORMANCE OF RDA\" \n",
      "  Tech. Rep. no. 92-01, (1992), Dept. of Computer Science and Dept. of \n",
      "  Mathematics and Statistics, James Cook University of North Queensland. \n",
      "  (Also submitted to Journal of Chemometrics).\n",
      "\n"
     ]
    }
   ],
   "source": [
    "# Your code here:\n",
    "print(wine.DESCR)"
   ]
  },
  {
   "cell_type": "markdown",
   "metadata": {},
   "source": [
    "#### From the description, we see that all columns are numeric. We also know that there is no missing data \n",
    "\n",
    "Let's plot the alcohol content histogram. Recall that we are working with a numpy array and will need to use a matplotlib function to produce a histogram. "
   ]
  },
  {
   "cell_type": "code",
   "execution_count": 7,
   "metadata": {},
   "outputs": [],
   "source": [
    "# imports\n",
    "import matplotlib.pyplot as plt"
   ]
  },
  {
   "cell_type": "code",
   "execution_count": 8,
   "metadata": {},
   "outputs": [
    {
     "data": {
      "image/png": "[encoded data removed]",
      "text/plain": [
       "<Figure size 432x288 with 1 Axes>"
      ]
     },
     "metadata": {
      "needs_background": "light"
     },
     "output_type": "display_data"
    }
   ],
   "source": [
    "# Your code here:\n",
    "plt.hist(wine.data[:, :1])\n",
    "plt.show()"
   ]
  },
  {
   "cell_type": "markdown",
   "metadata": {},
   "source": [
    "# Challenge 2 - Clustering the Internal Dataset\n",
    "\n",
    "In this portion of the lab, we will cluster the data to find common traits between the different wines. We will use the k-means clustering algorithm to achieve this goal.\n",
    "\n",
    "#### We start by importing k-means from scikit-learn and then proceed to create 4 clusters."
   ]
  },
  {
   "cell_type": "code",
   "execution_count": 9,
   "metadata": {},
   "outputs": [],
   "source": [
    "# imports\n",
    "from sklearn.cluster import KMeans"
   ]
  },
  {
   "cell_type": "code",
   "execution_count": 10,
   "metadata": {},
   "outputs": [],
   "source": [
    "# Your code here:\n",
    "kmeans=KMeans(n_clusters=4)\n",
    "n_clusters=kmeans.fit(wine.data)"
   ]
  },
  {
   "cell_type": "markdown",
   "metadata": {},
   "source": [
    "#### Print the cluster labels."
   ]
  },
  {
   "cell_type": "code",
   "execution_count": 11,
   "metadata": {
    "scrolled": true
   },
   "outputs": [
    {
     "data": {
      "text/plain": [
       "array([0, 0, 2, 2, 3, 2, 2, 2, 0, 0, 2, 2, 2, 0, 2, 2, 2, 0, 2, 3, 3, 3,\n",
       "       0, 0, 3, 3, 2, 2, 0, 0, 2, 2, 0, 2, 0, 0, 0, 0, 0, 3, 3, 0, 0, 3,\n",
       "       0, 0, 0, 0, 0, 2, 0, 2, 2, 2, 0, 0, 0, 2, 2, 1, 3, 1, 3, 1, 1, 3,\n",
       "       1, 1, 3, 3, 0, 1, 1, 0, 0, 1, 1, 1, 3, 1, 1, 3, 3, 1, 1, 1, 1, 1,\n",
       "       3, 3, 1, 1, 1, 1, 1, 0, 3, 1, 3, 1, 3, 1, 1, 1, 3, 1, 1, 1, 1, 3,\n",
       "       1, 1, 3, 1, 1, 1, 1, 1, 1, 1, 3, 1, 1, 1, 1, 1, 1, 1, 1, 3, 3, 1,\n",
       "       1, 3, 3, 3, 3, 1, 3, 3, 3, 3, 1, 1, 0, 3, 1, 3, 3, 1, 1, 1, 1, 3,\n",
       "       3, 3, 1, 0, 3, 3, 1, 3, 1, 3, 3, 1, 3, 3, 3, 3, 1, 1, 3, 3, 3, 3,\n",
       "       3, 1])"
      ]
     },
     "execution_count": 11,
     "metadata": {},
     "output_type": "execute_result"
    }
   ],
   "source": [
    "# Your code here:\n",
    "n_clusters.labels_"
   ]
  },
  {
   "cell_type": "markdown",
   "metadata": {},
   "source": [
    "#### Compute the size of each cluster. This can be done by counting the number of occurrences of each unique label in the list above.\n",
    "\n",
    "Which is the largest cluster of the 4?"
   ]
  },
  {
   "cell_type": "code",
   "execution_count": 12,
   "metadata": {},
   "outputs": [
    {
     "name": "stdout",
     "output_type": "stream",
     "text": [
      "0: 33\n",
      "1: 66\n",
      "2: 23\n",
      "3: 56\n",
      "\n"
     ]
    }
   ],
   "source": [
    "# Your code here:\n",
    "print(f\"\"\"0: {np.count_nonzero(n_clusters.labels_ == 0)}\n",
    "1: {np.count_nonzero(n_clusters.labels_ == 1)}\n",
    "2: {np.count_nonzero(n_clusters.labels_ == 2)}\n",
    "3: {np.count_nonzero(n_clusters.labels_ == 3)}\n",
    "\"\"\")\n",
    "# https://www.kite.com/python/answers/how-to-count-the-occurrences-of-a-value-in-a-numpy-array-in-python"
   ]
  },
  {
   "cell_type": "code",
   "execution_count": 13,
   "metadata": {},
   "outputs": [],
   "source": [
    "# Your answer here:\n",
    "# largest cluster is #1"
   ]
  },
  {
   "cell_type": "markdown",
   "metadata": {},
   "source": [
    "#### Inspect the shape of `wine['data']`"
   ]
  },
  {
   "cell_type": "code",
   "execution_count": 14,
   "metadata": {},
   "outputs": [
    {
     "data": {
      "text/plain": [
       "(178, 13)"
      ]
     },
     "execution_count": 14,
     "metadata": {},
     "output_type": "execute_result"
    }
   ],
   "source": [
    "# Your code here:\n",
    "wine['data'].shape"
   ]
  },
  {
   "cell_type": "markdown",
   "metadata": {},
   "source": [
    "#### Inspect the first 5 records in `wine['data']`"
   ]
  },
  {
   "cell_type": "code",
   "execution_count": 15,
   "metadata": {},
   "outputs": [
    {
     "data": {
      "text/plain": [
       "array([[1.423e+01, 1.710e+00, 2.430e+00, 1.560e+01, 1.270e+02, 2.800e+00,\n",
       "        3.060e+00, 2.800e-01, 2.290e+00, 5.640e+00, 1.040e+00, 3.920e+00,\n",
       "        1.065e+03],\n",
       "       [1.320e+01, 1.780e+00, 2.140e+00, 1.120e+01, 1.000e+02, 2.650e+00,\n",
       "        2.760e+00, 2.600e-01, 1.280e+00, 4.380e+00, 1.050e+00, 3.400e+00,\n",
       "        1.050e+03],\n",
       "       [1.316e+01, 2.360e+00, 2.670e+00, 1.860e+01, 1.010e+02, 2.800e+00,\n",
       "        3.240e+00, 3.000e-01, 2.810e+00, 5.680e+00, 1.030e+00, 3.170e+00,\n",
       "        1.185e+03],\n",
       "       [1.437e+01, 1.950e+00, 2.500e+00, 1.680e+01, 1.130e+02, 3.850e+00,\n",
       "        3.490e+00, 2.400e-01, 2.180e+00, 7.800e+00, 8.600e-01, 3.450e+00,\n",
       "        1.480e+03],\n",
       "       [1.324e+01, 2.590e+00, 2.870e+00, 2.100e+01, 1.180e+02, 2.800e+00,\n",
       "        2.690e+00, 3.900e-01, 1.820e+00, 4.320e+00, 1.040e+00, 2.930e+00,\n",
       "        7.350e+02]])"
      ]
     },
     "execution_count": 15,
     "metadata": {},
     "output_type": "execute_result"
    }
   ],
   "source": [
    "# Your code here:\n",
    "wine['data'][:5]"
   ]
  },
  {
   "cell_type": "markdown",
   "metadata": {},
   "source": [
    "You now know the data object is a 2-dimensional array in which there are 178 rows and 13 columns. Each row is a data record and each column is a feature.\n",
    "\n",
    "#### What is the average ash content for each cluster? \n",
    "\n",
    "*Hints:* \n",
    "\n",
    "* *Ash* is the 3rd column.\n",
    "\n",
    "* The data object is not a Pandas dataframe so you can't apply `pandas.DataFrame.groupby`. Instead, you can use `np.average`."
   ]
  },
  {
   "cell_type": "code",
   "execution_count": 16,
   "metadata": {},
   "outputs": [
    {
     "data": {
      "text/plain": [
       "2.3665168539325845"
      ]
     },
     "execution_count": 16,
     "metadata": {},
     "output_type": "execute_result"
    }
   ],
   "source": [
    "# Your code here:\n",
    "np.average(wine['data'][:,2])"
   ]
  },
  {
   "cell_type": "markdown",
   "metadata": {},
   "source": [
    "# Challenge 3 - Load and Explore an External Dataset\n",
    "\n",
    "We will now load an external dataset using Pandas and use scikit learn to explore the data. In this portion of the lab, we will use a [patient dataset from Kaggle](https://www.kaggle.com/miles99/patient-admission-dataset-for-learning-data-mining). "
   ]
  },
  {
   "cell_type": "code",
   "execution_count": 17,
   "metadata": {},
   "outputs": [],
   "source": [
    "patients = pd.read_csv('../patient-admission-dataset-for-learning-data-mining.csv')"
   ]
  },
  {
   "cell_type": "markdown",
   "metadata": {},
   "source": [
    "In the next cell, print the first five rows of the data using the `head()` function."
   ]
  },
  {
   "cell_type": "code",
   "execution_count": 18,
   "metadata": {},
   "outputs": [
    {
     "data": {
      "text/html": [
       "<div>\n",
       "<style scoped>\n",
       "    .dataframe tbody tr th:only-of-type {\n",
       "        vertical-align: middle;\n",
       "    }\n",
       "\n",
       "    .dataframe tbody tr th {\n",
       "        vertical-align: top;\n",
       "    }\n",
       "\n",
       "    .dataframe thead th {\n",
       "        text-align: right;\n",
       "    }\n",
       "</style>\n",
       "<table border=\"1\" class=\"dataframe\">\n",
       "  <thead>\n",
       "    <tr style=\"text-align: right;\">\n",
       "      <th></th>\n",
       "      <th>id</th>\n",
       "      <th>patient_name</th>\n",
       "      <th>patient_email</th>\n",
       "      <th>doctor_phone</th>\n",
       "      <th>patient_gender</th>\n",
       "      <th>patient_dob</th>\n",
       "      <th>patient_diabetic</th>\n",
       "      <th>patient_allergic</th>\n",
       "      <th>patient_weight_kg</th>\n",
       "      <th>patient_height_sm</th>\n",
       "      <th>patient_nhs_number</th>\n",
       "      <th>doctor_name</th>\n",
       "      <th>appointment_date</th>\n",
       "      <th>patient_show</th>\n",
       "      <th>is_regular_visit</th>\n",
       "      <th>prescribed_medicines</th>\n",
       "      <th>diagnosis</th>\n",
       "    </tr>\n",
       "  </thead>\n",
       "  <tbody>\n",
       "    <tr>\n",
       "      <th>0</th>\n",
       "      <td>1</td>\n",
       "      <td>Celestyna Dillimore</td>\n",
       "      <td>cdillimore0@dion.ne.jp</td>\n",
       "      <td>674-914-1212</td>\n",
       "      <td>Female</td>\n",
       "      <td>10/18/2018</td>\n",
       "      <td>False</td>\n",
       "      <td>True</td>\n",
       "      <td>59</td>\n",
       "      <td>176</td>\n",
       "      <td>8.200152e+09</td>\n",
       "      <td>Sarena Waliszek</td>\n",
       "      <td>5/1/2018</td>\n",
       "      <td>True</td>\n",
       "      <td>True</td>\n",
       "      <td>triamcinolone acetonide</td>\n",
       "      <td>I669</td>\n",
       "    </tr>\n",
       "    <tr>\n",
       "      <th>1</th>\n",
       "      <td>2</td>\n",
       "      <td>Meta Michieli</td>\n",
       "      <td>mmichieli1@loc.gov</td>\n",
       "      <td>172-580-3586</td>\n",
       "      <td>Female</td>\n",
       "      <td>2/8/2018</td>\n",
       "      <td>False</td>\n",
       "      <td>True</td>\n",
       "      <td>77</td>\n",
       "      <td>186</td>\n",
       "      <td>NaN</td>\n",
       "      <td>Farris Robinet</td>\n",
       "      <td>12/7/2017</td>\n",
       "      <td>True</td>\n",
       "      <td>True</td>\n",
       "      <td>NaN</td>\n",
       "      <td>NaN</td>\n",
       "    </tr>\n",
       "    <tr>\n",
       "      <th>2</th>\n",
       "      <td>3</td>\n",
       "      <td>Cordie Sancto</td>\n",
       "      <td>csancto2@cafepress.com</td>\n",
       "      <td>794-222-5085</td>\n",
       "      <td>Female</td>\n",
       "      <td>10/9/2018</td>\n",
       "      <td>True</td>\n",
       "      <td>True</td>\n",
       "      <td>90</td>\n",
       "      <td>177</td>\n",
       "      <td>6.145594e+09</td>\n",
       "      <td>Kaspar Spitaro</td>\n",
       "      <td>10/5/2018</td>\n",
       "      <td>False</td>\n",
       "      <td>False</td>\n",
       "      <td>NaN</td>\n",
       "      <td>NaN</td>\n",
       "    </tr>\n",
       "    <tr>\n",
       "      <th>3</th>\n",
       "      <td>4</td>\n",
       "      <td>Josh De Ambrosis</td>\n",
       "      <td>jde3@amazon.co.jp</td>\n",
       "      <td>856-540-5195</td>\n",
       "      <td>Male</td>\n",
       "      <td>9/10/2018</td>\n",
       "      <td>True</td>\n",
       "      <td>True</td>\n",
       "      <td>70</td>\n",
       "      <td>150</td>\n",
       "      <td>NaN</td>\n",
       "      <td>Rafferty Fowls</td>\n",
       "      <td>10/21/2018</td>\n",
       "      <td>False</td>\n",
       "      <td>True</td>\n",
       "      <td>NaN</td>\n",
       "      <td>NaN</td>\n",
       "    </tr>\n",
       "    <tr>\n",
       "      <th>4</th>\n",
       "      <td>5</td>\n",
       "      <td>Delinda Alfonsini</td>\n",
       "      <td>dalfonsini4@opensource.org</td>\n",
       "      <td>938-978-1131</td>\n",
       "      <td>Female</td>\n",
       "      <td>2/26/2018</td>\n",
       "      <td>False</td>\n",
       "      <td>True</td>\n",
       "      <td>82</td>\n",
       "      <td>140</td>\n",
       "      <td>4.804758e+08</td>\n",
       "      <td>Glenna MacNeachtain</td>\n",
       "      <td>11/15/2018</td>\n",
       "      <td>False</td>\n",
       "      <td>False</td>\n",
       "      <td>NaN</td>\n",
       "      <td>NaN</td>\n",
       "    </tr>\n",
       "  </tbody>\n",
       "</table>\n",
       "</div>"
      ],
      "text/plain": [
       "   id         patient_name               patient_email  doctor_phone  \\\n",
       "0   1  Celestyna Dillimore      cdillimore0@dion.ne.jp  674-914-1212   \n",
       "1   2        Meta Michieli          mmichieli1@loc.gov  172-580-3586   \n",
       "2   3        Cordie Sancto      csancto2@cafepress.com  794-222-5085   \n",
       "3   4     Josh De Ambrosis           jde3@amazon.co.jp  856-540-5195   \n",
       "4   5    Delinda Alfonsini  dalfonsini4@opensource.org  938-978-1131   \n",
       "\n",
       "  patient_gender patient_dob  patient_diabetic  patient_allergic  \\\n",
       "0         Female  10/18/2018             False              True   \n",
       "1         Female    2/8/2018             False              True   \n",
       "2         Female   10/9/2018              True              True   \n",
       "3           Male   9/10/2018              True              True   \n",
       "4         Female   2/26/2018             False              True   \n",
       "\n",
       "   patient_weight_kg  patient_height_sm  patient_nhs_number  \\\n",
       "0                 59                176        8.200152e+09   \n",
       "1                 77                186                 NaN   \n",
       "2                 90                177        6.145594e+09   \n",
       "3                 70                150                 NaN   \n",
       "4                 82                140        4.804758e+08   \n",
       "\n",
       "           doctor_name appointment_date  patient_show  is_regular_visit  \\\n",
       "0      Sarena Waliszek         5/1/2018          True              True   \n",
       "1       Farris Robinet        12/7/2017          True              True   \n",
       "2       Kaspar Spitaro        10/5/2018         False             False   \n",
       "3       Rafferty Fowls       10/21/2018         False              True   \n",
       "4  Glenna MacNeachtain       11/15/2018         False             False   \n",
       "\n",
       "      prescribed_medicines diagnosis  \n",
       "0  triamcinolone acetonide      I669  \n",
       "1                      NaN       NaN  \n",
       "2                      NaN       NaN  \n",
       "3                      NaN       NaN  \n",
       "4                      NaN       NaN  "
      ]
     },
     "execution_count": 18,
     "metadata": {},
     "output_type": "execute_result"
    }
   ],
   "source": [
    "# Your code here:\n",
    "patients.head()"
   ]
  },
  {
   "cell_type": "markdown",
   "metadata": {},
   "source": [
    "Next, print the column types and check which columns have been misclassified by pandas."
   ]
  },
  {
   "cell_type": "code",
   "execution_count": 19,
   "metadata": {},
   "outputs": [
    {
     "data": {
      "text/plain": [
       "id                        int64\n",
       "patient_name             object\n",
       "patient_email            object\n",
       "doctor_phone             object\n",
       "patient_gender           object\n",
       "patient_dob              object\n",
       "patient_diabetic           bool\n",
       "patient_allergic           bool\n",
       "patient_weight_kg         int64\n",
       "patient_height_sm         int64\n",
       "patient_nhs_number      float64\n",
       "doctor_name              object\n",
       "appointment_date         object\n",
       "patient_show               bool\n",
       "is_regular_visit           bool\n",
       "prescribed_medicines     object\n",
       "diagnosis                object\n",
       "dtype: object"
      ]
     },
     "execution_count": 19,
     "metadata": {},
     "output_type": "execute_result"
    }
   ],
   "source": [
    "# Your code here:\n",
    "patients.dtypes"
   ]
  },
  {
   "cell_type": "markdown",
   "metadata": {},
   "source": [
    "#### We can see that none of the date columns have been correctly classified. Also, some columns contain qualitative data that can be dropped.\n",
    "\n",
    "First, transform the `patient_dob` and `appointment_date` columns to datetime using the `pd.to_datetime` function."
   ]
  },
  {
   "cell_type": "code",
   "execution_count": 20,
   "metadata": {},
   "outputs": [],
   "source": [
    "# Your code here:\n",
    "patients['patient_dob'] = pd.to_datetime(patients['patient_dob'])\n",
    "patients['appointment_date'] = pd.to_datetime(patients['appointment_date'])"
   ]
  },
  {
   "cell_type": "markdown",
   "metadata": {},
   "source": [
    "Next, drop the `id`, `patient_name`, `patient_email`, `patient_nhs_number`, and `doctor_phone` columns. These are not quantitative columns and will not contribute to our analysis."
   ]
  },
  {
   "cell_type": "code",
   "execution_count": 21,
   "metadata": {},
   "outputs": [],
   "source": [
    "# Your code here:\n",
    "patients.drop(['id','patient_name','patient_email','patient_nhs_number','doctor_phone'], axis=1,inplace=True)"
   ]
  },
  {
   "cell_type": "markdown",
   "metadata": {},
   "source": [
    "Now we work on the missing data. Most ML algorithms will not perform as intended if there are missing data.\n",
    "\n",
    "In the cell below, count how many rows contain missing data in each column. You should see three columns contain missing data:\n",
    "\n",
    "* `doctor_name`: 58 missing data\n",
    "* `prescribed_medicines`: 488 missing data\n",
    "* `diagnosis`: 488 missing data"
   ]
  },
  {
   "cell_type": "code",
   "execution_count": 22,
   "metadata": {},
   "outputs": [
    {
     "data": {
      "text/plain": [
       "patient_gender            0\n",
       "patient_dob               0\n",
       "patient_diabetic          0\n",
       "patient_allergic          0\n",
       "patient_weight_kg         0\n",
       "patient_height_sm         0\n",
       "doctor_name              58\n",
       "appointment_date          0\n",
       "patient_show              0\n",
       "is_regular_visit          0\n",
       "prescribed_medicines    488\n",
       "diagnosis               488\n",
       "dtype: int64"
      ]
     },
     "execution_count": 22,
     "metadata": {},
     "output_type": "execute_result"
    }
   ],
   "source": [
    "# Your code here:\n",
    "patients.isna().sum()"
   ]
  },
  {
   "cell_type": "markdown",
   "metadata": {},
   "source": [
    "The main issues are found in the `prescribed_medicines` and `diagnosis` columns. Can we simply drop these rows?\n",
    "\n",
    "The answer is not yet. Because when there are missing data in these columns, it doesn't mean the data records are broken. Instead, it means no medication was prescribed and no diagnosis was recorded. Therefore, once we fill in the missing data these columns will be fine. But we'll revisit these columns and decide whether we will eventually drop them when we look at how many unique values are there in these categorical columns.  \n",
    "\n",
    "For the `prescribed_medicines` column, fill the missing values with the value `no prescription`. For the `diagnosis` column, fill the missing values with `no diagnosis`.\n",
    "\n",
    "*Hint: Use [`pandas.DataFrame.fillna`](https://pandas.pydata.org/pandas-docs/stable/generated/pandas.DataFrame.fillna.html).*"
   ]
  },
  {
   "cell_type": "code",
   "execution_count": 23,
   "metadata": {},
   "outputs": [],
   "source": [
    "# Your code here:\n",
    "patients['prescribed_medicines'].fillna(value='no prescription', inplace=True)\n",
    "patients['diagnosis'].fillna(value='no diagnosis', inplace=True)"
   ]
  },
  {
   "cell_type": "markdown",
   "metadata": {},
   "source": [
    "How about `doctor_name`? Since a doctor visit without a doctor name might not be meaningful, we will drop these rows."
   ]
  },
  {
   "cell_type": "code",
   "execution_count": 24,
   "metadata": {},
   "outputs": [],
   "source": [
    "# Your code here:\n",
    "patients['doctor_name'].dropna(axis=0, how='any', inplace=True)"
   ]
  },
  {
   "cell_type": "markdown",
   "metadata": {},
   "source": [
    "#### Another step in preprocessing that can be performed by scikit-learn is label encoding. \n",
    "\n",
    "We have 4 columns that are of `bool` type. We would like to convert them to an integer column containing either zero or one. We can do this using [scikit-learn's label encoder](https://scikit-learn.org/stable/modules/generated/sklearn.preprocessing.LabelEncoder.html).\n",
    "\n",
    "In the cell below, import the label encoder and encode the 4 boolean columns (*patient_diabetic*, *patient_allergic*, *patient_show*, *is_regular_visit*) with `0` and `1`. "
   ]
  },
  {
   "cell_type": "code",
   "execution_count": 25,
   "metadata": {},
   "outputs": [],
   "source": [
    "# Your code here:\n",
    "from sklearn import preprocessing\n",
    "le = preprocessing.LabelEncoder()\n",
    "le.fit([False,True])\n",
    "patients[\"patient_diabetic\"] = le.transform(patients[\"patient_diabetic\"])\n",
    "patients[\"patient_allergic\"] = le.transform(patients[\"patient_allergic\"])\n",
    "patients[\"patient_show\"] = le.transform(patients[\"patient_show\"])\n",
    "patients[\"is_regular_visit\"] = le.transform(patients[\"is_regular_visit\"])"
   ]
  },
  {
   "cell_type": "markdown",
   "metadata": {},
   "source": [
    "Print the data dtypes to confirm those four `bool` columns are converted to `int64`."
   ]
  },
  {
   "cell_type": "code",
   "execution_count": 26,
   "metadata": {},
   "outputs": [
    {
     "data": {
      "text/plain": [
       "patient_gender                  object\n",
       "patient_dob             datetime64[ns]\n",
       "patient_diabetic                 int64\n",
       "patient_allergic                 int64\n",
       "patient_weight_kg                int64\n",
       "patient_height_sm                int64\n",
       "doctor_name                     object\n",
       "appointment_date        datetime64[ns]\n",
       "patient_show                     int64\n",
       "is_regular_visit                 int64\n",
       "prescribed_medicines            object\n",
       "diagnosis                       object\n",
       "dtype: object"
      ]
     },
     "execution_count": 26,
     "metadata": {},
     "output_type": "execute_result"
    }
   ],
   "source": [
    "# Your code here:\n",
    "patients.dtypes"
   ]
  },
  {
   "cell_type": "markdown",
   "metadata": {},
   "source": [
    "#### The last step is to handle the `object` data.\n",
    "\n",
    "There are 4 `object` columns now: `patient_gender`, `doctor_name`, `prescribed_medicines`, and `diagnosis`.\n",
    "\n",
    "In the next cell, check the unique values of each of the `object` columns using `value_counts()`."
   ]
  },
  {
   "cell_type": "code",
   "execution_count": 27,
   "metadata": {
    "scrolled": false
   },
   "outputs": [
    {
     "name": "stdout",
     "output_type": "stream",
     "text": [
      "\n",
      "++docs: ['Sarena Waliszek' 'Farris Robinet' 'Kaspar Spitaro' 'Rafferty Fowls'\n",
      " 'Glenna MacNeachtain' 'Cissy Markey' 'Ryley Swallow' 'Wyn Grassett'\n",
      " 'Dulce McKerley' 'Gabie Brafield' 'Oralie Swaffer' 'Humfried Cartmel'\n",
      " 'Madelina Scurrell' 'Carly SperaJillie Katt' 'Jilly McGrill'\n",
      " 'Hermina Domeny' 'Flossy Canlin' 'Nerte Elmer' 'Rouvin McKinstry' nan]\n",
      "\n",
      "++gender: ['Female' 'Male']\n",
      "\n",
      "++prescription: ['triamcinolone acetonide' 'no prescription'\n",
      " 'octinoxate, avobenzone, and octocrylene'\n",
      " 'Glipizide and Metformin Hydrochloride' 'Benazepril Hydrochloride'\n",
      " 'WITCH HAZEL' 'Terbinafine Hydrochloride' 'Tretinoin' 'Magesium Citrate'\n",
      " 'Psyllium Husks' 'aluminum hydroxide' 'Estradiol'\n",
      " 'Propranolol Hydrochloride' 'Avobenzone, Octinoxate, Octisalate'\n",
      " 'NEOMYCIN SULFATE' 'Sulfamethoxazole and Trimethoprim'\n",
      " 'Helium Oxygen Mixture' 'NITROGEN'\n",
      " 'acetaminophen, dextromethorphan Hbr, Phenylephrine HCl'\n",
      " 'Diphenhydramine Hydrochloride and Zinc Acetate'\n",
      " 'Human chorionic gonadotropin (hCG),'\n",
      " 'Arsenicum album, Calcarea carbonica, Ignatia amara Kali carbonicum, Lachesis mutus, Natrum muriaticum,'\n",
      " 'ABILIFY' 'ALUMINUM SULFATE' 'Natural Medicine'\n",
      " 'amoxicillin and clavulanate potassium' 'Ammonium Lactate' 'Risperidone'\n",
      " 'fomepizole' 'bisoprolol fumarate and hydrochlorothiazide'\n",
      " 'DOCUSATE SODIUM' 'dimethicone, octinoxate, octisalate, oxybenzone'\n",
      " 'Acetaldehyde, Coumarinum, Histaminum Hydrochloricum, Quercetin, Torula Cerevisiae, Candida Albicans, Candida Parapsilosis'\n",
      " 'codeine phosphate and guaifenesin' 'ALCOHOL' 'Pineapple'\n",
      " 'dextromethorphan polistirex'\n",
      " 'ACONITUM NAPELLUS, ARNICA MONTANA, LEDUM PALUSTRE TWIG, MAGNESIUM PHOSPHATE, DIBASIC TRIHYDRATE, TOXICODENDRON PUBESCENS LEAF, and VISCUM ALBUM FRUITING TOP'\n",
      " 'Acetaminophen, Dextromethorphan Hydrobromide, Phenylephrine Hydrochloride'\n",
      " 'Oxcarbazepine' 'OCTINOXATE and TITANIUM DIOXIDE' 'Ibuprofen'\n",
      " 'Metoclopramide Hydrochloride'\n",
      " 'OCTINOXATE, OCTISALATE, ZINC OXIDE, OXYBENZONE' 'Oxygen'\n",
      " 'Avobenzone, Octinoxate, Octisalate, Oxybenzone' 'Salt Cedar'\n",
      " 'Pyrithione Zinc' 'TRAMADOL HYDROCHLORIDE'\n",
      " 'Levocetirizine Dihydrochloride' 'SODIUM FLUORIDE' 'Triclosan'\n",
      " 'Pyrithione zinc' 'Citalopram' 'Metoprolol Tartrate'\n",
      " 'propafenone hydrochloride' 'Silicea Belladonna'\n",
      " 'Valacyclovir hydrochloride' 'Protriptyline Hydrochloride'\n",
      " 'Dexamethasone' 'Ketoconazole' 'Erythromycin' 'ESCITALOPRAM OXALATE'\n",
      " 'alcohol' 'AVOBENZONE, OCTOCRYLENE, OXYBENZONE' 'moexipril hydrochloride'\n",
      " 'Docusate sodium and Sennosides' 'Oats, Common, Cultivated Avena sativa'\n",
      " 'BACILLUS CALMETTE-GUERIN SUBSTRAIN TICE LIVE ANTIGEN'\n",
      " 'Amlodipine Besylate'\n",
      " 'HOMOSALATE, OXYBENZONE, OCTISALATE, AVOBENZONE, OCTOCRYLENE'\n",
      " 'Phentermine Hydrochloride' 'Metformin Hydrochloride' 'Gabapentin'\n",
      " 'OCTINOXATE' 'Mountain Cedar' 'Isoniazid' 'Doxycycline' 'Artichoke'\n",
      " 'Droperidol'\n",
      " 'Arnica montana, Caladium seguinum, Carduus marianus, Damiana, Galium aparine, Glandula suprarenalis suis, Hepar suis, Korean ginseng, Lactuca virosa,'\n",
      " 'Valsartan and Hydrochlorothiazide' 'Diphenhydramine Hydrochloride'\n",
      " 'Ranitidine Hydrochloride'\n",
      " 'Chelidonium Majus, Hepar Suis, Cholesterinum, Lycopodium Clavatum, Tarentula Hispana, Arsenicum Album, Belladonna'\n",
      " 'Omeprazole' 'morphine sulfate'\n",
      " 'OCTINOXATE, TITANIUM DIOXIDE, and ZINC OXIDE'\n",
      " 'Titanium Dioxide, Zinc Oxide, and Octinoxate' 'albuterol sulfate'\n",
      " 'Octinoxate and Oxybenzone' 'vilazodone hydrochloride'\n",
      " 'benztropine mesylate' 'Ketorolac Tromethamine' 'Titanium dioxide'\n",
      " 'Camphor Menthol Methyl Salicylate' 'clonazepam' 'Mirtazapine'\n",
      " 'epinephrine' 'Menthol' 'False Ragweed Bur' 'Zinc Oxide'\n",
      " 'AVOBENZONE, OCTISALATE, OCTOCRYLENE' 'ALTERNARIA TENUIS'\n",
      " 'Dextromethophan Hydrobromide, Chlorpheniramine Maleate, Phenylephrine Hydrochloride'\n",
      " 'Nadolol' 'fluvastatin' 'VERAPAMIL HYDROCHLORIDE' 'Spasms Weakness'\n",
      " 'CALENDULA OFFICINALIS FLOWERING TOP' 'Titanium Dioxide, Zinc Oxide'\n",
      " 'Treatment Set TS350393' 'Naproxen Sodium' 'Cucumber'\n",
      " 'Antihemophilic Factor (Recombinant)' 'fentanyl' 'Acetaminophen'\n",
      " 'Carvedilol' 'synthetic conjugated estrogens, B'\n",
      " 'Lidocaine Hydrochloride-Menthol' 'Green Pea English'\n",
      " 'amlodipine besylate and atorvastatin calcium'\n",
      " 'Aluminum Zirconium Trichlorohydrex Gly' 'BENZETHONIUM CHLORIDE'\n",
      " 'Oxycodone and Acetaminophen' 'TITANIUM DIOXIDE' 'LYTTA VESICATORIA'\n",
      " 'TRICHOPHYTON MENTAGROPHYTES' 'Venlafaxine Hydrochloride'\n",
      " 'Pectin and Echinacea Purpurea'\n",
      " 'Avobenzone, Octinoxate, Octisalate, Octocrylene' 'divalproex sodium'\n",
      " 'alnus incana subsp. rugosa pollen' 'ATRACTYLODES JAPONICA ROOT'\n",
      " 'Homosalate Oxybenzone Octocrylene Octisalate Avobenzone'\n",
      " 'Salicylic Acid' 'Fentanyl Citrate' 'Hydrocortisone' 'Hog Epithelium'\n",
      " 'TRIHEXYPHENIDYL HYDROCHLORIDE' 'Senna and Docusate Sodium' 'Privet'\n",
      " 'ACETAMINOPHEN and PYRILAMINE MALEATE'\n",
      " 'TRAMETES VERSICOLOR FRUITING BODY' 'Warfarin Sodium' 'Benzoyl Peroxide'\n",
      " 'Enoxaparin Sodium' 'Guaifenesin and Dextromethorphan Hydrobromide'\n",
      " 'acetaminophen' 'Duloxetine' 'Medroxyprogesterone Acetate'\n",
      " 'tramadol hydrochloride' 'POLYVINYL ALCOHOL'\n",
      " 'bacitracin zinc, neomycin, polymyxin B' 'Nicotine Polacrilex'\n",
      " 'sildenafil citrate' 'Lansoprazole' 'Pantoprazole Sodium'\n",
      " 'GRANISETRON HYDROCHLORIDE'\n",
      " 'Agnus 30c, Aurum Nat Mur. 30c, Aletris 30c, Dioscorea 30c' 'mupirocin'\n",
      " 'FERRIC OXIDE RED' 'Purixan' 'KAPOK' 'Granisetron Hydrochloride'\n",
      " 'Eastern Cottonwood' 'Aurum Lavender Rose'\n",
      " 'Uricum acidum, Benzoicum acidum, Berber. vulg., Bryonia, Cantharis, Carduus benedictus, Ceanothus, Chelidonium majus, Chionanthus virginica, Cinchona, Dioscorea, Dolichos, Iris versicolor, Juniperus com., Nux vom., Ptelea, Taraxacum, Carduus mar., Cynara scolymus, Solidago'\n",
      " 'Neurospora intermedia' 'Dimethicone' 'phytonadione'\n",
      " 'DEXTROMETHORPHAN HYDROBROMIDE, GUAIFENESIN, PHENYLEPHRINE HYDROCHLORIDE'\n",
      " 'Octinoxate and Titanium Dioxide' 'BISMUTH SUBSALICYLATE'\n",
      " 'Methyl salicylate, Menthol, Capsaicin' 'ketoconazole' 'CLOTRIMAZOLE'\n",
      " 'tobramycin and dexamethasone' 'Sodium Fluoride' 'mesna' 'TRICLOSAN'\n",
      " 'norethindrone acetate and ethinyl estradiol and ferrous fumarate'\n",
      " 'ACETAMINOPHEN, DOXYLAMINE SUCCINATE HCL, DEXTROMETHORPHAN HYDROBROMIDE'\n",
      " 'GLYCERIN' 'isopropyl alcohol'\n",
      " 'Acetaminophen, Dextromethorphan HBr, Guaifenesin, Phenylephrine HCl'\n",
      " 'Buspirone hydrochloride' 'montelukast sodium'\n",
      " 'ACONITUM NAPELLUS and BRYONIA ALBA ROOT and PHOSPHORUS'\n",
      " 'Oxymorphone Hydrochloride' 'BENZALKONIUM CHLORIDE'\n",
      " 'SERTRALINE HYDROCHLORIDE' 'Birch Black'\n",
      " 'Acetaminophen, Dextromethorphan HBr, Doxylamine succinate'\n",
      " 'OXYBENZONE, AVOBENZONE, OCTOCRYLENE' 'OXYGEN'\n",
      " 'SALICYLIC ACID, TITANIUM DIOXIDE, ZINC OXIDE' 'providone iodine'\n",
      " 'oxybutynin chloride' 'Strawberry' 'Fibrinogen Human Thrombin Human'\n",
      " 'avobenzone, homosalate, octisalate, octocrylene' 'Fluoxetine'\n",
      " 'Chlorpheniramine Maleate' 'Aluminum Zirconium Tetrachlorohydrex GLY'\n",
      " 'Amoxicillin' 'romidepsin' 'Levothyroxine Sodium' 'HYDROQUINONE'\n",
      " 'OCTINOXATE and OXYBENZONE' 'Etodolac' 'Cefuroxime'\n",
      " 'cysteamine hydrochloride' 'MENTHOL' 'Octinoxate, Titanium Dioxide'\n",
      " 'doxepin hydrochloride' 'Potassium Chloride' 'Aurum 5' 'Metaxalone'\n",
      " 'HYDROCORTISONE' 'Temozolomide' 'Triclocarban' 'diazepam' 'Ramipril'\n",
      " 'Acetaminophen, Guaifenesin, Phenylephrine HCl'\n",
      " 'Loperamide Hydrochloride' 'ACETAMINOPHEN'\n",
      " 'Levonorgestrel and Ethinyl Estradiol' 'Phenazopyridine Hydrochloride'\n",
      " 'House Dust' 'TOLNAFTATE'\n",
      " 'PSEUDOGNAPHALIUM OBTUSIFOLIUM, CAUSTICUM, COLCHICUM AUTUMNALE BULB, CITRULLUS COLOCYNTHIS FRUIT PULP, IRON, LITHIUM BENZOATE, TOXICODENDRON PUBESCENS LEAF and FILIPENDULA ULMARIA ROOT'\n",
      " 'benzocaine and glycerin' 'clocortolone pivalate'\n",
      " 'donepezil hydrochloride' 'fluvastatin sodium' 'Docetaxel'\n",
      " 'Dextromethorphan HBr, Guaifenesin' 'fentanyl citrate' 'Disulfiram'\n",
      " 'Potassium Iodide' 'Tetracycline Hydrochloride'\n",
      " 'Glycerin, Petrolatum, Phenylephrine Hydrochloride, Pramoxine Hydrochloride'\n",
      " 'Guaifenesin'\n",
      " 'Leucine, Phenylalanine, Lysine, Methionine, Isoleucine, Valine, Histidine, Threonine, Tryptophan, Alanine, Glycine, Arginine, Proline, Serine, Tyrosine, Dextrose'\n",
      " 'Bethanechol Chloride' 'Norethindrone and Ethinyl Estradiol Tablets'\n",
      " 'Sodium chloride'\n",
      " 'Polyethylene Glycol 3350, Sodium Sulfate Anhydrous, Sodium Bicarbonate, Sodium Chloride, Potassium Chloride'\n",
      " 'petrolatum' 'amoxicillin' 'ZINC OXIDE, OCTINOXATE, and OCTISALATE'\n",
      " 'Yellow Dock'\n",
      " 'Agnus castus, Aralia quinquefolia, Arnica montana, Damiana, Lactuca virosa, Natrum muriaticum, Onosmodium virginianum, Oophorinum, Phosphoricum acidum, Pituitarum posterium, Salix nigra, Sepia, Thuja occidentalis'\n",
      " 'MOMETASONE FUROATE' 'CEFTAZIDIME' 'Bismuth subsalicylate'\n",
      " 'MAGNESIUM HYDROXIDE' 'Hepatitis B Immune Globulin (Human)'\n",
      " 'Eprosartan Mesylate and Hydrochlorothiazide'\n",
      " 'levothyroxine sodium tablets' 'Captopril' 'Miconazole Nitrate'\n",
      " 'CETYLPYRIDINIUM CHLORIDE' 'Topiramate' 'peginterferon alfa-2b'\n",
      " 'LOSARTAN POTASSIUM AND HYDROCHLOROTHIAZIDE' 'Titanium Dioxide'\n",
      " 'famotidine, calcium carbonate and magnesium hydroxide'\n",
      " 'Diphenoxylate Hydrochloride and Atropine Sulfate'\n",
      " 'Aralia racemosa, Arsenicum album, Histaminum hydrochloricum, Nux vomica, Oleum animale, Phosphorus, Silicea, Sulphur'\n",
      " 'Diphenhydramine HCl' 'Water' 'Sweetgum'\n",
      " 'Lidocaine Hydrochloride and Hydrocortisone Acetate' 'Octinoxate'\n",
      " 'Pseudoephedrine Hydrochloride' 'Queen Palm' 'MAGNESIUM CITRATE'\n",
      " 'Eucalyptol' 'Piroxicam' 'Hydrocodone Bitartrate and Acetaminophen'\n",
      " 'LACTULOSE' 'VANCOMYCIN HYDROCHLORIDE' 'ERYTHROMYCIN STEARATE'\n",
      " 'Lidocaine Hydrochloride' 'Titanium dioxide and Zinc oxide'\n",
      " 'Benzalkonium Chloride' 'salicylic acid'\n",
      " 'Octinoxate and Titanium dioxide'\n",
      " 'CONJUGATED ESTROGENS and MEDROXYPROGESTERONE ACETATE' 'Aspirin'\n",
      " 'methylcellulose'\n",
      " 'Acetaminophen, Dextromethorphan Hydrobromide, Doxylamine Succinate'\n",
      " 'sodium fluoride' 'Lemon' 'Urea Cream with Moisturizing Cream'\n",
      " 'benzocaine' 'zinc acetate' 'POVIDONE-IODINE' 'Sodium Fluoride F-18'\n",
      " 'Bupropion Hydrochloride' 'cocoa butter, phenylephrine HCl' 'ALLANTOIN'\n",
      " 'Isopropyl Alcohol' 'PETROLATUM' 'Simvastatin' 'Carelessweed'\n",
      " 'Acetaminophen Chlorpheniramine Maleate Dextromethorphan Hydrobromide Phenylepherine Hydrochloride'\n",
      " 'Aloe socotrina, Alumina, Apis mellifica' 'FENTANYL'\n",
      " 'valsartan and hydrochlorothiazide' 'Mupirocin' 'WATER' 'polidocanol'\n",
      " 'Butalbital and Acetaminophen Tablets' 'GINKGO BILOBA LEAF'\n",
      " 'hydroxocobalamin' 'avobenzone, homosalate, octisalate, oxybenzone'\n",
      " 'tapentadol hydrochloride' 'Aluminum Chlorohydrate' 'Rough Marsh Elder'\n",
      " 'Prazosin Hydrochloride' 'Fenofibric Acid' 'methimazole' 'Oat Grain'\n",
      " 'AVOBENZONE, OCTINOXATE,OCTISALATE' 'TITANIUM DIOXIDE, OCTINOXATE'\n",
      " 'ZINC OXIDE' 'sodium selenite' 'Trandolapril' 'DROSERA ROTUNDIFOLIA'\n",
      " 'OCTISALATE, TITANIUM DIOXIDE' 'Rhodotorula mucilaginosa' 'False Ragweed'\n",
      " 'doxercalciferol'\n",
      " 'Avobenzone, Homosalate, Octisalate, Octocrylene, and Oxybenzone'\n",
      " 'Heparin Sodium' 'Cypress Arizona' 'allopurinol'\n",
      " 'Asterias rubens, Bryonia, Conium maculatum, Galium aparine, Hoang-nan, Lachesis mutus, Nux vomica, Ova tosta, Sepia and Viscum album'\n",
      " 'Simethicone' 'Pyrazinamide' 'Losartan Potassium' 'Furosemide'\n",
      " 'rizatriptan benzoate' 'ALUMINUM CHLOROHYDRATE' 'Hydrocortisone Acetate'\n",
      " 'OCTINOXATE, TITANIUM DIOXIDE, DIMETHICONE, ALUMINUM HYDROXIDE, STEARIC ACID, HYDROXYPROLINE,'\n",
      " 'Metoprolol succinate' 'Cefuroxime Axetil' 'Diltiazem Hydrochloride'\n",
      " 'Glyburide' 'Vancomycin Hydrochloride' 'Octisalate and Zinc Oxide'\n",
      " 'Aluminum Zirconium Pentachlorohydrex Gly'\n",
      " 'OCTINOXATE, TITANIUM DIOXIDE, OXYBENZONE'\n",
      " 'Boricum Gluconicum, Calcarea Gluconica, Chromium Gluconicum, Cobaltum Gluconicum, Cuprum Gluconicum'\n",
      " 'lidocaine hydrochloride' 'Acetaminophen, Aspirin, Caffeine'\n",
      " 'SOYBEAN OIL' 'Doxazosin' 'Lisinopril and hydrochlorothiazide'\n",
      " 'estradiol acetate' 'Sertraline Hydrochloride'\n",
      " 'Zinc Oxide, Titanium Dioxide' 'Folic Acid' 'California Black Walnut'\n",
      " 'ATORVASTATIN CALCIUM' 'MIDODRINE HYDROCHLORIDE' 'levothyroxine sodium'\n",
      " 'metformin hydrochloride' 'Cefotaxime Sodium' 'Atorvastatin Calcium'\n",
      " 'acitretin' 'Apis Rhus' 'TITANIUM DIOXIDE and ZINC OXIDE'\n",
      " 'Para Grass Pollen' 'HYDROCODONE BITARTRATE AND IBUPROFEN' 'MYRRH GOLD'\n",
      " 'Calcium carbonate and Magnesium hydroxide'\n",
      " '.beta.-carotene, ascorbic acid, cholecalciferol, .alpha.-tocopherol acetate, dl-, thiamine mononitrate, riboflavin, niacinamide, pyridoxine hydrochloride, folic acid, cyanocobalamin, calcium carbonate, ferrous fumarate, potassium iodide and zinc oxide'\n",
      " 'Cefprozil' 'Enalapril Maleate'\n",
      " 'octinoxate, octisalate, octocrylene, oxybenzone' 'Hormodendrum'\n",
      " 'Acetaminophen, Diphenhydramine HCl' 'Antiseptic handwash'\n",
      " 'Aesculus hippocastanum, Arnica montana, Berberis vulgaris, Carbo vegetabilis, Echinacea angustifolia, Hamamelis virginiana, Hydrofluoricum acidum, Lycopodium clavatum, Secale cornutum, Sulfur'\n",
      " 'bethanechol chloride' 'Glycerin' 'Mango Blossom'\n",
      " 'Hydrocodone Bitartrate and Ibuprofen'\n",
      " 'OCTINOXATE, OXYBENZONE, TITANIUM DIOXIDE' 'Duloxetine hydrochloride'\n",
      " 'clobazam' 'Hydrogen Peroxide' 'AMOXICILLIN'\n",
      " 'Norethindrone and Ethinyl Estradiol' 'Cyclopentolate Hydrochloride'\n",
      " 'Promethazine Hydrochloride' 'Benzocaine'\n",
      " 'AVOBENZONE, OCTINOXATE, OCTISALATE, OCTOCRYLENE'\n",
      " 'MINERAL OIL,PETROLATUM,PHENYLEPHRINE'\n",
      " 'diphenhydramine citrate and ibuprofen' 'ezetimibe and simvastatin'\n",
      " 'Soft Cheat Brome' 'Desmopressin Acetate' 'ENALAPRIL MALEATE'\n",
      " 'atorvastatin calcium' 'Formaldehyde' 'nitroglycerin' 'IRON SUPPLEMENT'\n",
      " 'aluminum hydroxide, magnesium carbonate, sodium bicarbonate']\n",
      "\n",
      "++diagnosis: ['I669' 'no diagnosis' 'S72309N' 'T508X6' 'S420' 'T8743' 'M80072A'\n",
      " 'T22342A' 'S06378S' 'T23269' 'Y37251D' 'S42491G' 'S58922' 'S89041'\n",
      " 'S72321R' 'E1340' 'B161' 'S52392D' 'W9431XA' 'S12551B' 'V722XXS'\n",
      " 'S82155H' 'P0734' 'S40811' 'S21049S' 'T2682XD' 'G4762' 'S91322S'\n",
      " 'T24701S' 'T2169' 'B352' 'T25021D' 'S66304' 'T8511' 'G328' 'I159'\n",
      " 'S72452A' 'T6192XD' 'Y383X2A' 'T444X6A' 'M2441' 'T501X5D' 'S353'\n",
      " 'W1692XD' 'S89299D' 'V4950XA' 'M0684' 'R4921' 'M7133' 'T311' 'O29013'\n",
      " 'S82114' 'H15012' 'C944' 'A669' 'M8916' 'V346XXS' 'M84573P' 'T81507S'\n",
      " 'S63232' 'M0570' 'T675XXS' 'S52331B' 'T84192S' 'M84453G' 'S46899'\n",
      " 'S52254G' 'M11849' 'T80218' 'M80071S' 'T63001S' 'S25492D' 'S42016B'\n",
      " 'V80928D' 'S72345C' 'S72443Q' 'G5783' 'H04211' 'T560X3S' 'W908' 'S3510XD'\n",
      " 'R4184' 'G4011' 'I308' 'O26852' 'S85102A' 'S9086' 'S82134D' 'S34102'\n",
      " 'S60041D' 'O368920' 'M10372' 'T4271' 'M1A0320' 'M87252' 'S82265K'\n",
      " 'T401X1S' 'A369' 'S93333A' 'S42324A' 'S92491' 'H40041' 'S27432' 'H11012'\n",
      " 'M84334K' 'T8386XS' 'M80822K' 'S60522' 'V9101' 'T440X4A' 'S56403S' 'K754'\n",
      " 'O26812' 'I850' 'V9605XD' 'M84631A' 'S0041' 'S72354P' 'H31329' 'M84569D'\n",
      " 'H04313' 'M2434' 'S82022H' 'Y248' 'V00811A' 'I69261' 'S01112' 'S01102A'\n",
      " 'M60162' 'V97811S' 'S36202D' 'F199' 'C130' 'V877' 'B972' 'M1A10X0'\n",
      " 'C9251' 'O360114' 'S62122D' 'S63266' 'S60212' 'S63295' 'T3292' 'O280'\n",
      " 'S53449' 'S82422J' 'S37531A' 'S89221' 'M2637' 'S98321' 'L971' 'H11129'\n",
      " 'S055' 'M8908' 'T550X2' 'J960' 'O693' 'V559XXD' 'S49039P' 'M5010'\n",
      " 'S31101D' 'M24474' 'H0243' 'S65011' 'S82254B' 'S92334G' 'S92223A'\n",
      " 'Y3593XA' 'S72445D' 'S12030D' 'S4292XA' 'M80871D' 'T466X5A' 'N2885'\n",
      " 'S12390D' 'S82045H' 'I83011' 'T86898' 'O43892' 'R203' 'H04131' 'M41117'\n",
      " 'S82151B' 'S82041K' 'S62235D' 'M342' 'S42222D' 'S062X0D' 'S4342'\n",
      " 'M8080XP' 'S52109H' 'Z020' 'Y37220S' 'V733' 'S66100D' 'T82118S' 'T5392XS'\n",
      " 'M1023' 'S42024D' 'S298' 'D173' 'S66319A' 'S61419A' 'M00052' 'S5620'\n",
      " 'S590' 'S52541S' 'S72445M' 'S89049A' 'T183XXD' 'S01311A' 'T17390'\n",
      " 'S92812D' 'S56113D' 'S238XXS' 'S99132G' 'S3215XB' 'O9122' 'S59801'\n",
      " 'M84433A' 'Z451' 'V00832S' 'G4759' 'V2960XA' 'S42014B' 'G718' 'S83409'\n",
      " 'S20362A' 'V110XXS' 'S52251K' 'S12690D' 'S83105A' 'M6127' 'S72423S'\n",
      " 'W5531XA' 'X52XXXS' 'S3590XS' 'T24602A' 'S471XXD' 'S63006' 'S02632K'\n",
      " 'S52322G' 'S92222K' 'X35XXXD' 'V541XXD' 'T6306' 'H401422' 'Y9302'\n",
      " 'S52612S' 'S72455J' 'T3182' 'S63035S' 'L97213' 'T68XXXS' 'S6791XS'\n",
      " 'T7114' 'M80842K' 'Z13' 'S90549D' 'W2107XD' 'M2325' 'W139XXD' 'T481X4'\n",
      " 'T23109A' 'S92523P' 'Z283' 'Z8541' 'S32058K' 'W5612XD' 'S62134B'\n",
      " 'S83111D' 'S52041C' 'S85189' 'S41032S' 'L441' 'S42352P' 'S52602Q' 'H4913'\n",
      " 'I741' 'M9711XA' 'S12101' 'T85828' 'M65232' 'S62327B' 'S56221S' 'S91222D'\n",
      " 'S82035M' 'T468X3A' 'D683' 'T618X2D' 'V0111XS' 'P780' 'W621XXS' 'S14135D'\n",
      " 'T507X3' 'H11022' 'S59192S' 'S11021' 'K51519' 'S52256B' 'S20301' 'M7981'\n",
      " 'T366X5D' 'Y62' 'S62185' 'V711' 'S61122' 'O324XX3' 'T63444S' 'S82452'\n",
      " 'V00322S' 'T6403XS' 'S42262A' 'M02812' 'T23609S' 'Q51' 'S065X1A' 'Q226'\n",
      " 'S27419D' 'S72425H' 'W320XXD' 'T39091S' 'S99102G' 'T475X6A' 'T440X5S'\n",
      " 'S42333G' 'T40993' 'M2555' 'J208' 'S42154G' 'S82264J' 'X928' 'T3185'\n",
      " 'S3134XA' 'Y92232' 'F10250' 'Z825' 'T8242XA' 'M110' 'S91153S' 'R871'\n",
      " 'M66352' 'M8972' 'S49112' 'T433X6A' 'T457X6S' 'S59802A' 'S82243J'\n",
      " 'S01152S' 'S82466H' 'S52009D' 'S1989XS' 'S66313D' 'A154' 'G9529' 'I82711'\n",
      " 'T63414A' 'A928' 'S89009' 'A3685' 'V401XXA' 'H4050X1' 'M12451' 'T82868'\n",
      " 'S92911G' 'S92413S' 'S0280XD' 'T402X6S' 'Z044' 'S73011' 'H1604' 'S62656'\n",
      " 'M80012K' 'C858' 'S2091XS' 'S42212G' 'J8411' 'S72091S' 'S72456Q'\n",
      " 'R402433' 'S76119S' 'R098' 'S73129S' 'S52236A' 'X004XXD' 'H16243' 'B3323'\n",
      " 'M2361' 'S53101D' 'S00552A' 'S82156G' 'H5017' 'S8390' 'H1812' 'S83112A'\n",
      " 'H93A2' 'V830XXD' 'N7681' 'O36011' 'S52699A' 'S63439D' 'S660' 'S88911A'\n",
      " 'S53015S' 'S46919A' 'S25811D' 'W0111' 'T468X5S' 'M80841A' 'Q051'\n",
      " 'S46019D' 'S27898S' 'S52122B' 'T374X3A' 'S8314' 'A241' 'I2111' 'M86451'\n",
      " 'V666XXD' 'S42455K' 'S31119D' 'S76091D' 'M84432' 'M205X' 'S82201P'\n",
      " 'S72144E' 'S68711S' 'V4351XS' 'S52311G' 'G318' 'S82425B' 'K1233' 'A1859'\n",
      " 'M12322' 'S153' 'S6111' 'H47021' 'T34531S' 'T43634A' 'S3792XA' 'H0019'\n",
      " 'S92101S' 'N99533' 'S52245J' 'V879XXS' 'S79821S' 'S5621' 'T63591S' 'E875'\n",
      " 'X101XXS' 'M88871' 'S42424S' 'T467X1S' 'V9361XD' 'O42911' 'K80' 'S2222'\n",
      " 'S52043K' 'W16021' 'S12351' 'S82146S' 'S72455A' 'S52224S' 'T80212S'\n",
      " 'S27391S' 'P920' 'M308' 'Y3709' 'S72361C' 'Q122' 'H5052' 'S96112'\n",
      " 'H01021' 'T23291D' 'G7089' 'T81591A' 'S0269XB' 'M05161' 'A849' 'S56108'\n",
      " 'K869' 'S62654G' 'H11142' 'O2252' 'S80262' 'S67192A' 'O30829' 'H011'\n",
      " 'V8672XD' 'M7101' 'S72346H' 'H44119' 'G9341' 'V9313XA' 'T65893S' 'D1339'\n",
      " 'T523X1A' 'S83409A' 'W132XXD' 'S70319A' 'L0233' 'T63592' 'S63694A'\n",
      " 'S52243H' 'S82112N' 'M4632' 'J633' 'O3620X1' 'C8469' 'S95091S' 'S6610'\n",
      " 'I70429']\n",
      "\n",
      "\n"
     ]
    }
   ],
   "source": [
    "# Your code here:\n",
    "print(f\"\"\"\n",
    "++docs: {patients.doctor_name.unique()}\\n\n",
    "++gender: {patients.patient_gender.unique()}\\n\n",
    "++prescription: {patients.prescribed_medicines.unique()}\\n\n",
    "++diagnosis: {patients.diagnosis.unique()}\\n\n",
    "\"\"\")"
   ]
  },
  {
   "cell_type": "markdown",
   "metadata": {},
   "source": [
    "#### The number of unique values is large for all three columns except `patient_gender`. We will handle these columns differently.\n",
    "\n",
    "For `diagnosis`, there are too many unique values which will make ML difficult. However, we can re-encode the values to either with or without diagnosis. Remember at an earlier step we filled in the missing values of this column with *no diagnosis*? We can re-encode *no diagnosis* to `0` and all other values to `1`. In this way we can tremendously simply this column.\n",
    "\n",
    "For `prescribed_medicines`, we can drop this column because it is perfectly correlated with `diagnosis`. Whenever there is no diagnosis, there is no prescribed medicine. So we don't need to keep this duplicated data.\n",
    "\n",
    "How about `doctor_name`? There are not excessive unique values but still quite many (19). We may either drop or keep it but keeping it will make the analysis more complicated. So due to the length of this lab let's drop it.\n",
    "\n",
    "How about `gender`? This one is easy. Just like re-encoding the boolean values, we can re-encode gender to `0` and `1` because there are only 2 unique values.\n",
    "\n",
    "In the next cells, do the following:\n",
    "\n",
    "1. Create a new column called `diagnosis_int` that has `0` and `1` based on the values in `diagnosis`.\n",
    "\n",
    "1. Create a new column called `patient_gender_int` that has `0` and `1` based on the values in `patient_gender`.\n",
    "\n",
    "1. Drop the following columns: `doctor_name`, `diagnosis`, `prescribed_medicines`, and `patient_gender`."
   ]
  },
  {
   "cell_type": "code",
   "execution_count": 28,
   "metadata": {},
   "outputs": [],
   "source": [
    "# Your code here:\n",
    "patients['diagnosis_int'] =patients['diagnosis'].apply(lambda x: 0 if x=='no diagnosis' else 1)\n",
    "patients['patient_gender_int'] =patients['patient_gender'].apply(lambda x: 0 if x=='Male' else 1)"
   ]
  },
  {
   "cell_type": "markdown",
   "metadata": {},
   "source": [
    "Let's look at the head again to ensure the re-encoding and dropping are successful:"
   ]
  },
  {
   "cell_type": "code",
   "execution_count": 29,
   "metadata": {},
   "outputs": [
    {
     "data": {
      "text/html": [
       "<div>\n",
       "<style scoped>\n",
       "    .dataframe tbody tr th:only-of-type {\n",
       "        vertical-align: middle;\n",
       "    }\n",
       "\n",
       "    .dataframe tbody tr th {\n",
       "        vertical-align: top;\n",
       "    }\n",
       "\n",
       "    .dataframe thead th {\n",
       "        text-align: right;\n",
       "    }\n",
       "</style>\n",
       "<table border=\"1\" class=\"dataframe\">\n",
       "  <thead>\n",
       "    <tr style=\"text-align: right;\">\n",
       "      <th></th>\n",
       "      <th>patient_dob</th>\n",
       "      <th>patient_diabetic</th>\n",
       "      <th>patient_allergic</th>\n",
       "      <th>patient_weight_kg</th>\n",
       "      <th>patient_height_sm</th>\n",
       "      <th>appointment_date</th>\n",
       "      <th>patient_show</th>\n",
       "      <th>is_regular_visit</th>\n",
       "      <th>diagnosis_int</th>\n",
       "      <th>patient_gender_int</th>\n",
       "    </tr>\n",
       "  </thead>\n",
       "  <tbody>\n",
       "    <tr>\n",
       "      <th>0</th>\n",
       "      <td>2018-10-18</td>\n",
       "      <td>0</td>\n",
       "      <td>1</td>\n",
       "      <td>59</td>\n",
       "      <td>176</td>\n",
       "      <td>2018-05-01</td>\n",
       "      <td>1</td>\n",
       "      <td>1</td>\n",
       "      <td>1</td>\n",
       "      <td>1</td>\n",
       "    </tr>\n",
       "    <tr>\n",
       "      <th>1</th>\n",
       "      <td>2018-02-08</td>\n",
       "      <td>0</td>\n",
       "      <td>1</td>\n",
       "      <td>77</td>\n",
       "      <td>186</td>\n",
       "      <td>2017-12-07</td>\n",
       "      <td>1</td>\n",
       "      <td>1</td>\n",
       "      <td>0</td>\n",
       "      <td>1</td>\n",
       "    </tr>\n",
       "    <tr>\n",
       "      <th>2</th>\n",
       "      <td>2018-10-09</td>\n",
       "      <td>1</td>\n",
       "      <td>1</td>\n",
       "      <td>90</td>\n",
       "      <td>177</td>\n",
       "      <td>2018-10-05</td>\n",
       "      <td>0</td>\n",
       "      <td>0</td>\n",
       "      <td>0</td>\n",
       "      <td>1</td>\n",
       "    </tr>\n",
       "    <tr>\n",
       "      <th>3</th>\n",
       "      <td>2018-09-10</td>\n",
       "      <td>1</td>\n",
       "      <td>1</td>\n",
       "      <td>70</td>\n",
       "      <td>150</td>\n",
       "      <td>2018-10-21</td>\n",
       "      <td>0</td>\n",
       "      <td>1</td>\n",
       "      <td>0</td>\n",
       "      <td>0</td>\n",
       "    </tr>\n",
       "    <tr>\n",
       "      <th>4</th>\n",
       "      <td>2018-02-26</td>\n",
       "      <td>0</td>\n",
       "      <td>1</td>\n",
       "      <td>82</td>\n",
       "      <td>140</td>\n",
       "      <td>2018-11-15</td>\n",
       "      <td>0</td>\n",
       "      <td>0</td>\n",
       "      <td>0</td>\n",
       "      <td>1</td>\n",
       "    </tr>\n",
       "  </tbody>\n",
       "</table>\n",
       "</div>"
      ],
      "text/plain": [
       "  patient_dob  patient_diabetic  patient_allergic  patient_weight_kg  \\\n",
       "0  2018-10-18                 0                 1                 59   \n",
       "1  2018-02-08                 0                 1                 77   \n",
       "2  2018-10-09                 1                 1                 90   \n",
       "3  2018-09-10                 1                 1                 70   \n",
       "4  2018-02-26                 0                 1                 82   \n",
       "\n",
       "   patient_height_sm appointment_date  patient_show  is_regular_visit  \\\n",
       "0                176       2018-05-01             1                 1   \n",
       "1                186       2017-12-07             1                 1   \n",
       "2                177       2018-10-05             0                 0   \n",
       "3                150       2018-10-21             0                 1   \n",
       "4                140       2018-11-15             0                 0   \n",
       "\n",
       "   diagnosis_int  patient_gender_int  \n",
       "0              1                   1  \n",
       "1              0                   1  \n",
       "2              0                   1  \n",
       "3              0                   0  \n",
       "4              0                   1  "
      ]
     },
     "execution_count": 29,
     "metadata": {},
     "output_type": "execute_result"
    }
   ],
   "source": [
    "# Your code here:\n",
    "patients.drop(['doctor_name','diagnosis','prescribed_medicines','patient_gender'], axis=1,inplace=True)\n",
    "patients.head()"
   ]
  },
  {
   "cell_type": "markdown",
   "metadata": {},
   "source": [
    "An interesting observation is that all patients are no older than 2 years. However, their weights and heights indicate that they are adults. This cannot be true. Therefore, we can either trust the weight and height columns or the DOB column. Since there are other columns that indicate that these are adults (they have emails, some have diabetes) we will drop the `patient_dob` column. We will also drop the `appointment_date` column since it has too many unique values to transform to a dummy variable. Drop the two columns in the cell below."
   ]
  },
  {
   "cell_type": "code",
   "execution_count": 30,
   "metadata": {},
   "outputs": [
    {
     "data": {
      "text/html": [
       "<div>\n",
       "<style scoped>\n",
       "    .dataframe tbody tr th:only-of-type {\n",
       "        vertical-align: middle;\n",
       "    }\n",
       "\n",
       "    .dataframe tbody tr th {\n",
       "        vertical-align: top;\n",
       "    }\n",
       "\n",
       "    .dataframe thead th {\n",
       "        text-align: right;\n",
       "    }\n",
       "</style>\n",
       "<table border=\"1\" class=\"dataframe\">\n",
       "  <thead>\n",
       "    <tr style=\"text-align: right;\">\n",
       "      <th></th>\n",
       "      <th>patient_diabetic</th>\n",
       "      <th>patient_allergic</th>\n",
       "      <th>patient_weight_kg</th>\n",
       "      <th>patient_height_sm</th>\n",
       "      <th>patient_show</th>\n",
       "      <th>is_regular_visit</th>\n",
       "      <th>diagnosis_int</th>\n",
       "      <th>patient_gender_int</th>\n",
       "    </tr>\n",
       "  </thead>\n",
       "  <tbody>\n",
       "    <tr>\n",
       "      <th>0</th>\n",
       "      <td>0</td>\n",
       "      <td>1</td>\n",
       "      <td>59</td>\n",
       "      <td>176</td>\n",
       "      <td>1</td>\n",
       "      <td>1</td>\n",
       "      <td>1</td>\n",
       "      <td>1</td>\n",
       "    </tr>\n",
       "    <tr>\n",
       "      <th>1</th>\n",
       "      <td>0</td>\n",
       "      <td>1</td>\n",
       "      <td>77</td>\n",
       "      <td>186</td>\n",
       "      <td>1</td>\n",
       "      <td>1</td>\n",
       "      <td>0</td>\n",
       "      <td>1</td>\n",
       "    </tr>\n",
       "    <tr>\n",
       "      <th>2</th>\n",
       "      <td>1</td>\n",
       "      <td>1</td>\n",
       "      <td>90</td>\n",
       "      <td>177</td>\n",
       "      <td>0</td>\n",
       "      <td>0</td>\n",
       "      <td>0</td>\n",
       "      <td>1</td>\n",
       "    </tr>\n",
       "    <tr>\n",
       "      <th>3</th>\n",
       "      <td>1</td>\n",
       "      <td>1</td>\n",
       "      <td>70</td>\n",
       "      <td>150</td>\n",
       "      <td>0</td>\n",
       "      <td>1</td>\n",
       "      <td>0</td>\n",
       "      <td>0</td>\n",
       "    </tr>\n",
       "    <tr>\n",
       "      <th>4</th>\n",
       "      <td>0</td>\n",
       "      <td>1</td>\n",
       "      <td>82</td>\n",
       "      <td>140</td>\n",
       "      <td>0</td>\n",
       "      <td>0</td>\n",
       "      <td>0</td>\n",
       "      <td>1</td>\n",
       "    </tr>\n",
       "  </tbody>\n",
       "</table>\n",
       "</div>"
      ],
      "text/plain": [
       "   patient_diabetic  patient_allergic  patient_weight_kg  patient_height_sm  \\\n",
       "0                 0                 1                 59                176   \n",
       "1                 0                 1                 77                186   \n",
       "2                 1                 1                 90                177   \n",
       "3                 1                 1                 70                150   \n",
       "4                 0                 1                 82                140   \n",
       "\n",
       "   patient_show  is_regular_visit  diagnosis_int  patient_gender_int  \n",
       "0             1                 1              1                   1  \n",
       "1             1                 1              0                   1  \n",
       "2             0                 0              0                   1  \n",
       "3             0                 1              0                   0  \n",
       "4             0                 0              0                   1  "
      ]
     },
     "execution_count": 30,
     "metadata": {},
     "output_type": "execute_result"
    }
   ],
   "source": [
    "# Your code here:\n",
    "patients.drop(['patient_dob','appointment_date'],axis=1,inplace=True)\n",
    "patients.head()"
   ]
  },
  {
   "cell_type": "markdown",
   "metadata": {},
   "source": [
    "#### Our data is now ready for clustering. Let's use k-means again.\n",
    "\n",
    "We start by initializing and fitting a model in the cell below. Call this model patients_cluster."
   ]
  },
  {
   "cell_type": "code",
   "execution_count": 31,
   "metadata": {},
   "outputs": [],
   "source": [
    "# Your code here:\n",
    "patients_cluster = KMeans(n_clusters=4, random_state=42).fit(patients)"
   ]
  },
  {
   "cell_type": "markdown",
   "metadata": {},
   "source": [
    "Attach the labels to the dataframe. Do this by accessing the `labels_` in the `patients_cluster` model and assign them to a new column in `patients` that you will call `labels`."
   ]
  },
  {
   "cell_type": "code",
   "execution_count": 32,
   "metadata": {},
   "outputs": [],
   "source": [
    "# Your code here:\n",
    "patients['labels'] = patients_cluster.labels_"
   ]
  },
  {
   "cell_type": "markdown",
   "metadata": {},
   "source": [
    "Now using a `groupby`, find the mean of every variable in `patients` and group by the `labels` column. This summary will allow us to see how the patients differ between the clusters. Your output should look similar to the image below.\n",
    "\n",
    "![groupby mean](../groupby-mean.png)\n",
    "\n",
    "Additionally, add a comment to describe which columns have the largest difference between clusters."
   ]
  },
  {
   "cell_type": "code",
   "execution_count": 33,
   "metadata": {},
   "outputs": [
    {
     "data": {
      "text/html": [
       "<div>\n",
       "<style scoped>\n",
       "    .dataframe tbody tr th:only-of-type {\n",
       "        vertical-align: middle;\n",
       "    }\n",
       "\n",
       "    .dataframe tbody tr th {\n",
       "        vertical-align: top;\n",
       "    }\n",
       "\n",
       "    .dataframe thead th {\n",
       "        text-align: right;\n",
       "    }\n",
       "</style>\n",
       "<table border=\"1\" class=\"dataframe\">\n",
       "  <thead>\n",
       "    <tr style=\"text-align: right;\">\n",
       "      <th></th>\n",
       "      <th>patient_diabetic</th>\n",
       "      <th>patient_allergic</th>\n",
       "      <th>patient_weight_kg</th>\n",
       "      <th>patient_height_sm</th>\n",
       "      <th>patient_show</th>\n",
       "      <th>is_regular_visit</th>\n",
       "      <th>diagnosis_int</th>\n",
       "      <th>patient_gender_int</th>\n",
       "    </tr>\n",
       "    <tr>\n",
       "      <th>labels</th>\n",
       "      <th></th>\n",
       "      <th></th>\n",
       "      <th></th>\n",
       "      <th></th>\n",
       "      <th></th>\n",
       "      <th></th>\n",
       "      <th></th>\n",
       "      <th></th>\n",
       "    </tr>\n",
       "  </thead>\n",
       "  <tbody>\n",
       "    <tr>\n",
       "      <th>0</th>\n",
       "      <td>0.505618</td>\n",
       "      <td>0.490637</td>\n",
       "      <td>94.029963</td>\n",
       "      <td>178.925094</td>\n",
       "      <td>0.501873</td>\n",
       "      <td>0.531835</td>\n",
       "      <td>0.509363</td>\n",
       "      <td>0.531835</td>\n",
       "    </tr>\n",
       "    <tr>\n",
       "      <th>1</th>\n",
       "      <td>0.494208</td>\n",
       "      <td>0.517375</td>\n",
       "      <td>63.104247</td>\n",
       "      <td>176.988417</td>\n",
       "      <td>0.463320</td>\n",
       "      <td>0.494208</td>\n",
       "      <td>0.459459</td>\n",
       "      <td>0.536680</td>\n",
       "    </tr>\n",
       "    <tr>\n",
       "      <th>2</th>\n",
       "      <td>0.562771</td>\n",
       "      <td>0.515152</td>\n",
       "      <td>97.696970</td>\n",
       "      <td>153.766234</td>\n",
       "      <td>0.493506</td>\n",
       "      <td>0.519481</td>\n",
       "      <td>0.575758</td>\n",
       "      <td>0.489177</td>\n",
       "    </tr>\n",
       "    <tr>\n",
       "      <th>3</th>\n",
       "      <td>0.506173</td>\n",
       "      <td>0.497942</td>\n",
       "      <td>65.637860</td>\n",
       "      <td>152.193416</td>\n",
       "      <td>0.514403</td>\n",
       "      <td>0.555556</td>\n",
       "      <td>0.510288</td>\n",
       "      <td>0.452675</td>\n",
       "    </tr>\n",
       "  </tbody>\n",
       "</table>\n",
       "</div>"
      ],
      "text/plain": [
       "        patient_diabetic  patient_allergic  patient_weight_kg  \\\n",
       "labels                                                          \n",
       "0               0.505618          0.490637          94.029963   \n",
       "1               0.494208          0.517375          63.104247   \n",
       "2               0.562771          0.515152          97.696970   \n",
       "3               0.506173          0.497942          65.637860   \n",
       "\n",
       "        patient_height_sm  patient_show  is_regular_visit  diagnosis_int  \\\n",
       "labels                                                                     \n",
       "0              178.925094      0.501873          0.531835       0.509363   \n",
       "1              176.988417      0.463320          0.494208       0.459459   \n",
       "2              153.766234      0.493506          0.519481       0.575758   \n",
       "3              152.193416      0.514403          0.555556       0.510288   \n",
       "\n",
       "        patient_gender_int  \n",
       "labels                      \n",
       "0                 0.531835  \n",
       "1                 0.536680  \n",
       "2                 0.489177  \n",
       "3                 0.452675  "
      ]
     },
     "execution_count": 33,
     "metadata": {},
     "output_type": "execute_result"
    }
   ],
   "source": [
    "# Your code here:\n",
    "patients.groupby('labels').agg('mean')"
   ]
  },
  {
   "cell_type": "code",
   "execution_count": 34,
   "metadata": {},
   "outputs": [
    {
     "data": {
      "text/plain": [
       "'\\nclusters 1, 2 on \"patient_diabetic\", \"patient_weight_kg\", \"diagnosis_int\"\\nclusters 0-1, 2-3 on \"patient_height_sm\"\\nclusters 1, 3 on \"is_regular_visit\"\\nclusters 0, 3 on \"patient_gender_int\"\\n\"patient_allergic\", \\'patient_show\\' have a non significative difference\\n'"
      ]
     },
     "execution_count": 34,
     "metadata": {},
     "output_type": "execute_result"
    }
   ],
   "source": [
    "# Your comment here:\n",
    "\"\"\"\n",
    "clusters 1, 2 on \"patient_diabetic\", \"patient_weight_kg\", \"diagnosis_int\"\n",
    "clusters 0-1, 2-3 on \"patient_height_sm\"\n",
    "clusters 1, 3 on \"is_regular_visit\"\n",
    "clusters 0, 3 on \"patient_gender_int\"\n",
    "\"patient_allergic\", 'patient_show' have a non significative difference\n",
    "\"\"\""
   ]
  },
  {
   "cell_type": "markdown",
   "metadata": {},
   "source": [
    "# Bonus Challenge: Visualize K-Means Clusters\n",
    "\n",
    "How did k-means cluster the data? You can obtain an intuitive view with a scatter plot. Generate a 2-d cluster plot below using `matplotlib`. You need to choose 2 of the features from your cleaned and transformed dataset, and use color to represent the cluster label generated from k-means.\n",
    "\n",
    "If the scatter plot does not make any sense to you, it means the features you chose to visualize are not the right ones. You should be able to see 4 clear clusters with different colors in your visualization that suggests how k-means had clustered your data.\n",
    "\n",
    "![Cluster Visualization](../clusters.png)"
   ]
  },
  {
   "cell_type": "code",
   "execution_count": 35,
   "metadata": {},
   "outputs": [],
   "source": [
    "import seaborn as sns"
   ]
  },
  {
   "cell_type": "markdown",
   "metadata": {},
   "source": [
    "#### Colum names\n",
    "    patient_diabetic\n",
    "    patient_allergic\n",
    "    patient_weight_kg\n",
    "    patient_height_sm\n",
    "    patient_show\n",
    "    is_regular_visit\n",
    "    diagnosis_int\n",
    "    patient_gender_int"
   ]
  },
  {
   "cell_type": "code",
   "execution_count": 36,
   "metadata": {},
   "outputs": [
    {
     "data": {
      "image/png": "[encoded data removed]",
      "text/plain": [
       "<Figure size 648x648 with 1 Axes>"
      ]
     },
     "metadata": {
      "needs_background": "light"
     },
     "output_type": "display_data"
    }
   ],
   "source": [
    "fig = plt.figure(figsize=(9, 9))\n",
    "ax1 = fig.add_subplot(111)\n",
    "ax1.set_title('Scatter plot, 4 clusters')\n",
    "ax1.set_ylabel('patient_height_sm')\n",
    "ax1.set_xlabel('patient_weight_kg')\n",
    "plt.scatter(patients['patient_weight_kg'],patients['patient_height_sm'],\n",
    "            c = [sns.color_palette()[x] for x in patients['labels']],\n",
    "           )\n",
    "plt.show()"
   ]
  },
  {
   "cell_type": "markdown",
   "metadata": {},
   "source": [
    "Additionally, you can visualize the clusters in 3-D scatter plot. Give it a try below."
   ]
  },
  {
   "cell_type": "code",
   "execution_count": 67,
   "metadata": {},
   "outputs": [
    {
     "data": {
      "image/png": "[encoded data removed]",
      "text/plain": [
       "<Figure size 504x504 with 1 Axes>"
      ]
     },
     "metadata": {
      "needs_background": "light"
     },
     "output_type": "display_data"
    }
   ],
   "source": [
    "# Your code here:\n",
    "from mpl_toolkits.mplot3d import Axes3D\n",
    "import matplotlib.pyplot as plt\n",
    "\n",
    "\n",
    "fig = plt.figure(figsize=(7, 7))\n",
    "ax1 = fig.add_subplot(projection='3d')\n",
    "ax1.set_title('Scatter plot, 4 clusters')\n",
    "ax1.set_xlabel('patient_weight_kg')\n",
    "ax1.set_ylabel('patient_height_sm')\n",
    "ax1.set_zlabel('patient_gender_int')\n",
    "plt.scatter(patients['patient_weight_kg'],patients['patient_height_sm'],patients['patient_gender_int'],\n",
    "            c = [sns.color_palette()[x] for x in patients['labels']], marker='X'\n",
    "           )\n",
    "plt.show()"
   ]
  },
  {
   "cell_type": "code",
   "execution_count": null,
   "metadata": {},
   "outputs": [],
   "source": []
  }
 ],
 "metadata": {
  "kernelspec": {
   "display_name": "Python 3",
   "language": "python",
   "name": "python3"
  },
  "language_info": {
   "codemirror_mode": {
    "name": "ipython",
    "version": 3
   },
   "file_extension": ".py",
   "mimetype": "text/x-python",
   "name": "python",
   "nbconvert_exporter": "python",
   "pygments_lexer": "ipython3",
   "version": "3.7.9"
  }
 },
 "nbformat": 4,
 "nbformat_minor": 2
}
