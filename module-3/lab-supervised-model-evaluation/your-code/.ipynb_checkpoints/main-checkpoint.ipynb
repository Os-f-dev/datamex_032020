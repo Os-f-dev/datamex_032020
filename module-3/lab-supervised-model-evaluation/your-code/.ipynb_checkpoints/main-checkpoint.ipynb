{
 "cells": [
  {
   "cell_type": "markdown",
   "metadata": {},
   "source": [
    "# Supervised Learning Model Evaluation Lab\n",
    "\n",
    "Complete the exercises below to solidify your knowledge and understanding of supervised learning model evaluation."
   ]
  },
  {
   "cell_type": "code",
   "execution_count": 43,
   "metadata": {},
   "outputs": [],
   "source": [
    "import pandas as pd\n",
    "from sklearn.model_selection import train_test_split as tts"
   ]
  },
  {
   "cell_type": "markdown",
   "metadata": {},
   "source": [
    "## Regression Model Evaluation"
   ]
  },
  {
   "cell_type": "code",
   "execution_count": 44,
   "metadata": {},
   "outputs": [],
   "source": [
    "from sklearn.datasets import load_boston\n",
    "\n",
    "data = load_boston()\n",
    "\n",
    "X = pd.DataFrame(data[\"data\"], columns=data[\"feature_names\"])\n",
    "y = pd.DataFrame(data[\"target\"], columns=['MEDV'])\n",
    "\n",
    "data = pd.concat([X, y], axis=1)"
   ]
  },
  {
   "cell_type": "markdown",
   "metadata": {},
   "source": [
    "## 1. Split this data set into training (80%) and testing (20%) sets.\n",
    "\n",
    "The `MEDV` field represents the median value of owner-occupied homes (in $1000's) and is the target variable that we will want to predict."
   ]
  },
  {
   "cell_type": "code",
   "execution_count": 45,
   "metadata": {},
   "outputs": [],
   "source": [
    "x_train,x_test, y_train, y_test = tts(X, y, test_size = 0.20)"
   ]
  },
  {
   "cell_type": "markdown",
   "metadata": {},
   "source": [
    "## 2. Train a `LinearRegression` model on this data set and generate predictions on both the training and the testing set."
   ]
  },
  {
   "cell_type": "code",
   "execution_count": 46,
   "metadata": {},
   "outputs": [],
   "source": [
    "from sklearn.linear_model import LinearRegression as LinReg\n",
    "\n",
    "linreg = LinReg().fit(x_train,y_train)\n",
    "\n",
    "y_pred_train = linreg.predict(x_train)\n",
    "y_pred_test = linreg.predict(x_test)"
   ]
  },
  {
   "cell_type": "markdown",
   "metadata": {},
   "source": [
    "## 3. Calculate and print R-squared for both the training and the testing set."
   ]
  },
  {
   "cell_type": "code",
   "execution_count": 47,
   "metadata": {},
   "outputs": [
    {
     "name": "stdout",
     "output_type": "stream",
     "text": [
      "R-squared for training set: 0.7491057121300944\n",
      "R-squared for testing set: 0.6435703979244638\n"
     ]
    }
   ],
   "source": [
    "from sklearn.metrics import r2_score as r2\n",
    "\n",
    "train_r2 = r2(y_train,y_pred_train)\n",
    "test_r2 = r2(y_test,y_pred_test)\n",
    "\n",
    "print(\"R-squared for training set:\",train_r2)\n",
    "print(\"R-squared for testing set:\",test_r2)"
   ]
  },
  {
   "cell_type": "markdown",
   "metadata": {},
   "source": [
    "## 4. Calculate and print mean squared error for both the training and the testing set."
   ]
  },
  {
   "cell_type": "code",
   "execution_count": 48,
   "metadata": {},
   "outputs": [
    {
     "name": "stdout",
     "output_type": "stream",
     "text": [
      "Mean squared error for training set: 23.609594215977996\n",
      "Mean squared error for testing set: 16.359081375756265\n"
     ]
    }
   ],
   "source": [
    "from sklearn.metrics import mean_squared_error as mse\n",
    "\n",
    "train_mse = mse(y_train,y_pred_train)\n",
    "test_mse = mse(y_test,y_pred_test)\n",
    "\n",
    "print(\"Mean squared error for training set:\",train_mse)\n",
    "print(\"Mean squared error for testing set:\",test_mse)"
   ]
  },
  {
   "cell_type": "markdown",
   "metadata": {},
   "source": [
    "## 5. Calculate and print mean absolute error for both the training and the testing set."
   ]
  },
  {
   "cell_type": "code",
   "execution_count": 49,
   "metadata": {},
   "outputs": [
    {
     "name": "stdout",
     "output_type": "stream",
     "text": [
      "Mean absolute error for training set: 3.4656284066012866\n",
      "Mean absolute error for testing set: 3.057020151234374\n"
     ]
    }
   ],
   "source": [
    "from sklearn.metrics import mean_absolute_error as mae\n",
    "\n",
    "train_mae = mae(y_train,y_pred_train)\n",
    "test_mae = mae(y_test,y_pred_test)\n",
    "\n",
    "print(\"Mean absolute error for training set:\",train_mae)\n",
    "print(\"Mean absolute error for testing set:\",test_mae)"
   ]
  },
  {
   "cell_type": "markdown",
   "metadata": {},
   "source": [
    "## Classification Model Evaluation"
   ]
  },
  {
   "cell_type": "code",
   "execution_count": 50,
   "metadata": {},
   "outputs": [],
   "source": [
    "from sklearn.datasets import load_iris\n",
    "\n",
    "data = load_iris()\n",
    "\n",
    "X = pd.DataFrame(data[\"data\"], columns=data[\"feature_names\"])\n",
    "y = pd.DataFrame(data[\"target\"], columns=[\"class\"])\n",
    "\n",
    "data = pd.concat([X, y], axis=1)"
   ]
  },
  {
   "cell_type": "markdown",
   "metadata": {},
   "source": [
    "## 6. Split this data set into training (80%) and testing (20%) sets.\n",
    "\n",
    "The `class` field represents the type of flower and is the target variable that we will want to predict."
   ]
  },
  {
   "cell_type": "code",
   "execution_count": 51,
   "metadata": {},
   "outputs": [],
   "source": [
    "x_train,x_test, y_train, y_test = tts(X, y, test_size = 0.20)"
   ]
  },
  {
   "cell_type": "markdown",
   "metadata": {},
   "source": [
    "## 7. Train a `LogisticRegression` model on this data set and generate predictions on both the training and the testing set."
   ]
  },
  {
   "cell_type": "code",
   "execution_count": 52,
   "metadata": {},
   "outputs": [
    {
     "name": "stderr",
     "output_type": "stream",
     "text": [
      "/usr/local/lib/python3.8/site-packages/sklearn/utils/validation.py:72: DataConversionWarning: A column-vector y was passed when a 1d array was expected. Please change the shape of y to (n_samples, ), for example using ravel().\n",
      "  return f(**kwargs)\n"
     ]
    }
   ],
   "source": [
    "from sklearn.linear_model import LogisticRegression as LogReg\n",
    "\n",
    "logreg = LogReg().fit(x_train,y_train)\n",
    "\n",
    "y_pred_train = logreg.predict(x_train)\n",
    "y_pred_test = logreg.predict(x_test)"
   ]
  },
  {
   "cell_type": "markdown",
   "metadata": {},
   "source": [
    "## 8. Calculate and print the accuracy score for both the training and the testing set."
   ]
  },
  {
   "cell_type": "code",
   "execution_count": 53,
   "metadata": {},
   "outputs": [
    {
     "name": "stdout",
     "output_type": "stream",
     "text": [
      "Accuracy score for training set: 0.975\n",
      "Accuracy score for testing set: 0.9666666666666667\n"
     ]
    }
   ],
   "source": [
    "from sklearn.metrics import accuracy_score as acc\n",
    "\n",
    "train_acc = acc(y_train,y_pred_train)\n",
    "test_acc = acc(y_test,y_pred_test)\n",
    "\n",
    "print(\"Accuracy score for training set:\",train_acc)\n",
    "print(\"Accuracy score for testing set:\",test_acc)"
   ]
  },
  {
   "cell_type": "markdown",
   "metadata": {},
   "source": [
    "## 9. Calculate and print the balanced accuracy score for both the training and the testing set."
   ]
  },
  {
   "cell_type": "code",
   "execution_count": 54,
   "metadata": {},
   "outputs": [
    {
     "name": "stdout",
     "output_type": "stream",
     "text": [
      "Balanced accuracy score for training set: 0.9734349734349735\n",
      "Balanced accuracy score for testing set: 0.9743589743589745\n"
     ]
    }
   ],
   "source": [
    "from sklearn.metrics import balanced_accuracy_score as bacc\n",
    "\n",
    "train_bacc = bacc(y_train,y_pred_train)\n",
    "test_bacc = bacc(y_test,y_pred_test)\n",
    "\n",
    "print(\"Balanced accuracy score for training set:\",train_bacc)\n",
    "print(\"Balanced accuracy score for testing set:\",test_bacc)"
   ]
  },
  {
   "cell_type": "markdown",
   "metadata": {},
   "source": [
    "## 10. Calculate and print the precision score for both the training and the testing set."
   ]
  },
  {
   "cell_type": "code",
   "execution_count": 56,
   "metadata": {},
   "outputs": [
    {
     "name": "stdout",
     "output_type": "stream",
     "text": [
      "Precision score for training set: 0.9740740740740742\n",
      "Precision score for testing set: 0.9722222222222222\n"
     ]
    }
   ],
   "source": [
    "from sklearn.metrics import precision_score as prec\n",
    "\n",
    "train_prec = prec(y_train,y_pred_train, average='macro')\n",
    "test_prec = prec(y_test,y_pred_test, average='macro')\n",
    "\n",
    "print(\"Precision score for training set:\",train_prec)\n",
    "print(\"Precision score for testing set:\",test_prec)"
   ]
  },
  {
   "cell_type": "code",
   "execution_count": 57,
   "metadata": {},
   "outputs": [
    {
     "name": "stdout",
     "output_type": "stream",
     "text": [
      "Recall score for training set: 0.9734349734349735\n",
      "Recall score for testing set: 0.9743589743589745\n"
     ]
    }
   ],
   "source": [
    "from sklearn.metrics import recall_score as rec\n",
    "\n",
    "train_rec = rec(y_train,y_pred_train, average='macro')\n",
    "test_rec = rec(y_test,y_pred_test, average='macro')\n",
    "\n",
    "print(\"Recall score for training set:\",train_rec)\n",
    "print(\"Recall score for testing set:\",test_rec)"
   ]
  },
  {
   "cell_type": "markdown",
   "metadata": {},
   "source": [
    "## 12. Calculate and print the F1 score for both the training and the testing set."
   ]
  },
  {
   "cell_type": "code",
   "execution_count": 58,
   "metadata": {},
   "outputs": [
    {
     "name": "stdout",
     "output_type": "stream",
     "text": [
      "F1 score for training set: 0.9736431420149124\n",
      "F1 score for testing set: 0.9721739130434782\n"
     ]
    }
   ],
   "source": [
    "from sklearn.metrics import f1_score as f1\n",
    "\n",
    "train_f1 = f1(y_train,y_pred_train, average='macro')\n",
    "test_f1 = f1(y_test,y_pred_test, average='macro')\n",
    "\n",
    "print(\"F1 score for training set:\",train_f1)\n",
    "print(\"F1 score for testing set:\",test_f1)"
   ]
  },
  {
   "cell_type": "markdown",
   "metadata": {},
   "source": [
    "## 13. Generate confusion matrices for both the training and the testing set."
   ]
  },
  {
   "cell_type": "code",
   "execution_count": 60,
   "metadata": {},
   "outputs": [
    {
     "data": {
      "text/plain": [
       "array([[44,  0,  0],\n",
       "       [ 0, 35,  2],\n",
       "       [ 0,  1, 38]])"
      ]
     },
     "execution_count": 60,
     "metadata": {},
     "output_type": "execute_result"
    }
   ],
   "source": [
    "from sklearn.metrics import confusion_matrix\n",
    "\n",
    "confusion_matrix(y_train, y_pred_train)"
   ]
  },
  {
   "cell_type": "code",
   "execution_count": 61,
   "metadata": {},
   "outputs": [
    {
     "data": {
      "text/plain": [
       "array([[ 6,  0,  0],\n",
       "       [ 0, 12,  1],\n",
       "       [ 0,  0, 11]])"
      ]
     },
     "execution_count": 61,
     "metadata": {},
     "output_type": "execute_result"
    }
   ],
   "source": [
    "confusion_matrix(y_test, y_pred_test)"
   ]
  },
  {
   "cell_type": "markdown",
   "metadata": {},
   "source": [
    "## Bonus: For each of the data sets in this lab, try training with some of the other models you have learned about, recalculate the evaluation metrics, and compare to determine which models perform best on each data set."
   ]
  }
 ],
 "metadata": {
  "kernelspec": {
   "display_name": "Python 3",
   "language": "python",
   "name": "python3"
  },
  "language_info": {
   "codemirror_mode": {
    "name": "ipython",
    "version": 3
   },
   "file_extension": ".py",
   "mimetype": "text/x-python",
   "name": "python",
   "nbconvert_exporter": "python",
   "pygments_lexer": "ipython3",
   "version": "3.8.5"
  }
 },
 "nbformat": 4,
 "nbformat_minor": 2
}
