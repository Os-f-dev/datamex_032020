{
 "cells": [
  {
   "cell_type": "code",
   "execution_count": 16,
   "metadata": {},
   "outputs": [],
   "source": [
    "import numpy as np\n",
    "import pandas as pd\n",
    "import math\n",
    "\n",
    "import tensorflow as tf\n",
    "import tensorflow.keras as keras\n",
    "from tensorflow.keras import layers\n",
    "\n",
    "import matplotlib.pyplot as plt\n",
    "from matplotlib import image\n",
    "from matplotlib import pyplot\n",
    "from PIL import Image\n",
    "\n",
    "from sklearn.model_selection import train_test_split\n",
    "\n",
    "keras.backend.set_image_data_format('channels_last')\n",
    "\n",
    "# How to train a model:\n",
    "# https://www.kaggle.com/manthankyada/mnist-digit-classification-cnn-beginner-s-guide\n",
    "# Image tutorial, matplotlib:\n",
    "# https://matplotlib.org/tutorials/introductory/images.html"
   ]
  },
  {
   "cell_type": "code",
   "execution_count": 17,
   "metadata": {
    "scrolled": true
   },
   "outputs": [],
   "source": [
    "mnist_train = pd.read_csv('train.csv')#----- Train data to be split into X_train, X_test, y_train, y_test\n",
    "test_dataset = pd.read_csv('test.csv')#----- the new data, which has to be succesfully classified by the _model_"
   ]
  },
  {
   "cell_type": "code",
   "execution_count": 18,
   "metadata": {},
   "outputs": [],
   "source": [
    "# Spliting the data to X, y           # do take notice that column ['label'] is part of the imported dataset\n",
    "X = mnist_train.drop('label', axis=1) # and since that column contains the values we want to predict, it is\n",
    "y = mnist_train['label']              # dropped from X and assigned to y\n",
    "\n",
    "# Normalize values as good practice\n",
    "X = X / 255.0\n",
    "test_dataset = test_dataset / 255.0"
   ]
  },
  {
   "cell_type": "code",
   "execution_count": 19,
   "metadata": {},
   "outputs": [],
   "source": [
    "# Reshape to 28 x 28 so that we can see the image ie. handwritten number\n",
    "X = X.values.reshape(-1, 28, 28, 1)\n",
    "test_dataset = test_dataset.values.reshape(-1, 28, 28, 1)\n",
    "\n",
    "# Split between train and validation set\n",
    "X_train, X_test, y_train, y_test = train_test_split(X, y, test_size=0.2)\n",
    "\n",
    "# Get one hot encoding\n",
    "y_train = keras.utils.to_categorical(y_train, num_classes=10)\n",
    "y_test = keras.utils.to_categorical(y_test, num_classes=10)"
   ]
  },
  {
   "cell_type": "code",
   "execution_count": null,
   "metadata": {},
   "outputs": [],
   "source": [
    "# Build a Convolutional Neural Network Model\n",
    "def CNN():\n",
    "    model = keras.Sequential()\n",
    "    # CONV > CONV > BN > RELU > MAXPOOLING > DROPOUT\n",
    "    model.add(layers.Conv2D(32, (3, 3), (1, 1), padding='valid', input_shape=(28, 28, 1), name='conv2d_1_1'))\n",
    "    model.add(layers.Conv2D(32, (3, 3), (1, 1), padding='same', name='conv2d_1_2'))\n",
    "    model.add(layers.BatchNormalization(name='bn_1'))\n",
    "    model.add(layers.Activation('relu', name='relu_1'))\n",
    "    model.add(layers.MaxPooling2D((2, 2), (2, 2), padding='valid', name='mp2d_1'))\n",
    "    model.add(layers.Dropout(0.2, name='drop_1'))\n",
    "    # CONV > CONV > BN > RELU > MAXPOOLING > DROPOUT\n",
    "    model.add(layers.Conv2D(64, (3, 3), (1, 1), padding='valid', name='conv2d_2_1'))\n",
    "    model.add(layers.Conv2D(64, (3, 3), (1, 1), padding='same', name='conv2d_2_2'))\n",
    "    model.add(layers.BatchNormalization(name='bn_2'))\n",
    "    model.add(layers.Activation('relu', name='relu_2'))\n",
    "    model.add(layers.MaxPooling2D((2, 2), (2, 2), padding='valid', name='mp2d_2'))\n",
    "    model.add(layers.Dropout(0.2, name='drop_2'))\n",
    "    # FLATTEN > DENSE > CLASSIFICATION\n",
    "    model.add(layers.Flatten())\n",
    "    model.add(layers.Dense(100, activation='relu'))\n",
    "    model.add(layers.Dense(10, activation='softmax'))\n",
    "    \n",
    "    return model"
   ]
  },
  {
   "cell_type": "code",
   "execution_count": null,
   "metadata": {},
   "outputs": [],
   "source": [
    "model = CNN()"
   ]
  },
  {
   "cell_type": "code",
   "execution_count": null,
   "metadata": {},
   "outputs": [],
   "source": [
    "model.compile(optimizer='adam', loss='CategoricalCrossentropy', metrics=['accuracy'])"
   ]
  },
  {
   "cell_type": "code",
   "execution_count": null,
   "metadata": {},
   "outputs": [],
   "source": [
    "history = model.fit(X_train, Y_train, validation_data=(X_val, Y_val), batch_size=64, epochs=50, verbose=1)"
   ]
  },
  {
   "cell_type": "code",
   "execution_count": null,
   "metadata": {},
   "outputs": [],
   "source": [
    "def queso(model, X, imgs):\n",
    "    s = math.ceil(np.sqrt(imgs))\n",
    "    fig, ax = plt.subplots(s, s, sharex=True, sharey=True, figsize=(10, 10))\n",
    "    ax = ax.flatten()\n",
    "    preds = model.predict(X[:imgs])\n",
    "    for i in range(imgs):\n",
    "        y_pred = np.argmax(preds[i])\n",
    "        img = X[i].reshape(28, 28)\n",
    "        ax[i].imshow(img, cmap='Greys', interpolation='nearest')\n",
    "        ax[i].set_title(f'p: {y_pred}')"
   ]
  },
  {
   "cell_type": "code",
   "execution_count": null,
   "metadata": {
    "scrolled": false
   },
   "outputs": [],
   "source": [
    "queso(model, X_t_2, 8)"
   ]
  },
  {
   "cell_type": "code",
   "execution_count": null,
   "metadata": {},
   "outputs": [],
   "source": [
    "#--------------------------------- LOAD IMAGE\n",
    "original = Image.open('7.png')\n",
    "gray = original.convert('LA')\n",
    "cp_original = original.copy()\n",
    "cp_gray = gray.copy()\n",
    "#--------------------------------- NORMAL SIZE\n",
    "plt.figure(figsize=(10, 10))\n",
    "ax1 = plt.subplot(331)\n",
    "ax2 = plt.subplot(333)\n",
    "ax1.imshow(original)\n",
    "ax1.set_title(\"original\")\n",
    "ax2.imshow(gray)\n",
    "ax2.set_title(\"grayscale\")\n",
    "#--------------------------------- RESIZED\n",
    "cp_original.thumbnail((28, 28), Image.ANTIALIAS)\n",
    "cp_gray.thumbnail((28, 28), Image.ANTIALIAS)\n",
    "ax3 = plt.subplot(334)\n",
    "ax4 = plt.subplot(336)\n",
    "ax3.imshow(cp_original)\n",
    "ax3.set_title(\"original resized\")\n",
    "ax4.imshow(cp_gray)\n",
    "ax4.set_title(\"gray resized\")\n",
    "\n",
    "plt.show()\n"
   ]
  },
  {
   "cell_type": "code",
   "execution_count": null,
   "metadata": {},
   "outputs": [],
   "source": [
    "original.thumbnail((27, 28), Image.ANTIALIAS)\n",
    "d4_img = np.array(original)\n",
    "d4_img.shape"
   ]
  },
  {
   "cell_type": "code",
   "execution_count": null,
   "metadata": {},
   "outputs": [],
   "source": [
    "queso(model,d4_img,1)"
   ]
  },
  {
   "cell_type": "code",
   "execution_count": null,
   "metadata": {},
   "outputs": [],
   "source": []
  }
 ],
 "metadata": {
  "kernelspec": {
   "display_name": "Python 3",
   "language": "python",
   "name": "python3"
  },
  "language_info": {
   "codemirror_mode": {
    "name": "ipython",
    "version": 3
   },
   "file_extension": ".py",
   "mimetype": "text/x-python",
   "name": "python",
   "nbconvert_exporter": "python",
   "pygments_lexer": "ipython3",
   "version": "3.7.9"
  }
 },
 "nbformat": 4,
 "nbformat_minor": 4
}
